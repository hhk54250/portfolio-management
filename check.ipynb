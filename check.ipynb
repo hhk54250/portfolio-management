{
  "nbformat": 4,
  "nbformat_minor": 0,
  "metadata": {
    "colab": {
      "name": "Untitled18.ipynb",
      "provenance": [],
      "authorship_tag": "ABX9TyM6ducbVeSTCpFe8kUoo+VX",
      "include_colab_link": true
    },
    "kernelspec": {
      "name": "python3",
      "display_name": "Python 3"
    }
  },
  "cells": [
    {
      "cell_type": "markdown",
      "metadata": {
        "id": "view-in-github",
        "colab_type": "text"
      },
      "source": [
        "<a href=\"https://colab.research.google.com/github/hhk54250/portfolio-management/blob/master/check.ipynb\" target=\"_parent\"><img src=\"https://colab.research.google.com/assets/colab-badge.svg\" alt=\"Open In Colab\"/></a>"
      ]
    },
    {
      "cell_type": "code",
      "metadata": {
        "id": "zFTD0iYXSnr1",
        "outputId": "009f7995-c1e8-4a69-aff0-45f902e3d86c",
        "colab": {
          "base_uri": "https://localhost:8080/"
        }
      },
      "source": [
        "pip install yahoo-finance"
      ],
      "execution_count": 1,
      "outputs": [
        {
          "output_type": "stream",
          "text": [
            "Requirement already satisfied: yahoo-finance in /usr/local/lib/python3.6/dist-packages (1.4.0)\n",
            "Requirement already satisfied: pytz in /usr/local/lib/python3.6/dist-packages (from yahoo-finance) (2018.9)\n",
            "Requirement already satisfied: simplejson in /usr/local/lib/python3.6/dist-packages (from yahoo-finance) (3.17.2)\n"
          ],
          "name": "stdout"
        }
      ]
    },
    {
      "cell_type": "code",
      "metadata": {
        "id": "OytGpc5rWCHd",
        "outputId": "8bd8c425-00b8-4546-feb0-bf13cfae68cf",
        "colab": {
          "base_uri": "https://localhost:8080/"
        }
      },
      "source": [
        "pip install pandas_market_calendars"
      ],
      "execution_count": 2,
      "outputs": [
        {
          "output_type": "stream",
          "text": [
            "Requirement already satisfied: pandas_market_calendars in /usr/local/lib/python3.6/dist-packages (1.6.1)\n",
            "Requirement already satisfied: pandas>=0.18 in /usr/local/lib/python3.6/dist-packages (from pandas_market_calendars) (1.1.4)\n",
            "Requirement already satisfied: trading-calendars in /usr/local/lib/python3.6/dist-packages (from pandas_market_calendars) (2.0.0)\n",
            "Requirement already satisfied: pytz in /usr/local/lib/python3.6/dist-packages (from pandas_market_calendars) (2018.9)\n",
            "Requirement already satisfied: python-dateutil in /usr/local/lib/python3.6/dist-packages (from pandas_market_calendars) (2.8.1)\n",
            "Requirement already satisfied: numpy>=1.15.4 in /usr/local/lib/python3.6/dist-packages (from pandas>=0.18->pandas_market_calendars) (1.18.5)\n",
            "Requirement already satisfied: toolz in /usr/local/lib/python3.6/dist-packages (from trading-calendars->pandas_market_calendars) (0.11.1)\n",
            "Requirement already satisfied: six>=1.5 in /usr/local/lib/python3.6/dist-packages (from python-dateutil->pandas_market_calendars) (1.15.0)\n"
          ],
          "name": "stdout"
        }
      ]
    },
    {
      "cell_type": "code",
      "metadata": {
        "id": "X3Wa5pl4WDJ-"
      },
      "source": [
        "import pandas as pd\n",
        "import pandas_market_calendars as mcal\n",
        "import pandas_datareader.data as web\n",
        "from pandas_datareader.data import DataReader\n",
        "import numpy as np\n",
        "import pandas as pd\n",
        "import matplotlib.pyplot as plt\n",
        "from numpy.linalg import *\n",
        "import os\n"
      ],
      "execution_count": 3,
      "outputs": []
    },
    {
      "cell_type": "code",
      "metadata": {
        "id": "0hWrBI99WETZ"
      },
      "source": [
        "data1 = web.get_data_yahoo('F','08/31/2019','08/31/2020',interval='d') #Ford\n",
        "data2 = web.get_data_yahoo('MSFT','08/31/2019','08/31/2020',interval='d') #Microsoft\n",
        "data3 = web.get_data_yahoo('DIS','08/31/2019','08/31/2020',interval='d') #Disney\n",
        "data4 = web.get_data_yahoo('AAPL','08/31/2019','08/31/2020',interval='d') #Apple\n",
        "data5 = web.get_data_yahoo('AEP','08/31/2019','08/31/2020',interval='d') #AEP\n",
        "data6 = web.get_data_yahoo('GOOG','08/31/2019','08/31/2020',interval='d') #Google\n",
        "data7 = web.get_data_yahoo('JPM','08/31/2019','08/31/2020',interval='d') #JP Morgan\n",
        "data8 = web.get_data_yahoo('MCD','08/31/2019','08/31/2020',interval='d') #McDonald\n",
        "data9 = web.get_data_yahoo('TIF','08/31/2019','08/31/2020',interval='d') #Tiffany\n",
        "data10 = web.get_data_yahoo('WMT','08/31/2019','08/31/2020',interval='d') #Walmart\n",
        "data11 = web.get_data_yahoo('AMZN','08/31/2019','08/31/2020',interval='d') #Amazon\n",
        "data12 = web.get_data_yahoo('GE','08/31/2019','08/31/2020',interval='d') #General Electric\n",
        "data13 = web.get_data_yahoo('FB','08/31/2019','08/31/2020',interval='d') #FACEBOOK\n",
        "data14 = web.get_data_yahoo('BIDU','08/31/2019','08/31/2020',interval='d') #BAIDU\n",
        "data15 = web.get_data_yahoo('JD','08/31/2019','08/31/2020',interval='d') #JD\n",
        "data16 = web.get_data_yahoo('TSLA','08/31/2019','08/31/2020',interval='d') #TSLA\n",
        "data17 = web.get_data_yahoo('NVDA','08/31/2019','08/31/2020',interval='d') #NVDA\n",
        "data18 = web.get_data_yahoo('CSCO','08/31/2019','08/31/2020',interval='d') #CSCO\n",
        "data19 = web.get_data_yahoo('BABA','08/31/2019','08/31/2020',interval='d') #BABA\n",
        "data20 = web.get_data_yahoo('PFE','08/31/2019','08/31/2020',interval='d') #PFE\n",
        "\n",
        "R_expect1=[]\n",
        "\n",
        "F = data1['Adj Close']\n",
        "logF = np.log(F)-np.log(F.shift(1))\n",
        "FL = np.array([logF])\n",
        "FL = np.delete(FL, 0)\n",
        "R_expect1.append(np.mean(FL))\n",
        "\n",
        "MSFT = data2['Adj Close']\n",
        "logMSFT = np.log(MSFT)-np.log(MSFT.shift(1))\n",
        "MSFTL = np.array([logMSFT])\n",
        "MSFTL = np.delete(MSFTL, 0)\n",
        "R_expect1.append(np.mean(MSFTL))\n",
        "\n",
        "DIS = data3['Adj Close']\n",
        "logDIS = np.log(DIS)-np.log(DIS.shift(1))\n",
        "DISL = np.array([logDIS])\n",
        "DISL = np.delete(DISL, 0)\n",
        "R_expect1.append(np.mean(DISL))\n",
        "\n",
        "AAPL = data4['Adj Close']\n",
        "logAAPL = np.log(AAPL)-np.log(AAPL.shift(1))\n",
        "AAPLL = np.array([logAAPL])\n",
        "AAPLL = np.delete(AAPLL, 0)\n",
        "R_expect1.append(np.mean(AAPLL))\n",
        "\n",
        "AEP = data5['Adj Close']\n",
        "logAEP = np.log(AEP)-np.log(AEP.shift(1))\n",
        "AEPL = np.array([logAEP])\n",
        "AEPL = np.delete(AEPL, 0)\n",
        "R_expect1.append(np.mean(AEPL))\n",
        "\n",
        "GOOG = data6['Adj Close']\n",
        "logGOOG = np.log(GOOG)-np.log(GOOG.shift(1))\n",
        "GOOGL = np.array([logGOOG])\n",
        "GOOGL = np.delete(GOOGL, 0)\n",
        "R_expect1.append(np.mean(GOOGL))\n",
        "\n",
        "JPM = data7['Adj Close']\n",
        "logJPM = np.log(JPM)-np.log(JPM.shift(1))\n",
        "JPML = np.array([logJPM])\n",
        "JPML = np.delete(JPML, 0)\n",
        "R_expect1.append(np.mean(JPML))\n",
        "\n",
        "MCD = data8['Adj Close']\n",
        "logMCD = np.log(MCD)-np.log(MCD.shift(1))\n",
        "MCDL = np.array([logMCD])\n",
        "MCDL = np.delete(MCDL, 0)\n",
        "R_expect1.append(np.mean(MCDL))\n",
        "\n",
        "TIF = data9['Adj Close']\n",
        "logTIF = np.log(TIF)-np.log(TIF.shift(1))\n",
        "TIFL = np.array([logTIF])\n",
        "TIFL = np.delete(TIFL, 0)\n",
        "R_expect1.append(np.mean(TIFL))\n",
        "\n",
        "WMT = data10['Adj Close']\n",
        "logWMT = np.log(WMT)-np.log(WMT.shift(1))\n",
        "WMTL = np.array([logWMT])\n",
        "WMTL = np.delete(WMTL, 0)\n",
        "R_expect1.append(np.mean(WMTL))\n",
        "\n",
        "AMZN = data11['Adj Close']\n",
        "logAMZN = np.log(AMZN)-np.log(AMZN.shift(1))\n",
        "AMZNL = np.array([logAMZN])\n",
        "AMZNL = np.delete(AMZNL, 0)\n",
        "R_expect1.append(np.mean(AMZNL))\n",
        "\n",
        "GE = data12['Adj Close']\n",
        "logGE = np.log(GE)-np.log(GE.shift(1))\n",
        "GEL = np.array([logGE])\n",
        "GEL = np.delete(GEL, 0)\n",
        "R_expect1.append(np.mean(GEL))\n",
        "\n",
        "FB = data13['Adj Close']\n",
        "logFB = np.log(FB)-np.log(FB.shift(1))\n",
        "FBL = np.array([logFB])\n",
        "FBL = np.delete(FBL, 0)\n",
        "R_expect1.append(np.mean(FBL))\n",
        "\n",
        "BIDU = data14['Adj Close']\n",
        "logBIDU = np.log(BIDU)-np.log(BIDU.shift(1))\n",
        "BIDUL = np.array([logBIDU])\n",
        "BIDUL = np.delete(BIDUL, 0)\n",
        "R_expect1.append(np.mean(BIDUL))\n",
        "\n",
        "JD = data15['Adj Close']\n",
        "logJD = np.log(JD)-np.log(JD.shift(1))\n",
        "JDL = np.array([logJD])\n",
        "JDL = np.delete(JDL, 0)\n",
        "R_expect1.append(np.mean(JDL))\n",
        "\n",
        "TSLA = data16['Adj Close']\n",
        "logTSLA = np.log(TSLA)-np.log(TSLA.shift(1))\n",
        "TSLAL = np.array([logTSLA])\n",
        "TSLAL = np.delete(TSLAL, 0)\n",
        "R_expect1.append(np.mean(TSLAL))\n",
        "\n",
        "NVDA = data17['Adj Close']\n",
        "logNVDA = np.log(NVDA)-np.log(NVDA.shift(1))\n",
        "NVDAL = np.array([logNVDA])\n",
        "NVDAL = np.delete(NVDAL, 0)\n",
        "R_expect1.append(np.mean(NVDAL))\n",
        "\n",
        "CSCO = data18['Adj Close']\n",
        "logCSCO = np.log(CSCO)-np.log(CSCO.shift(1))\n",
        "CSCOL = np.array([logCSCO])\n",
        "CSCOL = np.delete(CSCOL, 0)\n",
        "R_expect1.append(np.mean(CSCOL))\n",
        "\n",
        "BABA = data19['Adj Close']\n",
        "logBABA = np.log(BABA)-np.log(BABA.shift(1))\n",
        "BABAL = np.array([logBABA])\n",
        "BABAL = np.delete(BABAL, 0)\n",
        "R_expect1.append(np.mean(BABAL))\n",
        "\n",
        "PFE = data20['Adj Close']\n",
        "logPFE = np.log(PFE)-np.log(PFE.shift(1))\n",
        "PFEL = np.array([logPFE])\n",
        "PFEL = np.delete(PFEL, 0)\n",
        "R_expect1.append(np.mean(PFEL))\n"
      ],
      "execution_count": 4,
      "outputs": []
    },
    {
      "cell_type": "code",
      "metadata": {
        "id": "ftTFOFswWR4K"
      },
      "source": [
        "P=np.vstack((FL,MSFTL,DISL,AAPLL,AEPL,GOOGL,JPML,MCDL,TIFL,WMTL,AMZNL,GEL,FBL,BIDUL,JDL,TSLAL,NVDAL,CSCOL,BABAL,PFEL))\n",
        "R_cov1=np.cov(P)\n",
        "R_expect1=np.squeeze(np.array([R_expect1]))\n",
        "R_cov1=np.squeeze(np.array([R_cov1]))\n",
        "R_expect1 = R_expect1.reshape(-1,1)"
      ],
      "execution_count": 5,
      "outputs": []
    },
    {
      "cell_type": "code",
      "metadata": {
        "id": "ZHYNMViAjB9j"
      },
      "source": [
        "\n",
        "def optimalWeights(R_expect,R_cov,mu_p):\n",
        "  one = np.ones((len(R_expect),1))\n",
        "  A = np.dot(np.dot(one.reshape(1,-1),inv(R_cov)),R_expect)\n",
        "  B = np.dot(np.dot(R_expect.reshape(1,-1),inv(R_cov)),R_expect)\n",
        "  C = np.dot(np.dot(one.reshape(1,-1),inv(R_cov)),one)\n",
        "  D = B*C - A**2\n",
        "  g = (B * np.dot(inv(R_cov), one) - A* np.dot(inv(R_cov), R_expect))/D\n",
        "  h = (C * np.dot(inv(R_cov), R_expect) - A* np.dot(inv(R_cov), one))/D\n",
        "  min_sigma = np.dot(np.dot(g.reshape(1,-1),R_cov),g) - (np.dot(np.dot(h.reshape(1,-1),R_cov),g)**2)/np.dot(np.dot(h.reshape(1,-1),R_cov),h)\n",
        "  omega = g + h*mu_p\n",
        "  return g,h,min_sigma,omega\n",
        "\n",
        "def optimalWeights2(R_expect,R_cov):\n",
        "  one = np.ones((len(R_expect),1))\n",
        "  A = np.dot(np.dot(one.reshape(1,-1),inv(R_cov)),R_expect)\n",
        "  B = np.dot(np.dot(R_expect.reshape(1,-1),inv(R_cov)),R_expect)\n",
        "  C = np.dot(np.dot(one.reshape(1,-1),inv(R_cov)),one)\n",
        "  D = B*C - A**2\n",
        "  g = (B * np.dot(inv(R_cov), one) - A* np.dot(inv(R_cov), R_expect))/D\n",
        "  h = (C * np.dot(inv(R_cov), R_expect) - A* np.dot(inv(R_cov), one))/D\n",
        "  min_sigma = np.dot(np.dot(g.reshape(1,-1),R_cov),g) - (np.dot(np.dot(h.reshape(1,-1),R_cov),g)**2)/np.dot(np.dot(h.reshape(1,-1),R_cov),h)\n",
        "  return g,h,min_sigma\n",
        "\n",
        "def effcientfrontier(g,h,R_cov,N1,N2):\n",
        "  sigma = []\n",
        "  mu = []\n",
        "  weight = []\n",
        "  before_ = np.inf\n",
        "  for i in range(N1,N2):\n",
        "      w = g + h*(0.000001*i)\n",
        "      sigma_ = np.dot(np.dot(w.reshape(1,-1),R_cov),w)[0][0]\n",
        "      if sigma_ > before_:\n",
        "        sigma.append(np.sqrt(sigma_)*252)\n",
        "        weight.append(w)\n",
        "        mu.append((0.000001*i)*252)\n",
        "      before_ = sigma_\n",
        "  return sigma,mu,weight\n",
        "\n"
      ],
      "execution_count": 141,
      "outputs": []
    },
    {
      "cell_type": "code",
      "metadata": {
        "id": "aKn65gxlWZy9",
        "outputId": "cc49a691-e5a2-4300-b1e3-7abd8ccf949c",
        "colab": {
          "base_uri": "https://localhost:8080/",
          "height": 635
        }
      },
      "source": [
        "g1,h1,min_sigma1 = optimalWeights2(R_expect1,R_cov1)\n",
        "\n",
        "\n",
        "sigma1,mu1,weight1 = effcientfrontier(g1,h1,R_cov1,0,200000)\n",
        "plt.plot(sigma1,mu1)\n",
        "plt.ylabel(\"Expected return\")\n",
        "plt.xlabel(\"volatility\")\n",
        "plt.title(\"1 years EffcientFrontier\")\n",
        "plt.show()\n",
        "min_sigma1\n",
        "\n",
        "weight1[0]\n"
      ],
      "execution_count": 158,
      "outputs": [
        {
          "output_type": "display_data",
          "data": {
            "image/png": "[encoded data removed]",
            "text/plain": [
              "<Figure size 432x288 with 1 Axes>"
            ]
          },
          "metadata": {
            "tags": [],
            "needs_background": "light"
          }
        },
        {
          "output_type": "execute_result",
          "data": {
            "text/plain": [
              "array([[ 0.09209204],\n",
              "       [-0.24936548],\n",
              "       [ 0.03588104],\n",
              "       [-0.05758145],\n",
              "       [ 0.10045843],\n",
              "       [ 0.09643388],\n",
              "       [-0.12206746],\n",
              "       [ 0.12010136],\n",
              "       [ 0.21015693],\n",
              "       [ 0.35763769],\n",
              "       [ 0.21584016],\n",
              "       [-0.04694906],\n",
              "       [ 0.04521695],\n",
              "       [ 0.05699643],\n",
              "       [-0.01437413],\n",
              "       [-0.01330311],\n",
              "       [-0.18434051],\n",
              "       [-0.07043197],\n",
              "       [ 0.22879548],\n",
              "       [ 0.19880278]])"
            ]
          },
          "metadata": {
            "tags": []
          },
          "execution_count": 158
        }
      ]
    },
    {
      "cell_type": "code",
      "metadata": {
        "id": "mNaUGigZWbdD",
        "outputId": "396e2c6f-77ce-41ec-d491-2eb00a94f5dc",
        "colab": {
          "base_uri": "https://localhost:8080/"
        }
      },
      "source": [
        "\n",
        "\n",
        "rf = 0.12 # Choose 1 year US treasury rate as risk free rate\n",
        "def findTangent(R_cov, R_expect, rf):\n",
        "  rf_daily = rf/252\n",
        "  one = np.ones((len(R_expect),1))\n",
        "  w_b = np.dot(inv(R_cov),(R_expect - one*rf_daily))\n",
        "  w_t = w_b/(np.dot(w_b.T,one))\n",
        "  mu_T = np.dot(w_t.T,R_expect)\n",
        "  print(w_t)\n",
        "  return mu_T,w_t\n",
        "mu_T,w_t = findTangent(R_cov1, R_expect1, rf)\n",
        "np.dot(w_t.T,R_expect1)"
      ],
      "execution_count": 159,
      "outputs": [
        {
          "output_type": "stream",
          "text": [
            "[[ 1.75568638]\n",
            " [ 3.4925622 ]\n",
            " [ 0.48424928]\n",
            " [-4.98726725]\n",
            " [ 1.35249435]\n",
            " [ 1.76437088]\n",
            " [-1.22547107]\n",
            " [ 1.19315811]\n",
            " [-0.37757353]\n",
            " [ 0.46980151]\n",
            " [-0.46329263]\n",
            " [-0.02828679]\n",
            " [ 0.60613063]\n",
            " [ 1.86543752]\n",
            " [-1.64618463]\n",
            " [-1.57628507]\n",
            " [-2.81620032]\n",
            " [ 2.21205653]\n",
            " [ 0.16841745]\n",
            " [-1.24380355]]\n"
          ],
          "name": "stdout"
        },
        {
          "output_type": "execute_result",
          "data": {
            "text/plain": [
              "array([[-0.04549484]])"
            ]
          },
          "metadata": {
            "tags": []
          },
          "execution_count": 159
        }
      ]
    },
    {
      "cell_type": "code",
      "metadata": {
        "id": "AOOvqM2DWgRx",
        "outputId": "14329af0-05cc-4bbb-c5ec-2857fc8eef80",
        "colab": {
          "base_uri": "https://localhost:8080/",
          "height": 295
        }
      },
      "source": [
        "plt.plot(sigma1,mu1)\n",
        "plt.plot(np.sqrt(np.dot(np.dot(w_t.reshape(1,-1),R_cov1),w_t)[0][0])*252,mu_T*252,'x')\n",
        "plt.ylabel(\"Expected return\")\n",
        "plt.xlabel(\"volatility\")\n",
        "plt.title(\"1 years EffcientFrontier\")\n",
        "x = np.linspace(0, 30, 100)\n",
        "y = ((mu_T[0]*252-0.12/252)/(np.sqrt(np.dot(np.dot(w_t.T,R_cov1),w_t)[0][0])*252))*x+0.12/252\n",
        "\n",
        "plt.plot(x,y,color='red')\n",
        "\n",
        "plt.show()"
      ],
      "execution_count": 160,
      "outputs": [
        {
          "output_type": "display_data",
          "data": {
            "image/png": "[encoded data removed]",
            "text/plain": [
              "<Figure size 432x288 with 1 Axes>"
            ]
          },
          "metadata": {
            "tags": [],
            "needs_background": "light"
          }
        }
      ]
    },
    {
      "cell_type": "code",
      "metadata": {
        "id": "mOMyeHg3XsNZ",
        "outputId": "5a8e568f-7445-4ec8-873e-e0e075a89846",
        "colab": {
          "base_uri": "https://localhost:8080/",
          "height": 295
        }
      },
      "source": [
        "def sharpe_ratio(sigma_v,mu_v,rf):\n",
        "  sharpe = 0\n",
        "  m = 0\n",
        "  for i in range(len(sigma_v)):\n",
        "    k_t = (mu_v[i] - rf)/sigma_v[i]\n",
        "    if k_t > sharpe:\n",
        "      sharpe = k_t\n",
        "      m = i\n",
        "  return sharpe,m\n",
        "\n",
        "rf = 0.12/252 # Choose 1 year US treasury rate as risk free rate\n",
        "sigma_x = np.linspace(0,25,1000).reshape(-1,1)\n",
        "sharpe,index_ = sharpe_ratio(sigma1,mu1,rf)\n",
        "targent_v = (sharpe * sigma_x + rf).reshape(-1,1)\n",
        "plt.plot(sigma_x,targent_v,label = \"Capital Market Line\")\n",
        "plt.plot(sigma1,mu1,label = \"Efficient Froniter\")\n",
        "plt.scatter(sigma1[index_], mu1[index_], color='r',marker = \"x\")\n",
        "plt.text(sigma1[index_], mu1[index_],'Tangency portfolio',ha='left',fontsize=10)\n",
        "plt.ylabel(\"Expected return\")\n",
        "plt.xlabel(\"Standard volatility\")\n",
        "plt.title(\"1 years EffcientFrontier with VXX\")\n",
        "plt.legend()\n",
        "plt.show()  "
      ],
      "execution_count": 161,
      "outputs": [
        {
          "output_type": "display_data",
          "data": {
            "image/png": "[encoded data removed]",
            "text/plain": [
              "<Figure size 432x288 with 1 Axes>"
            ]
          },
          "metadata": {
            "tags": [],
            "needs_background": "light"
          }
        }
      ]
    },
    {
      "cell_type": "code",
      "metadata": {
        "id": "LHl1EBwd8NbE",
        "outputId": "bcc67deb-386d-4185-b6d7-cea47c5b7ebc",
        "colab": {
          "base_uri": "https://localhost:8080/"
        }
      },
      "source": [
        ""
      ],
      "execution_count": 70,
      "outputs": [
        {
          "output_type": "execute_result",
          "data": {
            "text/plain": [
              "array([[-1.01702388e-03],\n",
              "       [ 2.05906149e-03],\n",
              "       [-1.08134663e-04],\n",
              "       [ 3.70466530e-03],\n",
              "       [-5.23005768e-04],\n",
              "       [ 1.33671090e-03],\n",
              "       [-1.82555545e-04],\n",
              "       [ 3.32249741e-05],\n",
              "       [ 1.65756318e-03],\n",
              "       [ 8.32588724e-04],\n",
              "       [ 2.61564235e-03],\n",
              "       [-1.06974998e-03],\n",
              "       [ 1.89126599e-03],\n",
              "       [ 7.74581016e-04],\n",
              "       [ 3.91309375e-03],\n",
              "       [ 9.57982290e-03],\n",
              "       [ 4.71362035e-03],\n",
              "       [-2.56593710e-04],\n",
              "       [ 2.03072252e-03],\n",
              "       [ 3.37138759e-04]])"
            ]
          },
          "metadata": {
            "tags": []
          },
          "execution_count": 70
        }
      ]
    }
  ]
}