{
  "nbformat": 4,
  "nbformat_minor": 0,
  "metadata": {
    "colab": {
      "name": "Untitled17.ipynb",
      "provenance": [],
      "authorship_tag": "ABX9TyM2ipFQ84yxv2ATbDAwgfmm",
      "include_colab_link": true
    },
    "kernelspec": {
      "display_name": "Python 3",
      "name": "python3"
    }
  },
  "cells": [
    {
      "cell_type": "markdown",
      "metadata": {
        "id": "view-in-github",
        "colab_type": "text"
      },
      "source": [
        "<a href=\"https://colab.research.google.com/github/hhk54250/portfolio-management/blob/master/2.ipynb\" target=\"_parent\"><img src=\"https://colab.research.google.com/assets/colab-badge.svg\" alt=\"Open In Colab\"/></a>"
      ]
    },
    {
      "cell_type": "code",
      "metadata": {
        "id": "UYqHCn0tHhit",
        "outputId": "cbdec0c7-a8ec-4417-ac41-37d8fd174093",
        "colab": {
          "base_uri": "https://localhost:8080/"
        }
      },
      "source": [
        "pip install yahoo-finance"
      ],
      "execution_count": null,
      "outputs": [
        {
          "output_type": "stream",
          "text": [
            "Requirement already satisfied: yahoo-finance in /usr/local/lib/python3.6/dist-packages (1.4.0)\n",
            "Requirement already satisfied: simplejson in /usr/local/lib/python3.6/dist-packages (from yahoo-finance) (3.17.2)\n",
            "Requirement already satisfied: pytz in /usr/local/lib/python3.6/dist-packages (from yahoo-finance) (2018.9)\n"
          ],
          "name": "stdout"
        }
      ]
    },
    {
      "cell_type": "code",
      "metadata": {
        "id": "fwngmrm1HpxO",
        "outputId": "a1a37e1e-d59c-496e-d5a0-8220d9acf0d9",
        "colab": {
          "base_uri": "https://localhost:8080/"
        }
      },
      "source": [
        "pip install pandas_market_calendars"
      ],
      "execution_count": null,
      "outputs": [
        {
          "output_type": "stream",
          "text": [
            "Requirement already satisfied: pandas_market_calendars in /usr/local/lib/python3.6/dist-packages (1.6.0)\n",
            "Requirement already satisfied: pandas>=0.18 in /usr/local/lib/python3.6/dist-packages (from pandas_market_calendars) (1.1.3)\n",
            "Requirement already satisfied: trading-calendars in /usr/local/lib/python3.6/dist-packages (from pandas_market_calendars) (2.0.0)\n",
            "Requirement already satisfied: pytz in /usr/local/lib/python3.6/dist-packages (from pandas_market_calendars) (2018.9)\n",
            "Requirement already satisfied: python-dateutil in /usr/local/lib/python3.6/dist-packages (from pandas_market_calendars) (2.8.1)\n",
            "Requirement already satisfied: numpy>=1.15.4 in /usr/local/lib/python3.6/dist-packages (from pandas>=0.18->pandas_market_calendars) (1.18.5)\n",
            "Requirement already satisfied: toolz in /usr/local/lib/python3.6/dist-packages (from trading-calendars->pandas_market_calendars) (0.11.1)\n",
            "Requirement already satisfied: six>=1.5 in /usr/local/lib/python3.6/dist-packages (from python-dateutil->pandas_market_calendars) (1.15.0)\n"
          ],
          "name": "stdout"
        }
      ]
    },
    {
      "cell_type": "code",
      "metadata": {
        "id": "PoAY-8vpHrzj"
      },
      "source": [
        "import pandas as pd\n",
        "import pandas_market_calendars as mcal\n",
        "import pandas_datareader.data as web\n",
        "from pandas_datareader.data import DataReader\n",
        "import numpy as np\n",
        "import pandas as pd\n",
        "import matplotlib.pyplot as plt\n",
        "from numpy.linalg import *\n",
        "import os\n"
      ],
      "execution_count": null,
      "outputs": []
    },
    {
      "cell_type": "code",
      "metadata": {
        "id": "3dngWpriH3Rx"
      },
      "source": [
        "data1 = web.get_data_yahoo('F','08/31/2019','08/31/2020',interval='d') #Ford\n",
        "data2 = web.get_data_yahoo('MSFT','08/31/2019','08/31/2020',interval='d') #Microsoft\n",
        "data3 = web.get_data_yahoo('DIS','08/31/2019','08/31/2020',interval='d') #Disney\n",
        "data4 = web.get_data_yahoo('AAPL','08/31/2019','08/31/2020',interval='d') #Apple\n",
        "data5 = web.get_data_yahoo('AEP','08/31/2019','08/31/2020',interval='d') #AEP\n",
        "data6 = web.get_data_yahoo('GOOG','08/31/2019','08/31/2020',interval='d') #Google\n",
        "data7 = web.get_data_yahoo('JPM','08/31/2019','08/31/2020',interval='d') #JP Morgan\n",
        "data8 = web.get_data_yahoo('MCD','08/31/2019','08/31/2020',interval='d') #McDonald\n",
        "data9 = web.get_data_yahoo('TIF','08/31/2019','08/31/2020',interval='d') #Tiffany\n",
        "data10 = web.get_data_yahoo('WMT','08/31/2019','08/31/2020',interval='d') #Walmart\n",
        "data11 = web.get_data_yahoo('AMZN','08/31/2019','08/31/2020',interval='d') #Amazon\n",
        "data12 = web.get_data_yahoo('GE','08/31/2019','08/31/2020',interval='d') #General Electric\n",
        "data13 = web.get_data_yahoo('FB','08/31/2019','08/31/2020',interval='d') #FACEBOOK\n",
        "data14 = web.get_data_yahoo('BIDU','08/31/2019','08/31/2020',interval='d') #BAIDU\n",
        "data15 = web.get_data_yahoo('JD','08/31/2019','08/31/2020',interval='d') #JD\n",
        "data16 = web.get_data_yahoo('TSLA','08/31/2019','08/31/2020',interval='d') #TSLA\n",
        "data17 = web.get_data_yahoo('NVDA','08/31/2019','08/31/2020',interval='d') #NVDA\n",
        "data18 = web.get_data_yahoo('CSCO','08/31/2019','08/31/2020',interval='d') #CSCO\n",
        "data19 = web.get_data_yahoo('BABA','08/31/2019','08/31/2020',interval='d') #BABA\n",
        "data20 = web.get_data_yahoo('PFE','08/31/2019','08/31/2020',interval='d') #PFE\n",
        "\n",
        "R_expect1=[]\n",
        "\n",
        "F = data1['Adj Close']\n",
        "logF = np.log(F)-np.log(F.shift(1))\n",
        "FL = np.array([logF])\n",
        "FL = np.delete(FL, 0)\n",
        "R_expect1.append(np.mean(FL))\n",
        "\n",
        "MSFT = data2['Adj Close']\n",
        "logMSFT = np.log(MSFT)-np.log(MSFT.shift(1))\n",
        "MSFTL = np.array([logMSFT])\n",
        "MSFTL = np.delete(MSFTL, 0)\n",
        "R_expect1.append(np.mean(MSFTL))\n",
        "\n",
        "DIS = data3['Adj Close']\n",
        "logDIS = np.log(DIS)-np.log(DIS.shift(1))\n",
        "DISL = np.array([logDIS])\n",
        "DISL = np.delete(DISL, 0)\n",
        "R_expect1.append(np.mean(DISL))\n",
        "\n",
        "AAPL = data4['Adj Close']\n",
        "logAAPL = np.log(AAPL)-np.log(AAPL.shift(1))\n",
        "AAPLL = np.array([logAAPL])\n",
        "AAPLL = np.delete(AAPLL, 0)\n",
        "R_expect1.append(np.mean(AAPLL))\n",
        "\n",
        "AEP = data5['Adj Close']\n",
        "logAEP = np.log(AEP)-np.log(AEP.shift(1))\n",
        "AEPL = np.array([logAEP])\n",
        "AEPL = np.delete(AEPL, 0)\n",
        "R_expect1.append(np.mean(AEPL))\n",
        "\n",
        "GOOG = data6['Adj Close']\n",
        "logGOOG = np.log(GOOG)-np.log(GOOG.shift(1))\n",
        "GOOGL = np.array([logGOOG])\n",
        "GOOGL = np.delete(GOOGL, 0)\n",
        "R_expect1.append(np.mean(GOOGL))\n",
        "\n",
        "JPM = data7['Adj Close']\n",
        "logJPM = np.log(JPM)-np.log(JPM.shift(1))\n",
        "JPML = np.array([logJPM])\n",
        "JPML = np.delete(JPML, 0)\n",
        "R_expect1.append(np.mean(JPML))\n",
        "\n",
        "MCD = data8['Adj Close']\n",
        "logMCD = np.log(MCD)-np.log(MCD.shift(1))\n",
        "MCDL = np.array([logMCD])\n",
        "MCDL = np.delete(MCDL, 0)\n",
        "R_expect1.append(np.mean(MCDL))\n",
        "\n",
        "TIF = data9['Adj Close']\n",
        "logTIF = np.log(TIF)-np.log(TIF.shift(1))\n",
        "TIFL = np.array([logTIF])\n",
        "TIFL = np.delete(TIFL, 0)\n",
        "R_expect1.append(np.mean(TIFL))\n",
        "\n",
        "WMT = data10['Adj Close']\n",
        "logWMT = np.log(WMT)-np.log(WMT.shift(1))\n",
        "WMTL = np.array([logWMT])\n",
        "WMTL = np.delete(WMTL, 0)\n",
        "R_expect1.append(np.mean(WMTL))\n",
        "\n",
        "AMZN = data11['Adj Close']\n",
        "logAMZN = np.log(AMZN)-np.log(AMZN.shift(1))\n",
        "AMZNL = np.array([logAMZN])\n",
        "AMZNL = np.delete(AMZNL, 0)\n",
        "R_expect1.append(np.mean(AMZNL))\n",
        "\n",
        "GE = data12['Adj Close']\n",
        "logGE = np.log(GE)-np.log(GE.shift(1))\n",
        "GEL = np.array([logGE])\n",
        "GEL = np.delete(GEL, 0)\n",
        "R_expect1.append(np.mean(GEL))\n",
        "\n",
        "FB = data13['Adj Close']\n",
        "logFB = np.log(FB)-np.log(FB.shift(1))\n",
        "FBL = np.array([logFB])\n",
        "FBL = np.delete(FBL, 0)\n",
        "R_expect1.append(np.mean(FBL))\n",
        "\n",
        "BIDU = data14['Adj Close']\n",
        "logBIDU = np.log(BIDU)-np.log(BIDU.shift(1))\n",
        "BIDUL = np.array([logBIDU])\n",
        "BIDUL = np.delete(BIDUL, 0)\n",
        "R_expect1.append(np.mean(BIDUL))\n",
        "\n",
        "JD = data15['Adj Close']\n",
        "logJD = np.log(JD)-np.log(JD.shift(1))\n",
        "JDL = np.array([logJD])\n",
        "JDL = np.delete(JDL, 0)\n",
        "R_expect1.append(np.mean(JDL))\n",
        "\n",
        "TSLA = data16['Adj Close']\n",
        "logTSLA = np.log(TSLA)-np.log(TSLA.shift(1))\n",
        "TSLAL = np.array([logTSLA])\n",
        "TSLAL = np.delete(TSLAL, 0)\n",
        "R_expect1.append(np.mean(TSLAL))\n",
        "\n",
        "NVDA = data17['Adj Close']\n",
        "logNVDA = np.log(NVDA)-np.log(NVDA.shift(1))\n",
        "NVDAL = np.array([logNVDA])\n",
        "NVDAL = np.delete(NVDAL, 0)\n",
        "R_expect1.append(np.mean(NVDAL))\n",
        "\n",
        "CSCO = data18['Adj Close']\n",
        "logCSCO = np.log(CSCO)-np.log(CSCO.shift(1))\n",
        "CSCOL = np.array([logCSCO])\n",
        "CSCOL = np.delete(CSCOL, 0)\n",
        "R_expect1.append(np.mean(CSCOL))\n",
        "\n",
        "BABA = data19['Adj Close']\n",
        "logBABA = np.log(BABA)-np.log(BABA.shift(1))\n",
        "BABAL = np.array([logBABA])\n",
        "BABAL = np.delete(BABAL, 0)\n",
        "R_expect1.append(np.mean(BABAL))\n",
        "\n",
        "PFE = data20['Adj Close']\n",
        "logPFE = np.log(PFE)-np.log(PFE.shift(1))\n",
        "PFEL = np.array([logPFE])\n",
        "PFEL = np.delete(PFEL, 0)\n",
        "R_expect1.append(np.mean(PFEL))\n",
        "\n"
      ],
      "execution_count": null,
      "outputs": []
    },
    {
      "cell_type": "code",
      "metadata": {
        "id": "uSDsYjqZQQLi"
      },
      "source": [
        "P=np.vstack((FL,MSFTL,DISL,AAPLL,AEPL,GOOGL,JPML,MCDL,TIFL,WMTL,AMZNL,GEL,FBL,BIDUL,JDL,TSLAL,NVDAL,CSCOL,BABAL,PFEL))\n",
        "R_cov1=np.cov(P)\n",
        "R_expect1=np.squeeze(np.array([R_expect1]))\n",
        "R_cov1=np.squeeze(np.array([R_cov1]))\n",
        "R_expect1 = R_expect1.reshape(-1,1)"
      ],
      "execution_count": null,
      "outputs": []
    },
    {
      "cell_type": "code",
      "metadata": {
        "id": "SMP2CWQiaUjl"
      },
      "source": [
        "data1 = web.get_data_yahoo('F','08/31/2018','08/31/2020',interval='d') #Ford\n",
        "data2 = web.get_data_yahoo('MSFT','08/31/2018','08/31/2020',interval='d') #Microsoft\n",
        "data3 = web.get_data_yahoo('DIS','08/31/2018','08/31/2020',interval='d') #Disney\n",
        "data4 = web.get_data_yahoo('AAPL','08/31/2018','08/31/2020',interval='d') #Apple\n",
        "data5 = web.get_data_yahoo('AEP','08/31/2018','08/31/2020',interval='d') #AEP\n",
        "data6 = web.get_data_yahoo('GOOG','08/31/2018','08/31/2020',interval='d') #Google\n",
        "data7 = web.get_data_yahoo('JPM','08/31/2018','08/31/2020',interval='d') #JP Morgan\n",
        "data8 = web.get_data_yahoo('MCD','08/31/2018','08/31/2020',interval='d') #McDonald\n",
        "data9 = web.get_data_yahoo('TIF','08/31/2018','08/31/2020',interval='d') #Tiffany\n",
        "data10 = web.get_data_yahoo('WMT','08/31/2018','08/31/2020',interval='d') #Walmart\n",
        "data11 = web.get_data_yahoo('AMZN','08/31/2018','08/31/2020',interval='d') #Amazon\n",
        "data12 = web.get_data_yahoo('GE','08/31/2018','08/31/2020',interval='d') #General Electric\n",
        "data13 = web.get_data_yahoo('FB','08/31/2018','08/31/2020',interval='d') #FACEBOOK\n",
        "data14 = web.get_data_yahoo('BIDU','08/31/2018','08/31/2020',interval='d') #BAIDU\n",
        "data15 = web.get_data_yahoo('JD','08/31/2018','08/31/2020',interval='d') #JD\n",
        "data16 = web.get_data_yahoo('TSLA','08/31/2018','08/31/2020',interval='d') #TSLA\n",
        "data17 = web.get_data_yahoo('NVDA','08/31/2018','08/31/2020',interval='d') #NVDA\n",
        "data18 = web.get_data_yahoo('CSCO','08/31/2018','08/31/2020',interval='d') #CSCO\n",
        "data19 = web.get_data_yahoo('BABA','08/31/2018','08/31/2020',interval='d') #BABA\n",
        "data20 = web.get_data_yahoo('PFE','08/31/2018','08/31/2020',interval='d') #PFE\n",
        "\n",
        "R_expect2=[]\n",
        "\n",
        "F = data1['Adj Close']\n",
        "logF = np.log(F)-np.log(F.shift(1))\n",
        "FL = np.array([logF])\n",
        "FL = np.delete(FL, 0)\n",
        "R_expect2.append(np.mean(FL))\n",
        "\n",
        "MSFT = data2['Adj Close']\n",
        "logMSFT = np.log(MSFT)-np.log(MSFT.shift(1))\n",
        "MSFTL = np.array([logMSFT])\n",
        "MSFTL = np.delete(MSFTL, 0)\n",
        "R_expect2.append(np.mean(MSFTL))\n",
        "\n",
        "DIS = data3['Adj Close']\n",
        "logDIS = np.log(DIS)-np.log(DIS.shift(1))\n",
        "DISL = np.array([logDIS])\n",
        "DISL = np.delete(DISL, 0)\n",
        "R_expect2.append(np.mean(DISL))\n",
        "\n",
        "AAPL = data4['Adj Close']\n",
        "logAAPL = np.log(AAPL)-np.log(AAPL.shift(1))\n",
        "AAPLL = np.array([logAAPL])\n",
        "AAPLL = np.delete(AAPLL, 0)\n",
        "R_expect2.append(np.mean(AAPLL))\n",
        "\n",
        "AEP = data5['Adj Close']\n",
        "logAEP = np.log(AEP)-np.log(AEP.shift(1))\n",
        "AEPL = np.array([logAEP])\n",
        "AEPL = np.delete(AEPL, 0)\n",
        "R_expect2.append(np.mean(AEPL))\n",
        "\n",
        "GOOG = data6['Adj Close']\n",
        "logGOOG = np.log(GOOG)-np.log(GOOG.shift(1))\n",
        "GOOGL = np.array([logGOOG])\n",
        "GOOGL = np.delete(GOOGL, 0)\n",
        "R_expect2.append(np.mean(GOOGL))\n",
        "\n",
        "JPM = data7['Adj Close']\n",
        "logJPM = np.log(JPM)-np.log(JPM.shift(1))\n",
        "JPML = np.array([logJPM])\n",
        "JPML = np.delete(JPML, 0)\n",
        "R_expect2.append(np.mean(JPML))\n",
        "\n",
        "MCD = data8['Adj Close']\n",
        "logMCD = np.log(MCD)-np.log(MCD.shift(1))\n",
        "MCDL = np.array([logMCD])\n",
        "MCDL = np.delete(MCDL, 0)\n",
        "R_expect2.append(np.mean(MCDL))\n",
        "\n",
        "TIF = data9['Adj Close']\n",
        "logTIF = np.log(TIF)-np.log(TIF.shift(1))\n",
        "TIFL = np.array([logTIF])\n",
        "TIFL = np.delete(TIFL, 0)\n",
        "R_expect2.append(np.mean(TIFL))\n",
        "\n",
        "WMT = data10['Adj Close']\n",
        "logWMT = np.log(WMT)-np.log(WMT.shift(1))\n",
        "WMTL = np.array([logWMT])\n",
        "WMTL = np.delete(WMTL, 0)\n",
        "R_expect2.append(np.mean(WMTL))\n",
        "\n",
        "AMZN = data11['Adj Close']\n",
        "logAMZN = np.log(AMZN)-np.log(AMZN.shift(1))\n",
        "AMZNL = np.array([logAMZN])\n",
        "AMZNL = np.delete(AMZNL, 0)\n",
        "R_expect2.append(np.mean(AMZNL))\n",
        "\n",
        "GE = data12['Adj Close']\n",
        "logGE = np.log(GE)-np.log(GE.shift(1))\n",
        "GEL = np.array([logGE])\n",
        "GEL = np.delete(GEL, 0)\n",
        "R_expect2.append(np.mean(GEL))\n",
        "\n",
        "FB = data13['Adj Close']\n",
        "logFB = np.log(FB)-np.log(FB.shift(1))\n",
        "FBL = np.array([logFB])\n",
        "FBL = np.delete(FBL, 0)\n",
        "R_expect2.append(np.mean(FBL))\n",
        "\n",
        "BIDU = data14['Adj Close']\n",
        "logBIDU = np.log(BIDU)-np.log(BIDU.shift(1))\n",
        "BIDUL = np.array([logBIDU])\n",
        "BIDUL = np.delete(BIDUL, 0)\n",
        "R_expect2.append(np.mean(BIDUL))\n",
        "\n",
        "JD = data15['Adj Close']\n",
        "logJD = np.log(JD)-np.log(JD.shift(1))\n",
        "JDL = np.array([logJD])\n",
        "JDL = np.delete(JDL, 0)\n",
        "R_expect2.append(np.mean(JDL))\n",
        "\n",
        "TSLA = data16['Adj Close']\n",
        "logTSLA = np.log(TSLA)-np.log(TSLA.shift(1))\n",
        "TSLAL = np.array([logTSLA])\n",
        "TSLAL = np.delete(TSLAL, 0)\n",
        "R_expect2.append(np.mean(TSLAL))\n",
        "\n",
        "NVDA = data17['Adj Close']\n",
        "logNVDA = np.log(NVDA)-np.log(NVDA.shift(1))\n",
        "NVDAL = np.array([logNVDA])\n",
        "NVDAL = np.delete(NVDAL, 0)\n",
        "R_expect2.append(np.mean(NVDAL))\n",
        "\n",
        "CSCO = data18['Adj Close']\n",
        "logCSCO = np.log(CSCO)-np.log(CSCO.shift(1))\n",
        "CSCOL = np.array([logCSCO])\n",
        "CSCOL = np.delete(CSCOL, 0)\n",
        "R_expect2.append(np.mean(CSCOL))\n",
        "\n",
        "BABA = data19['Adj Close']\n",
        "logBABA = np.log(BABA)-np.log(BABA.shift(1))\n",
        "BABAL = np.array([logBABA])\n",
        "BABAL = np.delete(BABAL, 0)\n",
        "R_expect2.append(np.mean(BABAL))\n",
        "\n",
        "PFE = data20['Adj Close']\n",
        "logPFE = np.log(PFE)-np.log(PFE.shift(1))\n",
        "PFEL = np.array([logPFE])\n",
        "PFEL = np.delete(PFEL, 0)\n",
        "R_expect2.append(np.mean(PFEL))\n",
        "\n",
        "P=np.vstack((FL,MSFTL,DISL,AAPLL,AEPL,GOOGL,JPML,MCDL,TIFL,WMTL,AMZNL,GEL,FBL,BIDUL,JDL,TSLAL,NVDAL,CSCOL,BABAL,PFEL))\n",
        "R_cov2=np.cov(P)\n",
        "R_expect2=np.squeeze(np.array([R_expect2]))\n",
        "R_cov2=np.squeeze(np.array([R_cov2]))\n",
        "R_expect2 = R_expect2.reshape(-1,1)"
      ],
      "execution_count": null,
      "outputs": []
    },
    {
      "cell_type": "code",
      "metadata": {
        "id": "DU3-VLETa6Ly"
      },
      "source": [
        "data1 = web.get_data_yahoo('F','08/31/2017','08/31/2020',interval='d') #Ford\n",
        "data2 = web.get_data_yahoo('MSFT','08/31/2017','08/31/2020',interval='d') #Microsoft\n",
        "data3 = web.get_data_yahoo('DIS','08/31/2017','08/31/2020',interval='d') #Disney\n",
        "data4 = web.get_data_yahoo('AAPL','08/31/2017','08/31/2020',interval='d') #Apple\n",
        "data5 = web.get_data_yahoo('AEP','08/31/2017','08/31/2020',interval='d') #AEP\n",
        "data6 = web.get_data_yahoo('GOOG','08/31/2017','08/31/2020',interval='d') #Google\n",
        "data7 = web.get_data_yahoo('JPM','08/31/2017','08/31/2020',interval='d') #JP Morgan\n",
        "data8 = web.get_data_yahoo('MCD','08/31/2017','08/31/2020',interval='d') #McDonald\n",
        "data9 = web.get_data_yahoo('TIF','08/31/2017','08/31/2020',interval='d') #Tiffany\n",
        "data10 = web.get_data_yahoo('WMT','08/31/2017','08/31/2020',interval='d') #Walmart\n",
        "data11 = web.get_data_yahoo('AMZN','08/31/2017','08/31/2020',interval='d') #Amazon\n",
        "data12 = web.get_data_yahoo('GE','08/31/2017','08/31/2020',interval='d') #General Electric\n",
        "data13 = web.get_data_yahoo('FB','08/31/2017','08/31/2020',interval='d') #FACEBOOK\n",
        "data14 = web.get_data_yahoo('BIDU','08/31/2017','08/31/2020',interval='d') #BAIDU\n",
        "data15 = web.get_data_yahoo('JD','08/31/2017','08/31/2020',interval='d') #JD\n",
        "data16 = web.get_data_yahoo('TSLA','08/31/2017','08/31/2020',interval='d') #TSLA\n",
        "data17 = web.get_data_yahoo('NVDA','08/31/2017','08/31/2020',interval='d') #NVDA\n",
        "data18 = web.get_data_yahoo('CSCO','08/31/2017','08/31/2020',interval='d') #CSCO\n",
        "data19 = web.get_data_yahoo('BABA','08/31/2017','08/31/2020',interval='d') #BABA\n",
        "data20 = web.get_data_yahoo('PFE','08/31/2017','08/31/2020',interval='d') #PFE\n",
        "\n",
        "R_expect3=[]\n",
        "\n",
        "F = data1['Adj Close']\n",
        "logF = np.log(F)-np.log(F.shift(1))\n",
        "FL = np.array([logF])\n",
        "FL = np.delete(FL, 0)\n",
        "R_expect3.append(np.mean(FL))\n",
        "\n",
        "MSFT = data2['Adj Close']\n",
        "logMSFT = np.log(MSFT)-np.log(MSFT.shift(1))\n",
        "MSFTL = np.array([logMSFT])\n",
        "MSFTL = np.delete(MSFTL, 0)\n",
        "R_expect3.append(np.mean(MSFTL))\n",
        "\n",
        "DIS = data3['Adj Close']\n",
        "logDIS = np.log(DIS)-np.log(DIS.shift(1))\n",
        "DISL = np.array([logDIS])\n",
        "DISL = np.delete(DISL, 0)\n",
        "R_expect3.append(np.mean(DISL))\n",
        "\n",
        "AAPL = data4['Adj Close']\n",
        "logAAPL = np.log(AAPL)-np.log(AAPL.shift(1))\n",
        "AAPLL = np.array([logAAPL])\n",
        "AAPLL = np.delete(AAPLL, 0)\n",
        "R_expect3.append(np.mean(AAPLL))\n",
        "\n",
        "AEP = data5['Adj Close']\n",
        "logAEP = np.log(AEP)-np.log(AEP.shift(1))\n",
        "AEPL = np.array([logAEP])\n",
        "AEPL = np.delete(AEPL, 0)\n",
        "R_expect3.append(np.mean(AEPL))\n",
        "\n",
        "GOOG = data6['Adj Close']\n",
        "logGOOG = np.log(GOOG)-np.log(GOOG.shift(1))\n",
        "GOOGL = np.array([logGOOG])\n",
        "GOOGL = np.delete(GOOGL, 0)\n",
        "R_expect3.append(np.mean(GOOGL))\n",
        "\n",
        "JPM = data7['Adj Close']\n",
        "logJPM = np.log(JPM)-np.log(JPM.shift(1))\n",
        "JPML = np.array([logJPM])\n",
        "JPML = np.delete(JPML, 0)\n",
        "R_expect3.append(np.mean(JPML))\n",
        "\n",
        "MCD = data8['Adj Close']\n",
        "logMCD = np.log(MCD)-np.log(MCD.shift(1))\n",
        "MCDL = np.array([logMCD])\n",
        "MCDL = np.delete(MCDL, 0)\n",
        "R_expect3.append(np.mean(MCDL))\n",
        "\n",
        "TIF = data9['Adj Close']\n",
        "logTIF = np.log(TIF)-np.log(TIF.shift(1))\n",
        "TIFL = np.array([logTIF])\n",
        "TIFL = np.delete(TIFL, 0)\n",
        "R_expect3.append(np.mean(TIFL))\n",
        "\n",
        "WMT = data10['Adj Close']\n",
        "logWMT = np.log(WMT)-np.log(WMT.shift(1))\n",
        "WMTL = np.array([logWMT])\n",
        "WMTL = np.delete(WMTL, 0)\n",
        "R_expect3.append(np.mean(WMTL))\n",
        "\n",
        "AMZN = data11['Adj Close']\n",
        "logAMZN = np.log(AMZN)-np.log(AMZN.shift(1))\n",
        "AMZNL = np.array([logAMZN])\n",
        "AMZNL = np.delete(AMZNL, 0)\n",
        "R_expect3.append(np.mean(AMZNL))\n",
        "\n",
        "GE = data12['Adj Close']\n",
        "logGE = np.log(GE)-np.log(GE.shift(1))\n",
        "GEL = np.array([logGE])\n",
        "GEL = np.delete(GEL, 0)\n",
        "R_expect3.append(np.mean(GEL))\n",
        "\n",
        "FB = data13['Adj Close']\n",
        "logFB = np.log(FB)-np.log(FB.shift(1))\n",
        "FBL = np.array([logFB])\n",
        "FBL = np.delete(FBL, 0)\n",
        "R_expect3.append(np.mean(FBL))\n",
        "\n",
        "BIDU = data14['Adj Close']\n",
        "logBIDU = np.log(BIDU)-np.log(BIDU.shift(1))\n",
        "BIDUL = np.array([logBIDU])\n",
        "BIDUL = np.delete(BIDUL, 0)\n",
        "R_expect3.append(np.mean(BIDUL))\n",
        "\n",
        "JD = data15['Adj Close']\n",
        "logJD = np.log(JD)-np.log(JD.shift(1))\n",
        "JDL = np.array([logJD])\n",
        "JDL = np.delete(JDL, 0)\n",
        "R_expect3.append(np.mean(JDL))\n",
        "\n",
        "TSLA = data16['Adj Close']\n",
        "logTSLA = np.log(TSLA)-np.log(TSLA.shift(1))\n",
        "TSLAL = np.array([logTSLA])\n",
        "TSLAL = np.delete(TSLAL, 0)\n",
        "R_expect3.append(np.mean(TSLAL))\n",
        "\n",
        "NVDA = data17['Adj Close']\n",
        "logNVDA = np.log(NVDA)-np.log(NVDA.shift(1))\n",
        "NVDAL = np.array([logNVDA])\n",
        "NVDAL = np.delete(NVDAL, 0)\n",
        "R_expect3.append(np.mean(NVDAL))\n",
        "\n",
        "CSCO = data18['Adj Close']\n",
        "logCSCO = np.log(CSCO)-np.log(CSCO.shift(1))\n",
        "CSCOL = np.array([logCSCO])\n",
        "CSCOL = np.delete(CSCOL, 0)\n",
        "R_expect3.append(np.mean(CSCOL))\n",
        "\n",
        "BABA = data19['Adj Close']\n",
        "logBABA = np.log(BABA)-np.log(BABA.shift(1))\n",
        "BABAL = np.array([logBABA])\n",
        "BABAL = np.delete(BABAL, 0)\n",
        "R_expect3.append(np.mean(BABAL))\n",
        "\n",
        "PFE = data20['Adj Close']\n",
        "logPFE = np.log(PFE)-np.log(PFE.shift(1))\n",
        "PFEL = np.array([logPFE])\n",
        "PFEL = np.delete(PFEL, 0)\n",
        "R_expect3.append(np.mean(PFEL))\n",
        "\n",
        "P=np.vstack((FL,MSFTL,DISL,AAPLL,AEPL,GOOGL,JPML,MCDL,TIFL,WMTL,AMZNL,GEL,FBL,BIDUL,JDL,TSLAL,NVDAL,CSCOL,BABAL,PFEL))\n",
        "R_cov3=np.cov(P)\n",
        "R_expect3=np.squeeze(np.array([R_expect3]))\n",
        "R_cov3=np.squeeze(np.array([R_cov3]))\n",
        "R_expect3 = R_expect3.reshape(-1,1)"
      ],
      "execution_count": null,
      "outputs": []
    },
    {
      "cell_type": "code",
      "metadata": {
        "id": "RC8cr3IQtjQs"
      },
      "source": [
        "\n",
        "\n",
        "def optimalWeights(R_expect,R_cov,mu_p):\n",
        "  one = np.ones((len(R_expect),1))\n",
        "  A = np.dot(np.dot(one.reshape(1,-1),inv(R_cov)),R_expect)\n",
        "  B = np.dot(np.dot(R_expect.reshape(1,-1),inv(R_cov)),R_expect)\n",
        "  C = np.dot(np.dot(one.reshape(1,-1),inv(R_cov)),one)\n",
        "  D = B*C - A**2\n",
        "  g = (B * np.dot(inv(R_cov), one) - A* np.dot(inv(R_cov), R_expect))/D\n",
        "  h = (C * np.dot(inv(R_cov), R_expect) - A* np.dot(inv(R_cov), one))/D\n",
        "  min_sigma = np.dot(np.dot(g.reshape(1,-1),R_cov),g) - (np.dot(np.dot(h.reshape(1,-1),R_cov),g)**2)/np.dot(np.dot(h.reshape(1,-1),R_cov),h)\n",
        "  omega = g + h*mu_p\n",
        "  return g,h,min_sigma,omega\n",
        "\n",
        "def optimalWeights2(R_expect,R_cov):\n",
        "  one = np.ones((len(R_expect),1))\n",
        "  A = np.dot(np.dot(one.reshape(1,-1),inv(R_cov)),R_expect)\n",
        "  B = np.dot(np.dot(R_expect.reshape(1,-1),inv(R_cov)),R_expect)\n",
        "  C = np.dot(np.dot(one.reshape(1,-1),inv(R_cov)),one)\n",
        "  D = B*C - A**2\n",
        "  g = (B * np.dot(inv(R_cov), one) - A* np.dot(inv(R_cov), R_expect))/D\n",
        "  h = (C * np.dot(inv(R_cov), R_expect) - A* np.dot(inv(R_cov), one))/D\n",
        "  min_sigma = np.dot(np.dot(g.reshape(1,-1),R_cov),g) - (np.dot(np.dot(h.reshape(1,-1),R_cov),g)**2)/np.dot(np.dot(h.reshape(1,-1),R_cov),h)\n",
        "  return g,h,min_sigma\n",
        "\n",
        "def effcientfrontier(g,h,R_cov,N1,N2):\n",
        "  sigma = []\n",
        "  mu = []\n",
        "  weight = []\n",
        "  before_ = np.inf\n",
        "  for i in range(N1,N2):\n",
        "      w = g + h*(0.00000001*i-0.0001)\n",
        "      sigma_ = np.dot(np.dot(w.reshape(1,-1),R_cov),w)[0][0]\n",
        "      if sigma_ > before_:\n",
        "        sigma.append(sigma_)\n",
        "        weight.append(w)\n",
        "        mu.append(0.00000001*i-0.0001)\n",
        "      before_ = sigma_\n",
        "  return sigma,mu,weight\n",
        "\n"
      ],
      "execution_count": null,
      "outputs": []
    },
    {
      "cell_type": "code",
      "metadata": {
        "id": "pCFGyKVLUNqm",
        "outputId": "619a4b42-6f95-4627-f095-c3c4da0d1326",
        "colab": {
          "base_uri": "https://localhost:8080/",
          "height": 635
        }
      },
      "source": [
        "g1,h1,min_sigma1 = optimalWeights2(R_expect1,R_cov1)\n",
        "sigma1,mu1,weight1 = effcientfrontier(g1,h1,R_cov1,0,200000)\n",
        "plt.plot(sigma1,mu1)\n",
        "plt.ylabel(\"Expected return\")\n",
        "plt.xlabel(\"volatility\")\n",
        "plt.title(\"1 years EffcientFrontier\")\n",
        "plt.show()\n",
        "min_sigma1\n",
        "\n",
        "weight1[0]"
      ],
      "execution_count": null,
      "outputs": [
        {
          "output_type": "display_data",
          "data": {
            "image/png": "[encoded data removed]",
            "text/plain": [
              "<Figure size 432x288 with 1 Axes>"
            ]
          },
          "metadata": {
            "tags": []
          }
        },
        {
          "output_type": "execute_result",
          "data": {
            "text/plain": [
              "array([[ 0.09217375],\n",
              "       [-0.24935092],\n",
              "       [ 0.03591797],\n",
              "       [-0.05767376],\n",
              "       [ 0.10053262],\n",
              "       [ 0.09635689],\n",
              "       [-0.12200996],\n",
              "       [ 0.12012966],\n",
              "       [ 0.2101654 ],\n",
              "       [ 0.35777345],\n",
              "       [ 0.2159459 ],\n",
              "       [-0.04699716],\n",
              "       [ 0.04520408],\n",
              "       [ 0.05706441],\n",
              "       [-0.01451093],\n",
              "       [-0.01339476],\n",
              "       [-0.18417923],\n",
              "       [-0.07043812],\n",
              "       [ 0.22879675],\n",
              "       [ 0.19849396]])"
            ]
          },
          "metadata": {
            "tags": []
          },
          "execution_count": 9
        }
      ]
    },
    {
      "cell_type": "code",
      "metadata": {
        "id": "tDDm9KDnbbof",
        "outputId": "50aff8ba-6d89-40b1-a655-7edb70a49eae",
        "colab": {
          "base_uri": "https://localhost:8080/",
          "height": 635
        }
      },
      "source": [
        "g2,h2,min_sigma2 = optimalWeights2(R_expect2,R_cov2)\n",
        "sigma2,mu2,weight2 = effcientfrontier(g2,h2,R_cov2,0,200000)\n",
        "plt.plot(sigma2,mu2)\n",
        "plt.ylabel(\"Expected return\")\n",
        "plt.xlabel(\"volatility\")\n",
        "plt.title(\"2 years EffcientFrontier\")\n",
        "plt.show()\n",
        "min_sigma2\n",
        "\n",
        "weight2[0]"
      ],
      "execution_count": null,
      "outputs": [
        {
          "output_type": "display_data",
          "data": {
            "image/png": "[encoded data removed]",
            "text/plain": [
              "<Figure size 432x288 with 1 Axes>"
            ]
          },
          "metadata": {
            "tags": []
          }
        },
        {
          "output_type": "execute_result",
          "data": {
            "text/plain": [
              "array([[ 0.04126495],\n",
              "       [-0.24906613],\n",
              "       [ 0.03558431],\n",
              "       [-0.07567138],\n",
              "       [ 0.18619331],\n",
              "       [ 0.08488025],\n",
              "       [-0.12324233],\n",
              "       [ 0.16828712],\n",
              "       [ 0.18888483],\n",
              "       [ 0.36959689],\n",
              "       [ 0.11775951],\n",
              "       [ 0.00077256],\n",
              "       [ 0.03527444],\n",
              "       [ 0.04538061],\n",
              "       [-0.0277232 ],\n",
              "       [-0.00086198],\n",
              "       [-0.12139215],\n",
              "       [-0.02480689],\n",
              "       [ 0.18347761],\n",
              "       [ 0.16540768]])"
            ]
          },
          "metadata": {
            "tags": []
          },
          "execution_count": 10
        }
      ]
    },
    {
      "cell_type": "code",
      "metadata": {
        "id": "r87RWMaFbb0k",
        "outputId": "f90987e3-2439-4807-b60e-66c0a6b918e5",
        "colab": {
          "base_uri": "https://localhost:8080/",
          "height": 635
        }
      },
      "source": [
        "g3,h3,min_sigma3 = optimalWeights2(R_expect3,R_cov3)\n",
        "sigma3,mu3,weight3 = effcientfrontier(g3,h3,R_cov3,0,200000)\n",
        "plt.plot(sigma3,mu3)\n",
        "plt.ylabel(\"Expected return\")\n",
        "plt.xlabel(\"volatility\")\n",
        "plt.title(\"3 years EffcientFrontier\")\n",
        "plt.show()\n",
        "min_sigma3\n",
        "\n",
        "weight3[0]"
      ],
      "execution_count": null,
      "outputs": [
        {
          "output_type": "display_data",
          "data": {
            "image/png": "[encoded data removed]",
            "text/plain": [
              "<Figure size 432x288 with 1 Axes>"
            ]
          },
          "metadata": {
            "tags": []
          }
        },
        {
          "output_type": "execute_result",
          "data": {
            "text/plain": [
              "array([[ 0.03232371],\n",
              "       [-0.21368952],\n",
              "       [ 0.05661738],\n",
              "       [-0.03279518],\n",
              "       [ 0.23857752],\n",
              "       [ 0.07847624],\n",
              "       [-0.0904147 ],\n",
              "       [ 0.15260981],\n",
              "       [ 0.17180321],\n",
              "       [ 0.25061865],\n",
              "       [ 0.14670383],\n",
              "       [ 0.00371421],\n",
              "       [ 0.01012056],\n",
              "       [ 0.03565317],\n",
              "       [-0.02131336],\n",
              "       [-0.00183094],\n",
              "       [-0.11248318],\n",
              "       [-0.04352733],\n",
              "       [ 0.14760745],\n",
              "       [ 0.19122846]])"
            ]
          },
          "metadata": {
            "tags": []
          },
          "execution_count": 12
        }
      ]
    },
    {
      "cell_type": "code",
      "metadata": {
        "id": "-nduiWHodcP8",
        "outputId": "66e96ee7-4a17-4534-f7c2-d468fc831f67",
        "colab": {
          "background_save": true,
          "base_uri": "https://localhost:8080/",
          "height": 545
        }
      },
      "source": [
        "stocks = ('F', 'MSFT', 'DIS', 'AAPL', 'AEP','GOOG','JPM','MCD','TIF','WMT','AMZN','GE','FB','BIDU','JD','TSLA','NVDA','CSCO','BABA','PFE')\n",
        "W=np.array(weight1[0])\n",
        "t=[]\n",
        "for i in range(len(W)):\n",
        "  t.append(W[i][0])\n",
        "plt.bar(stocks, t)\n",
        "plt.title('1 year weights')\n",
        "plt.show()"
      ],
      "execution_count": null,
      "outputs": [
        {
          "output_type": "display_data",
          "data": {
            "image/png": "[encoded data removed]",
            "text/plain": [
              "<Figure size 432x288 with 1 Axes>"
            ]
          },
          "metadata": {
            "tags": []
          }
        }
      ]
    },
    {
      "cell_type": "code",
      "metadata": {
        "id": "e4dRtGYyhD-M",
        "outputId": "63cb3a45-25a7-4181-8df3-c433d55a4572",
        "colab": {
          "base_uri": "https://localhost:8080/",
          "height": 281
        }
      },
      "source": [
        "stocks = ('F', 'MSFT', 'DIS', 'AAPL', 'AEP','GOOG','JPM','MCD','TIF','WMT','AMZN','GE','FB','BIDU','JD','TSLA','NVDA','CSCO','BABA','PFE')\n",
        "W=np.array(weight2[0])\n",
        "t=[]\n",
        "for i in range(len(W)):\n",
        "  t.append(W[i][0])\n",
        "plt.bar(stocks, t)\n",
        "plt.title('2 year weights')\n",
        "plt.show()"
      ],
      "execution_count": 39,
      "outputs": [
        {
          "output_type": "display_data",
          "data": {
            "image/png": "[encoded data removed]",
            "text/plain": [
              "<Figure size 432x288 with 1 Axes>"
            ]
          },
          "metadata": {
            "tags": [],
            "needs_background": "light"
          }
        }
      ]
    },
    {
      "cell_type": "code",
      "metadata": {
        "id": "KkT__--qjqRd",
        "outputId": "bf21573d-5041-4baf-9e51-da94a9449759",
        "colab": {
          "base_uri": "https://localhost:8080/",
          "height": 281
        }
      },
      "source": [
        "stocks = ('F', 'MSFT', 'DIS', 'AAPL', 'AEP','GOOG','JPM','MCD','TIF','WMT','AMZN','GE','FB','BIDU','JD','TSLA','NVDA','CSCO','BABA','PFE')\n",
        "W=np.array(weight3[0])\n",
        "t=[]\n",
        "for i in range(len(W)):\n",
        "  t.append(W[i][0])\n",
        "plt.bar(stocks, t)\n",
        "plt.title('3 year weights')\n",
        "plt.show()"
      ],
      "execution_count": 40,
      "outputs": [
        {
          "output_type": "display_data",
          "data": {
            "image/png": "[encoded data removed]",
            "text/plain": [
              "<Figure size 432x288 with 1 Axes>"
            ]
          },
          "metadata": {
            "tags": [],
            "needs_background": "light"
          }
        }
      ]
    },
    {
      "cell_type": "code",
      "metadata": {
        "id": "WDNxmd6rlS92"
      },
      "source": [
        ""
      ],
      "execution_count": null,
      "outputs": []
    }
  ]
}