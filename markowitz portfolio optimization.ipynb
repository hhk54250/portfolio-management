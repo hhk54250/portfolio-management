{
  "nbformat": 4,
  "nbformat_minor": 0,
  "metadata": {
    "colab": {
      "name": "Untitled17.ipynb",
      "provenance": [],
      "authorship_tag": "ABX9TyPxVoDGczxz417abnJUZXqN",
      "include_colab_link": true
    },
    "kernelspec": {
      "display_name": "Python 3",
      "name": "python3"
    }
  },
  "cells": [
    {
      "cell_type": "markdown",
      "metadata": {
        "id": "view-in-github",
        "colab_type": "text"
      },
      "source": [
        "<a href=\"https://colab.research.google.com/github/hhk54250/portfolio-management/blob/master/markowitz%20portfolio%20optimization.ipynb\" target=\"_parent\"><img src=\"https://colab.research.google.com/assets/colab-badge.svg\" alt=\"Open In Colab\"/></a>"
      ]
    },
    {
      "cell_type": "code",
      "metadata": {
        "id": "UYqHCn0tHhit",
        "outputId": "cbac625f-b46f-405a-e4e9-f75632f241f2",
        "colab": {
          "base_uri": "https://localhost:8080/"
        }
      },
      "source": [
        "pip install yahoo-finance"
      ],
      "execution_count": 1,
      "outputs": [
        {
          "output_type": "stream",
          "text": [
            "Collecting yahoo-finance\n",
            "  Downloading https://files.pythonhosted.org/packages/7c/8c/61e2250dd88a22a3156c2b44fd021140bf984b49800584cb0372193a116a/yahoo-finance-1.4.0.tar.gz\n",
            "Requirement already satisfied: pytz in /usr/local/lib/python3.6/dist-packages (from yahoo-finance) (2018.9)\n",
            "Collecting simplejson\n",
            "\u001b[?25l  Downloading https://files.pythonhosted.org/packages/73/96/1e6b19045375890068d7342cbe280dd64ae73fd90b9735b5efb8d1e044a1/simplejson-3.17.2-cp36-cp36m-manylinux2010_x86_64.whl (127kB)\n",
            "\u001b[K     |████████████████████████████████| 133kB 3.7MB/s \n",
            "\u001b[?25hBuilding wheels for collected packages: yahoo-finance\n",
            "  Building wheel for yahoo-finance (setup.py) ... \u001b[?25l\u001b[?25hdone\n",
            "  Created wheel for yahoo-finance: filename=yahoo_finance-1.4.0-cp36-none-any.whl size=7234 sha256=76c564c91417e2032fa92f8a9c84fa9e3b846059eba7cacf76cab9e0cdf6363d\n",
            "  Stored in directory: /root/.cache/pip/wheels/58/77/5b/66026e0fa7af2ee5926a516a70d3df95e17f952c570bc5aee6\n",
            "Successfully built yahoo-finance\n",
            "Installing collected packages: simplejson, yahoo-finance\n",
            "Successfully installed simplejson-3.17.2 yahoo-finance-1.4.0\n"
          ],
          "name": "stdout"
        }
      ]
    },
    {
      "cell_type": "code",
      "metadata": {
        "id": "fwngmrm1HpxO",
        "outputId": "8d60b82e-0b75-4ae3-fb2f-a781c5e1bd1f",
        "colab": {
          "base_uri": "https://localhost:8080/"
        }
      },
      "source": [
        "pip install pandas_market_calendars"
      ],
      "execution_count": 2,
      "outputs": [
        {
          "output_type": "stream",
          "text": [
            "Collecting pandas_market_calendars\n",
            "\u001b[?25l  Downloading https://files.pythonhosted.org/packages/27/de/ceb494df8a721998d19d256a3d326c7e8a21fd1dafccf25dff7143d15287/pandas_market_calendars-1.6.1-py3-none-any.whl (58kB)\n",
            "\r\u001b[K     |█████▋                          | 10kB 17.1MB/s eta 0:00:01\r\u001b[K     |███████████▎                    | 20kB 1.7MB/s eta 0:00:01\r\u001b[K     |████████████████▉               | 30kB 2.2MB/s eta 0:00:01\r\u001b[K     |██████████████████████▌         | 40kB 2.6MB/s eta 0:00:01\r\u001b[K     |████████████████████████████    | 51kB 2.0MB/s eta 0:00:01\r\u001b[K     |████████████████████████████████| 61kB 1.8MB/s \n",
            "\u001b[?25hRequirement already satisfied: pandas>=0.18 in /usr/local/lib/python3.6/dist-packages (from pandas_market_calendars) (1.1.4)\n",
            "Collecting trading-calendars\n",
            "\u001b[?25l  Downloading https://files.pythonhosted.org/packages/8d/07/ea64b7acb14ca7db166d509cd43acc3548c2c2809e94730dfd9bb6546cb4/trading_calendars-2.0.0.tar.gz (102kB)\n",
            "\u001b[K     |████████████████████████████████| 112kB 7.4MB/s \n",
            "\u001b[?25hRequirement already satisfied: pytz in /usr/local/lib/python3.6/dist-packages (from pandas_market_calendars) (2018.9)\n",
            "Requirement already satisfied: python-dateutil in /usr/local/lib/python3.6/dist-packages (from pandas_market_calendars) (2.8.1)\n",
            "Requirement already satisfied: numpy>=1.15.4 in /usr/local/lib/python3.6/dist-packages (from pandas>=0.18->pandas_market_calendars) (1.18.5)\n",
            "Requirement already satisfied: toolz in /usr/local/lib/python3.6/dist-packages (from trading-calendars->pandas_market_calendars) (0.11.1)\n",
            "Requirement already satisfied: six>=1.5 in /usr/local/lib/python3.6/dist-packages (from python-dateutil->pandas_market_calendars) (1.15.0)\n",
            "Building wheels for collected packages: trading-calendars\n",
            "  Building wheel for trading-calendars (setup.py) ... \u001b[?25l\u001b[?25hdone\n",
            "  Created wheel for trading-calendars: filename=trading_calendars-2.0.0-cp36-none-any.whl size=135649 sha256=ee5c369d75e25c15a5400578770205dbda69679e27bbf69e937e20352dca5c22\n",
            "  Stored in directory: /root/.cache/pip/wheels/6e/fb/89/d71a90b9dd2c51fad1b5f6d240deb0d5051e80402f9fc3a6b9\n",
            "Successfully built trading-calendars\n",
            "Installing collected packages: trading-calendars, pandas-market-calendars\n",
            "Successfully installed pandas-market-calendars-1.6.1 trading-calendars-2.0.0\n"
          ],
          "name": "stdout"
        }
      ]
    },
    {
      "cell_type": "code",
      "metadata": {
        "id": "PoAY-8vpHrzj"
      },
      "source": [
        "import pandas as pd\n",
        "import pandas_market_calendars as mcal\n",
        "import pandas_datareader.data as web\n",
        "from pandas_datareader.data import DataReader\n",
        "import numpy as np\n",
        "import pandas as pd\n",
        "import matplotlib.pyplot as plt\n",
        "from numpy.linalg import *\n",
        "import os\n"
      ],
      "execution_count": 3,
      "outputs": []
    },
    {
      "cell_type": "code",
      "metadata": {
        "id": "3dngWpriH3Rx"
      },
      "source": [
        "data1 = web.get_data_yahoo('F','08/31/2019','08/31/2020',interval='d') #Ford\n",
        "data2 = web.get_data_yahoo('MSFT','08/31/2019','08/31/2020',interval='d') #Microsoft\n",
        "data3 = web.get_data_yahoo('DIS','08/31/2019','08/31/2020',interval='d') #Disney\n",
        "data4 = web.get_data_yahoo('AAPL','08/31/2019','08/31/2020',interval='d') #Apple\n",
        "data5 = web.get_data_yahoo('AEP','08/31/2019','08/31/2020',interval='d') #AEP\n",
        "data6 = web.get_data_yahoo('GOOG','08/31/2019','08/31/2020',interval='d') #Google\n",
        "data7 = web.get_data_yahoo('JPM','08/31/2019','08/31/2020',interval='d') #JP Morgan\n",
        "data8 = web.get_data_yahoo('MCD','08/31/2019','08/31/2020',interval='d') #McDonald\n",
        "data9 = web.get_data_yahoo('TIF','08/31/2019','08/31/2020',interval='d') #Tiffany\n",
        "data10 = web.get_data_yahoo('WMT','08/31/2019','08/31/2020',interval='d') #Walmart\n",
        "data11 = web.get_data_yahoo('AMZN','08/31/2019','08/31/2020',interval='d') #Amazon\n",
        "data12 = web.get_data_yahoo('GE','08/31/2019','08/31/2020',interval='d') #General Electric\n",
        "data13 = web.get_data_yahoo('FB','08/31/2019','08/31/2020',interval='d') #FACEBOOK\n",
        "data14 = web.get_data_yahoo('BIDU','08/31/2019','08/31/2020',interval='d') #BAIDU\n",
        "data15 = web.get_data_yahoo('JD','08/31/2019','08/31/2020',interval='d') #JD\n",
        "data16 = web.get_data_yahoo('TSLA','08/31/2019','08/31/2020',interval='d') #TSLA\n",
        "data17 = web.get_data_yahoo('NVDA','08/31/2019','08/31/2020',interval='d') #NVDA\n",
        "data18 = web.get_data_yahoo('CSCO','08/31/2019','08/31/2020',interval='d') #CSCO\n",
        "data19 = web.get_data_yahoo('BABA','08/31/2019','08/31/2020',interval='d') #BABA\n",
        "data20 = web.get_data_yahoo('PFE','08/31/2019','08/31/2020',interval='d') #PFE\n",
        "\n",
        "R_expect1=[]\n",
        "\n",
        "F = data1['Adj Close']\n",
        "logF = np.log(F)-np.log(F.shift(1))\n",
        "FL = np.array([logF])\n",
        "FL = np.delete(FL, 0)\n",
        "R_expect1.append(np.mean(FL))\n",
        "\n",
        "MSFT = data2['Adj Close']\n",
        "logMSFT = np.log(MSFT)-np.log(MSFT.shift(1))\n",
        "MSFTL = np.array([logMSFT])\n",
        "MSFTL = np.delete(MSFTL, 0)\n",
        "R_expect1.append(np.mean(MSFTL))\n",
        "\n",
        "DIS = data3['Adj Close']\n",
        "logDIS = np.log(DIS)-np.log(DIS.shift(1))\n",
        "DISL = np.array([logDIS])\n",
        "DISL = np.delete(DISL, 0)\n",
        "R_expect1.append(np.mean(DISL))\n",
        "\n",
        "AAPL = data4['Adj Close']\n",
        "logAAPL = np.log(AAPL)-np.log(AAPL.shift(1))\n",
        "AAPLL = np.array([logAAPL])\n",
        "AAPLL = np.delete(AAPLL, 0)\n",
        "R_expect1.append(np.mean(AAPLL))\n",
        "\n",
        "AEP = data5['Adj Close']\n",
        "logAEP = np.log(AEP)-np.log(AEP.shift(1))\n",
        "AEPL = np.array([logAEP])\n",
        "AEPL = np.delete(AEPL, 0)\n",
        "R_expect1.append(np.mean(AEPL))\n",
        "\n",
        "GOOG = data6['Adj Close']\n",
        "logGOOG = np.log(GOOG)-np.log(GOOG.shift(1))\n",
        "GOOGL = np.array([logGOOG])\n",
        "GOOGL = np.delete(GOOGL, 0)\n",
        "R_expect1.append(np.mean(GOOGL))\n",
        "\n",
        "JPM = data7['Adj Close']\n",
        "logJPM = np.log(JPM)-np.log(JPM.shift(1))\n",
        "JPML = np.array([logJPM])\n",
        "JPML = np.delete(JPML, 0)\n",
        "R_expect1.append(np.mean(JPML))\n",
        "\n",
        "MCD = data8['Adj Close']\n",
        "logMCD = np.log(MCD)-np.log(MCD.shift(1))\n",
        "MCDL = np.array([logMCD])\n",
        "MCDL = np.delete(MCDL, 0)\n",
        "R_expect1.append(np.mean(MCDL))\n",
        "\n",
        "TIF = data9['Adj Close']\n",
        "logTIF = np.log(TIF)-np.log(TIF.shift(1))\n",
        "TIFL = np.array([logTIF])\n",
        "TIFL = np.delete(TIFL, 0)\n",
        "R_expect1.append(np.mean(TIFL))\n",
        "\n",
        "WMT = data10['Adj Close']\n",
        "logWMT = np.log(WMT)-np.log(WMT.shift(1))\n",
        "WMTL = np.array([logWMT])\n",
        "WMTL = np.delete(WMTL, 0)\n",
        "R_expect1.append(np.mean(WMTL))\n",
        "\n",
        "AMZN = data11['Adj Close']\n",
        "logAMZN = np.log(AMZN)-np.log(AMZN.shift(1))\n",
        "AMZNL = np.array([logAMZN])\n",
        "AMZNL = np.delete(AMZNL, 0)\n",
        "R_expect1.append(np.mean(AMZNL))\n",
        "\n",
        "GE = data12['Adj Close']\n",
        "logGE = np.log(GE)-np.log(GE.shift(1))\n",
        "GEL = np.array([logGE])\n",
        "GEL = np.delete(GEL, 0)\n",
        "R_expect1.append(np.mean(GEL))\n",
        "\n",
        "FB = data13['Adj Close']\n",
        "logFB = np.log(FB)-np.log(FB.shift(1))\n",
        "FBL = np.array([logFB])\n",
        "FBL = np.delete(FBL, 0)\n",
        "R_expect1.append(np.mean(FBL))\n",
        "\n",
        "BIDU = data14['Adj Close']\n",
        "logBIDU = np.log(BIDU)-np.log(BIDU.shift(1))\n",
        "BIDUL = np.array([logBIDU])\n",
        "BIDUL = np.delete(BIDUL, 0)\n",
        "R_expect1.append(np.mean(BIDUL))\n",
        "\n",
        "JD = data15['Adj Close']\n",
        "logJD = np.log(JD)-np.log(JD.shift(1))\n",
        "JDL = np.array([logJD])\n",
        "JDL = np.delete(JDL, 0)\n",
        "R_expect1.append(np.mean(JDL))\n",
        "\n",
        "TSLA = data16['Adj Close']\n",
        "logTSLA = np.log(TSLA)-np.log(TSLA.shift(1))\n",
        "TSLAL = np.array([logTSLA])\n",
        "TSLAL = np.delete(TSLAL, 0)\n",
        "R_expect1.append(np.mean(TSLAL))\n",
        "\n",
        "NVDA = data17['Adj Close']\n",
        "logNVDA = np.log(NVDA)-np.log(NVDA.shift(1))\n",
        "NVDAL = np.array([logNVDA])\n",
        "NVDAL = np.delete(NVDAL, 0)\n",
        "R_expect1.append(np.mean(NVDAL))\n",
        "\n",
        "CSCO = data18['Adj Close']\n",
        "logCSCO = np.log(CSCO)-np.log(CSCO.shift(1))\n",
        "CSCOL = np.array([logCSCO])\n",
        "CSCOL = np.delete(CSCOL, 0)\n",
        "R_expect1.append(np.mean(CSCOL))\n",
        "\n",
        "BABA = data19['Adj Close']\n",
        "logBABA = np.log(BABA)-np.log(BABA.shift(1))\n",
        "BABAL = np.array([logBABA])\n",
        "BABAL = np.delete(BABAL, 0)\n",
        "R_expect1.append(np.mean(BABAL))\n",
        "\n",
        "PFE = data20['Adj Close']\n",
        "logPFE = np.log(PFE)-np.log(PFE.shift(1))\n",
        "PFEL = np.array([logPFE])\n",
        "PFEL = np.delete(PFEL, 0)\n",
        "R_expect1.append(np.mean(PFEL))\n",
        "\n"
      ],
      "execution_count": 4,
      "outputs": []
    },
    {
      "cell_type": "code",
      "metadata": {
        "id": "uSDsYjqZQQLi"
      },
      "source": [
        "P=np.vstack((FL,MSFTL,DISL,AAPLL,AEPL,GOOGL,JPML,MCDL,TIFL,WMTL,AMZNL,GEL,FBL,BIDUL,JDL,TSLAL,NVDAL,CSCOL,BABAL,PFEL))\n",
        "R_cov1=np.cov(P)\n",
        "R_expect1=np.squeeze(np.array([R_expect1]))\n",
        "R_cov1=np.squeeze(np.array([R_cov1]))\n",
        "R_expect1 = R_expect1.reshape(-1,1)"
      ],
      "execution_count": 5,
      "outputs": []
    },
    {
      "cell_type": "code",
      "metadata": {
        "id": "SMP2CWQiaUjl"
      },
      "source": [
        "data1 = web.get_data_yahoo('F','08/31/2018','08/31/2020',interval='d') #Ford\n",
        "data2 = web.get_data_yahoo('MSFT','08/31/2018','08/31/2020',interval='d') #Microsoft\n",
        "data3 = web.get_data_yahoo('DIS','08/31/2018','08/31/2020',interval='d') #Disney\n",
        "data4 = web.get_data_yahoo('AAPL','08/31/2018','08/31/2020',interval='d') #Apple\n",
        "data5 = web.get_data_yahoo('AEP','08/31/2018','08/31/2020',interval='d') #AEP\n",
        "data6 = web.get_data_yahoo('GOOG','08/31/2018','08/31/2020',interval='d') #Google\n",
        "data7 = web.get_data_yahoo('JPM','08/31/2018','08/31/2020',interval='d') #JP Morgan\n",
        "data8 = web.get_data_yahoo('MCD','08/31/2018','08/31/2020',interval='d') #McDonald\n",
        "data9 = web.get_data_yahoo('TIF','08/31/2018','08/31/2020',interval='d') #Tiffany\n",
        "data10 = web.get_data_yahoo('WMT','08/31/2018','08/31/2020',interval='d') #Walmart\n",
        "data11 = web.get_data_yahoo('AMZN','08/31/2018','08/31/2020',interval='d') #Amazon\n",
        "data12 = web.get_data_yahoo('GE','08/31/2018','08/31/2020',interval='d') #General Electric\n",
        "data13 = web.get_data_yahoo('FB','08/31/2018','08/31/2020',interval='d') #FACEBOOK\n",
        "data14 = web.get_data_yahoo('BIDU','08/31/2018','08/31/2020',interval='d') #BAIDU\n",
        "data15 = web.get_data_yahoo('JD','08/31/2018','08/31/2020',interval='d') #JD\n",
        "data16 = web.get_data_yahoo('TSLA','08/31/2018','08/31/2020',interval='d') #TSLA\n",
        "data17 = web.get_data_yahoo('NVDA','08/31/2018','08/31/2020',interval='d') #NVDA\n",
        "data18 = web.get_data_yahoo('CSCO','08/31/2018','08/31/2020',interval='d') #CSCO\n",
        "data19 = web.get_data_yahoo('BABA','08/31/2018','08/31/2020',interval='d') #BABA\n",
        "data20 = web.get_data_yahoo('PFE','08/31/2018','08/31/2020',interval='d') #PFE\n",
        "\n",
        "R_expect2=[]\n",
        "\n",
        "F = data1['Adj Close']\n",
        "logF = np.log(F)-np.log(F.shift(1))\n",
        "FL = np.array([logF])\n",
        "FL = np.delete(FL, 0)\n",
        "R_expect2.append(np.mean(FL))\n",
        "\n",
        "MSFT = data2['Adj Close']\n",
        "logMSFT = np.log(MSFT)-np.log(MSFT.shift(1))\n",
        "MSFTL = np.array([logMSFT])\n",
        "MSFTL = np.delete(MSFTL, 0)\n",
        "R_expect2.append(np.mean(MSFTL))\n",
        "\n",
        "DIS = data3['Adj Close']\n",
        "logDIS = np.log(DIS)-np.log(DIS.shift(1))\n",
        "DISL = np.array([logDIS])\n",
        "DISL = np.delete(DISL, 0)\n",
        "R_expect2.append(np.mean(DISL))\n",
        "\n",
        "AAPL = data4['Adj Close']\n",
        "logAAPL = np.log(AAPL)-np.log(AAPL.shift(1))\n",
        "AAPLL = np.array([logAAPL])\n",
        "AAPLL = np.delete(AAPLL, 0)\n",
        "R_expect2.append(np.mean(AAPLL))\n",
        "\n",
        "AEP = data5['Adj Close']\n",
        "logAEP = np.log(AEP)-np.log(AEP.shift(1))\n",
        "AEPL = np.array([logAEP])\n",
        "AEPL = np.delete(AEPL, 0)\n",
        "R_expect2.append(np.mean(AEPL))\n",
        "\n",
        "GOOG = data6['Adj Close']\n",
        "logGOOG = np.log(GOOG)-np.log(GOOG.shift(1))\n",
        "GOOGL = np.array([logGOOG])\n",
        "GOOGL = np.delete(GOOGL, 0)\n",
        "R_expect2.append(np.mean(GOOGL))\n",
        "\n",
        "JPM = data7['Adj Close']\n",
        "logJPM = np.log(JPM)-np.log(JPM.shift(1))\n",
        "JPML = np.array([logJPM])\n",
        "JPML = np.delete(JPML, 0)\n",
        "R_expect2.append(np.mean(JPML))\n",
        "\n",
        "MCD = data8['Adj Close']\n",
        "logMCD = np.log(MCD)-np.log(MCD.shift(1))\n",
        "MCDL = np.array([logMCD])\n",
        "MCDL = np.delete(MCDL, 0)\n",
        "R_expect2.append(np.mean(MCDL))\n",
        "\n",
        "TIF = data9['Adj Close']\n",
        "logTIF = np.log(TIF)-np.log(TIF.shift(1))\n",
        "TIFL = np.array([logTIF])\n",
        "TIFL = np.delete(TIFL, 0)\n",
        "R_expect2.append(np.mean(TIFL))\n",
        "\n",
        "WMT = data10['Adj Close']\n",
        "logWMT = np.log(WMT)-np.log(WMT.shift(1))\n",
        "WMTL = np.array([logWMT])\n",
        "WMTL = np.delete(WMTL, 0)\n",
        "R_expect2.append(np.mean(WMTL))\n",
        "\n",
        "AMZN = data11['Adj Close']\n",
        "logAMZN = np.log(AMZN)-np.log(AMZN.shift(1))\n",
        "AMZNL = np.array([logAMZN])\n",
        "AMZNL = np.delete(AMZNL, 0)\n",
        "R_expect2.append(np.mean(AMZNL))\n",
        "\n",
        "GE = data12['Adj Close']\n",
        "logGE = np.log(GE)-np.log(GE.shift(1))\n",
        "GEL = np.array([logGE])\n",
        "GEL = np.delete(GEL, 0)\n",
        "R_expect2.append(np.mean(GEL))\n",
        "\n",
        "FB = data13['Adj Close']\n",
        "logFB = np.log(FB)-np.log(FB.shift(1))\n",
        "FBL = np.array([logFB])\n",
        "FBL = np.delete(FBL, 0)\n",
        "R_expect2.append(np.mean(FBL))\n",
        "\n",
        "BIDU = data14['Adj Close']\n",
        "logBIDU = np.log(BIDU)-np.log(BIDU.shift(1))\n",
        "BIDUL = np.array([logBIDU])\n",
        "BIDUL = np.delete(BIDUL, 0)\n",
        "R_expect2.append(np.mean(BIDUL))\n",
        "\n",
        "JD = data15['Adj Close']\n",
        "logJD = np.log(JD)-np.log(JD.shift(1))\n",
        "JDL = np.array([logJD])\n",
        "JDL = np.delete(JDL, 0)\n",
        "R_expect2.append(np.mean(JDL))\n",
        "\n",
        "TSLA = data16['Adj Close']\n",
        "logTSLA = np.log(TSLA)-np.log(TSLA.shift(1))\n",
        "TSLAL = np.array([logTSLA])\n",
        "TSLAL = np.delete(TSLAL, 0)\n",
        "R_expect2.append(np.mean(TSLAL))\n",
        "\n",
        "NVDA = data17['Adj Close']\n",
        "logNVDA = np.log(NVDA)-np.log(NVDA.shift(1))\n",
        "NVDAL = np.array([logNVDA])\n",
        "NVDAL = np.delete(NVDAL, 0)\n",
        "R_expect2.append(np.mean(NVDAL))\n",
        "\n",
        "CSCO = data18['Adj Close']\n",
        "logCSCO = np.log(CSCO)-np.log(CSCO.shift(1))\n",
        "CSCOL = np.array([logCSCO])\n",
        "CSCOL = np.delete(CSCOL, 0)\n",
        "R_expect2.append(np.mean(CSCOL))\n",
        "\n",
        "BABA = data19['Adj Close']\n",
        "logBABA = np.log(BABA)-np.log(BABA.shift(1))\n",
        "BABAL = np.array([logBABA])\n",
        "BABAL = np.delete(BABAL, 0)\n",
        "R_expect2.append(np.mean(BABAL))\n",
        "\n",
        "PFE = data20['Adj Close']\n",
        "logPFE = np.log(PFE)-np.log(PFE.shift(1))\n",
        "PFEL = np.array([logPFE])\n",
        "PFEL = np.delete(PFEL, 0)\n",
        "R_expect2.append(np.mean(PFEL))\n",
        "\n",
        "P=np.vstack((FL,MSFTL,DISL,AAPLL,AEPL,GOOGL,JPML,MCDL,TIFL,WMTL,AMZNL,GEL,FBL,BIDUL,JDL,TSLAL,NVDAL,CSCOL,BABAL,PFEL))\n",
        "R_cov2=np.cov(P)\n",
        "R_expect2=np.squeeze(np.array([R_expect2]))\n",
        "R_cov2=np.squeeze(np.array([R_cov2]))\n",
        "R_expect2 = R_expect2.reshape(-1,1)"
      ],
      "execution_count": 15,
      "outputs": []
    },
    {
      "cell_type": "code",
      "metadata": {
        "id": "DU3-VLETa6Ly"
      },
      "source": [
        "data1 = web.get_data_yahoo('F','08/31/2017','08/31/2020',interval='d') #Ford\n",
        "data2 = web.get_data_yahoo('MSFT','08/31/2017','08/31/2020',interval='d') #Microsoft\n",
        "data3 = web.get_data_yahoo('DIS','08/31/2017','08/31/2020',interval='d') #Disney\n",
        "data4 = web.get_data_yahoo('AAPL','08/31/2017','08/31/2020',interval='d') #Apple\n",
        "data5 = web.get_data_yahoo('AEP','08/31/2017','08/31/2020',interval='d') #AEP\n",
        "data6 = web.get_data_yahoo('GOOG','08/31/2017','08/31/2020',interval='d') #Google\n",
        "data7 = web.get_data_yahoo('JPM','08/31/2017','08/31/2020',interval='d') #JP Morgan\n",
        "data8 = web.get_data_yahoo('MCD','08/31/2017','08/31/2020',interval='d') #McDonald\n",
        "data9 = web.get_data_yahoo('TIF','08/31/2017','08/31/2020',interval='d') #Tiffany\n",
        "data10 = web.get_data_yahoo('WMT','08/31/2017','08/31/2020',interval='d') #Walmart\n",
        "data11 = web.get_data_yahoo('AMZN','08/31/2017','08/31/2020',interval='d') #Amazon\n",
        "data12 = web.get_data_yahoo('GE','08/31/2017','08/31/2020',interval='d') #General Electric\n",
        "data13 = web.get_data_yahoo('FB','08/31/2017','08/31/2020',interval='d') #FACEBOOK\n",
        "data14 = web.get_data_yahoo('BIDU','08/31/2017','08/31/2020',interval='d') #BAIDU\n",
        "data15 = web.get_data_yahoo('JD','08/31/2017','08/31/2020',interval='d') #JD\n",
        "data16 = web.get_data_yahoo('TSLA','08/31/2017','08/31/2020',interval='d') #TSLA\n",
        "data17 = web.get_data_yahoo('NVDA','08/31/2017','08/31/2020',interval='d') #NVDA\n",
        "data18 = web.get_data_yahoo('CSCO','08/31/2017','08/31/2020',interval='d') #CSCO\n",
        "data19 = web.get_data_yahoo('BABA','08/31/2017','08/31/2020',interval='d') #BABA\n",
        "data20 = web.get_data_yahoo('PFE','08/31/2017','08/31/2020',interval='d') #PFE\n",
        "\n",
        "R_expect3=[]\n",
        "\n",
        "F = data1['Adj Close']\n",
        "logF = np.log(F)-np.log(F.shift(1))\n",
        "FL = np.array([logF])\n",
        "FL = np.delete(FL, 0)\n",
        "R_expect3.append(np.mean(FL))\n",
        "\n",
        "MSFT = data2['Adj Close']\n",
        "logMSFT = np.log(MSFT)-np.log(MSFT.shift(1))\n",
        "MSFTL = np.array([logMSFT])\n",
        "MSFTL = np.delete(MSFTL, 0)\n",
        "R_expect3.append(np.mean(MSFTL))\n",
        "\n",
        "DIS = data3['Adj Close']\n",
        "logDIS = np.log(DIS)-np.log(DIS.shift(1))\n",
        "DISL = np.array([logDIS])\n",
        "DISL = np.delete(DISL, 0)\n",
        "R_expect3.append(np.mean(DISL))\n",
        "\n",
        "AAPL = data4['Adj Close']\n",
        "logAAPL = np.log(AAPL)-np.log(AAPL.shift(1))\n",
        "AAPLL = np.array([logAAPL])\n",
        "AAPLL = np.delete(AAPLL, 0)\n",
        "R_expect3.append(np.mean(AAPLL))\n",
        "\n",
        "AEP = data5['Adj Close']\n",
        "logAEP = np.log(AEP)-np.log(AEP.shift(1))\n",
        "AEPL = np.array([logAEP])\n",
        "AEPL = np.delete(AEPL, 0)\n",
        "R_expect3.append(np.mean(AEPL))\n",
        "\n",
        "GOOG = data6['Adj Close']\n",
        "logGOOG = np.log(GOOG)-np.log(GOOG.shift(1))\n",
        "GOOGL = np.array([logGOOG])\n",
        "GOOGL = np.delete(GOOGL, 0)\n",
        "R_expect3.append(np.mean(GOOGL))\n",
        "\n",
        "JPM = data7['Adj Close']\n",
        "logJPM = np.log(JPM)-np.log(JPM.shift(1))\n",
        "JPML = np.array([logJPM])\n",
        "JPML = np.delete(JPML, 0)\n",
        "R_expect3.append(np.mean(JPML))\n",
        "\n",
        "MCD = data8['Adj Close']\n",
        "logMCD = np.log(MCD)-np.log(MCD.shift(1))\n",
        "MCDL = np.array([logMCD])\n",
        "MCDL = np.delete(MCDL, 0)\n",
        "R_expect3.append(np.mean(MCDL))\n",
        "\n",
        "TIF = data9['Adj Close']\n",
        "logTIF = np.log(TIF)-np.log(TIF.shift(1))\n",
        "TIFL = np.array([logTIF])\n",
        "TIFL = np.delete(TIFL, 0)\n",
        "R_expect3.append(np.mean(TIFL))\n",
        "\n",
        "WMT = data10['Adj Close']\n",
        "logWMT = np.log(WMT)-np.log(WMT.shift(1))\n",
        "WMTL = np.array([logWMT])\n",
        "WMTL = np.delete(WMTL, 0)\n",
        "R_expect3.append(np.mean(WMTL))\n",
        "\n",
        "AMZN = data11['Adj Close']\n",
        "logAMZN = np.log(AMZN)-np.log(AMZN.shift(1))\n",
        "AMZNL = np.array([logAMZN])\n",
        "AMZNL = np.delete(AMZNL, 0)\n",
        "R_expect3.append(np.mean(AMZNL))\n",
        "\n",
        "GE = data12['Adj Close']\n",
        "logGE = np.log(GE)-np.log(GE.shift(1))\n",
        "GEL = np.array([logGE])\n",
        "GEL = np.delete(GEL, 0)\n",
        "R_expect3.append(np.mean(GEL))\n",
        "\n",
        "FB = data13['Adj Close']\n",
        "logFB = np.log(FB)-np.log(FB.shift(1))\n",
        "FBL = np.array([logFB])\n",
        "FBL = np.delete(FBL, 0)\n",
        "R_expect3.append(np.mean(FBL))\n",
        "\n",
        "BIDU = data14['Adj Close']\n",
        "logBIDU = np.log(BIDU)-np.log(BIDU.shift(1))\n",
        "BIDUL = np.array([logBIDU])\n",
        "BIDUL = np.delete(BIDUL, 0)\n",
        "R_expect3.append(np.mean(BIDUL))\n",
        "\n",
        "JD = data15['Adj Close']\n",
        "logJD = np.log(JD)-np.log(JD.shift(1))\n",
        "JDL = np.array([logJD])\n",
        "JDL = np.delete(JDL, 0)\n",
        "R_expect3.append(np.mean(JDL))\n",
        "\n",
        "TSLA = data16['Adj Close']\n",
        "logTSLA = np.log(TSLA)-np.log(TSLA.shift(1))\n",
        "TSLAL = np.array([logTSLA])\n",
        "TSLAL = np.delete(TSLAL, 0)\n",
        "R_expect3.append(np.mean(TSLAL))\n",
        "\n",
        "NVDA = data17['Adj Close']\n",
        "logNVDA = np.log(NVDA)-np.log(NVDA.shift(1))\n",
        "NVDAL = np.array([logNVDA])\n",
        "NVDAL = np.delete(NVDAL, 0)\n",
        "R_expect3.append(np.mean(NVDAL))\n",
        "\n",
        "CSCO = data18['Adj Close']\n",
        "logCSCO = np.log(CSCO)-np.log(CSCO.shift(1))\n",
        "CSCOL = np.array([logCSCO])\n",
        "CSCOL = np.delete(CSCOL, 0)\n",
        "R_expect3.append(np.mean(CSCOL))\n",
        "\n",
        "BABA = data19['Adj Close']\n",
        "logBABA = np.log(BABA)-np.log(BABA.shift(1))\n",
        "BABAL = np.array([logBABA])\n",
        "BABAL = np.delete(BABAL, 0)\n",
        "R_expect3.append(np.mean(BABAL))\n",
        "\n",
        "PFE = data20['Adj Close']\n",
        "logPFE = np.log(PFE)-np.log(PFE.shift(1))\n",
        "PFEL = np.array([logPFE])\n",
        "PFEL = np.delete(PFEL, 0)\n",
        "R_expect3.append(np.mean(PFEL))\n",
        "\n",
        "P=np.vstack((FL,MSFTL,DISL,AAPLL,AEPL,GOOGL,JPML,MCDL,TIFL,WMTL,AMZNL,GEL,FBL,BIDUL,JDL,TSLAL,NVDAL,CSCOL,BABAL,PFEL))\n",
        "R_cov3=np.cov(P)\n",
        "R_expect3=np.squeeze(np.array([R_expect3]))\n",
        "R_cov3=np.squeeze(np.array([R_cov3]))\n",
        "R_expect3 = R_expect3.reshape(-1,1)"
      ],
      "execution_count": 7,
      "outputs": []
    },
    {
      "cell_type": "code",
      "metadata": {
        "id": "RC8cr3IQtjQs"
      },
      "source": [
        "\n",
        "\n",
        "def optimalWeights(R_expect,R_cov,mu_p):\n",
        "  one = np.ones((len(R_expect),1))\n",
        "  A = np.dot(np.dot(one.reshape(1,-1),inv(R_cov)),R_expect)\n",
        "  B = np.dot(np.dot(R_expect.reshape(1,-1),inv(R_cov)),R_expect)\n",
        "  C = np.dot(np.dot(one.reshape(1,-1),inv(R_cov)),one)\n",
        "  D = B*C - A**2\n",
        "  g = (B * np.dot(inv(R_cov), one) - A* np.dot(inv(R_cov), R_expect))/D\n",
        "  h = (C * np.dot(inv(R_cov), R_expect) - A* np.dot(inv(R_cov), one))/D\n",
        "  min_sigma = np.dot(np.dot(g.reshape(1,-1),R_cov),g) - (np.dot(np.dot(h.reshape(1,-1),R_cov),g)**2)/np.dot(np.dot(h.reshape(1,-1),R_cov),h)\n",
        "  omega = g + h*mu_p\n",
        "  return g,h,min_sigma,omega\n",
        "\n",
        "def optimalWeights2(R_expect,R_cov):\n",
        "  one = np.ones((len(R_expect),1))\n",
        "  A = np.dot(np.dot(one.reshape(1,-1),inv(R_cov)),R_expect)\n",
        "  B = np.dot(np.dot(R_expect.reshape(1,-1),inv(R_cov)),R_expect)\n",
        "  C = np.dot(np.dot(one.reshape(1,-1),inv(R_cov)),one)\n",
        "  D = B*C - A**2\n",
        "  g = (B * np.dot(inv(R_cov), one) - A* np.dot(inv(R_cov), R_expect))/D\n",
        "  h = (C * np.dot(inv(R_cov), R_expect) - A* np.dot(inv(R_cov), one))/D\n",
        "  min_sigma = np.dot(np.dot(g.reshape(1,-1),R_cov),g) - (np.dot(np.dot(h.reshape(1,-1),R_cov),g)**2)/np.dot(np.dot(h.reshape(1,-1),R_cov),h)\n",
        "  return g,h,min_sigma\n",
        "\n",
        "def effcientfrontier(g,h,R_cov,N1,N2):\n",
        "  sigma = []\n",
        "  mu = []\n",
        "  weight = []\n",
        "  before_ = np.inf\n",
        "  for i in range(N1,N2):\n",
        "      w = g + h*(0.000001*i)\n",
        "      sigma_ = np.dot(np.dot(w.reshape(1,-1),R_cov),w)[0][0]\n",
        "      if sigma_ > before_:\n",
        "        sigma.append(np.sqrt(sigma_)*252)\n",
        "        weight.append(w)\n",
        "        mu.append(0.000001*i*252)\n",
        "      before_ = sigma_\n",
        "  return sigma,mu,weight\n",
        "\n"
      ],
      "execution_count": 99,
      "outputs": []
    },
    {
      "cell_type": "code",
      "metadata": {
        "id": "pCFGyKVLUNqm",
        "outputId": "de4e3486-d7fc-40e8-cf9f-a11ad2959486",
        "colab": {
          "base_uri": "https://localhost:8080/",
          "height": 635
        }
      },
      "source": [
        "g1,h1,min_sigma1 = optimalWeights2(R_expect1,R_cov1)\n",
        "sigma1,mu1,weight1 = effcientfrontier(g1,h1,R_cov1,0,2000)\n",
        "plt.plot(sigma1,mu1)\n",
        "plt.ylabel(\"Expected return\")\n",
        "plt.xlabel(\"volatility\")\n",
        "plt.title(\"1 years EffcientFrontier\")\n",
        "plt.show()\n",
        "min_sigma1\n",
        "\n",
        "weight1[0]"
      ],
      "execution_count": 26,
      "outputs": [
        {
          "output_type": "display_data",
          "data": {
            "image/png": "[encoded data removed]",
            "text/plain": [
              "<Figure size 432x288 with 1 Axes>"
            ]
          },
          "metadata": {
            "tags": [],
            "needs_background": "light"
          }
        },
        {
          "output_type": "execute_result",
          "data": {
            "text/plain": [
              "array([[ 0.09209216],\n",
              "       [-0.24936537],\n",
              "       [ 0.035881  ],\n",
              "       [-0.05758149],\n",
              "       [ 0.10045857],\n",
              "       [ 0.09643391],\n",
              "       [-0.12206742],\n",
              "       [ 0.12010126],\n",
              "       [ 0.21015692],\n",
              "       [ 0.3576379 ],\n",
              "       [ 0.21584026],\n",
              "       [-0.04694912],\n",
              "       [ 0.04521698],\n",
              "       [ 0.05699641],\n",
              "       [-0.01437422],\n",
              "       [-0.01330309],\n",
              "       [-0.18434054],\n",
              "       [-0.07043182],\n",
              "       [ 0.22879554],\n",
              "       [ 0.19880217]])"
            ]
          },
          "metadata": {
            "tags": []
          },
          "execution_count": 26
        }
      ]
    },
    {
      "cell_type": "code",
      "metadata": {
        "id": "tDDm9KDnbbof",
        "outputId": "8a395f58-c5b7-4714-9163-a47cff7e0e04",
        "colab": {
          "base_uri": "https://localhost:8080/",
          "height": 635
        }
      },
      "source": [
        "g2,h2,min_sigma2 = optimalWeights2(R_expect2,R_cov2)\n",
        "sigma2,mu2,weight2 = effcientfrontier(g2,h2,R_cov2,0,2000)\n",
        "plt.plot(sigma2,mu2)\n",
        "plt.ylabel(\"Expected return\")\n",
        "plt.xlabel(\"volatility\")\n",
        "plt.title(\"2 years EffcientFrontier\")\n",
        "plt.show()\n",
        "min_sigma2\n",
        "\n",
        "weight2[0]"
      ],
      "execution_count": 27,
      "outputs": [
        {
          "output_type": "display_data",
          "data": {
            "image/png": "[encoded data removed]",
            "text/plain": [
              "<Figure size 432x288 with 1 Axes>"
            ]
          },
          "metadata": {
            "tags": [],
            "needs_background": "light"
          }
        },
        {
          "output_type": "execute_result",
          "data": {
            "text/plain": [
              "array([[ 0.0411976 ],\n",
              "       [-0.24900475],\n",
              "       [ 0.03556855],\n",
              "       [-0.07558826],\n",
              "       [ 0.18601788],\n",
              "       [ 0.08477807],\n",
              "       [-0.12315836],\n",
              "       [ 0.16840592],\n",
              "       [ 0.18886097],\n",
              "       [ 0.3695794 ],\n",
              "       [ 0.11778488],\n",
              "       [ 0.00071683],\n",
              "       [ 0.03528001],\n",
              "       [ 0.04515462],\n",
              "       [-0.02761368],\n",
              "       [-0.00077914],\n",
              "       [-0.12144467],\n",
              "       [-0.0248904 ],\n",
              "       [ 0.18356425],\n",
              "       [ 0.16557029]])"
            ]
          },
          "metadata": {
            "tags": []
          },
          "execution_count": 27
        }
      ]
    },
    {
      "cell_type": "code",
      "metadata": {
        "id": "r87RWMaFbb0k",
        "outputId": "5362eb1e-a47a-4c64-ff3c-14a943511f91",
        "colab": {
          "base_uri": "https://localhost:8080/",
          "height": 635
        }
      },
      "source": [
        "g3,h3,min_sigma3 = optimalWeights2(R_expect3,R_cov3)\n",
        "sigma3,mu3,weight3 = effcientfrontier(g3,h3,R_cov3,0,2000)\n",
        "plt.plot(sigma3,mu3)\n",
        "plt.ylabel(\"Expected return\")\n",
        "plt.xlabel(\"volatility\")\n",
        "plt.title(\"3 years EffcientFrontier\")\n",
        "plt.show()\n",
        "min_sigma3\n",
        "\n",
        "weight3[0]"
      ],
      "execution_count": 28,
      "outputs": [
        {
          "output_type": "display_data",
          "data": {
            "image/png": "[encoded data removed]",
            "text/plain": [
              "<Figure size 432x288 with 1 Axes>"
            ]
          },
          "metadata": {
            "tags": [],
            "needs_background": "light"
          }
        },
        {
          "output_type": "execute_result",
          "data": {
            "text/plain": [
              "array([[ 0.0322159 ],\n",
              "       [-0.21364128],\n",
              "       [ 0.05660035],\n",
              "       [-0.03274199],\n",
              "       [ 0.23844428],\n",
              "       [ 0.07840754],\n",
              "       [-0.09031689],\n",
              "       [ 0.15267489],\n",
              "       [ 0.17179861],\n",
              "       [ 0.25059223],\n",
              "       [ 0.1467602 ],\n",
              "       [ 0.00366619],\n",
              "       [ 0.01010158],\n",
              "       [ 0.03554362],\n",
              "       [-0.02128446],\n",
              "       [-0.00177911],\n",
              "       [-0.11252558],\n",
              "       [-0.04353664],\n",
              "       [ 0.14764763],\n",
              "       [ 0.19137294]])"
            ]
          },
          "metadata": {
            "tags": []
          },
          "execution_count": 28
        }
      ]
    },
    {
      "cell_type": "code",
      "metadata": {
        "id": "-nduiWHodcP8",
        "outputId": "601ac4f4-2b4d-4eba-fb21-37cb49629f45",
        "colab": {
          "base_uri": "https://localhost:8080/",
          "height": 281
        }
      },
      "source": [
        "stocks = ('1', '2', '3', '4', '5','6','7','8','9','10','11','12','13','14','15','16','17','18','19','20')\n",
        "W=np.array(weight1[0])\n",
        "t=[]\n",
        "for i in range(len(W)):\n",
        "  t.append(W[i][0])\n",
        "plt.bar(stocks, t)\n",
        "plt.title('1 year weights')\n",
        "plt.show()\n"
      ],
      "execution_count": 65,
      "outputs": [
        {
          "output_type": "display_data",
          "data": {
            "image/png": "[encoded data removed]",
            "text/plain": [
              "<Figure size 432x288 with 1 Axes>"
            ]
          },
          "metadata": {
            "tags": [],
            "needs_background": "light"
          }
        }
      ]
    },
    {
      "cell_type": "code",
      "metadata": {
        "id": "e4dRtGYyhD-M",
        "outputId": "0f862160-6514-45de-c552-df67e4a2634e",
        "colab": {
          "base_uri": "https://localhost:8080/",
          "height": 281
        }
      },
      "source": [
        "stocks = ('1', '2', '3', '4', '5','6','7','8','9','10','11','12','13','14','15','16','17','18','19','20')\n",
        "W=np.array(weight2[0])\n",
        "t=[]\n",
        "for i in range(len(W)):\n",
        "  t.append(W[i][0])\n",
        "plt.bar(stocks, t)\n",
        "plt.title('2 year weights')\n",
        "plt.show()"
      ],
      "execution_count": 67,
      "outputs": [
        {
          "output_type": "display_data",
          "data": {
            "image/png": "[encoded data removed]",
            "text/plain": [
              "<Figure size 432x288 with 1 Axes>"
            ]
          },
          "metadata": {
            "tags": [],
            "needs_background": "light"
          }
        }
      ]
    },
    {
      "cell_type": "code",
      "metadata": {
        "id": "KkT__--qjqRd",
        "outputId": "4cb4bd69-af30-4341-d819-50d773d37d4d",
        "colab": {
          "base_uri": "https://localhost:8080/",
          "height": 281
        }
      },
      "source": [
        "stocks = ('1', '2', '3', '4', '5','6','7','8','9','10','11','12','13','14','15','16','17','18','19','20')\n",
        "W=np.array(weight3[0])\n",
        "t=[]\n",
        "for i in range(len(W)):\n",
        "  t.append(W[i][0])\n",
        "plt.bar(stocks, t)\n",
        "plt.title('3 year weights')\n",
        "plt.show()"
      ],
      "execution_count": 69,
      "outputs": [
        {
          "output_type": "display_data",
          "data": {
            "image/png": "[encoded data removed]",
            "text/plain": [
              "<Figure size 432x288 with 1 Axes>"
            ]
          },
          "metadata": {
            "tags": [],
            "needs_background": "light"
          }
        }
      ]
    },
    {
      "cell_type": "code",
      "metadata": {
        "id": "WDNxmd6rlS92"
      },
      "source": [
        "data1 = web.get_data_yahoo('FB','11/06/2018','11/06/2020',interval='d') #Ford\n",
        "data2 = web.get_data_yahoo('NTES','11/06/2018','11/06/2020',interval='d') #Microsoft\n",
        "data3 = web.get_data_yahoo('BIDU','11/06/2018','11/06/2020',interval='d') #Disney\n",
        "data4 = web.get_data_yahoo('JD','11/06/2018','11/06/2020',interval='d') #Apple\n",
        "data5 = web.get_data_yahoo('TSLA','11/06/2018','11/06/2020',interval='d') #AEP\n",
        "data6 = web.get_data_yahoo('JNJ','11/06/2018','11/06/2020',interval='d') #Google\n",
        "data7 = web.get_data_yahoo('PFE','11/06/2018','11/06/2020',interval='d') #JP Morgan\n",
        "data8 = web.get_data_yahoo('NVDA','11/06/2018','11/06/2020',interval='d') #McDonald\n",
        "data9 = web.get_data_yahoo('AAPL','11/06/2018','11/06/2020',interval='d') #Tiffany\n",
        "data10 = web.get_data_yahoo('BABA','11/06/2018','11/06/2020',interval='d') #Walmart\n",
        "data11 = web.get_data_yahoo('AMZN','11/06/2018','11/06/2020',interval='d') #Amazon\n",
        "data12 = web.get_data_yahoo('TIF','11/06/2018','11/06/2020',interval='d') #General Electric\n",
        "data13 = web.get_data_yahoo('CSCO','11/06/2018','11/06/2020',interval='d') #FACEBOOK\n",
        "data14 = web.get_data_yahoo('EL','11/06/2018','11/06/2020',interval='d') #BAIDU\n",
        "data15 = web.get_data_yahoo('TAL','11/06/2018','11/06/2020',interval='d') #JD\n",
        "data16 = web.get_data_yahoo('VIPS','11/06/2018','11/06/2020',interval='d') #TSLA\n",
        "data17 = web.get_data_yahoo('AMD','11/06/2018','11/06/2020',interval='d') #NVDA\n",
        "data18 = web.get_data_yahoo('GE','11/06/2018','11/06/2020',interval='d') #CSCO\n",
        "data19 = web.get_data_yahoo('SPY','11/06/2018','11/06/2020',interval='d') #BABA\n",
        "data20 = web.get_data_yahoo('IVV','11/06/2018','11/06/2020',interval='d') #PFE\n",
        "\n",
        "\n",
        "R_expect1=[]\n",
        "\n",
        "F = data1['Adj Close']\n",
        "logF = np.log(F)-np.log(F.shift(1))\n",
        "FL = np.array([logF])\n",
        "FL = np.delete(FL, 0)\n",
        "R_expect1.append(np.mean(FL))\n",
        "\n",
        "MSFT = data2['Adj Close']\n",
        "logMSFT = np.log(MSFT)-np.log(MSFT.shift(1))\n",
        "MSFTL = np.array([logMSFT])\n",
        "MSFTL = np.delete(MSFTL, 0)\n",
        "R_expect1.append(np.mean(MSFTL))\n",
        "\n",
        "DIS = data3['Adj Close']\n",
        "logDIS = np.log(DIS)-np.log(DIS.shift(1))\n",
        "DISL = np.array([logDIS])\n",
        "DISL = np.delete(DISL, 0)\n",
        "R_expect1.append(np.mean(DISL))\n",
        "\n",
        "AAPL = data4['Adj Close']\n",
        "logAAPL = np.log(AAPL)-np.log(AAPL.shift(1))\n",
        "AAPLL = np.array([logAAPL])\n",
        "AAPLL = np.delete(AAPLL, 0)\n",
        "R_expect1.append(np.mean(AAPLL))\n",
        "\n",
        "AEP = data5['Adj Close']\n",
        "logAEP = np.log(AEP)-np.log(AEP.shift(1))\n",
        "AEPL = np.array([logAEP])\n",
        "AEPL = np.delete(AEPL, 0)\n",
        "R_expect1.append(np.mean(AEPL))\n",
        "\n",
        "GOOG = data6['Adj Close']\n",
        "logGOOG = np.log(GOOG)-np.log(GOOG.shift(1))\n",
        "GOOGL = np.array([logGOOG])\n",
        "GOOGL = np.delete(GOOGL, 0)\n",
        "R_expect1.append(np.mean(GOOGL))\n",
        "\n",
        "JPM = data7['Adj Close']\n",
        "logJPM = np.log(JPM)-np.log(JPM.shift(1))\n",
        "JPML = np.array([logJPM])\n",
        "JPML = np.delete(JPML, 0)\n",
        "R_expect1.append(np.mean(JPML))\n",
        "\n",
        "MCD = data8['Adj Close']\n",
        "logMCD = np.log(MCD)-np.log(MCD.shift(1))\n",
        "MCDL = np.array([logMCD])\n",
        "MCDL = np.delete(MCDL, 0)\n",
        "R_expect1.append(np.mean(MCDL))\n",
        "\n",
        "TIF = data9['Adj Close']\n",
        "logTIF = np.log(TIF)-np.log(TIF.shift(1))\n",
        "TIFL = np.array([logTIF])\n",
        "TIFL = np.delete(TIFL, 0)\n",
        "R_expect1.append(np.mean(TIFL))\n",
        "\n",
        "WMT = data10['Adj Close']\n",
        "logWMT = np.log(WMT)-np.log(WMT.shift(1))\n",
        "WMTL = np.array([logWMT])\n",
        "WMTL = np.delete(WMTL, 0)\n",
        "R_expect1.append(np.mean(WMTL))\n",
        "\n",
        "AMZN = data11['Adj Close']\n",
        "logAMZN = np.log(AMZN)-np.log(AMZN.shift(1))\n",
        "AMZNL = np.array([logAMZN])\n",
        "AMZNL = np.delete(AMZNL, 0)\n",
        "R_expect1.append(np.mean(AMZNL))\n",
        "\n",
        "GE = data12['Adj Close']\n",
        "logGE = np.log(GE)-np.log(GE.shift(1))\n",
        "GEL = np.array([logGE])\n",
        "GEL = np.delete(GEL, 0)\n",
        "R_expect1.append(np.mean(GEL))\n",
        "\n",
        "FB = data13['Adj Close']\n",
        "logFB = np.log(FB)-np.log(FB.shift(1))\n",
        "FBL = np.array([logFB])\n",
        "FBL = np.delete(FBL, 0)\n",
        "R_expect1.append(np.mean(FBL))\n",
        "\n",
        "BIDU = data14['Adj Close']\n",
        "logBIDU = np.log(BIDU)-np.log(BIDU.shift(1))\n",
        "BIDUL = np.array([logBIDU])\n",
        "BIDUL = np.delete(BIDUL, 0)\n",
        "R_expect1.append(np.mean(BIDUL))\n",
        "\n",
        "JD = data15['Adj Close']\n",
        "logJD = np.log(JD)-np.log(JD.shift(1))\n",
        "JDL = np.array([logJD])\n",
        "JDL = np.delete(JDL, 0)\n",
        "R_expect1.append(np.mean(JDL))\n",
        "\n",
        "TSLA = data16['Adj Close']\n",
        "logTSLA = np.log(TSLA)-np.log(TSLA.shift(1))\n",
        "TSLAL = np.array([logTSLA])\n",
        "TSLAL = np.delete(TSLAL, 0)\n",
        "R_expect1.append(np.mean(TSLAL))\n",
        "\n",
        "NVDA = data17['Adj Close']\n",
        "logNVDA = np.log(NVDA)-np.log(NVDA.shift(1))\n",
        "NVDAL = np.array([logNVDA])\n",
        "NVDAL = np.delete(NVDAL, 0)\n",
        "R_expect1.append(np.mean(NVDAL))\n",
        "\n",
        "CSCO = data18['Adj Close']\n",
        "logCSCO = np.log(CSCO)-np.log(CSCO.shift(1))\n",
        "CSCOL = np.array([logCSCO])\n",
        "CSCOL = np.delete(CSCOL, 0)\n",
        "R_expect1.append(np.mean(CSCOL))\n",
        "\n",
        "BABA = data19['Adj Close']\n",
        "logBABA = np.log(BABA)-np.log(BABA.shift(1))\n",
        "BABAL = np.array([logBABA])\n",
        "BABAL = np.delete(BABAL, 0)\n",
        "R_expect1.append(np.mean(BABAL))\n",
        "\n",
        "PFE = data20['Adj Close']\n",
        "logPFE = np.log(PFE)-np.log(PFE.shift(1))\n",
        "PFEL = np.array([logPFE])\n",
        "PFEL = np.delete(PFEL, 0)\n",
        "R_expect1.append(np.mean(PFEL))\n",
        "\n",
        "\n",
        "\n",
        "P=np.vstack((FL,MSFTL,DISL,AAPLL,AEPL,GOOGL,JPML,MCDL,TIFL,WMTL,AMZNL,GEL,FBL,BIDUL,JDL,TSLAL,NVDAL,CSCOL,BABAL,PFEL))\n",
        "R_cov1=np.cov(P)\n",
        "R_expect1=np.squeeze(np.array([R_expect1]))\n",
        "R_cov1=np.squeeze(np.array([R_cov1]))\n",
        "R_expect1 = R_expect1.reshape(-1,1)\n"
      ],
      "execution_count": 176,
      "outputs": []
    },
    {
      "cell_type": "code",
      "metadata": {
        "id": "TOfYAzOTbGlv",
        "outputId": "b0385cc2-0cfc-4d7f-da5d-996811b663b3",
        "colab": {
          "base_uri": "https://localhost:8080/",
          "height": 312
        }
      },
      "source": [
        "g1,h1,min_sigma1 = optimalWeights2(R_expect1,R_cov1)\n",
        "sigma1,mu1,weight1 = effcientfrontier(g1,h1,R_cov1,0,2000)\n",
        "plt.plot(sigma1,mu1)\n",
        "plt.ylabel(\"Expected return\")\n",
        "plt.xlabel(\"volatility\")\n",
        "plt.title(\"2 years EffcientFrontier of our 20 equity assets held in Interactive Brokers portfolio\")\n",
        "plt.show()\n",
        "min_sigma1\n",
        "\n",
        "weight1[0]\n",
        "\n",
        "mu1[0]"
      ],
      "execution_count": 177,
      "outputs": [
        {
          "output_type": "display_data",
          "data": {
            "image/png": "[encoded data removed]",
            "text/plain": [
              "<Figure size 432x288 with 1 Axes>"
            ]
          },
          "metadata": {
            "tags": [],
            "needs_background": "light"
          }
        },
        {
          "output_type": "execute_result",
          "data": {
            "text/plain": [
              "0.03276"
            ]
          },
          "metadata": {
            "tags": []
          },
          "execution_count": 177
        }
      ]
    },
    {
      "cell_type": "code",
      "metadata": {
        "id": "892f4IWwc_mp",
        "outputId": "acac0067-a51c-4d77-c5b8-9ccf3947875d",
        "colab": {
          "base_uri": "https://localhost:8080/",
          "height": 281
        }
      },
      "source": [
        "stocks = ('1', '2', '3', '4', '5','6','7','8','9','10','11','12','13','14','15','16','17','18','19','20')\n",
        "W=np.array(weight1[0])\n",
        "t=[]\n",
        "for i in range(len(W)):\n",
        "  t.append(W[i][0])\n",
        "plt.bar(stocks, t)\n",
        "plt.title('1 year weights with VXX')\n",
        "plt.show()"
      ],
      "execution_count": 150,
      "outputs": [
        {
          "output_type": "display_data",
          "data": {
            "image/png": "[encoded data removed]",
            "text/plain": [
              "<Figure size 432x288 with 1 Axes>"
            ]
          },
          "metadata": {
            "tags": [],
            "needs_background": "light"
          }
        }
      ]
    },
    {
      "cell_type": "code",
      "metadata": {
        "id": "EP7rxDQ6da7A",
        "outputId": "20b48ea0-0798-42a8-dd57-3d9a090d325e",
        "colab": {
          "base_uri": "https://localhost:8080/",
          "height": 635
        }
      },
      "source": [
        "rf=0.0014\n",
        "sigma1,mu1,weight1 = effcientfrontier(g1,h1,R_cov1,0,40000)\n",
        "\n",
        "def findTangent1(R_cov, R_expect, rf):\n",
        "  rf_daily = rf/252\n",
        "  one = np.ones((len(R_expect),1))\n",
        "  w_b = np.dot(inv(R_cov),(R_expect - one*rf_daily))\n",
        "  w_t = w_b/(np.dot(w_b.T,one))\n",
        "  mu_T = np.dot(w_t.T,R_expect)\n",
        "  return mu_T,w_t\n",
        "mu_T,w_t=findTangent1(R_cov1, R_expect1, rf)\n",
        "\n",
        "plt.plot(sigma1,mu1)\n",
        "plt.plot(np.sqrt(np.dot(np.dot(w_t.reshape(1,-1),R_cov1),w_t)[0][0])*252,mu_T*252,'x')\n",
        "plt.ylabel(\"Expected return\")\n",
        "plt.xlabel(\"volatility\")\n",
        "plt.title(\"2 years EffcientFrontier of our 20 equity assets held in Interactive Brokers portfolio and CML\")\n",
        "x = np.linspace(0, 45, 100)\n",
        "y = ((mu_T[0]*252-rf/252)/(np.sqrt(np.dot(np.dot(w_t.T,R_cov1),w_t)[0][0])*252))*x+rf/252\n",
        "\n",
        "plt.plot(x,y,color='red')\n",
        "\n",
        "plt.show()\n",
        "\n",
        "w_t"
      ],
      "execution_count": 172,
      "outputs": [
        {
          "output_type": "display_data",
          "data": {
            "image/png": "[encoded data removed]",
            "text/plain": [
              "<Figure size 432x288 with 1 Axes>"
            ]
          },
          "metadata": {
            "tags": [],
            "needs_background": "light"
          }
        },
        {
          "output_type": "execute_result",
          "data": {
            "text/plain": [
              "array([[  0.78698966],\n",
              "       [  0.73021941],\n",
              "       [ -5.63618461],\n",
              "       [  3.19317929],\n",
              "       [  1.15760241],\n",
              "       [  0.26946287],\n",
              "       [ -1.47000791],\n",
              "       [ -0.21639336],\n",
              "       [  2.33291961],\n",
              "       [  0.47131232],\n",
              "       [ -0.22013925],\n",
              "       [  0.03116324],\n",
              "       [ -4.48453015],\n",
              "       [  2.49257012],\n",
              "       [  0.62791397],\n",
              "       [  0.98129224],\n",
              "       [  1.57995604],\n",
              "       [ -0.37488065],\n",
              "       [ 20.26234036],\n",
              "       [-21.51478559]])"
            ]
          },
          "metadata": {
            "tags": []
          },
          "execution_count": 172
        }
      ]
    },
    {
      "cell_type": "code",
      "metadata": {
        "id": "pIGIMveMpT9u",
        "outputId": "60ad2bf2-83b3-4fc0-8ecc-912eb99e7d06",
        "colab": {
          "base_uri": "https://localhost:8080/",
          "height": 298
        }
      },
      "source": [
        "stocks = ('1', '2', '3', '4', '5','6','7','8','9','10','11','12','13','14','15','16','17','18','19','20','21','22')\n",
        "W=np.array(w_t)\n",
        "t=[]\n",
        "for i in range(len(W)):\n",
        "  t.append(W[i][0]*0.5)\n",
        "t.append(0.25)\n",
        "t.append(0.25)\n",
        "plt.bar(stocks, t)\n",
        "plt.title('portfolio  weights')\n",
        "plt.show()\n",
        "\n",
        "np.sum(np.abs(w_t))/np.sum(w_t)\n"
      ],
      "execution_count": 178,
      "outputs": [
        {
          "output_type": "display_data",
          "data": {
            "image/png": "[encoded data removed]",
            "text/plain": [
              "<Figure size 432x288 with 1 Axes>"
            ]
          },
          "metadata": {
            "tags": [],
            "needs_background": "light"
          }
        },
        {
          "output_type": "execute_result",
          "data": {
            "text/plain": [
              "68.83384305797402"
            ]
          },
          "metadata": {
            "tags": []
          },
          "execution_count": 178
        }
      ]
    },
    {
      "cell_type": "code",
      "metadata": {
        "id": "cd0u3FyadgQd",
        "outputId": "26f4d12e-8dd2-48a2-dfb2-704dd51c1c5d",
        "colab": {
          "base_uri": "https://localhost:8080/"
        }
      },
      "source": [
        "np.sum(w_t)"
      ],
      "execution_count": 175,
      "outputs": [
        {
          "output_type": "execute_result",
          "data": {
            "text/plain": [
              "0.9999999999999964"
            ]
          },
          "metadata": {
            "tags": []
          },
          "execution_count": 175
        }
      ]
    }
  ]
}