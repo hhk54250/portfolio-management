{
  "nbformat": 4,
  "nbformat_minor": 0,
  "metadata": {
    "colab": {
      "name": "Untitled18.ipynb",
      "provenance": [],
      "collapsed_sections": [],
      "authorship_tag": "ABX9TyM+hP0XcLF1v9/CtE9Xbyal",
      "include_colab_link": true
    },
    "kernelspec": {
      "name": "python3",
      "display_name": "Python 3"
    }
  },
  "cells": [
    {
      "cell_type": "markdown",
      "metadata": {
        "id": "view-in-github",
        "colab_type": "text"
      },
      "source": [
        "<a href=\"https://colab.research.google.com/github/hhk54250/portfolio-management/blob/master/check3.ipynb\" target=\"_parent\"><img src=\"https://colab.research.google.com/assets/colab-badge.svg\" alt=\"Open In Colab\"/></a>"
      ]
    },
    {
      "cell_type": "code",
      "metadata": {
        "id": "zFTD0iYXSnr1",
        "outputId": "e238e9f8-188b-4d63-e6b6-b2f20ce8e0d9",
        "colab": {
          "base_uri": "https://localhost:8080/"
        }
      },
      "source": [
        "pip install yahoo-finance"
      ],
      "execution_count": 1,
      "outputs": [
        {
          "output_type": "stream",
          "text": [
            "Collecting yahoo-finance\n",
            "  Downloading https://files.pythonhosted.org/packages/7c/8c/61e2250dd88a22a3156c2b44fd021140bf984b49800584cb0372193a116a/yahoo-finance-1.4.0.tar.gz\n",
            "Requirement already satisfied: pytz in /usr/local/lib/python3.6/dist-packages (from yahoo-finance) (2018.9)\n",
            "Collecting simplejson\n",
            "\u001b[?25l  Downloading https://files.pythonhosted.org/packages/73/96/1e6b19045375890068d7342cbe280dd64ae73fd90b9735b5efb8d1e044a1/simplejson-3.17.2-cp36-cp36m-manylinux2010_x86_64.whl (127kB)\n",
            "\u001b[K     |████████████████████████████████| 133kB 6.1MB/s \n",
            "\u001b[?25hBuilding wheels for collected packages: yahoo-finance\n",
            "  Building wheel for yahoo-finance (setup.py) ... \u001b[?25l\u001b[?25hdone\n",
            "  Created wheel for yahoo-finance: filename=yahoo_finance-1.4.0-cp36-none-any.whl size=7234 sha256=c127c7991462129d6e41a1bdfbb3a122daf61d010fe06c425d15405c99452013\n",
            "  Stored in directory: /root/.cache/pip/wheels/58/77/5b/66026e0fa7af2ee5926a516a70d3df95e17f952c570bc5aee6\n",
            "Successfully built yahoo-finance\n",
            "Installing collected packages: simplejson, yahoo-finance\n",
            "Successfully installed simplejson-3.17.2 yahoo-finance-1.4.0\n"
          ],
          "name": "stdout"
        }
      ]
    },
    {
      "cell_type": "code",
      "metadata": {
        "id": "OytGpc5rWCHd",
        "outputId": "cd6e96d9-8b90-4bce-e52c-32f5cd0456b4",
        "colab": {
          "base_uri": "https://localhost:8080/"
        }
      },
      "source": [
        "pip install pandas_market_calendars"
      ],
      "execution_count": 2,
      "outputs": [
        {
          "output_type": "stream",
          "text": [
            "Collecting pandas_market_calendars\n",
            "\u001b[?25l  Downloading https://files.pythonhosted.org/packages/27/de/ceb494df8a721998d19d256a3d326c7e8a21fd1dafccf25dff7143d15287/pandas_market_calendars-1.6.1-py3-none-any.whl (58kB)\n",
            "\u001b[K     |████████████████████████████████| 61kB 2.8MB/s \n",
            "\u001b[?25hCollecting trading-calendars\n",
            "\u001b[?25l  Downloading https://files.pythonhosted.org/packages/8d/07/ea64b7acb14ca7db166d509cd43acc3548c2c2809e94730dfd9bb6546cb4/trading_calendars-2.0.0.tar.gz (102kB)\n",
            "\u001b[K     |████████████████████████████████| 112kB 11.9MB/s \n",
            "\u001b[?25hRequirement already satisfied: python-dateutil in /usr/local/lib/python3.6/dist-packages (from pandas_market_calendars) (2.8.1)\n",
            "Requirement already satisfied: pytz in /usr/local/lib/python3.6/dist-packages (from pandas_market_calendars) (2018.9)\n",
            "Requirement already satisfied: pandas>=0.18 in /usr/local/lib/python3.6/dist-packages (from pandas_market_calendars) (1.1.4)\n",
            "Requirement already satisfied: numpy in /usr/local/lib/python3.6/dist-packages (from trading-calendars->pandas_market_calendars) (1.18.5)\n",
            "Requirement already satisfied: toolz in /usr/local/lib/python3.6/dist-packages (from trading-calendars->pandas_market_calendars) (0.11.1)\n",
            "Requirement already satisfied: six>=1.5 in /usr/local/lib/python3.6/dist-packages (from python-dateutil->pandas_market_calendars) (1.15.0)\n",
            "Building wheels for collected packages: trading-calendars\n",
            "  Building wheel for trading-calendars (setup.py) ... \u001b[?25l\u001b[?25hdone\n",
            "  Created wheel for trading-calendars: filename=trading_calendars-2.0.0-cp36-none-any.whl size=135649 sha256=e9d3ffa25a8f73ee0ed6576873048aeb20f02ec8f6ee853ff59f5c85945ac69e\n",
            "  Stored in directory: /root/.cache/pip/wheels/6e/fb/89/d71a90b9dd2c51fad1b5f6d240deb0d5051e80402f9fc3a6b9\n",
            "Successfully built trading-calendars\n",
            "Installing collected packages: trading-calendars, pandas-market-calendars\n",
            "Successfully installed pandas-market-calendars-1.6.1 trading-calendars-2.0.0\n"
          ],
          "name": "stdout"
        }
      ]
    },
    {
      "cell_type": "code",
      "metadata": {
        "id": "X3Wa5pl4WDJ-"
      },
      "source": [
        "import pandas as pd\n",
        "import pandas_market_calendars as mcal\n",
        "import pandas_datareader.data as web\n",
        "from pandas_datareader.data import DataReader\n",
        "import numpy as np\n",
        "import pandas as pd\n",
        "import matplotlib.pyplot as plt\n",
        "from numpy.linalg import *\n",
        "import os\n"
      ],
      "execution_count": 3,
      "outputs": []
    },
    {
      "cell_type": "code",
      "metadata": {
        "id": "0hWrBI99WETZ"
      },
      "source": [
        "data1 = web.get_data_yahoo('F','11/06/2019','11/06/2020',interval='d') #Ford\n",
        "data2 = web.get_data_yahoo('MSFT','11/06/2019','11/06/2020',interval='d') #Microsoft\n",
        "data3 = web.get_data_yahoo('DIS','11/06/2019','11/06/2020',interval='d') #Disney\n",
        "data4 = web.get_data_yahoo('AAPL','11/06/2019','11/06/2020',interval='d') #Apple\n",
        "data5 = web.get_data_yahoo('AEP','11/06/2019','11/06/2020',interval='d') #AEP\n",
        "data6 = web.get_data_yahoo('GOOG','11/06/2019','11/06/2020',interval='d') #Google\n",
        "data7 = web.get_data_yahoo('JPM','11/06/2019','11/06/2020',interval='d') #JP Morgan\n",
        "data8 = web.get_data_yahoo('MCD','11/06/2019','11/06/2020',interval='d') #McDonald\n",
        "data9 = web.get_data_yahoo('TIF','11/06/2019','11/06/2020',interval='d') #Tiffany\n",
        "data10 = web.get_data_yahoo('WMT','11/06/2019','11/06/2020',interval='d') #Walmart\n",
        "data11 = web.get_data_yahoo('AMZN','11/06/2019','11/06/2020',interval='d') #Amazon\n",
        "data12 = web.get_data_yahoo('GE','11/06/2019','11/06/2020',interval='d') #General Electric\n",
        "data13 = web.get_data_yahoo('FB','11/06/2019','11/06/2020',interval='d') #FACEBOOK\n",
        "data14 = web.get_data_yahoo('BIDU','11/06/2019','11/06/2020',interval='d') #BAIDU\n",
        "data15 = web.get_data_yahoo('JD','11/06/2019','11/06/2020',interval='d') #JD\n",
        "data16 = web.get_data_yahoo('TSLA','11/06/2019','11/06/2020',interval='d') #TSLA\n",
        "data17 = web.get_data_yahoo('NVDA','11/06/2019','11/06/2020',interval='d') #NVDA\n",
        "data18 = web.get_data_yahoo('CSCO','11/06/2019','11/06/2020',interval='d') #CSCO\n",
        "data19 = web.get_data_yahoo('BABA','11/06/2019','11/06/2020',interval='d') #BABA\n",
        "data20 = web.get_data_yahoo('VXX','11/06/2019','11/06/2020',interval='d') #PFE\n",
        "R_expect1=[]\n",
        "\n",
        "F = data1['Adj Close']\n",
        "logF = np.log(F)-np.log(F.shift(1))\n",
        "FL = np.array([logF])\n",
        "FL = np.delete(FL, 0)\n",
        "R_expect1.append(np.mean(FL))\n",
        "\n",
        "MSFT = data2['Adj Close']\n",
        "logMSFT = np.log(MSFT)-np.log(MSFT.shift(1))\n",
        "MSFTL = np.array([logMSFT])\n",
        "MSFTL = np.delete(MSFTL, 0)\n",
        "R_expect1.append(np.mean(MSFTL))\n",
        "\n",
        "DIS = data3['Adj Close']\n",
        "logDIS = np.log(DIS)-np.log(DIS.shift(1))\n",
        "DISL = np.array([logDIS])\n",
        "DISL = np.delete(DISL, 0)\n",
        "R_expect1.append(np.mean(DISL))\n",
        "\n",
        "AAPL = data4['Adj Close']\n",
        "logAAPL = np.log(AAPL)-np.log(AAPL.shift(1))\n",
        "AAPLL = np.array([logAAPL])\n",
        "AAPLL = np.delete(AAPLL, 0)\n",
        "R_expect1.append(np.mean(AAPLL))\n",
        "\n",
        "AEP = data5['Adj Close']\n",
        "logAEP = np.log(AEP)-np.log(AEP.shift(1))\n",
        "AEPL = np.array([logAEP])\n",
        "AEPL = np.delete(AEPL, 0)\n",
        "R_expect1.append(np.mean(AEPL))\n",
        "\n",
        "GOOG = data6['Adj Close']\n",
        "logGOOG = np.log(GOOG)-np.log(GOOG.shift(1))\n",
        "GOOGL = np.array([logGOOG])\n",
        "GOOGL = np.delete(GOOGL, 0)\n",
        "R_expect1.append(np.mean(GOOGL))\n",
        "\n",
        "JPM = data7['Adj Close']\n",
        "logJPM = np.log(JPM)-np.log(JPM.shift(1))\n",
        "JPML = np.array([logJPM])\n",
        "JPML = np.delete(JPML, 0)\n",
        "R_expect1.append(np.mean(JPML))\n",
        "\n",
        "MCD = data8['Adj Close']\n",
        "logMCD = np.log(MCD)-np.log(MCD.shift(1))\n",
        "MCDL = np.array([logMCD])\n",
        "MCDL = np.delete(MCDL, 0)\n",
        "R_expect1.append(np.mean(MCDL))\n",
        "\n",
        "TIF = data9['Adj Close']\n",
        "logTIF = np.log(TIF)-np.log(TIF.shift(1))\n",
        "TIFL = np.array([logTIF])\n",
        "TIFL = np.delete(TIFL, 0)\n",
        "R_expect1.append(np.mean(TIFL))\n",
        "\n",
        "WMT = data10['Adj Close']\n",
        "logWMT = np.log(WMT)-np.log(WMT.shift(1))\n",
        "WMTL = np.array([logWMT])\n",
        "WMTL = np.delete(WMTL, 0)\n",
        "R_expect1.append(np.mean(WMTL))\n",
        "\n",
        "AMZN = data11['Adj Close']\n",
        "logAMZN = np.log(AMZN)-np.log(AMZN.shift(1))\n",
        "AMZNL = np.array([logAMZN])\n",
        "AMZNL = np.delete(AMZNL, 0)\n",
        "R_expect1.append(np.mean(AMZNL))\n",
        "\n",
        "GE = data12['Adj Close']\n",
        "logGE = np.log(GE)-np.log(GE.shift(1))\n",
        "GEL = np.array([logGE])\n",
        "GEL = np.delete(GEL, 0)\n",
        "R_expect1.append(np.mean(GEL))\n",
        "\n",
        "FB = data13['Adj Close']\n",
        "logFB = np.log(FB)-np.log(FB.shift(1))\n",
        "FBL = np.array([logFB])\n",
        "FBL = np.delete(FBL, 0)\n",
        "R_expect1.append(np.mean(FBL))\n",
        "\n",
        "BIDU = data14['Adj Close']\n",
        "logBIDU = np.log(BIDU)-np.log(BIDU.shift(1))\n",
        "BIDUL = np.array([logBIDU])\n",
        "BIDUL = np.delete(BIDUL, 0)\n",
        "R_expect1.append(np.mean(BIDUL))\n",
        "\n",
        "JD = data15['Adj Close']\n",
        "logJD = np.log(JD)-np.log(JD.shift(1))\n",
        "JDL = np.array([logJD])\n",
        "JDL = np.delete(JDL, 0)\n",
        "R_expect1.append(np.mean(JDL))\n",
        "\n",
        "TSLA = data16['Adj Close']\n",
        "logTSLA = np.log(TSLA)-np.log(TSLA.shift(1))\n",
        "TSLAL = np.array([logTSLA])\n",
        "TSLAL = np.delete(TSLAL, 0)\n",
        "R_expect1.append(np.mean(TSLAL))\n",
        "\n",
        "NVDA = data17['Adj Close']\n",
        "logNVDA = np.log(NVDA)-np.log(NVDA.shift(1))\n",
        "NVDAL = np.array([logNVDA])\n",
        "NVDAL = np.delete(NVDAL, 0)\n",
        "R_expect1.append(np.mean(NVDAL))\n",
        "\n",
        "CSCO = data18['Adj Close']\n",
        "logCSCO = np.log(CSCO)-np.log(CSCO.shift(1))\n",
        "CSCOL = np.array([logCSCO])\n",
        "CSCOL = np.delete(CSCOL, 0)\n",
        "R_expect1.append(np.mean(CSCOL))\n",
        "\n",
        "BABA = data19['Adj Close']\n",
        "logBABA = np.log(BABA)-np.log(BABA.shift(1))\n",
        "BABAL = np.array([logBABA])\n",
        "BABAL = np.delete(BABAL, 0)\n",
        "R_expect1.append(np.mean(BABAL))\n",
        "\n",
        "PFE = data20['Adj Close']\n",
        "logPFE = np.log(PFE)-np.log(PFE.shift(1))\n",
        "PFEL = np.array([logPFE])\n",
        "PFEL = np.delete(PFEL, 0)\n",
        "R_expect1.append(np.mean(PFEL))\n",
        "\n",
        "\n"
      ],
      "execution_count": 123,
      "outputs": []
    },
    {
      "cell_type": "code",
      "metadata": {
        "id": "ftTFOFswWR4K"
      },
      "source": [
        "P=np.vstack((FL,MSFTL,DISL,AAPLL,AEPL,GOOGL,JPML,MCDL,TIFL,WMTL,AMZNL,GEL,FBL,BIDUL,JDL,TSLAL,NVDAL,CSCOL,BABAL,PFEL))\n",
        "R_cov1=np.cov(P)\n",
        "R_expect1=np.squeeze(np.array([R_expect1]))\n",
        "R_cov1=np.squeeze(np.array([R_cov1]))\n",
        "R_expect1 = R_expect1.reshape(-1,1)"
      ],
      "execution_count": 124,
      "outputs": []
    },
    {
      "cell_type": "code",
      "metadata": {
        "id": "ZHYNMViAjB9j"
      },
      "source": [
        "\n",
        "def optimalWeights(R_expect,R_cov,mu_p):\n",
        "  one = np.ones((len(R_expect),1))\n",
        "  A = np.dot(np.dot(one.reshape(1,-1),inv(R_cov)),R_expect)\n",
        "  B = np.dot(np.dot(R_expect.reshape(1,-1),inv(R_cov)),R_expect)\n",
        "  C = np.dot(np.dot(one.reshape(1,-1),inv(R_cov)),one)\n",
        "  D = B*C - A**2\n",
        "  g = (B * np.dot(inv(R_cov), one) - A* np.dot(inv(R_cov), R_expect))/D\n",
        "  h = (C * np.dot(inv(R_cov), R_expect) - A* np.dot(inv(R_cov), one))/D\n",
        "  min_sigma = np.dot(np.dot(g.reshape(1,-1),R_cov),g) - (np.dot(np.dot(h.reshape(1,-1),R_cov),g)**2)/np.dot(np.dot(h.reshape(1,-1),R_cov),h)\n",
        "  omega = g + h*mu_p\n",
        "  return g,h,min_sigma,omega\n",
        "\n",
        "def optimalWeights2(R_expect,R_cov):\n",
        "  one = np.ones((len(R_expect),1))\n",
        "  A = np.dot(np.dot(one.reshape(1,-1),inv(R_cov)),R_expect)\n",
        "  B = np.dot(np.dot(R_expect.reshape(1,-1),inv(R_cov)),R_expect)\n",
        "  C = np.dot(np.dot(one.reshape(1,-1),inv(R_cov)),one)\n",
        "  D = B*C - A**2\n",
        "  g = (B * np.dot(inv(R_cov), one) - A* np.dot(inv(R_cov), R_expect))/D\n",
        "  h = (C * np.dot(inv(R_cov), R_expect) - A* np.dot(inv(R_cov), one))/D\n",
        "  min_sigma = np.dot(np.dot(g.reshape(1,-1),R_cov),g) - (np.dot(np.dot(h.reshape(1,-1),R_cov),g)**2)/np.dot(np.dot(h.reshape(1,-1),R_cov),h)\n",
        "  return g,h,min_sigma\n",
        "\n",
        "def effcientfrontier(g,h,R_cov,N1,N2):\n",
        "  sigma = []\n",
        "  mu = []\n",
        "  weight = []\n",
        "  before_ = np.inf\n",
        "  for i in range(N1,N2):\n",
        "      w = g + h*(0.000001*i)\n",
        "      sigma_ = np.dot(np.dot(w.reshape(1,-1),R_cov),w)[0][0]\n",
        "      if sigma_ > before_:\n",
        "        sigma.append(np.sqrt(sigma_)*252)\n",
        "        weight.append(w)\n",
        "        mu.append((0.000001*i)*252)\n",
        "      before_ = sigma_\n",
        "  return sigma,mu,weight\n",
        "\n"
      ],
      "execution_count": 125,
      "outputs": []
    },
    {
      "cell_type": "code",
      "metadata": {
        "id": "aKn65gxlWZy9",
        "outputId": "17c90d0c-c936-4e53-e0ab-4ed534b6d517",
        "colab": {
          "base_uri": "https://localhost:8080/",
          "height": 635
        }
      },
      "source": [
        "g1,h1,min_sigma1 = optimalWeights2(R_expect1,R_cov1)\n",
        "\n",
        "\n",
        "sigma1,mu1,weight1 = effcientfrontier(g1,h1,R_cov1,0,50000)\n",
        "plt.plot(sigma1,mu1)\n",
        "plt.ylabel(\"Expected return\")\n",
        "plt.xlabel(\"volatility\")\n",
        "plt.title(\"1 years EffcientFrontier\")\n",
        "plt.show()\n",
        "min_sigma1\n",
        "\n",
        "weight1[0]\n"
      ],
      "execution_count": 126,
      "outputs": [
        {
          "output_type": "display_data",
          "data": {
            "image/png": "[encoded data removed]",
            "text/plain": [
              "<Figure size 432x288 with 1 Axes>"
            ]
          },
          "metadata": {
            "tags": [],
            "needs_background": "light"
          }
        },
        {
          "output_type": "execute_result",
          "data": {
            "text/plain": [
              "array([[ 0.03101411],\n",
              "       [-0.09563006],\n",
              "       [ 0.03397215],\n",
              "       [-0.0249228 ],\n",
              "       [ 0.08253216],\n",
              "       [ 0.1134926 ],\n",
              "       [ 0.000426  ],\n",
              "       [-0.03239072],\n",
              "       [ 0.27366514],\n",
              "       [ 0.14306039],\n",
              "       [ 0.0947958 ],\n",
              "       [ 0.01303749],\n",
              "       [ 0.01978937],\n",
              "       [ 0.06742209],\n",
              "       [ 0.02964222],\n",
              "       [ 0.00476255],\n",
              "       [-0.02088849],\n",
              "       [ 0.03846926],\n",
              "       [ 0.07633021],\n",
              "       [ 0.15142052]])"
            ]
          },
          "metadata": {
            "tags": []
          },
          "execution_count": 126
        }
      ]
    },
    {
      "cell_type": "code",
      "metadata": {
        "id": "mNaUGigZWbdD",
        "outputId": "41985b5b-039f-46c1-9540-798ec21e1b79",
        "colab": {
          "base_uri": "https://localhost:8080/"
        }
      },
      "source": [
        "\n",
        "\n",
        "rf = 0.0014 # Choose 1 year US treasury rate as risk free rate\n",
        "def findTangent(R_cov, R_expect, rf):\n",
        "  rf_daily = rf/252\n",
        "  one = np.ones((len(R_expect),1))\n",
        "  w_b = np.dot(inv(R_cov),(R_expect - one*rf_daily))\n",
        "  w_t = w_b/(np.dot(w_b.T,one))\n",
        "  mu_T = np.dot(w_t.T,R_expect)\n",
        "  print(w_t)\n",
        "  return mu_T,w_t\n",
        "mu_T,w_t = findTangent(R_cov1, R_expect1, rf)\n",
        "np.dot(w_t.T,R_expect1)"
      ],
      "execution_count": 127,
      "outputs": [
        {
          "output_type": "stream",
          "text": [
            "[[-0.16978331]\n",
            " [-0.51001556]\n",
            " [ 0.0519088 ]\n",
            " [ 0.13365935]\n",
            " [ 0.08562326]\n",
            " [ 0.03009148]\n",
            " [ 0.01893191]\n",
            " [ 0.0990318 ]\n",
            " [ 0.07958771]\n",
            " [-0.02134561]\n",
            " [ 0.14223745]\n",
            " [ 0.02397768]\n",
            " [ 0.01892199]\n",
            " [-0.12001376]\n",
            " [ 0.67505548]\n",
            " [ 0.20065453]\n",
            " [ 0.65932316]\n",
            " [-0.61081906]\n",
            " [-0.07671859]\n",
            " [ 0.28969129]]\n"
          ],
          "name": "stdout"
        },
        {
          "output_type": "execute_result",
          "data": {
            "text/plain": [
              "array([[0.00718955]])"
            ]
          },
          "metadata": {
            "tags": []
          },
          "execution_count": 127
        }
      ]
    },
    {
      "cell_type": "code",
      "metadata": {
        "id": "AOOvqM2DWgRx",
        "outputId": "05023721-5094-497e-f795-720b2e342ab4",
        "colab": {
          "base_uri": "https://localhost:8080/",
          "height": 295
        }
      },
      "source": [
        "plt.plot(sigma1,mu1)\n",
        "plt.plot(np.sqrt(np.dot(np.dot(w_t.reshape(1,-1),R_cov1),w_t)[0][0])*252,mu_T*252,'x')\n",
        "plt.ylabel(\"Expected return\")\n",
        "plt.xlabel(\"volatility\")\n",
        "plt.title(\"1 year EffcientFrontier of our 20 equity assets held in Interactive Brokers portfolio and CML\")\n",
        "x = np.linspace(0, 30, 100)\n",
        "y = ((mu_T[0]*252-rf/252)/(np.sqrt(np.dot(np.dot(w_t.T,R_cov1),w_t)[0][0])*252))*x+rf/252\n",
        "\n",
        "plt.plot(x,y,color='red')\n",
        "\n",
        "plt.show()"
      ],
      "execution_count": 132,
      "outputs": [
        {
          "output_type": "display_data",
          "data": {
            "image/png": "[encoded data removed]",
            "text/plain": [
              "<Figure size 432x288 with 1 Axes>"
            ]
          },
          "metadata": {
            "tags": [],
            "needs_background": "light"
          }
        }
      ]
    },
    {
      "cell_type": "code",
      "metadata": {
        "id": "3NrFRReY-lwc",
        "outputId": "78ceaa09-684a-4b59-bd17-6c8b78c4c1c4",
        "colab": {
          "base_uri": "https://localhost:8080/",
          "height": 298
        }
      },
      "source": [
        "stocks = ('1', '2', '3', '4', '5','6','7','8','9','10','11','12','13','14','15','16','17','18','19','20','21','22')\n",
        "W=np.array(w_t)\n",
        "t=[]\n",
        "for i in range(len(W)):\n",
        "  t.append(W[i][0])\n",
        "t.append(0.25)\n",
        "t.append(0.25)\n",
        "plt.bar(stocks, t)\n",
        "plt.title('portfolio weights')\n",
        "plt.show()\n",
        "\n",
        "np.sum(np.abs(t))/np.sum(t)"
      ],
      "execution_count": 135,
      "outputs": [
        {
          "output_type": "display_data",
          "data": {
            "image/png": "[encoded data removed]",
            "text/plain": [
              "<Figure size 432x288 with 1 Axes>"
            ]
          },
          "metadata": {
            "tags": [],
            "needs_background": "light"
          }
        },
        {
          "output_type": "execute_result",
          "data": {
            "text/plain": [
              "3.0115945130202175"
            ]
          },
          "metadata": {
            "tags": []
          },
          "execution_count": 135
        }
      ]
    },
    {
      "cell_type": "code",
      "metadata": {
        "id": "mOMyeHg3XsNZ",
        "outputId": "50a60a1b-986b-4f2a-b531-db8e4bbab1d9",
        "colab": {
          "base_uri": "https://localhost:8080/",
          "height": 295
        }
      },
      "source": [
        "def sharpe_ratio(sigma_v,mu_v,rf):\n",
        "  sharpe = 0\n",
        "  m = 0\n",
        "  for i in range(len(sigma_v)):\n",
        "    k_t = (mu_v[i] - rf)/sigma_v[i]\n",
        "    if k_t > sharpe:\n",
        "      sharpe = k_t\n",
        "      m = i\n",
        "  return sharpe,m\n",
        "\n",
        "rf = 0.12/252 # Choose 1 year US treasury rate as risk free rate\n",
        "sigma_x = np.linspace(0,25,1000).reshape(-1,1)\n",
        "sharpe,index_ = sharpe_ratio(sigma1,mu1,rf)\n",
        "targent_v = (sharpe * sigma_x + rf).reshape(-1,1)\n",
        "plt.plot(sigma_x,targent_v,label = \"Capital Market Line\")\n",
        "plt.plot(sigma1,mu1,label = \"Efficient Froniter\")\n",
        "plt.scatter(sigma1[index_], mu1[index_], color='r',marker = \"x\")\n",
        "plt.text(sigma1[index_], mu1[index_],'Tangency portfolio',ha='left',fontsize=10)\n",
        "plt.ylabel(\"Expected return\")\n",
        "plt.xlabel(\"Standard volatility\")\n",
        "plt.title(\"1 years EffcientFrontier with VXX\")\n",
        "plt.legend()\n",
        "plt.show()  "
      ],
      "execution_count": 122,
      "outputs": [
        {
          "output_type": "display_data",
          "data": {
            "image/png": "[encoded data removed]",
            "text/plain": [
              "<Figure size 432x288 with 1 Axes>"
            ]
          },
          "metadata": {
            "tags": [],
            "needs_background": "light"
          }
        }
      ]
    },
    {
      "cell_type": "code",
      "metadata": {
        "id": "LHl1EBwd8NbE",
        "outputId": "20b674eb-ba77-41ff-a1c0-9e23a5065a0d",
        "colab": {
          "base_uri": "https://localhost:8080/",
          "height": 295
        }
      },
      "source": [
        "def optimalWeights3(R_expect,R_cov):\n",
        "  one = np.ones((len(R_expect),1))\n",
        "  A = np.dot(np.dot(one.reshape(1,-1),inv(R_cov)),R_expect)\n",
        "  B = np.dot(np.dot(R_expect.reshape(1,-1),inv(R_cov)),R_expect)\n",
        "  C = np.dot(np.dot(one.reshape(1,-1),inv(R_cov)),one)\n",
        "  D = B*C - A**2\n",
        "  g = (B * np.dot(inv(R_cov), one) - A* np.dot(inv(R_cov), R_expect))/D\n",
        "  h = (C * np.dot(inv(R_cov), R_expect) - A* np.dot(inv(R_cov), one))/D\n",
        "  min_sigma = np.dot(np.dot(g.reshape(1,-1),R_cov),g) - (np.dot(np.dot(h.reshape(1,-1),R_cov),g)**2)/np.dot(np.dot(h.reshape(1,-1),R_cov),h)\n",
        "  return A,B,C,D,g,h,min_sigma\n",
        "\n",
        "\n",
        "mc=[0.08,0.03,0.05]\n",
        "mc=np.array(mc)\n",
        "mc=mc.reshape(-1,1)\n",
        "OC=[0.3,0.02,0.01,0.02,0.15,0.03,0.01,0.03,0.18]\n",
        "OC=np.array(OC)\n",
        "OC=OC.reshape(3,3)\n",
        "a,b,c,d,g,h,min_sigma1 = optimalWeights3(R_expect1,R_cov1)\n",
        "\n",
        "rf = 0.15/252 # Choose 1 year US treasury rate as risk free rate\n",
        "def findTangent1(R_cov, R_expect, rf):\n",
        "  rf_daily = 0.00001\n",
        "  one = np.ones((len(R_expect),1))\n",
        "  w_b = np.dot(inv(R_cov),(R_expect - one*rf_daily))\n",
        "  w_t = w_b/(np.dot(w_b.T,one))\n",
        "  mu_T = np.dot(w_t.T,R_expect)\n",
        "  return mu_T,w_t\n",
        "mu_T,w_t=findTangent1(R_cov1, R_expect1, rf)\n",
        "\n",
        "def effcientfrontier1(g,h,R_cov,N1,N2):\n",
        "  sigma = []\n",
        "  mu = []\n",
        "  weight = []\n",
        "  before_ = np.inf\n",
        "  for i in range(N1,N2):\n",
        "      w = g + h*(0.001*i)\n",
        "      sigma_ = np.dot(np.dot(w.reshape(1,-1),R_cov),w)[0][0]\n",
        "      if sigma_ > before_:\n",
        "        sigma.append(np.sqrt(sigma_))\n",
        "        weight.append(w)\n",
        "        mu.append((0.001*i))\n",
        "      before_ = sigma_\n",
        "  return sigma,mu,weight\n",
        "\n",
        "\n",
        "\n",
        "sigma,mu,weight = effcientfrontier1(g,h,R_cov1,0,500)\n",
        "\n",
        "\n",
        "\n",
        "\n",
        "\n",
        "plt.plot(sigma,mu)\n",
        "plt.plot(np.sqrt(np.dot(np.dot(w_t.reshape(1,-1),R_cov1),w_t)[0][0]),mu_T,'x')\n",
        "plt.ylabel(\"Expected return\")\n",
        "plt.xlabel(\"volatility\")\n",
        "plt.title(\"1 years EffcientFrontier\")\n",
        "x = np.linspace(0, 2, 100)\n",
        "y = ((mu_T[0]-0.00001)/(np.sqrt(np.dot(np.dot(w_t.T,R_cov1),w_t)[0][0])))*x+0.00001\n",
        "\n",
        "plt.plot(x,y,color='red')\n",
        "\n",
        "plt.show()\n",
        "\n"
      ],
      "execution_count": 46,
      "outputs": [
        {
          "output_type": "display_data",
          "data": {
            "image/png": "[encoded data removed]",
            "text/plain": [
              "<Figure size 432x288 with 1 Axes>"
            ]
          },
          "metadata": {
            "tags": [],
            "needs_background": "light"
          }
        }
      ]
    },
    {
      "cell_type": "code",
      "metadata": {
        "id": "BXJBXJFjK0Fc",
        "outputId": "2833bed9-76e1-4f76-c238-c8856734393c",
        "colab": {
          "base_uri": "https://localhost:8080/",
          "height": 1000
        }
      },
      "source": [
        "\n"
      ],
      "execution_count": 49,
      "outputs": [
        {
          "output_type": "execute_result",
          "data": {
            "text/plain": [
              "<matplotlib.axes._subplots.AxesSubplot at 0x7fab9c66c240>"
            ]
          },
          "metadata": {
            "tags": []
          },
          "execution_count": 49
        },
        {
          "output_type": "display_data",
          "data": {
            "image/png": "[encoded data removed]",
            "text/plain": [
              "<Figure size 1440x1440 with 2 Axes>"
            ]
          },
          "metadata": {
            "tags": [],
            "needs_background": "light"
          }
        }
      ]
    },
    {
      "cell_type": "code",
      "metadata": {
        "id": "2p-SGxbpJgLn",
        "outputId": "231c4688-5af2-4be4-b77e-59a38ca3e46c",
        "colab": {
          "base_uri": "https://localhost:8080/"
        }
      },
      "source": [
        "sigma[0]"
      ],
      "execution_count": 44,
      "outputs": [
        {
          "output_type": "execute_result",
          "data": {
            "text/plain": [
              "0.011561690358523441"
            ]
          },
          "metadata": {
            "tags": []
          },
          "execution_count": 44
        }
      ]
    }
  ]
}