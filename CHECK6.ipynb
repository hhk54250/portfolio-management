{
  "nbformat": 4,
  "nbformat_minor": 0,
  "metadata": {
    "colab": {
      "name": "Untitled29.ipynb",
      "provenance": [],
      "authorship_tag": "ABX9TyP6znigXLtMi8tVStPyGW+2",
      "include_colab_link": true
    },
    "kernelspec": {
      "name": "python3",
      "display_name": "Python 3"
    }
  },
  "cells": [
    {
      "cell_type": "markdown",
      "metadata": {
        "id": "view-in-github",
        "colab_type": "text"
      },
      "source": [
        "<a href=\"https://colab.research.google.com/github/hhk54250/portfolio-management/blob/master/CHECK6.ipynb\" target=\"_parent\"><img src=\"https://colab.research.google.com/assets/colab-badge.svg\" alt=\"Open In Colab\"/></a>"
      ]
    },
    {
      "cell_type": "code",
      "metadata": {
        "colab": {
          "base_uri": "https://localhost:8080/"
        },
        "id": "a5nBKuV7PTKH",
        "outputId": "feef4359-4953-4e63-c978-fcb1bd012304"
      },
      "source": [
        "pip install yahoo-finance"
      ],
      "execution_count": 3,
      "outputs": [
        {
          "output_type": "stream",
          "text": [
            "Collecting yahoo-finance\n",
            "  Downloading https://files.pythonhosted.org/packages/7c/8c/61e2250dd88a22a3156c2b44fd021140bf984b49800584cb0372193a116a/yahoo-finance-1.4.0.tar.gz\n",
            "Requirement already satisfied: pytz in /usr/local/lib/python3.6/dist-packages (from yahoo-finance) (2018.9)\n",
            "Collecting simplejson\n",
            "\u001b[?25l  Downloading https://files.pythonhosted.org/packages/73/96/1e6b19045375890068d7342cbe280dd64ae73fd90b9735b5efb8d1e044a1/simplejson-3.17.2-cp36-cp36m-manylinux2010_x86_64.whl (127kB)\n",
            "\u001b[K     |████████████████████████████████| 133kB 6.0MB/s \n",
            "\u001b[?25hBuilding wheels for collected packages: yahoo-finance\n",
            "  Building wheel for yahoo-finance (setup.py) ... \u001b[?25l\u001b[?25hdone\n",
            "  Created wheel for yahoo-finance: filename=yahoo_finance-1.4.0-cp36-none-any.whl size=7233 sha256=95a429b843b7c6cd92fe9a41a74d609d4c1824a2cd7a7fcf8d10384397044778\n",
            "  Stored in directory: /root/.cache/pip/wheels/58/77/5b/66026e0fa7af2ee5926a516a70d3df95e17f952c570bc5aee6\n",
            "Successfully built yahoo-finance\n",
            "Installing collected packages: simplejson, yahoo-finance\n",
            "Successfully installed simplejson-3.17.2 yahoo-finance-1.4.0\n"
          ],
          "name": "stdout"
        }
      ]
    },
    {
      "cell_type": "code",
      "metadata": {
        "colab": {
          "base_uri": "https://localhost:8080/"
        },
        "id": "O3V1a3R1PbHB",
        "outputId": "5cbfe19a-de33-469d-922a-757c5fdb6d1c"
      },
      "source": [
        "pip install pandas_market_calendars"
      ],
      "execution_count": 4,
      "outputs": [
        {
          "output_type": "stream",
          "text": [
            "Collecting pandas_market_calendars\n",
            "\u001b[?25l  Downloading https://files.pythonhosted.org/packages/27/de/ceb494df8a721998d19d256a3d326c7e8a21fd1dafccf25dff7143d15287/pandas_market_calendars-1.6.1-py3-none-any.whl (58kB)\n",
            "\r\u001b[K     |█████▋                          | 10kB 13.7MB/s eta 0:00:01\r\u001b[K     |███████████▎                    | 20kB 19.4MB/s eta 0:00:01\r\u001b[K     |████████████████▉               | 30kB 11.0MB/s eta 0:00:01\r\u001b[K     |██████████████████████▌         | 40kB 8.9MB/s eta 0:00:01\r\u001b[K     |████████████████████████████    | 51kB 4.2MB/s eta 0:00:01\r\u001b[K     |████████████████████████████████| 61kB 3.2MB/s \n",
            "\u001b[?25hRequirement already satisfied: pytz in /usr/local/lib/python3.6/dist-packages (from pandas_market_calendars) (2018.9)\n",
            "Collecting trading-calendars\n",
            "\u001b[?25l  Downloading https://files.pythonhosted.org/packages/8d/07/ea64b7acb14ca7db166d509cd43acc3548c2c2809e94730dfd9bb6546cb4/trading_calendars-2.0.0.tar.gz (102kB)\n",
            "\u001b[K     |████████████████████████████████| 112kB 8.0MB/s \n",
            "\u001b[?25hRequirement already satisfied: pandas>=0.18 in /usr/local/lib/python3.6/dist-packages (from pandas_market_calendars) (1.1.5)\n",
            "Requirement already satisfied: python-dateutil in /usr/local/lib/python3.6/dist-packages (from pandas_market_calendars) (2.8.1)\n",
            "Requirement already satisfied: numpy in /usr/local/lib/python3.6/dist-packages (from trading-calendars->pandas_market_calendars) (1.18.5)\n",
            "Requirement already satisfied: toolz in /usr/local/lib/python3.6/dist-packages (from trading-calendars->pandas_market_calendars) (0.11.1)\n",
            "Requirement already satisfied: six>=1.5 in /usr/local/lib/python3.6/dist-packages (from python-dateutil->pandas_market_calendars) (1.15.0)\n",
            "Building wheels for collected packages: trading-calendars\n",
            "  Building wheel for trading-calendars (setup.py) ... \u001b[?25l\u001b[?25hdone\n",
            "  Created wheel for trading-calendars: filename=trading_calendars-2.0.0-cp36-none-any.whl size=135649 sha256=3f6a30eae6e423df79c588d9311989d25ed1b2861802d3fe09b9e5306eb91f82\n",
            "  Stored in directory: /root/.cache/pip/wheels/6e/fb/89/d71a90b9dd2c51fad1b5f6d240deb0d5051e80402f9fc3a6b9\n",
            "Successfully built trading-calendars\n",
            "Installing collected packages: trading-calendars, pandas-market-calendars\n",
            "Successfully installed pandas-market-calendars-1.6.1 trading-calendars-2.0.0\n"
          ],
          "name": "stdout"
        }
      ]
    },
    {
      "cell_type": "code",
      "metadata": {
        "id": "lWPMUK0tPdZK"
      },
      "source": [
        "import pandas as pd\r\n",
        "import pandas_market_calendars as mcal\r\n",
        "import pandas_datareader.data as web\r\n",
        "from pandas_datareader.data import DataReader\r\n",
        "import numpy as np\r\n",
        "import pandas as pd\r\n",
        "import matplotlib.pyplot as plt\r\n",
        "from numpy.linalg import *\r\n",
        "import os"
      ],
      "execution_count": 5,
      "outputs": []
    },
    {
      "cell_type": "code",
      "metadata": {
        "id": "DAX2E8-oPfHN"
      },
      "source": [
        "data1 = web.get_data_yahoo('FCEL','11/27/2020','12/03/2020',interval='d') #Ford\r\n",
        "data2 = web.get_data_yahoo('GPS','11/27/2020','12/03/2020',interval='d') #Microsoft\r\n",
        "data3 = web.get_data_yahoo('GME','11/27/2020','12/03/2020',interval='d') #Disney\r\n",
        "data4 = web.get_data_yahoo('F','11/27/2020','12/03/2020',interval='d') #Apple\r\n",
        "data5 = web.get_data_yahoo('BIDU','11/27/2020','12/03/2020',interval='d') #AEP\r\n",
        "data6 = web.get_data_yahoo('JPM','11/27/2020','12/03/2020',interval='d') #Google\r\n",
        "data7 = web.get_data_yahoo('SLB','11/27/2020','12/03/2020',interval='d') #JP Morgan\r\n",
        "data8 = web.get_data_yahoo('WMT','11/27/2020','12/03/2020',interval='d') #McDonald\r\n",
        "data9 = web.get_data_yahoo('NFLX','11/27/2020','12/03/2020',interval='d') #Tiffany\r\n",
        "data10 = web.get_data_yahoo('GOOG','11/27/2020','12/03/2020',interval='d') #Walmart\r\n",
        "data11 = web.get_data_yahoo('GCO','11/27/2020','12/03/2020',interval='d') #Amazon\r\n",
        "data12 = web.get_data_yahoo('NOV','11/27/2020','12/03/2020',interval='d') #General Electric\r\n",
        "data13 = web.get_data_yahoo('TIF','11/27/2020','12/03/2020',interval='d') #FACEBOOK\r\n",
        "data14 = web.get_data_yahoo('VLO','11/27/2020','12/03/2020',interval='d') #BAIDU\r\n",
        "data15 = web.get_data_yahoo('MCD','11/27/2020','12/03/2020',interval='d') #JD\r\n",
        "data16 = web.get_data_yahoo('GE','11/27/2020','12/03/2020',interval='d') #TSLA\r\n",
        "data17 = web.get_data_yahoo('DIS','11/27/2020','12/03/2020',interval='d') #NVDA\r\n",
        "data18 = web.get_data_yahoo('CCL','11/27/2020','12/03/2020',interval='d') #CSCO\r\n",
        "data19 = web.get_data_yahoo('RIG','11/27/2020','12/03/2020',interval='d') #BABA\r\n",
        "data20 = web.get_data_yahoo('BABA','11/27/2020','12/03/2020',interval='d') #PFE"
      ],
      "execution_count": 6,
      "outputs": []
    },
    {
      "cell_type": "code",
      "metadata": {
        "id": "G4iRFPVdP0xI"
      },
      "source": [
        "r1 = data1['Adj Close']\r\n",
        "r1 = r1/r1.shift(1)\r\n",
        "r1 = np.array(r1)\r\n",
        "r1 = np.delete(r1,0)\r\n",
        "\r\n",
        "r2 = data2['Adj Close']\r\n",
        "r2 = r2/r2.shift(1)\r\n",
        "r2 = np.array(r2)\r\n",
        "r2 = np.delete(r2,0)\r\n",
        "\r\n",
        "r3 = data3['Adj Close']\r\n",
        "r3 = r3/r3.shift(1)\r\n",
        "r3 = np.array(r3)\r\n",
        "r3 = np.delete(r3,0)\r\n",
        "\r\n",
        "r4 = data4['Adj Close']\r\n",
        "r4 = r4/r4.shift(1)\r\n",
        "r4 = np.array(r4)\r\n",
        "r4 = np.delete(r4,0)\r\n",
        "\r\n",
        "r5 = data5['Adj Close']\r\n",
        "r5 = r5/r5.shift(1)\r\n",
        "r5 = np.array(r5)\r\n",
        "r5 = np.delete(r5,0)\r\n",
        "\r\n",
        "r6 = data6['Adj Close']\r\n",
        "r6 = r6/r6.shift(1)\r\n",
        "r6 = np.array(r6)\r\n",
        "r6 = np.delete(r6,0)\r\n",
        "\r\n",
        "r7 = data7['Adj Close']\r\n",
        "r7 = r7/r7.shift(1)\r\n",
        "r7 = np.array(r7)\r\n",
        "r7 = np.delete(r7,0)\r\n",
        "\r\n",
        "r8 = data8['Adj Close']\r\n",
        "r8 = r8/r8.shift(1)\r\n",
        "r8 = np.array(r8)\r\n",
        "r8 = np.delete(r8,0)\r\n",
        "\r\n",
        "r9 = data9['Adj Close']\r\n",
        "r9 = r9/r9.shift(1)\r\n",
        "r9 = np.array(r9)\r\n",
        "r9 = np.delete(r9,0)\r\n",
        "\r\n",
        "r10 = data10['Adj Close']\r\n",
        "r10 = r10/r10.shift(1)\r\n",
        "r10 = np.array(r10)\r\n",
        "r10 = np.delete(r10,0)\r\n",
        "\r\n",
        "r11 = data11['Adj Close']\r\n",
        "r11 = r11/r11.shift(1)\r\n",
        "r11 = np.array(r11)\r\n",
        "r11 = np.delete(r11,0)\r\n",
        "\r\n",
        "r12 = data12['Adj Close']\r\n",
        "r12 = r12/r12.shift(1)\r\n",
        "r12 = np.array(r12)\r\n",
        "r12 = np.delete(r12,0)\r\n",
        "\r\n",
        "r13 = data13['Adj Close']\r\n",
        "r13 = r13/r13.shift(1)\r\n",
        "r13 = np.array(r13)\r\n",
        "r13 = np.delete(r13,0)\r\n",
        "\r\n",
        "r14 = data14['Adj Close']\r\n",
        "r14 = r14/r14.shift(1)\r\n",
        "r14 = np.array(r14)\r\n",
        "r14 = np.delete(r14,0)\r\n",
        "\r\n",
        "r15 = data15['Adj Close']\r\n",
        "r15 = r15/r15.shift(1)\r\n",
        "r15 = np.array(r15)\r\n",
        "r15 = np.delete(r15,0)\r\n",
        "\r\n",
        "r16 = data16['Adj Close']\r\n",
        "r16 = r16/r16.shift(1)\r\n",
        "r16 = np.array(r16)\r\n",
        "r16 = np.delete(r16,0)\r\n",
        "\r\n",
        "r17 = data17['Adj Close']\r\n",
        "r17 = r17/r17.shift(1)\r\n",
        "r17 = np.array(r17)\r\n",
        "r17 = np.delete(r17,0)\r\n",
        "\r\n",
        "r18 = data18['Adj Close']\r\n",
        "r18 = r18/r18.shift(1)\r\n",
        "r18 = np.array(r18)\r\n",
        "r18 = np.delete(r18,0)\r\n",
        "\r\n",
        "r19 = data19['Adj Close']\r\n",
        "r19 = r19/r19.shift(1)\r\n",
        "r19 = np.array(r19)\r\n",
        "r19 = np.delete(r19,0)\r\n",
        "\r\n",
        "r20 = data20['Adj Close']\r\n",
        "r20 = r20/r20.shift(1)\r\n",
        "r20 = np.array(r20)\r\n",
        "r20 = np.delete(r20,0)"
      ],
      "execution_count": 7,
      "outputs": []
    },
    {
      "cell_type": "code",
      "metadata": {
        "id": "ZSOOiHuAP40y"
      },
      "source": [
        "ww =[[ 0.31850083]\r\n",
        " ,[ 0.25816092]\r\n",
        " ,[ 0.10872725]\r\n",
        " ,[ 0.10146254]\r\n",
        " ,[ 0.03225148]\r\n",
        " ,[ 0.08772643]\r\n",
        " ,[ 0.10946741]\r\n",
        " ,[ 0.12580055]\r\n",
        " ,[ 0.00746114]\r\n",
        " ,[ 0.74703248]\r\n",
        " ,[ 0.0495159 ]\r\n",
        " ,[-0.31801547]\r\n",
        " ,[ 0.3312468 ]\r\n",
        " ,[-0.33622263]\r\n",
        " ,[-0.26308583]\r\n",
        " ,[ 0.04433763]\r\n",
        " ,[-0.31432787]\r\n",
        " ,[-0.1514043 ]\r\n",
        " ,[-0.15106202]\r\n",
        " ,[ 0.21242677]]\r\n",
        "\r\n"
      ],
      "execution_count": 8,
      "outputs": []
    },
    {
      "cell_type": "code",
      "metadata": {
        "id": "MegxboPWQEZe"
      },
      "source": [
        "PV1 = []\r\n",
        "PV1.append(432267.68540405587*ww[0][0])\r\n",
        "PV2 = []\r\n",
        "PV2.append(432267.68540405587*ww[1][0])\r\n",
        "PV3 = []\r\n",
        "PV3.append(432267.68540405587*ww[2][0])\r\n",
        "PV4 = []\r\n",
        "PV4.append(432267.68540405587*ww[3][0])\r\n",
        "PV5 = []\r\n",
        "PV5.append(432267.68540405587*ww[4][0])\r\n",
        "PV6 = []\r\n",
        "PV6.append(432267.68540405587*ww[5][0])\r\n",
        "PV7 = []\r\n",
        "PV7.append(432267.68540405587*ww[6][0])\r\n",
        "PV8 = []\r\n",
        "PV8.append(432267.68540405587*ww[7][0])\r\n",
        "PV9 = []\r\n",
        "PV9.append(432267.68540405587*ww[8][0])\r\n",
        "PV10 = []\r\n",
        "PV10.append(432267.68540405587*ww[9][0])\r\n",
        "PV11 = []\r\n",
        "PV11.append(432267.68540405587*ww[10][0])\r\n",
        "PV12 = []\r\n",
        "PV12.append(432267.68540405587*ww[11][0])\r\n",
        "PV13 = []\r\n",
        "PV13.append(432267.68540405587*ww[12][0])\r\n",
        "PV14 = []\r\n",
        "PV14.append(432267.68540405587*ww[13][0])\r\n",
        "PV15 = []\r\n",
        "PV15.append(432267.68540405587*ww[14][0])\r\n",
        "PV16 = []\r\n",
        "PV16.append(432267.68540405587*ww[15][0])\r\n",
        "PV17 = []\r\n",
        "PV17.append(432267.68540405587*ww[16][0])\r\n",
        "PV18 = []\r\n",
        "PV18.append(432267.68540405587*ww[17][0])\r\n",
        "PV19 = []\r\n",
        "PV19.append(432267.68540405587*ww[18][0])\r\n",
        "PV20 = []\r\n",
        "PV20.append(432267.68540405587*ww[19][0])"
      ],
      "execution_count": 9,
      "outputs": []
    },
    {
      "cell_type": "code",
      "metadata": {
        "id": "RRftyIn7QeHh"
      },
      "source": [
        "for i in range(len(r1)):\r\n",
        "  PV1.append(PV1[i]*r1[i])\r\n",
        "for i in range(len(r1)):\r\n",
        "  PV2.append(PV2[i]*r2[i])\r\n",
        "for i in range(len(r1)):\r\n",
        "  PV3.append(PV3[i]*r3[i])\r\n",
        "for i in range(len(r1)):\r\n",
        "  PV4.append(PV4[i]*r4[i])\r\n",
        "for i in range(len(r1)):\r\n",
        "  PV5.append(PV5[i]*r5[i])\r\n",
        "for i in range(len(r1)):\r\n",
        "  PV6.append(PV6[i]*r6[i])\r\n",
        "for i in range(len(r1)):\r\n",
        "  PV7.append(PV7[i]*r7[i])\r\n",
        "for i in range(len(r1)):\r\n",
        "  PV8.append(PV8[i]*r8[i])\r\n",
        "for i in range(len(r1)):\r\n",
        "  PV9.append(PV9[i]*r9[i])\r\n",
        "for i in range(len(r1)):\r\n",
        "  PV10.append(PV10[i]*r10[i])\r\n",
        "for i in range(len(r1)):\r\n",
        "  PV11.append(PV11[i]*r11[i])\r\n",
        "for i in range(len(r1)):\r\n",
        "  PV12.append(PV12[i]*r12[i])\r\n",
        "for i in range(len(r1)):\r\n",
        "  PV13.append(PV13[i]*r13[i])\r\n",
        "for i in range(len(r1)):\r\n",
        "  PV14.append(PV14[i]*r14[i])\r\n",
        "for i in range(len(r1)):\r\n",
        "  PV15.append(PV15[i]*r15[i])\r\n",
        "for i in range(len(r1)):\r\n",
        "  PV16.append(PV16[i]*r16[i])\r\n",
        "for i in range(len(r1)):\r\n",
        "  PV17.append(PV17[i]*r17[i])\r\n",
        "for i in range(len(r1)):\r\n",
        "  PV18.append(PV18[i]*r18[i])\r\n",
        "for i in range(len(r1)):\r\n",
        "  PV19.append(PV19[i]*r19[i])\r\n",
        "for i in range(len(r1)):\r\n",
        "  PV20.append(PV20[i]*r20[i])\r\n"
      ],
      "execution_count": 10,
      "outputs": []
    },
    {
      "cell_type": "code",
      "metadata": {
        "id": "m8RF_oLeQejC"
      },
      "source": [
        "PV = []\r\n",
        "\r\n",
        "for i in range(len(PV1)):\r\n",
        "  PV.append(PV1[i] + PV2[i] + PV3[i] + PV4[i] + PV5[i] + PV6[i] + PV7[i] + PV8[i] + PV9[i] + PV10[i] + PV11[i] + PV12[i] + PV13[i] + PV14[i] + PV15[i] + PV16[i] + PV17[i] + PV18[i] + PV19[i] + PV20[i])\r\n"
      ],
      "execution_count": 11,
      "outputs": []
    },
    {
      "cell_type": "code",
      "metadata": {
        "colab": {
          "base_uri": "https://localhost:8080/"
        },
        "id": "hIfcqz6oQgpV",
        "outputId": "9d21e3a7-7e32-4a76-e4d9-90be716f83ae"
      },
      "source": [
        "PV"
      ],
      "execution_count": 12,
      "outputs": [
        {
          "output_type": "execute_result",
          "data": {
            "text/plain": [
              "[432267.6897267327,\n",
              " 450420.14905856573,\n",
              " 431344.16311988945,\n",
              " 390080.98292758135,\n",
              " 388663.28617889923]"
            ]
          },
          "metadata": {
            "tags": []
          },
          "execution_count": 12
        }
      ]
    },
    {
      "cell_type": "code",
      "metadata": {
        "id": "Tl0r21LQRAqv"
      },
      "source": [
        "PV111 = [500000.005,\r\n",
        " 419230.35267577623,\r\n",
        " 398044.8175492699,\r\n",
        " 410878.2369728917,\r\n",
        " 419426.0187033203,\r\n",
        " 394884.58603552624,\r\n",
        " 399724.5981261235,\r\n",
        " 399459.5858530961,\r\n",
        " 412879.35102981667,\r\n",
        " 415989.4951640255,\r\n",
        " 418784.33550036506,\r\n",
        " 451816.2307605145,\r\n",
        " 412203.91484305146,\r\n",
        " 402846.74651797523,\r\n",
        " 432267.68540405587,\r\n",
        " 450420.14905856573,\r\n",
        " 431344.16311988945,\r\n",
        " 390080.98292758135,\r\n",
        " 388663.28617889923]"
      ],
      "execution_count": 14,
      "outputs": []
    },
    {
      "cell_type": "code",
      "metadata": {
        "colab": {
          "base_uri": "https://localhost:8080/",
          "height": 282
        },
        "id": "RuqQxfJkRUbi",
        "outputId": "7927da7f-8618-4cbd-8b09-3d364a67c48c"
      },
      "source": [
        "plt.plot(PV111)"
      ],
      "execution_count": 15,
      "outputs": [
        {
          "output_type": "execute_result",
          "data": {
            "text/plain": [
              "[<matplotlib.lines.Line2D at 0x7f3ff6601d68>]"
            ]
          },
          "metadata": {
            "tags": []
          },
          "execution_count": 15
        },
        {
          "output_type": "display_data",
          "data": {
            "image/png": "[encoded data removed]",
            "text/plain": [
              "<Figure size 432x288 with 1 Axes>"
            ]
          },
          "metadata": {
            "tags": [],
            "needs_background": "light"
          }
        }
      ]
    }
  ]
}