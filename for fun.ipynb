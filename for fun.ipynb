{
  "nbformat": 4,
  "nbformat_minor": 0,
  "metadata": {
    "colab": {
      "name": "Untitled32.ipynb",
      "provenance": [],
      "authorship_tag": "ABX9TyOOySdDTOweg6MpL2nEo5ux",
      "include_colab_link": true
    },
    "kernelspec": {
      "name": "python3",
      "display_name": "Python 3"
    }
  },
  "cells": [
    {
      "cell_type": "markdown",
      "metadata": {
        "id": "view-in-github",
        "colab_type": "text"
      },
      "source": [
        "<a href=\"https://colab.research.google.com/github/hhk54250/portfolio-management/blob/master/for%20fun.ipynb\" target=\"_parent\"><img src=\"https://colab.research.google.com/assets/colab-badge.svg\" alt=\"Open In Colab\"/></a>"
      ]
    },
    {
      "cell_type": "code",
      "metadata": {
        "id": "kJt7KwbX5Pyn"
      },
      "source": [
        "import pandas as pd\r\n",
        "import numpy as np\r\n",
        "import pandas as pd\r\n",
        "import matplotlib.pyplot as plt\r\n",
        "from numpy.linalg import *\r\n",
        "import os\r\n",
        "from sklearn.linear_model import LinearRegression\r\n",
        "from numpy import linalg"
      ],
      "execution_count": 1,
      "outputs": []
    },
    {
      "cell_type": "code",
      "metadata": {
        "colab": {
          "base_uri": "https://localhost:8080/"
        },
        "id": "7e5MdLDo9g1u",
        "outputId": "1a0d4d3d-52ee-491d-a903-f051e1bcb768"
      },
      "source": [
        "%cd~\r\n",
        "\r\n",
        "!git clone https://github.com/hhk54250/portfolio-management.git \r\n",
        "pass"
      ],
      "execution_count": 2,
      "outputs": [
        {
          "output_type": "stream",
          "text": [
            "/root\n",
            "fatal: destination path 'portfolio-management' already exists and is not an empty directory.\n"
          ],
          "name": "stdout"
        }
      ]
    },
    {
      "cell_type": "code",
      "metadata": {
        "colab": {
          "base_uri": "https://localhost:8080/"
        },
        "id": "Fx0-uym59j_O",
        "outputId": "b68b11e5-9260-483c-f9bf-65a025f7765d"
      },
      "source": [
        "%cd portfolio-management\r\n",
        "%ls"
      ],
      "execution_count": 3,
      "outputs": [
        {
          "output_type": "stream",
          "text": [
            "/root/portfolio-management\n",
            " 10-year.csv\n",
            " 10-year-treasury-bond-rate-yield-chart.csv\n",
            " 1-year.csv\n",
            " 1-year-treasury-rate-yield-chart.csv\n",
            " 2.ipynb\n",
            " 30-year.csv\n",
            " 30-year-treasury-bond-rate-yield-chart.csv\n",
            " 5-year.csv\n",
            " 5-year-treasury-bond-rate-yield-chart.csv\n",
            " BABA.csv\n",
            " check2.ipynb\n",
            " check3.ipynb\n",
            " CHECK6.ipynb\n",
            " check.ipynb\n",
            "'exchange rate.csv'\n",
            " factor2.ipynb\n",
            " factor3.ipynb\n",
            " factor4.ipynb\n",
            " factor5.ipynb\n",
            " factor.ipynb\n",
            " F-F_Research_Data_5_Factors_2x3_daily.csv\n",
            " IVV.csv\n",
            " JD.csv\n",
            "'Libor rate.csv'\n",
            "'MA575_PJ_1 (1).ipynb'\n",
            "'markowitz portfolio optimization.ipynb'\n",
            " Model.ipynb\n",
            "'prj01(1).ipynb'\n",
            "'prj01(3).ipynb'\n",
            " prj01.ipynb\n",
            " README.md\n",
            "'Returns(1).py'\n",
            " Returns.py\n",
            " Untitled17.ipynb\n",
            " 基金数据.csv\n"
          ],
          "name": "stdout"
        }
      ]
    },
    {
      "cell_type": "code",
      "metadata": {
        "id": "OWnltbdW9lii"
      },
      "source": [
        "d = pd.read_csv(\"基金数据.csv\")"
      ],
      "execution_count": 4,
      "outputs": []
    },
    {
      "cell_type": "code",
      "metadata": {
        "colab": {
          "base_uri": "https://localhost:8080/",
          "height": 419
        },
        "id": "aaQE8ugs9npK",
        "outputId": "636359fe-1b0d-4aa7-e00d-f6b9d0c63f17"
      },
      "source": [
        "d"
      ],
      "execution_count": 5,
      "outputs": [
        {
          "output_type": "execute_result",
          "data": {
            "text/html": [
              "<div>\n",
              "<style scoped>\n",
              "    .dataframe tbody tr th:only-of-type {\n",
              "        vertical-align: middle;\n",
              "    }\n",
              "\n",
              "    .dataframe tbody tr th {\n",
              "        vertical-align: top;\n",
              "    }\n",
              "\n",
              "    .dataframe thead th {\n",
              "        text-align: right;\n",
              "    }\n",
              "</style>\n",
              "<table border=\"1\" class=\"dataframe\">\n",
              "  <thead>\n",
              "    <tr style=\"text-align: right;\">\n",
              "      <th></th>\n",
              "      <th>Unnamed: 0</th>\n",
              "      <th>110029</th>\n",
              "      <th>161820</th>\n",
              "      <th>000985.CSI</th>\n",
              "      <th>399373.SZ</th>\n",
              "      <th>399372.SZ</th>\n",
              "      <th>399375.SZ</th>\n",
              "      <th>399374.SZ</th>\n",
              "      <th>399377.SZ</th>\n",
              "      <th>399376.SZ</th>\n",
              "    </tr>\n",
              "  </thead>\n",
              "  <tbody>\n",
              "    <tr>\n",
              "      <th>0</th>\n",
              "      <td>日期</td>\n",
              "      <td>基金A</td>\n",
              "      <td>基金B</td>\n",
              "      <td>基金A基准</td>\n",
              "      <td>大盘价值</td>\n",
              "      <td>大盘成长</td>\n",
              "      <td>中盘价值</td>\n",
              "      <td>中盘成长</td>\n",
              "      <td>小盘价值</td>\n",
              "      <td>小盘成长</td>\n",
              "    </tr>\n",
              "    <tr>\n",
              "      <th>1</th>\n",
              "      <td>2014/12/31</td>\n",
              "      <td>2.7931</td>\n",
              "      <td>1.1691</td>\n",
              "      <td>4219.0020</td>\n",
              "      <td>6084.9320</td>\n",
              "      <td>3498.8380</td>\n",
              "      <td>5436.3460</td>\n",
              "      <td>3935.5700</td>\n",
              "      <td>5590.8140</td>\n",
              "      <td>4999.7040</td>\n",
              "    </tr>\n",
              "    <tr>\n",
              "      <th>2</th>\n",
              "      <td>2015/1/5</td>\n",
              "      <td>2.7876</td>\n",
              "      <td>1.1702</td>\n",
              "      <td>4310.6930</td>\n",
              "      <td>6298.0640</td>\n",
              "      <td>3617.2950</td>\n",
              "      <td>5634.5400</td>\n",
              "      <td>4035.0940</td>\n",
              "      <td>5747.9600</td>\n",
              "      <td>5039.9490</td>\n",
              "    </tr>\n",
              "    <tr>\n",
              "      <th>3</th>\n",
              "      <td>2015/1/6</td>\n",
              "      <td>2.8898</td>\n",
              "      <td>1.1702</td>\n",
              "      <td>4338.9340</td>\n",
              "      <td>6243.1410</td>\n",
              "      <td>3609.9200</td>\n",
              "      <td>5638.1380</td>\n",
              "      <td>4102.3030</td>\n",
              "      <td>5740.8340</td>\n",
              "      <td>5119.2600</td>\n",
              "    </tr>\n",
              "    <tr>\n",
              "      <th>4</th>\n",
              "      <td>2015/1/7</td>\n",
              "      <td>2.8918</td>\n",
              "      <td>1.1712</td>\n",
              "      <td>4341.8940</td>\n",
              "      <td>6239.0120</td>\n",
              "      <td>3576.1100</td>\n",
              "      <td>5662.8540</td>\n",
              "      <td>4091.2700</td>\n",
              "      <td>5747.4840</td>\n",
              "      <td>5111.8220</td>\n",
              "    </tr>\n",
              "    <tr>\n",
              "      <th>...</th>\n",
              "      <td>...</td>\n",
              "      <td>...</td>\n",
              "      <td>...</td>\n",
              "      <td>...</td>\n",
              "      <td>...</td>\n",
              "      <td>...</td>\n",
              "      <td>...</td>\n",
              "      <td>...</td>\n",
              "      <td>...</td>\n",
              "      <td>...</td>\n",
              "    </tr>\n",
              "    <tr>\n",
              "      <th>1216</th>\n",
              "      <td>2019/12/25</td>\n",
              "      <td>3.9844</td>\n",
              "      <td>1.5263</td>\n",
              "      <td>4410.8230</td>\n",
              "      <td>7659.2341</td>\n",
              "      <td>4055.6594</td>\n",
              "      <td>4910.2763</td>\n",
              "      <td>4037.5218</td>\n",
              "      <td>5287.2511</td>\n",
              "      <td>4639.6652</td>\n",
              "    </tr>\n",
              "    <tr>\n",
              "      <th>1217</th>\n",
              "      <td>2019/12/26</td>\n",
              "      <td>4.0006</td>\n",
              "      <td>1.5277</td>\n",
              "      <td>4446.5530</td>\n",
              "      <td>7734.4639</td>\n",
              "      <td>4075.9684</td>\n",
              "      <td>4961.5068</td>\n",
              "      <td>4080.2436</td>\n",
              "      <td>5331.5220</td>\n",
              "      <td>4675.1207</td>\n",
              "    </tr>\n",
              "    <tr>\n",
              "      <th>1218</th>\n",
              "      <td>2019/12/27</td>\n",
              "      <td>3.9527</td>\n",
              "      <td>1.5277</td>\n",
              "      <td>4428.6846</td>\n",
              "      <td>7740.2601</td>\n",
              "      <td>4084.6379</td>\n",
              "      <td>4965.7769</td>\n",
              "      <td>4061.9914</td>\n",
              "      <td>5313.8020</td>\n",
              "      <td>4637.7672</td>\n",
              "    </tr>\n",
              "    <tr>\n",
              "      <th>1219</th>\n",
              "      <td>2019/12/30</td>\n",
              "      <td>3.9936</td>\n",
              "      <td>1.5277</td>\n",
              "      <td>4480.3495</td>\n",
              "      <td>7810.0101</td>\n",
              "      <td>4149.0028</td>\n",
              "      <td>5040.1697</td>\n",
              "      <td>4110.7194</td>\n",
              "      <td>5387.6762</td>\n",
              "      <td>4676.1402</td>\n",
              "    </tr>\n",
              "    <tr>\n",
              "      <th>1220</th>\n",
              "      <td>2019/12/31</td>\n",
              "      <td>4.0187</td>\n",
              "      <td>1.5291</td>\n",
              "      <td>4500.1258</td>\n",
              "      <td>7824.2453</td>\n",
              "      <td>4172.0427</td>\n",
              "      <td>5078.6397</td>\n",
              "      <td>4142.3961</td>\n",
              "      <td>5419.2700</td>\n",
              "      <td>4694.3621</td>\n",
              "    </tr>\n",
              "  </tbody>\n",
              "</table>\n",
              "<p>1221 rows × 10 columns</p>\n",
              "</div>"
            ],
            "text/plain": [
              "      Unnamed: 0   110029   161820  ...  399374.SZ  399377.SZ  399376.SZ\n",
              "0             日期      基金A      基金B  ...       中盘成长       小盘价值       小盘成长\n",
              "1     2014/12/31  2.7931   1.1691   ...  3935.5700  5590.8140  4999.7040\n",
              "2       2015/1/5  2.7876   1.1702   ...  4035.0940  5747.9600  5039.9490\n",
              "3       2015/1/6  2.8898   1.1702   ...  4102.3030  5740.8340  5119.2600\n",
              "4       2015/1/7  2.8918   1.1712   ...  4091.2700  5747.4840  5111.8220\n",
              "...          ...      ...      ...  ...        ...        ...        ...\n",
              "1216  2019/12/25  3.9844   1.5263   ...  4037.5218  5287.2511  4639.6652\n",
              "1217  2019/12/26  4.0006   1.5277   ...  4080.2436  5331.5220  4675.1207\n",
              "1218  2019/12/27  3.9527   1.5277   ...  4061.9914  5313.8020  4637.7672\n",
              "1219  2019/12/30  3.9936   1.5277   ...  4110.7194  5387.6762  4676.1402\n",
              "1220  2019/12/31  4.0187   1.5291   ...  4142.3961  5419.2700  4694.3621\n",
              "\n",
              "[1221 rows x 10 columns]"
            ]
          },
          "metadata": {
            "tags": []
          },
          "execution_count": 5
        }
      ]
    },
    {
      "cell_type": "code",
      "metadata": {
        "id": "6yVSlKpP_n2A"
      },
      "source": [
        "d1 = d['110029']"
      ],
      "execution_count": 6,
      "outputs": []
    },
    {
      "cell_type": "code",
      "metadata": {
        "id": "SX3-k_iB_z3O"
      },
      "source": [
        "d11 = []\r\n",
        "d12 = []\r\n",
        "d13 = []\r\n",
        "d14 = []\r\n",
        "d15 = []\r\n",
        "for i in range(1,246):\r\n",
        "  d11.append(d1[i])\r\n",
        "for i in range(245,490):\r\n",
        "  d12.append(d1[i])\r\n",
        "for i in range(489,734):\r\n",
        "  d13.append(d1[i])\r\n",
        "for i in range(733,977):\r\n",
        "  d14.append(d1[i])\r\n",
        "for i in range(976,1221):\r\n",
        "  d15.append(d1[i])"
      ],
      "execution_count": 7,
      "outputs": []
    },
    {
      "cell_type": "code",
      "metadata": {
        "id": "ETnb82o_AnEh"
      },
      "source": [
        "for i in range(len(d11)):\r\n",
        "  d11[i] = float(d11[i])\r\n",
        "for i in range(len(d12)):\r\n",
        "  d12[i] = float(d12[i])\r\n",
        "for i in range(len(d13)):\r\n",
        "  d13[i] = float(d13[i])\r\n",
        "for i in range(len(d14)):\r\n",
        "  d14[i] = float(d14[i])\r\n",
        "for i in range(len(d15)):\r\n",
        "  d15[i] = float(d15[i])"
      ],
      "execution_count": 8,
      "outputs": []
    },
    {
      "cell_type": "code",
      "metadata": {
        "id": "AeWDvM7FDxmA"
      },
      "source": [
        "d11r = []\r\n",
        "d12r = []\r\n",
        "d13r = []\r\n",
        "d14r = []\r\n",
        "d15r = []\r\n",
        "for i in range(len(d11)-1):\r\n",
        "  d11r.append(np.log(d11[i+1])-np.log(d11[i]))\r\n",
        "for i in range(len(d12)-1):\r\n",
        "  d12r.append(np.log(d12[i+1])-np.log(d12[i]))\r\n",
        "for i in range(len(d13)-1):\r\n",
        "  d13r.append(np.log(d13[i+1])-np.log(d13[i]))\r\n",
        "for i in range(len(d14)-1):\r\n",
        "  d14r.append(np.log(d14[i+1])-np.log(d14[i]))\r\n",
        "for i in range(len(d15)-1):\r\n",
        "  d15r.append(np.log(d15[i+1])-np.log(d15[i]))"
      ],
      "execution_count": 9,
      "outputs": []
    },
    {
      "cell_type": "code",
      "metadata": {
        "id": "pNJ7UEl5E9gx"
      },
      "source": [
        "d11a = np.sum(d11r)\r\n",
        "d12a = np.sum(d12r)\r\n",
        "d13a = np.sum(d13r)\r\n",
        "d14a = np.sum(d14r)\r\n",
        "d15a = np.sum(d15r)"
      ],
      "execution_count": 10,
      "outputs": []
    },
    {
      "cell_type": "code",
      "metadata": {
        "id": "RzxSEo2tFyvp"
      },
      "source": [
        "d1a = d11a + d12a + d13a + d14a +d15a"
      ],
      "execution_count": 11,
      "outputs": []
    },
    {
      "cell_type": "code",
      "metadata": {
        "id": "N9yRt19xGE7M"
      },
      "source": [
        "d2 = d['000985.CSI']"
      ],
      "execution_count": 12,
      "outputs": []
    },
    {
      "cell_type": "code",
      "metadata": {
        "id": "vEUaQFAjHoCT"
      },
      "source": [
        "d21 = []\r\n",
        "d22 = []\r\n",
        "d23 = []\r\n",
        "d24 = []\r\n",
        "d25 = []\r\n",
        "for i in range(1,246):\r\n",
        "  d21.append(d2[i])\r\n",
        "for i in range(245,490):\r\n",
        "  d22.append(d2[i])\r\n",
        "for i in range(489,734):\r\n",
        "  d23.append(d2[i])\r\n",
        "for i in range(733,977):\r\n",
        "  d24.append(d2[i])\r\n",
        "for i in range(976,1221):\r\n",
        "  d25.append(d2[i])"
      ],
      "execution_count": 13,
      "outputs": []
    },
    {
      "cell_type": "code",
      "metadata": {
        "id": "17mhfBTIH0Dz"
      },
      "source": [
        "for i in range(len(d21)):\r\n",
        "  d21[i] = float(d21[i])\r\n",
        "for i in range(len(d22)):\r\n",
        "  d22[i] = float(d22[i])\r\n",
        "for i in range(len(d23)):\r\n",
        "  d23[i] = float(d23[i])\r\n",
        "for i in range(len(d24)):\r\n",
        "  d24[i] = float(d24[i])\r\n",
        "for i in range(len(d25)):\r\n",
        "  d25[i] = float(d25[i])"
      ],
      "execution_count": 14,
      "outputs": []
    },
    {
      "cell_type": "code",
      "metadata": {
        "id": "i9MH-w0zH_CS"
      },
      "source": [
        "d21r = []\r\n",
        "d22r = []\r\n",
        "d23r = []\r\n",
        "d24r = []\r\n",
        "d25r = []\r\n",
        "for i in range(len(d21)-1):\r\n",
        "  d21r.append(np.log(d21[i+1])-np.log(d21[i]))\r\n",
        "for i in range(len(d22)-1):\r\n",
        "  d22r.append(np.log(d22[i+1])-np.log(d22[i]))\r\n",
        "for i in range(len(d23)-1):\r\n",
        "  d23r.append(np.log(d23[i+1])-np.log(d23[i]))\r\n",
        "for i in range(len(d24)-1):\r\n",
        "  d24r.append(np.log(d24[i+1])-np.log(d24[i]))\r\n",
        "for i in range(len(d25)-1):\r\n",
        "  d25r.append(np.log(d25[i+1])-np.log(d25[i]))"
      ],
      "execution_count": 15,
      "outputs": []
    },
    {
      "cell_type": "code",
      "metadata": {
        "id": "Jg9EVUGEIbic"
      },
      "source": [
        "d21a = np.sum(d21r)\r\n",
        "d22a = np.sum(d22r)\r\n",
        "d23a = np.sum(d23r)\r\n",
        "d24a = np.sum(d24r)\r\n",
        "d25a = np.sum(d25r)"
      ],
      "execution_count": 16,
      "outputs": []
    },
    {
      "cell_type": "code",
      "metadata": {
        "id": "syig1q9CIfzg"
      },
      "source": [
        "d2a = d21a + d22a + d23a + d24a +d25a"
      ],
      "execution_count": 17,
      "outputs": []
    },
    {
      "cell_type": "code",
      "metadata": {
        "id": "JVoihhgbImVU"
      },
      "source": [
        "d31a = d11a - d21a\r\n",
        "d32a = d12a - d22a\r\n",
        "d33a = d13a - d23a\r\n",
        "d34a = d14a - d24a\r\n",
        "d35a = d15a - d25a"
      ],
      "execution_count": 18,
      "outputs": []
    },
    {
      "cell_type": "code",
      "metadata": {
        "id": "_B-FIZofJNvi"
      },
      "source": [
        "d3a = d31a + d32a + d33a + d34a + d35a"
      ],
      "execution_count": 19,
      "outputs": []
    },
    {
      "cell_type": "code",
      "metadata": {
        "id": "_4diBlklJhUF"
      },
      "source": [
        "d11v = np.sqrt(np.var(d11))\r\n",
        "d12v = np.sqrt(np.var(d12))\r\n",
        "d13v = np.sqrt(np.var(d13))\r\n",
        "d14v = np.sqrt(np.var(d14))\r\n",
        "d15v = np.sqrt(np.var(d15))"
      ],
      "execution_count": 20,
      "outputs": []
    },
    {
      "cell_type": "code",
      "metadata": {
        "id": "7Z33g2LsKdPv"
      },
      "source": [
        "d16 = []\r\n",
        "for i in range(1,1221):\r\n",
        "  d16.append(d1[i])\r\n",
        "for i in range(len(d16)):\r\n",
        "  d16[i] = float(d16[i])\r\n",
        "d16v = np.sqrt(np.var(d16))"
      ],
      "execution_count": 21,
      "outputs": []
    },
    {
      "cell_type": "code",
      "metadata": {
        "id": "-cPVDxcMLcxo"
      },
      "source": [
        "d11v = d11v*np.sqrt(len(d11))\r\n",
        "d12v = d12v*np.sqrt(len(d12))\r\n",
        "d13v = d13v*np.sqrt(len(d13))\r\n",
        "d14v = d14v*np.sqrt(len(d14))\r\n",
        "d15v = d15v*np.sqrt(len(d15))\r\n",
        "d16v = d16v*np.sqrt(len(d16))"
      ],
      "execution_count": 22,
      "outputs": []
    },
    {
      "cell_type": "code",
      "metadata": {
        "id": "70A-s2S2LnMl"
      },
      "source": [
        "d31 = []\r\n",
        "d32 = []\r\n",
        "d33 = []\r\n",
        "d34 = []\r\n",
        "d35 = []\r\n",
        "for i in range(len(d11r)):\r\n",
        "  d31.append(d11r[i] - d21r[i])\r\n",
        "for i in range(len(d12r)):\r\n",
        "  d32.append(d12r[i] - d22r[i])\r\n",
        "for i in range(len(d13r)):\r\n",
        "  d33.append(d13r[i] - d23r[i])\r\n",
        "for i in range(len(d14r)):\r\n",
        "  d34.append(d14r[i] - d24r[i])\r\n",
        "for i in range(len(d15r)):\r\n",
        "  d35.append(d15r[i] - d25r[i])"
      ],
      "execution_count": 23,
      "outputs": []
    },
    {
      "cell_type": "code",
      "metadata": {
        "id": "5vDHdtxuPSeK"
      },
      "source": [
        "d31v = np.sqrt(np.var(d31))\r\n",
        "d32v = np.sqrt(np.var(d32))\r\n",
        "d33v = np.sqrt(np.var(d33))\r\n",
        "d34v = np.sqrt(np.var(d34))\r\n",
        "d35v = np.sqrt(np.var(d35))"
      ],
      "execution_count": 24,
      "outputs": []
    },
    {
      "cell_type": "code",
      "metadata": {
        "id": "SVJHSFf7Pkt2"
      },
      "source": [
        "d31v = d31v*np.sqrt(len(d11))\r\n",
        "d32v = d32v*np.sqrt(len(d12))\r\n",
        "d33v = d33v*np.sqrt(len(d13))\r\n",
        "d34v = d34v*np.sqrt(len(d14))\r\n",
        "d35v = d35v*np.sqrt(len(d15))"
      ],
      "execution_count": 26,
      "outputs": []
    },
    {
      "cell_type": "code",
      "metadata": {
        "id": "sJEyiyBHP3MP"
      },
      "source": [
        "d36 = d31 + d32 + d33 + d34 + d35"
      ],
      "execution_count": 27,
      "outputs": []
    },
    {
      "cell_type": "code",
      "metadata": {
        "id": "AI3R-HL9QNwL"
      },
      "source": [
        "d36v = np.sqrt(np.var(d36))\r\n",
        "d36v = d36v*np.sqrt(len(d36))"
      ],
      "execution_count": 28,
      "outputs": []
    },
    {
      "cell_type": "code",
      "metadata": {
        "id": "Rk635EsXQsSg"
      },
      "source": [
        "d11m = np.max(d11)\r\n",
        "d12m = np.max(d12)\r\n",
        "d13m = np.max(d13)\r\n",
        "d14m = np.max(d14)\r\n",
        "d15m = np.max(d15)"
      ],
      "execution_count": 40,
      "outputs": []
    },
    {
      "cell_type": "code",
      "metadata": {
        "id": "nguShzyETXJD"
      },
      "source": [
        "d11d = (d11m - d11[-1])/d11m\r\n",
        "d12d = (d12m - d12[-1])/d12m\r\n",
        "d13d = (d13m - d13[-1])/d13m\r\n",
        "d14d = (d14m - d14[-1])/d14m\r\n",
        "d15d = (d15m - d15[-1])/d15m"
      ],
      "execution_count": 47,
      "outputs": []
    },
    {
      "cell_type": "code",
      "metadata": {
        "id": "riECW9ssTcQm"
      },
      "source": [
        "d16d = (d11m - d15[-1])/d11m"
      ],
      "execution_count": 53,
      "outputs": []
    },
    {
      "cell_type": "code",
      "metadata": {
        "id": "TKyTgnjvUEK0"
      },
      "source": [
        "d11s = d11a/d11v\r\n",
        "d12s = d12a/d12v\r\n",
        "d13s = d13a/d13v\r\n",
        "d14s = d14a/d14v\r\n",
        "d15s = d15a/d15v\r\n",
        "d16s = d1a/d16v"
      ],
      "execution_count": 83,
      "outputs": []
    },
    {
      "cell_type": "code",
      "metadata": {
        "id": "7nOVwezbUZ3o"
      },
      "source": [
        "d11r_ = []\r\n",
        "for i in range(len(d11r)):\r\n",
        "  if d11r[i] < 0:\r\n",
        "    d11r_.append(d11r[i])\r\n",
        "d11r1_ = []\r\n",
        "for i in range(len(d11r_)):\r\n",
        "  d11r1_.append(d11r_[i]**2)\r\n",
        "\r\n",
        "\r\n",
        "d12r_ = []\r\n",
        "for i in range(len(d12r)):\r\n",
        "  if d12r[i] < 0:\r\n",
        "    d12r_.append(d12r[i])\r\n",
        "d12r1_ = []\r\n",
        "for i in range(len(d12r_)):\r\n",
        "  d12r1_.append(d12r_[i]**2)\r\n",
        "\r\n",
        "d13r_ = []\r\n",
        "for i in range(len(d13r)):\r\n",
        "  if d13r[i] < 0:\r\n",
        "    d13r_.append(d13r[i])\r\n",
        "d13r1_ = []\r\n",
        "for i in range(len(d13r_)):\r\n",
        "  d13r1_.append(d13r_[i]**2)\r\n",
        "\r\n",
        "d14r_ = []\r\n",
        "for i in range(len(d14r)):\r\n",
        "  if d14r[i] < 0:\r\n",
        "    d14r_.append(d14r[i])\r\n",
        "d14r1_ = []\r\n",
        "for i in range(len(d14r_)):\r\n",
        "  d14r1_.append(d14r_[i]**2)\r\n",
        "\r\n",
        "d15r_ = []\r\n",
        "for i in range(len(d15r)):\r\n",
        "  if d15r[i] < 0:\r\n",
        "    d15r_.append(d15r[i])\r\n",
        "d15r1_ = []\r\n",
        "for i in range(len(d15r_)):\r\n",
        "  d15r1_.append(d15r_[i]**2)"
      ],
      "execution_count": 100,
      "outputs": []
    },
    {
      "cell_type": "code",
      "metadata": {
        "id": "ZR2xHM4BabDf"
      },
      "source": [
        "d11sor = d11a/np.sqrt(np.sum(d11r1_)/(len(d11r1_)-1))\r\n",
        "d12sor = d12a/np.sqrt(np.sum(d12r1_)/(len(d12r1_)-1))\r\n",
        "d13sor = d13a/np.sqrt(np.sum(d13r1_)/(len(d13r1_)-1))\r\n",
        "d14sor = d14a/np.sqrt(np.sum(d14r1_)/(len(d14r1_)-1))\r\n",
        "d15sor = d15a/np.sqrt(np.sum(d15r1_)/(len(d15r1_)-1))"
      ],
      "execution_count": 101,
      "outputs": []
    },
    {
      "cell_type": "code",
      "metadata": {
        "id": "zuVLf1Xzc-xq"
      },
      "source": [
        "d16r1_ = d11r1_ + d12r1_ + d13r1_ + d14r1_ + d15r1_\r\n",
        "d16sor = d1a/np.sqrt(np.sum(d16r1_)/(len(d16r1_)-1))"
      ],
      "execution_count": 109,
      "outputs": []
    },
    {
      "cell_type": "code",
      "metadata": {
        "colab": {
          "base_uri": "https://localhost:8080/"
        },
        "id": "mHTw7Or2eq6A",
        "outputId": "c9765faf-01d8-4a74-d32b-53101b9418a9"
      },
      "source": [
        ""
      ],
      "execution_count": 110,
      "outputs": [
        {
          "output_type": "execute_result",
          "data": {
            "text/plain": [
              "15.896352724763894"
            ]
          },
          "metadata": {
            "tags": []
          },
          "execution_count": 110
        }
      ]
    }
  ]
}