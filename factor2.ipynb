{
  "nbformat": 4,
  "nbformat_minor": 0,
  "metadata": {
    "colab": {
      "name": "Untitled23.ipynb",
      "provenance": [],
      "authorship_tag": "ABX9TyPdeq4HunStHepX1v2QtRGm",
      "include_colab_link": true
    },
    "kernelspec": {
      "name": "python3",
      "display_name": "Python 3"
    }
  },
  "cells": [
    {
      "cell_type": "markdown",
      "metadata": {
        "id": "view-in-github",
        "colab_type": "text"
      },
      "source": [
        "<a href=\"https://colab.research.google.com/github/hhk54250/portfolio-management/blob/master/factor2.ipynb\" target=\"_parent\"><img src=\"https://colab.research.google.com/assets/colab-badge.svg\" alt=\"Open In Colab\"/></a>"
      ]
    },
    {
      "cell_type": "code",
      "metadata": {
        "colab": {
          "base_uri": "https://localhost:8080/"
        },
        "id": "rk-DXh5UaVJj",
        "outputId": "3dc51231-6115-4cf5-feb9-1f257f59f686"
      },
      "source": [
        "pip install yahoo-finance"
      ],
      "execution_count": 1,
      "outputs": [
        {
          "output_type": "stream",
          "text": [
            "Requirement already satisfied: yahoo-finance in /usr/local/lib/python3.6/dist-packages (1.4.0)\n",
            "Requirement already satisfied: pytz in /usr/local/lib/python3.6/dist-packages (from yahoo-finance) (2018.9)\n",
            "Requirement already satisfied: simplejson in /usr/local/lib/python3.6/dist-packages (from yahoo-finance) (3.17.2)\n"
          ],
          "name": "stdout"
        }
      ]
    },
    {
      "cell_type": "code",
      "metadata": {
        "colab": {
          "base_uri": "https://localhost:8080/"
        },
        "id": "17vNWIz1aW4I",
        "outputId": "fa703587-7764-4684-9e1b-fe8db5c9f02d"
      },
      "source": [
        "pip install pandas_market_calendars"
      ],
      "execution_count": 2,
      "outputs": [
        {
          "output_type": "stream",
          "text": [
            "Requirement already satisfied: pandas_market_calendars in /usr/local/lib/python3.6/dist-packages (1.6.1)\n",
            "Requirement already satisfied: pandas>=0.18 in /usr/local/lib/python3.6/dist-packages (from pandas_market_calendars) (1.1.4)\n",
            "Requirement already satisfied: pytz in /usr/local/lib/python3.6/dist-packages (from pandas_market_calendars) (2018.9)\n",
            "Requirement already satisfied: python-dateutil in /usr/local/lib/python3.6/dist-packages (from pandas_market_calendars) (2.8.1)\n",
            "Requirement already satisfied: trading-calendars in /usr/local/lib/python3.6/dist-packages (from pandas_market_calendars) (2.0.0)\n",
            "Requirement already satisfied: numpy>=1.15.4 in /usr/local/lib/python3.6/dist-packages (from pandas>=0.18->pandas_market_calendars) (1.18.5)\n",
            "Requirement already satisfied: six>=1.5 in /usr/local/lib/python3.6/dist-packages (from python-dateutil->pandas_market_calendars) (1.15.0)\n",
            "Requirement already satisfied: toolz in /usr/local/lib/python3.6/dist-packages (from trading-calendars->pandas_market_calendars) (0.11.1)\n"
          ],
          "name": "stdout"
        }
      ]
    },
    {
      "cell_type": "code",
      "metadata": {
        "id": "UVm6mj97aYB2"
      },
      "source": [
        "import pandas as pd\r\n",
        "import pandas_market_calendars as mcal\r\n",
        "import pandas_datareader.data as web\r\n",
        "from pandas_datareader.data import DataReader\r\n",
        "import numpy as np\r\n",
        "import pandas as pd\r\n",
        "import matplotlib.pyplot as plt\r\n",
        "from numpy.linalg import *\r\n",
        "import os\r\n",
        "from sklearn.linear_model import LinearRegression"
      ],
      "execution_count": 3,
      "outputs": []
    },
    {
      "cell_type": "code",
      "metadata": {
        "id": "weqSuk6FaZjF"
      },
      "source": [
        "data1 = web.get_data_yahoo('SPY','03/01/2019','12/31/2019',interval='d') \r\n",
        "data2 = web.get_data_yahoo('FCEL','03/01/2019','12/31/2019',interval='d') \r\n",
        "data3 = web.get_data_yahoo('GPS','03/01/2019','12/31/2019',interval='d') \r\n",
        "data4 = web.get_data_yahoo('GME','03/01/2019','12/31/2019',interval='d') \r\n",
        "data5 = web.get_data_yahoo('F','03/01/2019','12/31/2019',interval='d') \r\n",
        "data6 = web.get_data_yahoo('BIDU','03/01/2019','12/31/2019',interval='d') \r\n",
        "data7 = web.get_data_yahoo('JP','03/01/2019','12/31/2019',interval='d') \r\n",
        "data8 = web.get_data_yahoo('SLB','03/01/2019','12/31/2019',interval='d') \r\n",
        "data9 = web.get_data_yahoo('WMT','03/01/2019','12/31/2019',interval='d') \r\n",
        "data10 = web.get_data_yahoo('NFLX','03/01/2019','12/31/2019',interval='d') \r\n",
        "data11 = web.get_data_yahoo('GOOG','03/01/2019','12/31/2019',interval='d') \r\n",
        "data12 = web.get_data_yahoo('GCO','03/01/2019','12/31/2019',interval='d') \r\n",
        "data13 = web.get_data_yahoo('NOV','03/01/2019','12/31/2019',interval='d') \r\n",
        "data14 = web.get_data_yahoo('TIF','03/01/2019','12/31/2019',interval='d') \r\n",
        "data15 = web.get_data_yahoo('VLO','03/01/2019','12/31/2019',interval='d') \r\n",
        "data16 = web.get_data_yahoo('MCD','03/01/2019','12/31/2019',interval='d') \r\n",
        "data17 = web.get_data_yahoo('GE','03/01/2019','12/31/2019',interval='d') \r\n",
        "data18 = web.get_data_yahoo('DIS','03/01/2019','12/31/2019',interval='d') \r\n",
        "data19 = web.get_data_yahoo('CCL','03/01/2019','12/31/2019',interval='d') \r\n",
        "data20 = web.get_data_yahoo('RIG','03/01/2019','12/31/2019',interval='d') \r\n",
        "data21 = web.get_data_yahoo('BABA','03/01/2019','12/31/2019',interval='d') "
      ],
      "execution_count": 4,
      "outputs": []
    },
    {
      "cell_type": "code",
      "metadata": {
        "id": "QFn00Jmgaa66"
      },
      "source": [
        "d1 = data1['Adj Close']\r\n",
        "d2 = data2['Adj Close']\r\n",
        "d3 = data3['Adj Close']\r\n",
        "d4 = data4['Adj Close']\r\n",
        "d5 = data5['Adj Close']\r\n",
        "d6 = data6['Adj Close']\r\n",
        "d7 = data7['Adj Close']\r\n",
        "d8 = data8['Adj Close']\r\n",
        "d9 = data9['Adj Close']\r\n",
        "d10 = data10['Adj Close']\r\n",
        "d11 = data11['Adj Close']\r\n",
        "d12 = data12['Adj Close']\r\n",
        "d13 = data13['Adj Close']\r\n",
        "d14 = data14['Adj Close']\r\n",
        "d15 = data15['Adj Close']\r\n",
        "d16 = data16['Adj Close']\r\n",
        "d17 = data17['Adj Close']\r\n",
        "d18 = data18['Adj Close']\r\n",
        "d19 = data19['Adj Close']\r\n",
        "d20 = data20['Adj Close']\r\n",
        "d21 = data21['Adj Close']\r\n",
        "\r\n",
        "d1 = np.log(d1) - np.log(d1.shift(1))\r\n",
        "d1 = np.array(d1)\r\n",
        "d1 = np.delete(d1,0)\r\n",
        "\r\n",
        "d2 = np.log(d2) - np.log(d2.shift(1))\r\n",
        "d2 = np.array(d2)\r\n",
        "d2 = np.delete(d2,0)\r\n",
        "\r\n",
        "d3 = np.log(d3) - np.log(d3.shift(1))\r\n",
        "d3 = np.array(d3)\r\n",
        "d3 = np.delete(d3,0)\r\n",
        "\r\n",
        "d4 = np.log(d4) - np.log(d4.shift(1))\r\n",
        "d4 = np.array(d4)\r\n",
        "d4 = np.delete(d4,0)\r\n",
        "\r\n",
        "d5 = np.log(d5) - np.log(d5.shift(1))\r\n",
        "d5 = np.array(d5)\r\n",
        "d5 = np.delete(d5,0)\r\n",
        "\r\n",
        "d6 = np.log(d6) - np.log(d6.shift(1))\r\n",
        "d6 = np.array(d6)\r\n",
        "d6 = np.delete(d6,0)\r\n",
        "\r\n",
        "d7 = np.log(d7) - np.log(d7.shift(1))\r\n",
        "d7 = np.array(d7)\r\n",
        "d7 = np.delete(d7,0)\r\n",
        "\r\n",
        "d8 = np.log(d8) - np.log(d8.shift(1))\r\n",
        "d8 = np.array(d8)\r\n",
        "d8 = np.delete(d8,0)\r\n",
        "\r\n",
        "d9 = np.log(d9) - np.log(d9.shift(1))\r\n",
        "d9 = np.array(d9)\r\n",
        "d9 = np.delete(d9,0)\r\n",
        "\r\n",
        "d10 = np.log(d10) - np.log(d10.shift(1))\r\n",
        "d10 = np.array(d10)\r\n",
        "d10 = np.delete(d10,0)\r\n",
        "\r\n",
        "d11 = np.log(d11) - np.log(d11.shift(1))\r\n",
        "d11 = np.array(d11)\r\n",
        "d11 = np.delete(d11,0)\r\n",
        "\r\n",
        "d12 = np.log(d12) - np.log(d12.shift(1))\r\n",
        "d12 = np.array(d12)\r\n",
        "d12 = np.delete(d12,0)\r\n",
        "\r\n",
        "d13 = np.log(d13) - np.log(d13.shift(1))\r\n",
        "d13 = np.array(d13)\r\n",
        "d13 = np.delete(d13,0)\r\n",
        "\r\n",
        "d14 = np.log(d14) - np.log(d14.shift(1))\r\n",
        "d14 = np.array(d14)\r\n",
        "d14 = np.delete(d14,0)\r\n",
        "\r\n",
        "d15 = np.log(d15) - np.log(d15.shift(1))\r\n",
        "d15 = np.array(d15)\r\n",
        "d15 = np.delete(d15,0)\r\n",
        "\r\n",
        "d16 = np.log(d16) - np.log(d16.shift(1))\r\n",
        "d16 = np.array(d16)\r\n",
        "d16 = np.delete(d16,0)\r\n",
        "\r\n",
        "d17 = np.log(d17) - np.log(d17.shift(1))\r\n",
        "d17 = np.array(d17)\r\n",
        "d17 = np.delete(d17,0)\r\n",
        "\r\n",
        "d18 = np.log(d18) - np.log(d18.shift(1))\r\n",
        "d18 = np.array(d18)\r\n",
        "d18 = np.delete(d18,0)\r\n",
        "\r\n",
        "d19 = np.log(d19) - np.log(d19.shift(1))\r\n",
        "d19 = np.array(d19)\r\n",
        "d19 = np.delete(d19,0)\r\n",
        "\r\n",
        "d20 = np.log(d20) - np.log(d20.shift(1))\r\n",
        "d20 = np.array(d20)\r\n",
        "d20 = np.delete(d20,0)\r\n",
        "\r\n",
        "d21 = np.log(d21) - np.log(d21.shift(1))\r\n",
        "d21 = np.array(d21)\r\n",
        "d21 = np.delete(d21,0)"
      ],
      "execution_count": 5,
      "outputs": []
    },
    {
      "cell_type": "code",
      "metadata": {
        "colab": {
          "base_uri": "https://localhost:8080/"
        },
        "id": "3gJDaKVXaiF9",
        "outputId": "642d1630-17ed-446c-c885-8627c3d606b2"
      },
      "source": [
        "%cd~\r\n",
        "\r\n",
        "!git clone https://github.com/hhk54250/portfolio-management.git \r\n",
        "pass"
      ],
      "execution_count": 6,
      "outputs": [
        {
          "output_type": "stream",
          "text": [
            "/root\n",
            "fatal: destination path 'portfolio-management' already exists and is not an empty directory.\n"
          ],
          "name": "stdout"
        }
      ]
    },
    {
      "cell_type": "code",
      "metadata": {
        "colab": {
          "base_uri": "https://localhost:8080/"
        },
        "id": "zyiFrit0aj6C",
        "outputId": "41aa2865-b85a-43db-dc2c-8ade668fb622"
      },
      "source": [
        "%cd portfolio-management\r\n",
        "%ls"
      ],
      "execution_count": 7,
      "outputs": [
        {
          "output_type": "stream",
          "text": [
            "/root/portfolio-management\n",
            " 2.ipynb\n",
            " BABA.csv\n",
            " check2.ipynb\n",
            " check3.ipynb\n",
            " check.ipynb\n",
            "'exchange rate.csv'\n",
            " F-F_Research_Data_5_Factors_2x3_daily.csv\n",
            " IVV.csv\n",
            " JD.csv\n",
            "'Libor rate.csv'\n",
            "'MA575_PJ_1 (1).ipynb'\n",
            "'markowitz portfolio optimization.ipynb'\n",
            " Model.ipynb\n",
            "'prj01(1).ipynb'\n",
            "'prj01(3).ipynb'\n",
            " prj01.ipynb\n",
            " README.md\n",
            "'Returns(1).py'\n",
            " Returns.py\n",
            " Untitled17.ipynb\n"
          ],
          "name": "stdout"
        }
      ]
    },
    {
      "cell_type": "code",
      "metadata": {
        "id": "FFKEtW22alPt"
      },
      "source": [
        "d = pd.read_csv(\"F-F_Research_Data_5_Factors_2x3_daily.csv\")"
      ],
      "execution_count": 8,
      "outputs": []
    },
    {
      "cell_type": "code",
      "metadata": {
        "id": "XlueCNQGam4y"
      },
      "source": [
        "d_muf = d['Unnamed: 1']\r\n",
        "d_SMB = d['Unnamed: 2']\r\n",
        "d_HML = d['Unnamed: 3']\r\n",
        "d_CMA = d['Unnamed: 5']\r\n",
        "d_muf[14015:14226]\r\n",
        "d_SMB[14015:14226]\r\n",
        "d_HML[14015:14226]\r\n",
        "d_CMA[14015:14226]\r\n",
        "d_muf1 = []\r\n",
        "d_SMB1 = []\r\n",
        "d_HML1 = []\r\n",
        "d_CMA1 = []\r\n",
        "for i in range(14015,14226):\r\n",
        "  d_muf1.append(d_muf[i])\r\n",
        "for i in range(14015,14226):\r\n",
        "  d_SMB1.append(d_SMB[i])\r\n",
        "for i in range(14015,14226):\r\n",
        "  d_HML1.append(d_HML[i])\r\n",
        "for i in range(14015,14226):\r\n",
        "  d_CMA1.append(d_CMA[i])"
      ],
      "execution_count": 9,
      "outputs": []
    },
    {
      "cell_type": "code",
      "metadata": {
        "id": "47e0AWNIarml"
      },
      "source": [
        "for i in range(len(d_muf1)):\r\n",
        "  d_muf1[i] = float(d_muf1[i])\r\n",
        "for i in range(len(d_SMB1)):\r\n",
        "  d_SMB1[i] = float(d_SMB1[i])\r\n",
        "for i in range(len(d_HML1)):\r\n",
        "  d_HML1[i] = float(d_HML1[i])\r\n",
        "for i in range(len(d_CMA1)):\r\n",
        "  d_CMA1[i] = float(d_CMA1[i])"
      ],
      "execution_count": 10,
      "outputs": []
    },
    {
      "cell_type": "code",
      "metadata": {
        "id": "OajC_gEDatcQ"
      },
      "source": [
        "P = np.vstack((d2,d3,d4,d5,d6,d7,d8,d9,d10,d11,d12,d13,d14,d15,d16,d17,d18,d19,d20,d21))\r\n",
        "\r\n",
        "d11_=[]\r\n",
        "for i in range(len(d1)):\r\n",
        "  a = d1[i] - d_muf1[i]\r\n",
        "  d11_.append(a)\r\n",
        "\r\n",
        "d11_ = np.array(d11_)\r\n",
        "\r\n",
        "d22=[]\r\n",
        "for i in range(len(d1)):  \r\n",
        "  d22.append(d_SMB1[i])\r\n",
        "d22 = np.array(d22)\r\n",
        "\r\n",
        "d33=[]\r\n",
        "for i in range(len(d1)):  \r\n",
        "  d33.append(d_HML1[i])\r\n",
        "d33 = np.array(d33)\r\n",
        "\r\n",
        "d44=[]\r\n",
        "for i in range(len(d1)):  \r\n",
        "  d44.append(d_CMA1[i])\r\n",
        "d44 = np.array(d44)\r\n",
        "\r\n",
        "P1 = np.vstack((d11_,d22,d33,d44))\r\n",
        "\r\n",
        "for t in range(20):\r\n",
        "  for i in range(len(P[t,])):\r\n",
        "    P[t,i] = P[t,i] - d_muf1[i] "
      ],
      "execution_count": 11,
      "outputs": []
    },
    {
      "cell_type": "code",
      "metadata": {
        "id": "AaNgg-QmbFjo"
      },
      "source": [
        "lrModel = LinearRegression()\r\n",
        "\r\n",
        "beta0=[]\r\n",
        "beta1=[]\r\n",
        "beta2=[]\r\n",
        "beta3=[]\r\n",
        "beta4=[]\r\n",
        "for i in range(20):\r\n",
        "  lrModel.fit(P1.T,P[i,])\r\n",
        "  beta1.append(lrModel.coef_[0])\r\n",
        "  beta2.append(lrModel.coef_[1])\r\n",
        "  beta3.append(lrModel.coef_[2])\r\n",
        "  beta4.append(lrModel.coef_[3])\r\n",
        "  beta0.append(lrModel.intercept_) "
      ],
      "execution_count": 12,
      "outputs": []
    },
    {
      "cell_type": "code",
      "metadata": {
        "colab": {
          "base_uri": "https://localhost:8080/"
        },
        "id": "tLnVRVl5bJk8",
        "outputId": "6fe856b1-14ec-4631-fa3a-ccaa44a102be"
      },
      "source": [
        "d11_mean = np.mean(d11_)\r\n",
        "d22_mean = np.mean(d22)\r\n",
        "d33_mean = np.mean(d33)\r\n",
        "d44_mean = np.mean(d44)\r\n",
        "d_muf1_mean = np.mean(d_muf1)\r\n",
        "\r\n",
        "beta11=[]\r\n",
        "beta22=[]\r\n",
        "beta33=[]\r\n",
        "beta44=[]\r\n",
        "for i in range(len(beta1)):\r\n",
        "  beta11.append(beta1[i] * d11_mean)\r\n",
        "for i in range(len(beta2)):\r\n",
        "  beta22.append(beta2[i] * d22_mean)\r\n",
        "for i in range(len(beta3)):\r\n",
        "  beta33.append(beta3[i] * d33_mean)\r\n",
        "for i in range(len(beta4)):\r\n",
        "  beta44.append(beta4[i] * d44_mean)\r\n",
        "expected1 = []\r\n",
        "for i in range(len(beta11)):\r\n",
        "  expected1.append(beta11[i] + beta22[i] + beta33[i] + beta44[i] + beta0[i] + d_muf1_mean)\r\n",
        "expected1\r\n"
      ],
      "execution_count": 13,
      "outputs": [
        {
          "output_type": "execute_result",
          "data": {
            "text/plain": [
              "[-0.0038369729502038194,\n",
              " -0.0022514131615340785,\n",
              " -0.0029643735406742686,\n",
              " 0.0005732838056674502,\n",
              " -0.0011786740291300293,\n",
              " -0.005116845327385065,\n",
              " -0.00034803517685800395,\n",
              " 0.0010122051780463506,\n",
              " -0.00047021925523502844,\n",
              " 0.0007514074570538556,\n",
              " -3.448977990173213e-05,\n",
              " -0.0006189014466280798,\n",
              " 0.001678530559852627,\n",
              " 0.0007257771378565078,\n",
              " 0.0003941721605550466,\n",
              " 0.0004128745878116402,\n",
              " 0.0011850225077109158,\n",
              " -0.00046062314810210725,\n",
              " -0.0009234109831762691,\n",
              " 0.0006766563642410517]"
            ]
          },
          "metadata": {
            "tags": []
          },
          "execution_count": 13
        }
      ]
    },
    {
      "cell_type": "code",
      "metadata": {
        "id": "kynqHKj0bZm_"
      },
      "source": [
        "beta1 = np.array(beta1)\r\n",
        "beta2 = np.array(beta2)\r\n",
        "beta3 = np.array(beta3)\r\n",
        "beta4 = np.array(beta4)\r\n",
        "\r\n",
        "P2 = np.vstack((beta1,beta2,beta3,beta4))\r\n",
        "P3 = np.vstack((d11,d22,d33,d44))\r\n",
        "covfac1 = np.cov(P3)\r\n",
        "\r\n",
        "dif1=[]\r\n",
        "for i in range(len(d11)):\r\n",
        "  dif1.append(P[0,i] - beta0[0] - beta1[0]*d11_[i] - beta2[0]*d22[i] - beta3[0]*d33[i] -beta4[0]*d44[i])\r\n",
        "dif1 = np.array(dif1)\r\n",
        "\r\n",
        "dif2=[]\r\n",
        "for i in range(len(d11)):\r\n",
        "  dif2.append(P[1,i] - beta0[1] - beta1[1]*d11_[i] - beta2[1]*d22[i] - beta3[1]*d33[i] -beta4[1]*d44[i])\r\n",
        "dif2 = np.array(dif2)\r\n",
        "\r\n",
        "dif3=[]\r\n",
        "for i in range(len(d11)):\r\n",
        "  dif3.append(P[2,i] - beta0[2] - beta1[2]*d11_[i] - beta2[2]*d22[i] - beta3[2]*d33[i] -beta4[2]*d44[i])\r\n",
        "dif3 = np.array(dif3)\r\n",
        "\r\n",
        "dif4=[]\r\n",
        "for i in range(len(d11)):\r\n",
        "  dif4.append(P[3,i] - beta0[3] - beta1[3]*d11_[i] - beta2[3]*d22[i] - beta3[3]*d33[i] -beta4[3]*d44[i])\r\n",
        "dif4 = np.array(dif4)\r\n",
        "\r\n",
        "dif5=[]\r\n",
        "for i in range(len(d11)):\r\n",
        "  dif5.append(P[4,i] - beta0[4] - beta1[4]*d11_[i] - beta2[4]*d22[i] - beta3[4]*d33[i] -beta4[4]*d44[i])\r\n",
        "dif5 = np.array(dif5)\r\n",
        "\r\n",
        "dif6=[]\r\n",
        "for i in range(len(d11)):\r\n",
        "  dif6.append(P[5,i] - beta0[5] - beta1[5]*d11_[i] - beta2[5]*d22[i] - beta3[5]*d33[i] -beta4[5]*d44[i])\r\n",
        "dif6 = np.array(dif6)\r\n",
        "\r\n",
        "dif7=[]\r\n",
        "for i in range(len(d11)):\r\n",
        "  dif7.append(P[6,i] - beta0[6] - beta1[6]*d11_[i] - beta2[6]*d22[i] - beta3[6]*d33[i] -beta4[6]*d44[i])\r\n",
        "dif7 = np.array(dif7)\r\n",
        "\r\n",
        "dif8=[]\r\n",
        "for i in range(len(d11)):\r\n",
        "  dif8.append(P[7,i] - beta0[7] - beta1[7]*d11_[i] - beta2[7]*d22[i] - beta3[7]*d33[i] -beta4[7]*d44[i])\r\n",
        "dif8 = np.array(dif8)\r\n",
        "\r\n",
        "dif9=[]\r\n",
        "for i in range(len(d11)):\r\n",
        "  dif9.append(P[8,i] - beta0[8] - beta1[8]*d11_[i] - beta2[8]*d22[i] - beta3[8]*d33[i] -beta4[8]*d44[i])\r\n",
        "dif9 = np.array(dif9)\r\n",
        "\r\n",
        "dif10=[]\r\n",
        "for i in range(len(d11)):\r\n",
        "  dif10.append(P[9,i] - beta0[9] - beta1[9]*d11_[i] - beta2[9]*d22[i] - beta3[9]*d33[i] -beta4[9]*d44[i])\r\n",
        "dif10 = np.array(dif10)\r\n",
        "\r\n",
        "dif11=[]\r\n",
        "for i in range(len(d11)):\r\n",
        "  dif11.append(P[10,i] - beta0[10] - beta1[10]*d11_[i] - beta2[10]*d22[i] - beta3[10]*d33[i] -beta4[10]*d44[i])\r\n",
        "dif11 = np.array(dif11)\r\n",
        "\r\n",
        "dif12=[]\r\n",
        "for i in range(len(d11)):\r\n",
        "  dif12.append(P[11,i] - beta0[11] - beta1[11]*d11_[i] - beta2[11]*d22[i] - beta3[11]*d33[i] -beta4[11]*d44[i])\r\n",
        "dif12 = np.array(dif12)\r\n",
        "\r\n",
        "dif13=[]\r\n",
        "for i in range(len(d11)):\r\n",
        "  dif13.append(P[12,i] - beta0[12] - beta1[12]*d11_[i] - beta2[12]*d22[i] - beta3[12]*d33[i] -beta4[12]*d44[i])\r\n",
        "dif13 = np.array(dif13)\r\n",
        "\r\n",
        "dif14=[]\r\n",
        "for i in range(len(d11)):\r\n",
        "  dif14.append(P[13,i] - beta0[13] - beta1[13]*d11_[i] - beta2[13]*d22[i] - beta3[13]*d33[i] -beta4[13]*d44[i])\r\n",
        "dif14 = np.array(dif14)\r\n",
        "\r\n",
        "dif15=[]\r\n",
        "for i in range(len(d11)):\r\n",
        "  dif15.append(P[14,i] - beta0[14] - beta1[14]*d11_[i] - beta2[14]*d22[i] - beta3[14]*d33[i] -beta4[14]*d44[i])\r\n",
        "dif15 = np.array(dif15)\r\n",
        "\r\n",
        "dif16=[]\r\n",
        "for i in range(len(d11)):\r\n",
        "  dif16.append(P[15,i] - beta0[15] - beta1[15]*d11_[i] - beta2[15]*d22[i] - beta3[15]*d33[i] -beta4[15]*d44[i])\r\n",
        "dif16 = np.array(dif16)\r\n",
        "\r\n",
        "dif17=[]\r\n",
        "for i in range(len(d11)):\r\n",
        "  dif17.append(P[16,i] - beta0[16] - beta1[16]*d11_[i] - beta2[16]*d22[i] - beta3[16]*d33[i] -beta4[16]*d44[i])\r\n",
        "dif17 = np.array(dif17)\r\n",
        "\r\n",
        "dif18=[]\r\n",
        "for i in range(len(d11)):\r\n",
        "  dif18.append(P[17,i] - beta0[17] - beta1[17]*d11_[i] - beta2[17]*d22[i] - beta3[17]*d33[i] -beta4[17]*d44[i])\r\n",
        "dif18 = np.array(dif18)\r\n",
        "\r\n",
        "dif19=[]\r\n",
        "for i in range(len(d11)):\r\n",
        "  dif19.append(P[18,i] - beta0[18] - beta1[18]*d11_[i] - beta2[18]*d22[i] - beta3[18]*d33[i] -beta4[18]*d44[i])\r\n",
        "dif19 = np.array(dif19)\r\n",
        "\r\n",
        "dif20=[]\r\n",
        "for i in range(len(d11)):\r\n",
        "  dif20.append(P[19,i] - beta0[19] - beta1[19]*d11_[i] - beta2[19]*d22[i] - beta3[19]*d33[i] -beta4[19]*d44[i])\r\n",
        "dif20 = np.array(dif20)\r\n",
        "\r\n",
        "P4 = np.vstack((dif1,dif2,dif3,dif4,dif5,dif6,dif7,dif8,dif9,dif10,dif11,dif12,dif13,dif14,dif15,dif16,dif17,dif18,dif19,dif20))\r\n",
        "covresi1 = np.cov(P4)\r\n",
        "\r\n",
        "covRt1 = np.dot(np.dot(P2.T,covfac1),P2) + covresi1\r\n",
        "\r\n"
      ],
      "execution_count": 14,
      "outputs": []
    },
    {
      "cell_type": "code",
      "metadata": {
        "colab": {
          "base_uri": "https://localhost:8080/"
        },
        "id": "u6ejqnC0cxUZ",
        "outputId": "fbf3ad7a-612f-4a13-e79f-4368ec623ef2"
      },
      "source": [
        "var1 = []\r\n",
        "for i in range(20):\r\n",
        "  for t in range(20):\r\n",
        "    if t==i:\r\n",
        "      var1.append(covRt1[i,t])\r\n",
        "var1\r\n",
        "\r\n"
      ],
      "execution_count": 15,
      "outputs": [
        {
          "output_type": "execute_result",
          "data": {
            "text/plain": [
              "[0.02141231121496365,\n",
              " 0.0006566343503439786,\n",
              " 0.0022980993749551425,\n",
              " 0.0004208722015541466,\n",
              " 0.0007516414953773851,\n",
              " 0.0022064810448575462,\n",
              " 0.0005281876814023779,\n",
              " 0.00027632066496669226,\n",
              " 0.0006295349162617383,\n",
              " 0.00043469701160795,\n",
              " 0.0011563815826840071,\n",
              " 0.0008308047409778824,\n",
              " 0.0007428203724058295,\n",
              " 0.0004112489166080843,\n",
              " 0.0002842217011856668,\n",
              " 0.0006165927838819171,\n",
              " 0.0003967563511772884,\n",
              " 0.0005025281286145354,\n",
              " 0.0014348408345104646,\n",
              " 0.0004669285483983443]"
            ]
          },
          "metadata": {
            "tags": []
          },
          "execution_count": 15
        }
      ]
    },
    {
      "cell_type": "code",
      "metadata": {
        "id": "bzoye2ZnhA26"
      },
      "source": [
        ""
      ],
      "execution_count": 15,
      "outputs": []
    },
    {
      "cell_type": "code",
      "metadata": {
        "id": "7jaeDxbWhER3"
      },
      "source": [
        ""
      ],
      "execution_count": 15,
      "outputs": []
    }
  ]
}