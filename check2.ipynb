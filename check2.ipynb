{
  "nbformat": 4,
  "nbformat_minor": 0,
  "metadata": {
    "colab": {
      "name": "Untitled18.ipynb",
      "provenance": [],
      "collapsed_sections": [],
      "authorship_tag": "ABX9TyNp30SQluj7GjF2r9LmWfXw",
      "include_colab_link": true
    },
    "kernelspec": {
      "name": "python3",
      "display_name": "Python 3"
    }
  },
  "cells": [
    {
      "cell_type": "markdown",
      "metadata": {
        "id": "view-in-github",
        "colab_type": "text"
      },
      "source": [
        "<a href=\"https://colab.research.google.com/github/hhk54250/portfolio-management/blob/master/check2.ipynb\" target=\"_parent\"><img src=\"https://colab.research.google.com/assets/colab-badge.svg\" alt=\"Open In Colab\"/></a>"
      ]
    },
    {
      "cell_type": "code",
      "metadata": {
        "id": "zFTD0iYXSnr1",
        "outputId": "dd556723-b090-4a03-9500-c84f89d42321",
        "colab": {
          "base_uri": "https://localhost:8080/"
        }
      },
      "source": [
        "pip install yahoo-finance"
      ],
      "execution_count": 1,
      "outputs": [
        {
          "output_type": "stream",
          "text": [
            "Collecting yahoo-finance\n",
            "  Downloading https://files.pythonhosted.org/packages/7c/8c/61e2250dd88a22a3156c2b44fd021140bf984b49800584cb0372193a116a/yahoo-finance-1.4.0.tar.gz\n",
            "Requirement already satisfied: pytz in /usr/local/lib/python3.6/dist-packages (from yahoo-finance) (2018.9)\n",
            "Collecting simplejson\n",
            "\u001b[?25l  Downloading https://files.pythonhosted.org/packages/73/96/1e6b19045375890068d7342cbe280dd64ae73fd90b9735b5efb8d1e044a1/simplejson-3.17.2-cp36-cp36m-manylinux2010_x86_64.whl (127kB)\n",
            "\u001b[K     |████████████████████████████████| 133kB 10.4MB/s \n",
            "\u001b[?25hBuilding wheels for collected packages: yahoo-finance\n",
            "  Building wheel for yahoo-finance (setup.py) ... \u001b[?25l\u001b[?25hdone\n",
            "  Created wheel for yahoo-finance: filename=yahoo_finance-1.4.0-cp36-none-any.whl size=7234 sha256=43bea348e6b672dc24f04bf46938200145b7db0242863ba320b8dc0beae788ea\n",
            "  Stored in directory: /root/.cache/pip/wheels/58/77/5b/66026e0fa7af2ee5926a516a70d3df95e17f952c570bc5aee6\n",
            "Successfully built yahoo-finance\n",
            "Installing collected packages: simplejson, yahoo-finance\n",
            "Successfully installed simplejson-3.17.2 yahoo-finance-1.4.0\n"
          ],
          "name": "stdout"
        }
      ]
    },
    {
      "cell_type": "code",
      "metadata": {
        "id": "OytGpc5rWCHd",
        "outputId": "6d1234e7-ace1-44d5-da59-3548700292ec",
        "colab": {
          "base_uri": "https://localhost:8080/"
        }
      },
      "source": [
        "pip install pandas_market_calendars"
      ],
      "execution_count": 2,
      "outputs": [
        {
          "output_type": "stream",
          "text": [
            "Collecting pandas_market_calendars\n",
            "\u001b[?25l  Downloading https://files.pythonhosted.org/packages/27/de/ceb494df8a721998d19d256a3d326c7e8a21fd1dafccf25dff7143d15287/pandas_market_calendars-1.6.1-py3-none-any.whl (58kB)\n",
            "\u001b[K     |████████████████████████████████| 61kB 3.4MB/s \n",
            "\u001b[?25hRequirement already satisfied: pytz in /usr/local/lib/python3.6/dist-packages (from pandas_market_calendars) (2018.9)\n",
            "Collecting trading-calendars\n",
            "\u001b[?25l  Downloading https://files.pythonhosted.org/packages/8d/07/ea64b7acb14ca7db166d509cd43acc3548c2c2809e94730dfd9bb6546cb4/trading_calendars-2.0.0.tar.gz (102kB)\n",
            "\u001b[K     |████████████████████████████████| 112kB 18.8MB/s \n",
            "\u001b[?25hRequirement already satisfied: pandas>=0.18 in /usr/local/lib/python3.6/dist-packages (from pandas_market_calendars) (1.1.4)\n",
            "Requirement already satisfied: python-dateutil in /usr/local/lib/python3.6/dist-packages (from pandas_market_calendars) (2.8.1)\n",
            "Requirement already satisfied: numpy in /usr/local/lib/python3.6/dist-packages (from trading-calendars->pandas_market_calendars) (1.18.5)\n",
            "Requirement already satisfied: toolz in /usr/local/lib/python3.6/dist-packages (from trading-calendars->pandas_market_calendars) (0.11.1)\n",
            "Requirement already satisfied: six>=1.5 in /usr/local/lib/python3.6/dist-packages (from python-dateutil->pandas_market_calendars) (1.15.0)\n",
            "Building wheels for collected packages: trading-calendars\n",
            "  Building wheel for trading-calendars (setup.py) ... \u001b[?25l\u001b[?25hdone\n",
            "  Created wheel for trading-calendars: filename=trading_calendars-2.0.0-cp36-none-any.whl size=135649 sha256=b691864a47e53d81a69fd20f4f1512a96790dc7bd203b11752c5fbc335eefc67\n",
            "  Stored in directory: /root/.cache/pip/wheels/6e/fb/89/d71a90b9dd2c51fad1b5f6d240deb0d5051e80402f9fc3a6b9\n",
            "Successfully built trading-calendars\n",
            "Installing collected packages: trading-calendars, pandas-market-calendars\n",
            "Successfully installed pandas-market-calendars-1.6.1 trading-calendars-2.0.0\n"
          ],
          "name": "stdout"
        }
      ]
    },
    {
      "cell_type": "code",
      "metadata": {
        "id": "X3Wa5pl4WDJ-"
      },
      "source": [
        "import pandas as pd\n",
        "import pandas_market_calendars as mcal\n",
        "import pandas_datareader.data as web\n",
        "from pandas_datareader.data import DataReader\n",
        "import numpy as np\n",
        "import pandas as pd\n",
        "import matplotlib.pyplot as plt\n",
        "from numpy.linalg import *\n",
        "import os\n"
      ],
      "execution_count": 3,
      "outputs": []
    },
    {
      "cell_type": "code",
      "metadata": {
        "id": "0hWrBI99WETZ"
      },
      "source": [
        "data1 = web.get_data_yahoo('F','08/31/2019','08/31/2020',interval='d') #Ford\n",
        "data2 = web.get_data_yahoo('MSFT','08/31/2019','08/31/2020',interval='d') #Microsoft\n",
        "data3 = web.get_data_yahoo('DIS','08/31/2019','08/31/2020',interval='d') #Disney\n",
        "data4 = web.get_data_yahoo('AAPL','08/31/2019','08/31/2020',interval='d') #Apple\n",
        "data5 = web.get_data_yahoo('AEP','08/31/2019','08/31/2020',interval='d') #AEP\n",
        "data6 = web.get_data_yahoo('GOOG','08/31/2019','08/31/2020',interval='d') #Google\n",
        "data7 = web.get_data_yahoo('JPM','08/31/2019','08/31/2020',interval='d') #JP Morgan\n",
        "data8 = web.get_data_yahoo('MCD','08/31/2019','08/31/2020',interval='d') #McDonald\n",
        "data9 = web.get_data_yahoo('TIF','08/31/2019','08/31/2020',interval='d') #Tiffany\n",
        "data10 = web.get_data_yahoo('WMT','08/31/2019','08/31/2020',interval='d') #Walmart\n",
        "data11 = web.get_data_yahoo('AMZN','08/31/2019','08/31/2020',interval='d') #Amazon\n",
        "data12 = web.get_data_yahoo('GE','08/31/2019','08/31/2020',interval='d') #General Electric\n",
        "data13 = web.get_data_yahoo('FB','08/31/2019','08/31/2020',interval='d') #FACEBOOK\n",
        "data14 = web.get_data_yahoo('BIDU','08/31/2019','08/31/2020',interval='d') #BAIDU\n",
        "data15 = web.get_data_yahoo('JD','08/31/2019','08/31/2020',interval='d') #JD\n",
        "data16 = web.get_data_yahoo('TSLA','08/31/2019','08/31/2020',interval='d') #TSLA\n",
        "data17 = web.get_data_yahoo('NVDA','08/31/2019','08/31/2020',interval='d') #NVDA\n",
        "data18 = web.get_data_yahoo('CSCO','08/31/2019','08/31/2020',interval='d') #CSCO\n",
        "data19 = web.get_data_yahoo('BABA','08/31/2019','08/31/2020',interval='d') #BABA\n",
        "data20 = web.get_data_yahoo('PFE','08/31/2019','08/31/2020',interval='d') #PFE\n",
        "\n",
        "R_expect1=[]\n",
        "\n",
        "F = data1['Adj Close']\n",
        "logF = np.log(F)-np.log(F.shift(1))\n",
        "FL = np.array([logF])\n",
        "FL = np.delete(FL, 0)\n",
        "R_expect1.append(np.mean(FL))\n",
        "\n",
        "MSFT = data2['Adj Close']\n",
        "logMSFT = np.log(MSFT)-np.log(MSFT.shift(1))\n",
        "MSFTL = np.array([logMSFT])\n",
        "MSFTL = np.delete(MSFTL, 0)\n",
        "R_expect1.append(np.mean(MSFTL))\n",
        "\n",
        "DIS = data3['Adj Close']\n",
        "logDIS = np.log(DIS)-np.log(DIS.shift(1))\n",
        "DISL = np.array([logDIS])\n",
        "DISL = np.delete(DISL, 0)\n",
        "R_expect1.append(np.mean(DISL))\n",
        "\n",
        "AAPL = data4['Adj Close']\n",
        "logAAPL = np.log(AAPL)-np.log(AAPL.shift(1))\n",
        "AAPLL = np.array([logAAPL])\n",
        "AAPLL = np.delete(AAPLL, 0)\n",
        "R_expect1.append(np.mean(AAPLL))\n",
        "\n",
        "AEP = data5['Adj Close']\n",
        "logAEP = np.log(AEP)-np.log(AEP.shift(1))\n",
        "AEPL = np.array([logAEP])\n",
        "AEPL = np.delete(AEPL, 0)\n",
        "R_expect1.append(np.mean(AEPL))\n",
        "\n",
        "GOOG = data6['Adj Close']\n",
        "logGOOG = np.log(GOOG)-np.log(GOOG.shift(1))\n",
        "GOOGL = np.array([logGOOG])\n",
        "GOOGL = np.delete(GOOGL, 0)\n",
        "R_expect1.append(np.mean(GOOGL))\n",
        "\n",
        "JPM = data7['Adj Close']\n",
        "logJPM = np.log(JPM)-np.log(JPM.shift(1))\n",
        "JPML = np.array([logJPM])\n",
        "JPML = np.delete(JPML, 0)\n",
        "R_expect1.append(np.mean(JPML))\n",
        "\n",
        "MCD = data8['Adj Close']\n",
        "logMCD = np.log(MCD)-np.log(MCD.shift(1))\n",
        "MCDL = np.array([logMCD])\n",
        "MCDL = np.delete(MCDL, 0)\n",
        "R_expect1.append(np.mean(MCDL))\n",
        "\n",
        "TIF = data9['Adj Close']\n",
        "logTIF = np.log(TIF)-np.log(TIF.shift(1))\n",
        "TIFL = np.array([logTIF])\n",
        "TIFL = np.delete(TIFL, 0)\n",
        "R_expect1.append(np.mean(TIFL))\n",
        "\n",
        "WMT = data10['Adj Close']\n",
        "logWMT = np.log(WMT)-np.log(WMT.shift(1))\n",
        "WMTL = np.array([logWMT])\n",
        "WMTL = np.delete(WMTL, 0)\n",
        "R_expect1.append(np.mean(WMTL))\n",
        "\n",
        "AMZN = data11['Adj Close']\n",
        "logAMZN = np.log(AMZN)-np.log(AMZN.shift(1))\n",
        "AMZNL = np.array([logAMZN])\n",
        "AMZNL = np.delete(AMZNL, 0)\n",
        "R_expect1.append(np.mean(AMZNL))\n",
        "\n",
        "GE = data12['Adj Close']\n",
        "logGE = np.log(GE)-np.log(GE.shift(1))\n",
        "GEL = np.array([logGE])\n",
        "GEL = np.delete(GEL, 0)\n",
        "R_expect1.append(np.mean(GEL))\n",
        "\n",
        "FB = data13['Adj Close']\n",
        "logFB = np.log(FB)-np.log(FB.shift(1))\n",
        "FBL = np.array([logFB])\n",
        "FBL = np.delete(FBL, 0)\n",
        "R_expect1.append(np.mean(FBL))\n",
        "\n",
        "BIDU = data14['Adj Close']\n",
        "logBIDU = np.log(BIDU)-np.log(BIDU.shift(1))\n",
        "BIDUL = np.array([logBIDU])\n",
        "BIDUL = np.delete(BIDUL, 0)\n",
        "R_expect1.append(np.mean(BIDUL))\n",
        "\n",
        "JD = data15['Adj Close']\n",
        "logJD = np.log(JD)-np.log(JD.shift(1))\n",
        "JDL = np.array([logJD])\n",
        "JDL = np.delete(JDL, 0)\n",
        "R_expect1.append(np.mean(JDL))\n",
        "\n",
        "TSLA = data16['Adj Close']\n",
        "logTSLA = np.log(TSLA)-np.log(TSLA.shift(1))\n",
        "TSLAL = np.array([logTSLA])\n",
        "TSLAL = np.delete(TSLAL, 0)\n",
        "R_expect1.append(np.mean(TSLAL))\n",
        "\n",
        "NVDA = data17['Adj Close']\n",
        "logNVDA = np.log(NVDA)-np.log(NVDA.shift(1))\n",
        "NVDAL = np.array([logNVDA])\n",
        "NVDAL = np.delete(NVDAL, 0)\n",
        "R_expect1.append(np.mean(NVDAL))\n",
        "\n",
        "CSCO = data18['Adj Close']\n",
        "logCSCO = np.log(CSCO)-np.log(CSCO.shift(1))\n",
        "CSCOL = np.array([logCSCO])\n",
        "CSCOL = np.delete(CSCOL, 0)\n",
        "R_expect1.append(np.mean(CSCOL))\n",
        "\n",
        "BABA = data19['Adj Close']\n",
        "logBABA = np.log(BABA)-np.log(BABA.shift(1))\n",
        "BABAL = np.array([logBABA])\n",
        "BABAL = np.delete(BABAL, 0)\n",
        "R_expect1.append(np.mean(BABAL))\n",
        "\n",
        "PFE = data20['Adj Close']\n",
        "logPFE = np.log(PFE)-np.log(PFE.shift(1))\n",
        "PFEL = np.array([logPFE])\n",
        "PFEL = np.delete(PFEL, 0)\n",
        "R_expect1.append(np.mean(PFEL))\n"
      ],
      "execution_count": 4,
      "outputs": []
    },
    {
      "cell_type": "code",
      "metadata": {
        "id": "ftTFOFswWR4K"
      },
      "source": [
        "P=np.vstack((FL,MSFTL,DISL,AAPLL,AEPL,GOOGL,JPML,MCDL,TIFL,WMTL,AMZNL,GEL,FBL,BIDUL,JDL,TSLAL,NVDAL,CSCOL,BABAL,PFEL))\n",
        "R_cov1=np.cov(P)\n",
        "R_expect1=np.squeeze(np.array([R_expect1]))\n",
        "R_cov1=np.squeeze(np.array([R_cov1]))\n",
        "R_expect1 = R_expect1.reshape(-1,1)"
      ],
      "execution_count": 5,
      "outputs": []
    },
    {
      "cell_type": "code",
      "metadata": {
        "id": "ZHYNMViAjB9j"
      },
      "source": [
        "\n",
        "def optimalWeights(R_expect,R_cov,mu_p):\n",
        "  one = np.ones((len(R_expect),1))\n",
        "  A = np.dot(np.dot(one.reshape(1,-1),inv(R_cov)),R_expect)\n",
        "  B = np.dot(np.dot(R_expect.reshape(1,-1),inv(R_cov)),R_expect)\n",
        "  C = np.dot(np.dot(one.reshape(1,-1),inv(R_cov)),one)\n",
        "  D = B*C - A**2\n",
        "  g = (B * np.dot(inv(R_cov), one) - A* np.dot(inv(R_cov), R_expect))/D\n",
        "  h = (C * np.dot(inv(R_cov), R_expect) - A* np.dot(inv(R_cov), one))/D\n",
        "  min_sigma = np.dot(np.dot(g.reshape(1,-1),R_cov),g) - (np.dot(np.dot(h.reshape(1,-1),R_cov),g)**2)/np.dot(np.dot(h.reshape(1,-1),R_cov),h)\n",
        "  omega = g + h*mu_p\n",
        "  return g,h,min_sigma,omega\n",
        "\n",
        "def optimalWeights2(R_expect,R_cov):\n",
        "  one = np.ones((len(R_expect),1))\n",
        "  A = np.dot(np.dot(one.reshape(1,-1),inv(R_cov)),R_expect)\n",
        "  B = np.dot(np.dot(R_expect.reshape(1,-1),inv(R_cov)),R_expect)\n",
        "  C = np.dot(np.dot(one.reshape(1,-1),inv(R_cov)),one)\n",
        "  D = B*C - A**2\n",
        "  g = (B * np.dot(inv(R_cov), one) - A* np.dot(inv(R_cov), R_expect))/D\n",
        "  h = (C * np.dot(inv(R_cov), R_expect) - A* np.dot(inv(R_cov), one))/D\n",
        "  min_sigma = np.dot(np.dot(g.reshape(1,-1),R_cov),g) - (np.dot(np.dot(h.reshape(1,-1),R_cov),g)**2)/np.dot(np.dot(h.reshape(1,-1),R_cov),h)\n",
        "  return g,h,min_sigma\n",
        "\n",
        "def effcientfrontier(g,h,R_cov,N1,N2):\n",
        "  sigma = []\n",
        "  mu = []\n",
        "  weight = []\n",
        "  before_ = np.inf\n",
        "  for i in range(N1,N2):\n",
        "      w = g + h*(0.000001*i)\n",
        "      sigma_ = np.dot(np.dot(w.reshape(1,-1),R_cov),w)[0][0]\n",
        "      if sigma_ > before_:\n",
        "        sigma.append(np.sqrt(sigma_)*252)\n",
        "        weight.append(w)\n",
        "        mu.append((0.000001*i)*252)\n",
        "      before_ = sigma_\n",
        "  return sigma,mu,weight\n",
        "\n"
      ],
      "execution_count": 6,
      "outputs": []
    },
    {
      "cell_type": "code",
      "metadata": {
        "id": "aKn65gxlWZy9",
        "outputId": "81058336-6f1e-4b5f-ee51-4b389583b850",
        "colab": {
          "base_uri": "https://localhost:8080/",
          "height": 635
        }
      },
      "source": [
        "g1,h1,min_sigma1 = optimalWeights2(R_expect1,R_cov1)\n",
        "\n",
        "\n",
        "sigma1,mu1,weight1 = effcientfrontier(g1,h1,R_cov1,0,200000)\n",
        "plt.plot(sigma1,mu1)\n",
        "plt.ylabel(\"Expected return\")\n",
        "plt.xlabel(\"volatility\")\n",
        "plt.title(\"1 years EffcientFrontier\")\n",
        "plt.show()\n",
        "min_sigma1\n",
        "\n",
        "weight1[0]\n"
      ],
      "execution_count": 7,
      "outputs": [
        {
          "output_type": "display_data",
          "data": {
            "image/png": "[encoded data removed]",
            "text/plain": [
              "<Figure size 432x288 with 1 Axes>"
            ]
          },
          "metadata": {
            "tags": [],
            "needs_background": "light"
          }
        },
        {
          "output_type": "execute_result",
          "data": {
            "text/plain": [
              "array([[ 0.092144  ],\n",
              "       [-0.24941803],\n",
              "       [ 0.03590989],\n",
              "       [-0.05758528],\n",
              "       [ 0.10051027],\n",
              "       [ 0.09632692],\n",
              "       [-0.1219901 ],\n",
              "       [ 0.1201103 ],\n",
              "       [ 0.21017595],\n",
              "       [ 0.35777166],\n",
              "       [ 0.21595821],\n",
              "       [-0.04699757],\n",
              "       [ 0.04519403],\n",
              "       [ 0.05703191],\n",
              "       [-0.01448173],\n",
              "       [-0.01336668],\n",
              "       [-0.18413195],\n",
              "       [-0.07047899],\n",
              "       [ 0.22879789],\n",
              "       [ 0.1985193 ]])"
            ]
          },
          "metadata": {
            "tags": []
          },
          "execution_count": 7
        }
      ]
    },
    {
      "cell_type": "code",
      "metadata": {
        "id": "mNaUGigZWbdD",
        "outputId": "e5e79026-9185-470a-e36f-3340442de3cc",
        "colab": {
          "base_uri": "https://localhost:8080/"
        }
      },
      "source": [
        "\n",
        "\n",
        "rf = 0.12 # Choose 1 year US treasury rate as risk free rate\n",
        "def findTangent(R_cov, R_expect, rf):\n",
        "  rf_daily = 0.12/252\n",
        "  one = np.ones((len(R_expect),1))\n",
        "  w_b = np.dot(inv(R_cov),(R_expect - one*rf_daily))\n",
        "  w_t = w_b/(np.dot(w_b.T,one))\n",
        "  mu_T = np.dot(w_t.T,R_expect)\n",
        "  print(w_t)\n",
        "  return mu_T,w_t\n",
        "mu_T,w_t = findTangent(R_cov1, R_expect1, rf)\n",
        "np.dot(w_t.T,R_expect1)"
      ],
      "execution_count": 8,
      "outputs": [
        {
          "output_type": "stream",
          "text": [
            "[[ 1.75720459]\n",
            " [ 3.49653139]\n",
            " [ 0.48359685]\n",
            " [-4.99131436]\n",
            " [ 1.35456335]\n",
            " [ 1.76763613]\n",
            " [-1.22635444]\n",
            " [ 1.1937465 ]\n",
            " [-0.37797161]\n",
            " [ 0.47033202]\n",
            " [-0.4641688 ]\n",
            " [-0.02799514]\n",
            " [ 0.60649026]\n",
            " [ 1.86672386]\n",
            " [-1.64710996]\n",
            " [-1.5773039 ]\n",
            " [-2.82016761]\n",
            " [ 2.21560299]\n",
            " [ 0.16872522]\n",
            " [-1.24876736]]\n"
          ],
          "name": "stdout"
        },
        {
          "output_type": "execute_result",
          "data": {
            "text/plain": [
              "array([[-0.04553485]])"
            ]
          },
          "metadata": {
            "tags": []
          },
          "execution_count": 8
        }
      ]
    },
    {
      "cell_type": "code",
      "metadata": {
        "id": "AOOvqM2DWgRx",
        "outputId": "6ad8f1f1-a06f-47e3-8dd4-d06ef215d285",
        "colab": {
          "base_uri": "https://localhost:8080/",
          "height": 295
        }
      },
      "source": [
        "plt.plot(sigma1,mu1)\n",
        "plt.plot(np.sqrt(np.dot(np.dot(w_t.reshape(1,-1),R_cov1),w_t)[0][0])*252,mu_T*252,'x')\n",
        "plt.ylabel(\"Expected return\")\n",
        "plt.xlabel(\"volatility\")\n",
        "plt.title(\"1 years EffcientFrontier\")\n",
        "x = np.linspace(0, 30, 100)\n",
        "y = ((mu_T[0]*252-0.12/252)/(np.sqrt(np.dot(np.dot(w_t.T,R_cov1),w_t)[0][0])*252))*x+0.12/252\n",
        "\n",
        "plt.plot(x,y,color='red')\n",
        "\n",
        "plt.show()"
      ],
      "execution_count": 9,
      "outputs": [
        {
          "output_type": "display_data",
          "data": {
            "image/png": "[encoded data removed]",
            "text/plain": [
              "<Figure size 432x288 with 1 Axes>"
            ]
          },
          "metadata": {
            "tags": [],
            "needs_background": "light"
          }
        }
      ]
    },
    {
      "cell_type": "code",
      "metadata": {
        "id": "mOMyeHg3XsNZ",
        "outputId": "f924cc3f-344d-4910-a64c-e089955db90b",
        "colab": {
          "base_uri": "https://localhost:8080/",
          "height": 295
        }
      },
      "source": [
        "def sharpe_ratio(sigma_v,mu_v,rf):\n",
        "  sharpe = 0\n",
        "  m = 0\n",
        "  for i in range(len(sigma_v)):\n",
        "    k_t = (mu_v[i] - rf)/sigma_v[i]\n",
        "    if k_t > sharpe:\n",
        "      sharpe = k_t\n",
        "      m = i\n",
        "  return sharpe,m\n",
        "\n",
        "rf = 0.12/252 # Choose 1 year US treasury rate as risk free rate\n",
        "sigma_x = np.linspace(0,25,1000).reshape(-1,1)\n",
        "sharpe,index_ = sharpe_ratio(sigma1,mu1,rf)\n",
        "targent_v = (sharpe * sigma_x + rf).reshape(-1,1)\n",
        "plt.plot(sigma_x,targent_v,label = \"Capital Market Line\")\n",
        "plt.plot(sigma1,mu1,label = \"Efficient Froniter\")\n",
        "plt.scatter(sigma1[index_], mu1[index_], color='r',marker = \"x\")\n",
        "plt.text(sigma1[index_], mu1[index_],'Tangency portfolio',ha='left',fontsize=10)\n",
        "plt.ylabel(\"Expected return\")\n",
        "plt.xlabel(\"Standard volatility\")\n",
        "plt.title(\"1 years EffcientFrontier with VXX\")\n",
        "plt.legend()\n",
        "plt.show()  "
      ],
      "execution_count": 10,
      "outputs": [
        {
          "output_type": "display_data",
          "data": {
            "image/png": "[encoded data removed]",
            "text/plain": [
              "<Figure size 432x288 with 1 Axes>"
            ]
          },
          "metadata": {
            "tags": [],
            "needs_background": "light"
          }
        }
      ]
    },
    {
      "cell_type": "code",
      "metadata": {
        "id": "LHl1EBwd8NbE",
        "outputId": "7eeded93-fbfa-4ee4-862c-0ba16c416dab",
        "colab": {
          "base_uri": "https://localhost:8080/",
          "height": 1000
        }
      },
      "source": [
        "def optimalWeights3(R_expect,R_cov):\n",
        "  one = np.ones((len(R_expect),1))\n",
        "  A = np.dot(np.dot(one.reshape(1,-1),inv(R_cov)),R_expect)\n",
        "  B = np.dot(np.dot(R_expect.reshape(1,-1),inv(R_cov)),R_expect)\n",
        "  C = np.dot(np.dot(one.reshape(1,-1),inv(R_cov)),one)\n",
        "  D = B*C - A**2\n",
        "  g = (B * np.dot(inv(R_cov), one) - A* np.dot(inv(R_cov), R_expect))/D\n",
        "  h = (C * np.dot(inv(R_cov), R_expect) - A* np.dot(inv(R_cov), one))/D\n",
        "  min_sigma = np.dot(np.dot(g.reshape(1,-1),R_cov),g) - (np.dot(np.dot(h.reshape(1,-1),R_cov),g)**2)/np.dot(np.dot(h.reshape(1,-1),R_cov),h)\n",
        "  return A,B,C,D,g,h,min_sigma\n",
        "\n",
        "\n",
        "mc=[0.08,0.03,0.05]\n",
        "mc=np.array(mc)\n",
        "mc=mc.reshape(-1,1)\n",
        "OC=[0.3,0.02,0.01,0.02,0.15,0.03,0.01,0.03,0.18]\n",
        "OC=np.array(OC)\n",
        "OC=OC.reshape(3,3)\n",
        "a,b,c,d,g,h,min_sigma1 = optimalWeights3(R_expect1,R_cov1)\n",
        "\n",
        "rf = 0.02 # Choose 1 year US treasury rate as risk free rate\n",
        "def findTangent1(R_cov, R_expect, rf):\n",
        "  rf_daily = 0.02\n",
        "  one = np.ones((len(R_expect),1))\n",
        "  w_b = np.dot(inv(R_cov),(R_expect - one*rf_daily))\n",
        "  w_t = w_b/(np.dot(w_b.T,one))\n",
        "  mu_T = np.dot(w_t.T,R_expect)\n",
        "  return mu_T,w_t\n",
        "mu_T,w_t=findTangent1(R_cov1, R_expect1, rf)\n",
        "\n",
        "def effcientfrontier1(g,h,R_cov,N1,N2):\n",
        "  sigma = []\n",
        "  mu = []\n",
        "  weight = []\n",
        "  before_ = np.inf\n",
        "  for i in range(N1,N2):\n",
        "      w = g + h*(0.001*i)\n",
        "      sigma_ = np.dot(np.dot(w.reshape(1,-1),R_cov),w)[0][0]\n",
        "      if sigma_ > before_:\n",
        "        sigma.append(np.sqrt(sigma_))\n",
        "        weight.append(w)\n",
        "        mu.append((0.001*i))\n",
        "      before_ = sigma_\n",
        "  return sigma,mu,weight\n",
        "\n",
        "\n",
        "\n",
        "sigma,mu,weight = effcientfrontier1(g,h,R_cov1,0,80)\n",
        "\n",
        "\n",
        "\n",
        "\n",
        "\n",
        "plt.plot(sigma,mu)\n",
        "plt.plot(np.sqrt(np.dot(np.dot(w_t.reshape(1,-1),R_cov1),w_t)[0][0]),mu_T,'x')\n",
        "plt.ylabel(\"Expected return\")\n",
        "plt.xlabel(\"volatility\")\n",
        "plt.title(\"1 years EffcientFrontier\")\n",
        "x = np.linspace(0, 0.5, 100)\n",
        "y = ((mu_T[0]-0.02)/(np.sqrt(np.dot(np.dot(w_t.T,R_cov1),w_t)[0][0])))*x+0.02\n",
        "\n",
        "plt.plot(x,y,color='red')\n",
        "\n",
        "plt.show()\n",
        "\n",
        "sigma"
      ],
      "execution_count": 56,
      "outputs": [
        {
          "output_type": "display_data",
          "data": {
            "image/png": "[encoded data removed]",
            "text/plain": [
              "<Figure size 432x288 with 1 Axes>"
            ]
          },
          "metadata": {
            "tags": [],
            "needs_background": "light"
          }
        },
        {
          "output_type": "execute_result",
          "data": {
            "text/plain": [
              "[0.011561690358523441,\n",
              " 0.012554120398237705,\n",
              " 0.014123348779606085,\n",
              " 0.016101608903374597,\n",
              " 0.018357135521478895,\n",
              " 0.02079992371573826,\n",
              " 0.02337132891722244,\n",
              " 0.026033267003650228,\n",
              " 0.028760611140230805,\n",
              " 0.0315363964679808,\n",
              " 0.034348881174816354,\n",
              " 0.037189739989512076,\n",
              " 0.040052935844495256,\n",
              " 0.04293400011399905,\n",
              " 0.04582956304138592,\n",
              " 0.0487370405142715,\n",
              " 0.0516544206662411,\n",
              " 0.05458011558608253,\n",
              " 0.05751285636416556,\n",
              " 0.06045161754403292,\n",
              " 0.06339556188697121,\n",
              " 0.06634399940453879,\n",
              " 0.06929635656918744,\n",
              " 0.07225215289033518,\n",
              " 0.07521098289187991,\n",
              " 0.07817250210007876,\n",
              " 0.08113641604335785,\n",
              " 0.0841024715385034,\n",
              " 0.08707044972985135,\n",
              " 0.09004016048509823,\n",
              " 0.09301143785016872,\n",
              " 0.09598413633762214,\n",
              " 0.09895812787615045,\n",
              " 0.10193329928819012,\n",
              " 0.1049095501922909,\n",
              " 0.10788679124930796,\n",
              " 0.11086494268859105,\n",
              " 0.11384393306350268,\n",
              " 0.11682369819578503,\n",
              " 0.11980418027624215,\n",
              " 0.12278532709544196,\n",
              " 0.12576709138306766,\n",
              " 0.12874943023846352,\n",
              " 0.131732304638046,\n",
              " 0.13471567900776366,\n",
              " 0.13769952085081685,\n",
              " 0.14068380042249415,\n",
              " 0.14366849044532226,\n",
              " 0.14665356585882605,\n",
              " 0.14963900359909602,\n",
              " 0.15262478240410832,\n",
              " 0.15561088264135775,\n",
              " 0.15859728615488125,\n",
              " 0.16158397612917577,\n",
              " 0.16457093696787625,\n",
              " 0.16755815418536102,\n",
              " 0.1705456143097078,\n",
              " 0.17353330479563828,\n",
              " 0.17652121394627346,\n",
              " 0.17950933084267814,\n",
              " 0.1824976452803049,\n",
              " 0.18548614771156305,\n",
              " 0.18847482919383546,\n",
              " 0.1914636813423502,\n",
              " 0.19445269628738612,\n",
              " 0.1974418666353561,\n",
              " 0.20043118543336247,\n",
              " 0.20342064613687075,\n",
              " 0.20641024258018528,\n",
              " 0.20939996894944793,\n",
              " 0.2123898197579122,\n",
              " 0.2153797898232725,\n",
              " 0.2183698742468509,\n",
              " 0.2213600683944686,\n",
              " 0.22435036787884266,\n",
              " 0.22734076854337,\n",
              " 0.23033126644717192,\n",
              " 0.23332185785128653,\n",
              " 0.2363125392059077]"
            ]
          },
          "metadata": {
            "tags": []
          },
          "execution_count": 56
        }
      ]
    },
    {
      "cell_type": "code",
      "metadata": {
        "id": "BXJBXJFjK0Fc",
        "outputId": "12a65341-8086-4ce8-d649-623d56d60beb",
        "colab": {
          "base_uri": "https://localhost:8080/"
        }
      },
      "source": [
        "np.linalg.eig(R_cov1)\n",
        "R "
      ],
      "execution_count": 58,
      "outputs": [
        {
          "output_type": "execute_result",
          "data": {
            "text/plain": [
              "(array([8.89180227e-03, 1.98958401e-03, 1.32939640e-03, 7.59420443e-04,\n",
              "        5.75033938e-04, 4.01376834e-04, 3.87923087e-04, 3.27439548e-04,\n",
              "        2.91319521e-04, 2.64332292e-04, 2.32307573e-04, 6.32267923e-05,\n",
              "        2.03654186e-04, 1.94023380e-04, 8.68379512e-05, 1.62047960e-04,\n",
              "        1.47647433e-04, 1.12753405e-04, 1.19867438e-04, 1.29468974e-04]),\n",
              " array([[ 2.60445947e-01, -1.75707244e-01, -4.70301810e-01,\n",
              "         -2.41926276e-02,  6.06842705e-02, -2.55205537e-01,\n",
              "          3.77782312e-01, -3.46771245e-01,  2.06670010e-01,\n",
              "         -1.67120406e-02, -2.16496089e-01, -5.84254735e-02,\n",
              "         -1.75738231e-01, -2.27905582e-01, -1.66417572e-01,\n",
              "         -3.37197349e-01,  1.24151353e-01,  8.46947980e-02,\n",
              "          6.68681270e-02, -5.64610125e-02],\n",
              "        [ 2.44123478e-01, -2.31215071e-03,  2.18211926e-01,\n",
              "         -8.81394915e-02, -4.56433944e-02,  5.12238596e-02,\n",
              "         -8.60260480e-02,  3.01384442e-03,  2.52179713e-02,\n",
              "          3.36412507e-03,  4.01208291e-02, -7.06359154e-01,\n",
              "          1.77891674e-01,  8.09425060e-02, -5.36281874e-01,\n",
              "          3.13123769e-02,  8.37621173e-02, -4.95274482e-02,\n",
              "          1.88159804e-01, -6.88314897e-03],\n",
              "        [ 2.39265194e-01, -1.11289516e-01, -8.93662987e-02,\n",
              "         -4.73404736e-02, -2.63406556e-02, -4.27856096e-01,\n",
              "          9.08909739e-02,  3.46716075e-01, -2.49347254e-01,\n",
              "          3.20586570e-01,  4.96797835e-01, -4.01270860e-02,\n",
              "         -1.72984863e-01, -1.08068888e-01,  7.80817900e-02,\n",
              "          3.15675786e-02,  6.72181143e-03, -4.64350480e-02,\n",
              "          1.12226836e-01,  3.62009975e-01],\n",
              "        [ 2.37636756e-01, -3.50384859e-02,  1.94223408e-01,\n",
              "         -1.11492851e-01, -2.40983262e-02, -4.26847910e-02,\n",
              "         -1.28506971e-01, -6.67524589e-02,  2.10887634e-01,\n",
              "          4.42568196e-02, -5.96783512e-03,  1.65881227e-01,\n",
              "          2.29636083e-03,  6.70625624e-03,  1.22926162e-01,\n",
              "         -2.04387856e-01, -6.12656853e-01, -1.66118952e-01,\n",
              "          5.59763194e-01, -1.46888854e-01],\n",
              "        [ 1.34445556e-01, -1.81008266e-01,  6.55880328e-02,\n",
              "         -4.06040303e-01,  1.56412586e-01,  3.36947287e-01,\n",
              "          2.02808639e-01,  1.88726818e-01,  2.71789888e-01,\n",
              "         -2.33365207e-01,  1.87303159e-01, -6.21894019e-02,\n",
              "         -4.86853524e-01, -1.12779080e-01, -1.21047969e-02,\n",
              "          2.65496902e-01, -1.50386170e-01,  8.65690347e-03,\n",
              "         -2.16587118e-01, -8.93407503e-02],\n",
              "        [ 2.05806311e-01, -1.18644333e-02,  1.47523982e-01,\n",
              "         -4.79793646e-02, -7.02482621e-02, -6.29738656e-02,\n",
              "         -1.46384596e-01,  1.05883032e-01,  7.97508553e-02,\n",
              "         -6.52939652e-02, -5.31198079e-02,  6.39619550e-01,\n",
              "          2.46866670e-02, -7.73379953e-02, -6.41222388e-01,\n",
              "          6.91042150e-02,  1.58821098e-01, -6.75144596e-02,\n",
              "         -3.93486161e-02,  1.24403697e-01],\n",
              "        [ 2.78984215e-01, -2.45982473e-01, -2.22496725e-01,\n",
              "         -4.86199188e-02, -7.03338098e-02, -3.41006304e-02,\n",
              "          8.12370222e-02,  2.94137464e-01,  1.91615223e-01,\n",
              "         -4.94522842e-02,  9.44269376e-02,  5.63326912e-02,\n",
              "          6.76196264e-01, -8.83437148e-02,  1.56214045e-01,\n",
              "          2.01315829e-01,  3.47112004e-03,  1.16566368e-01,\n",
              "         -1.10721933e-01, -3.21679961e-01],\n",
              "        [ 2.17894978e-01, -6.29957093e-02, -9.39982129e-02,\n",
              "         -1.22516146e-01, -1.18260202e-01, -2.61538755e-01,\n",
              "         -7.96874566e-04, -6.69547780e-02, -2.68438409e-03,\n",
              "         -2.33693717e-01, -7.27977308e-02,  5.29842585e-02,\n",
              "         -1.58777134e-01,  7.46896688e-01,  1.51653384e-01,\n",
              "          2.05835700e-01,  2.42816635e-01, -2.19913534e-01,\n",
              "          8.71778325e-02, -1.08421841e-01],\n",
              "        [ 8.57436096e-02,  5.19874066e-02, -3.75150952e-02,\n",
              "          2.41448356e-01, -8.67314909e-01,  2.91882873e-01,\n",
              "          1.94358661e-01,  3.84963987e-02,  1.26523116e-01,\n",
              "          9.97766061e-02,  5.15422454e-02, -8.05845213e-03,\n",
              "         -1.49003119e-01, -1.69364885e-02,  2.38306271e-02,\n",
              "         -1.84637522e-02,  7.79550606e-04, -3.07712554e-02,\n",
              "         -4.06372730e-03,  2.24953347e-02],\n",
              "        [ 9.57773424e-02, -7.53693940e-02,  2.08753747e-01,\n",
              "         -2.16880672e-01,  2.63384942e-02,  2.48802397e-01,\n",
              "          1.58714911e-01,  3.25439575e-02, -9.38370439e-02,\n",
              "         -1.56503389e-02,  2.34992381e-01,  1.25625683e-01,\n",
              "          1.13824687e-01,  3.48119316e-01,  3.15166952e-02,\n",
              "         -5.93112208e-01,  1.31583298e-01,  4.64413098e-01,\n",
              "         -2.64054204e-02,  7.08654995e-02],\n",
              "        [ 1.49611881e-01,  8.37578722e-02,  2.56920543e-01,\n",
              "          5.46865780e-03,  5.27567010e-02,  1.07023379e-02,\n",
              "         -1.84431058e-01,  1.43554733e-01,  3.73757605e-02,\n",
              "          2.09647484e-01,  1.73891867e-02,  1.06105450e-02,\n",
              "         -2.00306202e-01, -2.55042290e-01,  2.05451511e-01,\n",
              "         -2.15604888e-01,  5.38583001e-01, -2.01024151e-01,\n",
              "          7.09438040e-02, -5.21438345e-01],\n",
              "        [ 2.98868780e-01, -3.37795679e-01, -3.86925813e-01,\n",
              "          2.18600495e-01,  1.26938938e-01,  4.52213183e-01,\n",
              "         -5.16133086e-01, -1.67027584e-01, -1.88830715e-01,\n",
              "          1.07367597e-01,  1.14063554e-01,  1.57681151e-02,\n",
              "         -9.06693374e-02,  6.20803739e-02,  5.84496569e-03,\n",
              "         -2.99743682e-02, -1.14626432e-02, -7.01416874e-02,\n",
              "         -3.84719851e-02,  6.47232526e-02],\n",
              "        [ 2.20646008e-01, -2.12732680e-02,  2.02423167e-01,\n",
              "         -1.40384163e-02, -1.41257767e-01, -3.18225712e-01,\n",
              "         -4.60038003e-01, -3.28599595e-02,  3.78196074e-01,\n",
              "         -5.19843804e-02, -1.75022084e-01, -1.45852317e-01,\n",
              "         -7.11747640e-02, -5.00771321e-02,  2.14428341e-01,\n",
              "         -1.23071042e-01, -6.26148500e-02,  2.30439763e-01,\n",
              "         -4.26568490e-01,  2.65388119e-01],\n",
              "        [ 2.03843014e-01,  4.97886138e-02,  3.03443457e-02,\n",
              "          5.13576105e-01,  1.23556590e-01, -2.29297884e-02,\n",
              "          9.38811744e-02,  4.63556879e-01, -1.94909169e-01,\n",
              "         -5.51919568e-01, -1.56114070e-01, -7.20448965e-02,\n",
              "         -1.15478006e-01, -2.98027901e-02, -5.37165721e-03,\n",
              "         -2.23597872e-01, -1.20644431e-01, -2.45113718e-02,\n",
              "          2.66374348e-03, -1.48046942e-02],\n",
              "        [ 2.05119718e-01,  9.17928776e-02,  2.17377862e-01,\n",
              "          3.79888337e-01,  3.09006570e-01,  1.05283276e-01,\n",
              "          3.39262578e-01, -1.45033485e-01,  3.24291730e-01,\n",
              "          2.87145825e-01,  1.36261104e-01,  3.35391514e-02,\n",
              "          1.29323780e-01,  1.99254374e-01,  2.66317040e-02,\n",
              "         -3.00471223e-02, -3.99762436e-02, -3.78496694e-01,\n",
              "         -2.90840804e-01,  1.42944715e-01],\n",
              "        [ 3.55872756e-01,  8.18118879e-01, -3.18208229e-01,\n",
              "         -2.25986124e-01,  6.31125480e-02,  1.39191914e-01,\n",
              "         -4.87432671e-02,  6.13488517e-02, -5.81944594e-02,\n",
              "          5.42741883e-02, -4.09259994e-02,  1.27313941e-02,\n",
              "          3.07822120e-02,  6.01545682e-03,  3.75727111e-02,\n",
              "          1.94937273e-02, -6.18396107e-02,  5.81604982e-02,\n",
              "         -5.48138868e-02,  3.25055275e-02],\n",
              "        [ 3.07987605e-01,  3.97610114e-02,  3.03235176e-01,\n",
              "         -2.28680399e-03, -8.72207921e-02, -3.47787992e-02,\n",
              "          1.01248931e-01, -5.50028869e-01, -3.57512268e-01,\n",
              "         -3.72000046e-01,  2.41035349e-01,  5.39649321e-02,\n",
              "          1.13445368e-01, -2.90507843e-01,  1.72672804e-01,\n",
              "          1.75285461e-01,  4.93710071e-02, -6.14064998e-03,\n",
              "         -4.47501758e-02,  2.26521691e-02],\n",
              "        [ 2.12719599e-01, -1.51610204e-01,  1.69512837e-01,\n",
              "         -1.06413317e-01, -5.84406148e-02, -5.21490227e-02,\n",
              "          1.52450766e-01,  3.58565240e-02, -4.87722767e-01,\n",
              "          3.78959437e-01, -4.40405633e-01,  1.34598968e-03,\n",
              "         -7.73175392e-02,  7.65909813e-02, -7.31473848e-02,\n",
              "          4.43619733e-02, -2.93290775e-01,  4.40885366e-02,\n",
              "         -3.40291128e-01, -2.50355446e-01],\n",
              "        [ 1.67578922e-01,  3.56421446e-02,  1.38461768e-01,\n",
              "          3.45986064e-01,  1.60785792e-01,  2.96920997e-02,\n",
              "          6.54541671e-02, -3.90939025e-02,  1.23243859e-01,\n",
              "          1.96324369e-01, -1.01117103e-01,  5.16835578e-02,\n",
              "         -1.65928955e-01,  5.86151990e-02,  3.78628926e-02,\n",
              "          4.28080859e-01,  9.99340062e-02,  6.30175759e-01,\n",
              "          3.30244950e-01, -2.77396055e-02],\n",
              "        [ 1.33168868e-01, -1.48696298e-01,  1.00580810e-01,\n",
              "         -2.21136052e-01,  3.51964231e-02,  2.67443966e-01,\n",
              "          1.29886828e-01,  1.41731033e-01, -2.70509161e-02,\n",
              "          1.61355031e-02, -4.93800391e-01, -3.39683216e-03,\n",
              "          1.46626309e-01, -1.34975363e-01,  2.76134088e-01,\n",
              "          5.00771726e-02,  2.55939660e-01, -1.80647837e-01,\n",
              "          2.49453983e-01,  5.17426885e-01]]))"
            ]
          },
          "metadata": {
            "tags": []
          },
          "execution_count": 58
        }
      ]
    }
  ]
}