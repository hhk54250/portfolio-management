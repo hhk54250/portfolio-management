{
  "nbformat": 4,
  "nbformat_minor": 0,
  "metadata": {
    "colab": {
      "name": "Untitled23.ipynb",
      "provenance": [],
      "authorship_tag": "ABX9TyMzKDnBemC1WXUYXLPF6vVq",
      "include_colab_link": true
    },
    "kernelspec": {
      "name": "python3",
      "display_name": "Python 3"
    }
  },
  "cells": [
    {
      "cell_type": "markdown",
      "metadata": {
        "id": "view-in-github",
        "colab_type": "text"
      },
      "source": [
        "<a href=\"https://colab.research.google.com/github/hhk54250/portfolio-management/blob/master/factor5.ipynb\" target=\"_parent\"><img src=\"https://colab.research.google.com/assets/colab-badge.svg\" alt=\"Open In Colab\"/></a>"
      ]
    },
    {
      "cell_type": "code",
      "metadata": {
        "colab": {
          "base_uri": "https://localhost:8080/"
        },
        "id": "rk-DXh5UaVJj",
        "outputId": "7e32f523-de08-4c61-f3ca-f056defbf174"
      },
      "source": [
        "pip install yahoo-finance"
      ],
      "execution_count": 1,
      "outputs": [
        {
          "output_type": "stream",
          "text": [
            "Requirement already satisfied: yahoo-finance in /usr/local/lib/python3.6/dist-packages (1.4.0)\n",
            "Requirement already satisfied: pytz in /usr/local/lib/python3.6/dist-packages (from yahoo-finance) (2018.9)\n",
            "Requirement already satisfied: simplejson in /usr/local/lib/python3.6/dist-packages (from yahoo-finance) (3.17.2)\n"
          ],
          "name": "stdout"
        }
      ]
    },
    {
      "cell_type": "code",
      "metadata": {
        "colab": {
          "base_uri": "https://localhost:8080/"
        },
        "id": "17vNWIz1aW4I",
        "outputId": "0a083940-c037-4892-d129-70888109fdf6"
      },
      "source": [
        "pip install pandas_market_calendars"
      ],
      "execution_count": 2,
      "outputs": [
        {
          "output_type": "stream",
          "text": [
            "Requirement already satisfied: pandas_market_calendars in /usr/local/lib/python3.6/dist-packages (1.6.1)\n",
            "Requirement already satisfied: pandas>=0.18 in /usr/local/lib/python3.6/dist-packages (from pandas_market_calendars) (1.1.4)\n",
            "Requirement already satisfied: pytz in /usr/local/lib/python3.6/dist-packages (from pandas_market_calendars) (2018.9)\n",
            "Requirement already satisfied: trading-calendars in /usr/local/lib/python3.6/dist-packages (from pandas_market_calendars) (2.0.0)\n",
            "Requirement already satisfied: python-dateutil in /usr/local/lib/python3.6/dist-packages (from pandas_market_calendars) (2.8.1)\n",
            "Requirement already satisfied: numpy>=1.15.4 in /usr/local/lib/python3.6/dist-packages (from pandas>=0.18->pandas_market_calendars) (1.18.5)\n",
            "Requirement already satisfied: toolz in /usr/local/lib/python3.6/dist-packages (from trading-calendars->pandas_market_calendars) (0.11.1)\n",
            "Requirement already satisfied: six>=1.5 in /usr/local/lib/python3.6/dist-packages (from python-dateutil->pandas_market_calendars) (1.15.0)\n"
          ],
          "name": "stdout"
        }
      ]
    },
    {
      "cell_type": "code",
      "metadata": {
        "id": "UVm6mj97aYB2"
      },
      "source": [
        "import pandas as pd\r\n",
        "import pandas_market_calendars as mcal\r\n",
        "import pandas_datareader.data as web\r\n",
        "from pandas_datareader.data import DataReader\r\n",
        "import numpy as np\r\n",
        "import pandas as pd\r\n",
        "import matplotlib.pyplot as plt\r\n",
        "from numpy.linalg import *\r\n",
        "import os\r\n",
        "from sklearn.linear_model import LinearRegression\r\n",
        "from numpy import linalg"
      ],
      "execution_count": 50,
      "outputs": []
    },
    {
      "cell_type": "code",
      "metadata": {
        "id": "weqSuk6FaZjF"
      },
      "source": [
        "data1 = web.get_data_yahoo('SPY','03/01/2019','12/31/2019',interval='d') \r\n",
        "data2 = web.get_data_yahoo('FCEL','03/01/2019','12/31/2019',interval='d') \r\n",
        "data3 = web.get_data_yahoo('GPS','03/01/2019','12/31/2019',interval='d') \r\n",
        "data4 = web.get_data_yahoo('GME','03/01/2019','12/31/2019',interval='d') \r\n",
        "data5 = web.get_data_yahoo('F','03/01/2019','12/31/2019',interval='d') \r\n",
        "data6 = web.get_data_yahoo('BIDU','03/01/2019','12/31/2019',interval='d') \r\n",
        "data7 = web.get_data_yahoo('JP','03/01/2019','12/31/2019',interval='d') \r\n",
        "data8 = web.get_data_yahoo('SLB','03/01/2019','12/31/2019',interval='d') \r\n",
        "data9 = web.get_data_yahoo('WMT','03/01/2019','12/31/2019',interval='d') \r\n",
        "data10 = web.get_data_yahoo('NFLX','03/01/2019','12/31/2019',interval='d') \r\n",
        "data11 = web.get_data_yahoo('GOOG','03/01/2019','12/31/2019',interval='d') \r\n",
        "data12 = web.get_data_yahoo('GCO','03/01/2019','12/31/2019',interval='d') \r\n",
        "data13 = web.get_data_yahoo('NOV','03/01/2019','12/31/2019',interval='d') \r\n",
        "data14 = web.get_data_yahoo('TIF','03/01/2019','12/31/2019',interval='d') \r\n",
        "data15 = web.get_data_yahoo('VLO','03/01/2019','12/31/2019',interval='d') \r\n",
        "data16 = web.get_data_yahoo('MCD','03/01/2019','12/31/2019',interval='d') \r\n",
        "data17 = web.get_data_yahoo('GE','03/01/2019','12/31/2019',interval='d') \r\n",
        "data18 = web.get_data_yahoo('DIS','03/01/2019','12/31/2019',interval='d') \r\n",
        "data19 = web.get_data_yahoo('CCL','03/01/2019','12/31/2019',interval='d') \r\n",
        "data20 = web.get_data_yahoo('RIG','03/01/2019','12/31/2019',interval='d') \r\n",
        "data21 = web.get_data_yahoo('BABA','03/01/2019','12/31/2019',interval='d') "
      ],
      "execution_count": 4,
      "outputs": []
    },
    {
      "cell_type": "code",
      "metadata": {
        "id": "QFn00Jmgaa66"
      },
      "source": [
        "d1 = data1['Adj Close']\r\n",
        "d2 = data2['Adj Close']\r\n",
        "d3 = data3['Adj Close']\r\n",
        "d4 = data4['Adj Close']\r\n",
        "d5 = data5['Adj Close']\r\n",
        "d6 = data6['Adj Close']\r\n",
        "d7 = data7['Adj Close']\r\n",
        "d8 = data8['Adj Close']\r\n",
        "d9 = data9['Adj Close']\r\n",
        "d10 = data10['Adj Close']\r\n",
        "d11 = data11['Adj Close']\r\n",
        "d12 = data12['Adj Close']\r\n",
        "d13 = data13['Adj Close']\r\n",
        "d14 = data14['Adj Close']\r\n",
        "d15 = data15['Adj Close']\r\n",
        "d16 = data16['Adj Close']\r\n",
        "d17 = data17['Adj Close']\r\n",
        "d18 = data18['Adj Close']\r\n",
        "d19 = data19['Adj Close']\r\n",
        "d20 = data20['Adj Close']\r\n",
        "d21 = data21['Adj Close']\r\n",
        "\r\n",
        "d1 = np.log(d1) - np.log(d1.shift(1))\r\n",
        "d1 = np.array(d1)\r\n",
        "d1 = np.delete(d1,0)\r\n",
        "\r\n",
        "d2 = np.log(d2) - np.log(d2.shift(1))\r\n",
        "d2 = np.array(d2)\r\n",
        "d2 = np.delete(d2,0)\r\n",
        "\r\n",
        "d3 = np.log(d3) - np.log(d3.shift(1))\r\n",
        "d3 = np.array(d3)\r\n",
        "d3 = np.delete(d3,0)\r\n",
        "\r\n",
        "d4 = np.log(d4) - np.log(d4.shift(1))\r\n",
        "d4 = np.array(d4)\r\n",
        "d4 = np.delete(d4,0)\r\n",
        "\r\n",
        "d5 = np.log(d5) - np.log(d5.shift(1))\r\n",
        "d5 = np.array(d5)\r\n",
        "d5 = np.delete(d5,0)\r\n",
        "\r\n",
        "d6 = np.log(d6) - np.log(d6.shift(1))\r\n",
        "d6 = np.array(d6)\r\n",
        "d6 = np.delete(d6,0)\r\n",
        "\r\n",
        "d7 = np.log(d7) - np.log(d7.shift(1))\r\n",
        "d7 = np.array(d7)\r\n",
        "d7 = np.delete(d7,0)\r\n",
        "\r\n",
        "d8 = np.log(d8) - np.log(d8.shift(1))\r\n",
        "d8 = np.array(d8)\r\n",
        "d8 = np.delete(d8,0)\r\n",
        "\r\n",
        "d9 = np.log(d9) - np.log(d9.shift(1))\r\n",
        "d9 = np.array(d9)\r\n",
        "d9 = np.delete(d9,0)\r\n",
        "\r\n",
        "d10 = np.log(d10) - np.log(d10.shift(1))\r\n",
        "d10 = np.array(d10)\r\n",
        "d10 = np.delete(d10,0)\r\n",
        "\r\n",
        "d11 = np.log(d11) - np.log(d11.shift(1))\r\n",
        "d11 = np.array(d11)\r\n",
        "d11 = np.delete(d11,0)\r\n",
        "\r\n",
        "d12 = np.log(d12) - np.log(d12.shift(1))\r\n",
        "d12 = np.array(d12)\r\n",
        "d12 = np.delete(d12,0)\r\n",
        "\r\n",
        "d13 = np.log(d13) - np.log(d13.shift(1))\r\n",
        "d13 = np.array(d13)\r\n",
        "d13 = np.delete(d13,0)\r\n",
        "\r\n",
        "d14 = np.log(d14) - np.log(d14.shift(1))\r\n",
        "d14 = np.array(d14)\r\n",
        "d14 = np.delete(d14,0)\r\n",
        "\r\n",
        "d15 = np.log(d15) - np.log(d15.shift(1))\r\n",
        "d15 = np.array(d15)\r\n",
        "d15 = np.delete(d15,0)\r\n",
        "\r\n",
        "d16 = np.log(d16) - np.log(d16.shift(1))\r\n",
        "d16 = np.array(d16)\r\n",
        "d16 = np.delete(d16,0)\r\n",
        "\r\n",
        "d17 = np.log(d17) - np.log(d17.shift(1))\r\n",
        "d17 = np.array(d17)\r\n",
        "d17 = np.delete(d17,0)\r\n",
        "\r\n",
        "d18 = np.log(d18) - np.log(d18.shift(1))\r\n",
        "d18 = np.array(d18)\r\n",
        "d18 = np.delete(d18,0)\r\n",
        "\r\n",
        "d19 = np.log(d19) - np.log(d19.shift(1))\r\n",
        "d19 = np.array(d19)\r\n",
        "d19 = np.delete(d19,0)\r\n",
        "\r\n",
        "d20 = np.log(d20) - np.log(d20.shift(1))\r\n",
        "d20 = np.array(d20)\r\n",
        "d20 = np.delete(d20,0)\r\n",
        "\r\n",
        "d21 = np.log(d21) - np.log(d21.shift(1))\r\n",
        "d21 = np.array(d21)\r\n",
        "d21 = np.delete(d21,0)"
      ],
      "execution_count": 5,
      "outputs": []
    },
    {
      "cell_type": "code",
      "metadata": {
        "colab": {
          "base_uri": "https://localhost:8080/"
        },
        "id": "3gJDaKVXaiF9",
        "outputId": "6f0c1386-a01c-4af9-af0e-a3e6c7fde98b"
      },
      "source": [
        "%cd~\r\n",
        "\r\n",
        "!git clone https://github.com/hhk54250/portfolio-management.git \r\n",
        "pass"
      ],
      "execution_count": 6,
      "outputs": [
        {
          "output_type": "stream",
          "text": [
            "/root\n",
            "fatal: destination path 'portfolio-management' already exists and is not an empty directory.\n"
          ],
          "name": "stdout"
        }
      ]
    },
    {
      "cell_type": "code",
      "metadata": {
        "colab": {
          "base_uri": "https://localhost:8080/"
        },
        "id": "zyiFrit0aj6C",
        "outputId": "7f616d64-e9d9-4c41-fd80-d02532aef4e2"
      },
      "source": [
        "%cd portfolio-management\r\n",
        "%ls"
      ],
      "execution_count": 7,
      "outputs": [
        {
          "output_type": "stream",
          "text": [
            "/root/portfolio-management\n",
            " 10-year.csv\n",
            " 10-year-treasury-bond-rate-yield-chart.csv\n",
            " 1-year.csv\n",
            " 1-year-treasury-rate-yield-chart.csv\n",
            " 2.ipynb\n",
            " 30-year.csv\n",
            " 30-year-treasury-bond-rate-yield-chart.csv\n",
            " 5-year.csv\n",
            " 5-year-treasury-bond-rate-yield-chart.csv\n",
            " BABA.csv\n",
            " check2.ipynb\n",
            " check3.ipynb\n",
            " check.ipynb\n",
            "'exchange rate.csv'\n",
            " factor2.ipynb\n",
            " factor3.ipynb\n",
            " factor.ipynb\n",
            " F-F_Research_Data_5_Factors_2x3_daily.csv\n",
            " IVV.csv\n",
            " JD.csv\n",
            "'Libor rate.csv'\n",
            "'MA575_PJ_1 (1).ipynb'\n",
            "'markowitz portfolio optimization.ipynb'\n",
            " Model.ipynb\n",
            "'prj01(1).ipynb'\n",
            "'prj01(3).ipynb'\n",
            " prj01.ipynb\n",
            " README.md\n",
            "'Returns(1).py'\n",
            " Returns.py\n",
            " Untitled17.ipynb\n"
          ],
          "name": "stdout"
        }
      ]
    },
    {
      "cell_type": "code",
      "metadata": {
        "id": "FFKEtW22alPt"
      },
      "source": [
        "d = pd.read_csv(\"F-F_Research_Data_5_Factors_2x3_daily.csv\")"
      ],
      "execution_count": 8,
      "outputs": []
    },
    {
      "cell_type": "code",
      "metadata": {
        "id": "XlueCNQGam4y"
      },
      "source": [
        "d_muf = d['Unnamed: 1']\r\n",
        "d_SMB = d['Unnamed: 2']\r\n",
        "d_HML = d['Unnamed: 3']\r\n",
        "d_CMA = d['Unnamed: 5']\r\n",
        "d_muf[14015:14226]\r\n",
        "d_SMB[14015:14226]\r\n",
        "d_HML[14015:14226]\r\n",
        "d_CMA[14015:14226]\r\n",
        "d_muf1 = []\r\n",
        "d_SMB1 = []\r\n",
        "d_HML1 = []\r\n",
        "d_CMA1 = []\r\n",
        "for i in range(14015,14226):\r\n",
        "  d_muf1.append(d_muf[i])\r\n",
        "for i in range(14015,14226):\r\n",
        "  d_SMB1.append(d_SMB[i])\r\n",
        "for i in range(14015,14226):\r\n",
        "  d_HML1.append(d_HML[i])\r\n",
        "for i in range(14015,14226):\r\n",
        "  d_CMA1.append(d_CMA[i])"
      ],
      "execution_count": 9,
      "outputs": []
    },
    {
      "cell_type": "code",
      "metadata": {
        "id": "47e0AWNIarml"
      },
      "source": [
        "for i in range(len(d_muf1)):\r\n",
        "  d_muf1[i] = float(d_muf1[i])\r\n",
        "for i in range(len(d_SMB1)):\r\n",
        "  d_SMB1[i] = float(d_SMB1[i])\r\n",
        "for i in range(len(d_HML1)):\r\n",
        "  d_HML1[i] = float(d_HML1[i])\r\n",
        "for i in range(len(d_CMA1)):\r\n",
        "  d_CMA1[i] = float(d_CMA1[i])"
      ],
      "execution_count": 10,
      "outputs": []
    },
    {
      "cell_type": "code",
      "metadata": {
        "id": "OajC_gEDatcQ"
      },
      "source": [
        "P = np.vstack((d2,d3,d4,d5,d6,d7,d8,d9,d10,d11,d12,d13,d14,d15,d16,d17,d18,d19,d20,d21))\r\n",
        "\r\n",
        "d11_=[]\r\n",
        "for i in range(len(d1)):\r\n",
        "  a = d1[i] - d_muf1[i]\r\n",
        "  d11_.append(a)\r\n",
        "\r\n",
        "d11_ = np.array(d11_)\r\n",
        "\r\n",
        "d22=[]\r\n",
        "for i in range(len(d1)):  \r\n",
        "  d22.append(d_SMB1[i])\r\n",
        "d22 = np.array(d22)\r\n",
        "\r\n",
        "d33=[]\r\n",
        "for i in range(len(d1)):  \r\n",
        "  d33.append(d_HML1[i])\r\n",
        "d33 = np.array(d33)\r\n",
        "\r\n",
        "d44=[]\r\n",
        "for i in range(len(d1)):  \r\n",
        "  d44.append(d_CMA1[i])\r\n",
        "d44 = np.array(d44)\r\n",
        "\r\n",
        "P1 = np.vstack((d11_,d22,d33,d44))\r\n",
        "\r\n",
        "for t in range(20):\r\n",
        "  for i in range(len(P[t,])):\r\n",
        "    P[t,i] = P[t,i] - d_muf1[i] "
      ],
      "execution_count": 11,
      "outputs": []
    },
    {
      "cell_type": "code",
      "metadata": {
        "id": "AaNgg-QmbFjo"
      },
      "source": [
        "lrModel = LinearRegression()\r\n",
        "\r\n",
        "beta0=[]\r\n",
        "beta1=[]\r\n",
        "beta2=[]\r\n",
        "beta3=[]\r\n",
        "beta4=[]\r\n",
        "for i in range(20):\r\n",
        "  lrModel.fit(P1.T,P[i,])\r\n",
        "  beta1.append(lrModel.coef_[0])\r\n",
        "  beta2.append(lrModel.coef_[1])\r\n",
        "  beta3.append(lrModel.coef_[2])\r\n",
        "  beta4.append(lrModel.coef_[3])\r\n",
        "  beta0.append(lrModel.intercept_) "
      ],
      "execution_count": 12,
      "outputs": []
    },
    {
      "cell_type": "code",
      "metadata": {
        "colab": {
          "base_uri": "https://localhost:8080/"
        },
        "id": "tLnVRVl5bJk8",
        "outputId": "cece8b0d-a59e-4911-a015-69030d6c0709"
      },
      "source": [
        "d11_mean = np.mean(d11_)\r\n",
        "d22_mean = np.mean(d22)\r\n",
        "d33_mean = np.mean(d33)\r\n",
        "d44_mean = np.mean(d44)\r\n",
        "d_muf1_mean = np.mean(d_muf1)\r\n",
        "\r\n",
        "beta11=[]\r\n",
        "beta22=[]\r\n",
        "beta33=[]\r\n",
        "beta44=[]\r\n",
        "for i in range(len(beta1)):\r\n",
        "  beta11.append(beta1[i] * d11_mean)\r\n",
        "for i in range(len(beta2)):\r\n",
        "  beta22.append(beta2[i] * d22_mean)\r\n",
        "for i in range(len(beta3)):\r\n",
        "  beta33.append(beta3[i] * d33_mean)\r\n",
        "for i in range(len(beta4)):\r\n",
        "  beta44.append(beta4[i] * d44_mean)\r\n",
        "expected1 = []\r\n",
        "for i in range(len(beta11)):\r\n",
        "  expected1.append(beta11[i] + beta22[i] + beta33[i] + beta44[i] + beta0[i] + d_muf1_mean)\r\n",
        "expected1\r\n"
      ],
      "execution_count": 13,
      "outputs": [
        {
          "output_type": "execute_result",
          "data": {
            "text/plain": [
              "[-0.0038369729502038194,\n",
              " -0.0022514131615340785,\n",
              " -0.0029643735406742686,\n",
              " 0.0005732838056674502,\n",
              " -0.0011786740291300293,\n",
              " -0.005116845327385065,\n",
              " -0.00034803517685800395,\n",
              " 0.0010122051780463506,\n",
              " -0.00047021925523502844,\n",
              " 0.0007514074570538556,\n",
              " -3.448977990173213e-05,\n",
              " -0.0006189014466280798,\n",
              " 0.001678530559852627,\n",
              " 0.0007257771378565078,\n",
              " 0.0003941721605550466,\n",
              " 0.0004128745878116402,\n",
              " 0.0011850225077109158,\n",
              " -0.00046062314810210725,\n",
              " -0.0009234109831762691,\n",
              " 0.0006766563642410517]"
            ]
          },
          "metadata": {
            "tags": []
          },
          "execution_count": 13
        }
      ]
    },
    {
      "cell_type": "code",
      "metadata": {
        "id": "kynqHKj0bZm_"
      },
      "source": [
        "beta1 = np.array(beta1)\r\n",
        "beta2 = np.array(beta2)\r\n",
        "beta3 = np.array(beta3)\r\n",
        "beta4 = np.array(beta4)\r\n",
        "j = []\r\n",
        "for i in range(len(beta1)):\r\n",
        "  t=1\r\n",
        "  j.append(t)\r\n",
        "P2 = np.vstack((beta1,beta2,beta3,beta4,j))\r\n",
        "\r\n",
        "P3 = np.vstack((d11_,d22,d33,d44,d_muf1))\r\n",
        "covfac1 = np.cov(P3)\r\n",
        "\r\n",
        "dif1=[]\r\n",
        "for i in range(len(d11)):\r\n",
        "  dif1.append(P[0,i] - beta0[0] - beta1[0]*d11_[i] - beta2[0]*d22[i] - beta3[0]*d33[i] -beta4[0]*d44[i])\r\n",
        "dif1 = np.array(dif1)\r\n",
        "\r\n",
        "dif2=[]\r\n",
        "for i in range(len(d11)):\r\n",
        "  dif2.append(P[1,i] - beta0[1] - beta1[1]*d11_[i] - beta2[1]*d22[i] - beta3[1]*d33[i] -beta4[1]*d44[i])\r\n",
        "dif2 = np.array(dif2)\r\n",
        "\r\n",
        "dif3=[]\r\n",
        "for i in range(len(d11)):\r\n",
        "  dif3.append(P[2,i] - beta0[2] - beta1[2]*d11_[i] - beta2[2]*d22[i] - beta3[2]*d33[i] -beta4[2]*d44[i])\r\n",
        "dif3 = np.array(dif3)\r\n",
        "\r\n",
        "dif4=[]\r\n",
        "for i in range(len(d11)):\r\n",
        "  dif4.append(P[3,i] - beta0[3] - beta1[3]*d11_[i] - beta2[3]*d22[i] - beta3[3]*d33[i] -beta4[3]*d44[i])\r\n",
        "dif4 = np.array(dif4)\r\n",
        "\r\n",
        "dif5=[]\r\n",
        "for i in range(len(d11)):\r\n",
        "  dif5.append(P[4,i] - beta0[4] - beta1[4]*d11_[i] - beta2[4]*d22[i] - beta3[4]*d33[i] -beta4[4]*d44[i])\r\n",
        "dif5 = np.array(dif5)\r\n",
        "\r\n",
        "dif6=[]\r\n",
        "for i in range(len(d11)):\r\n",
        "  dif6.append(P[5,i] - beta0[5] - beta1[5]*d11_[i] - beta2[5]*d22[i] - beta3[5]*d33[i] -beta4[5]*d44[i])\r\n",
        "dif6 = np.array(dif6)\r\n",
        "\r\n",
        "dif7=[]\r\n",
        "for i in range(len(d11)):\r\n",
        "  dif7.append(P[6,i] - beta0[6] - beta1[6]*d11_[i] - beta2[6]*d22[i] - beta3[6]*d33[i] -beta4[6]*d44[i])\r\n",
        "dif7 = np.array(dif7)\r\n",
        "\r\n",
        "dif8=[]\r\n",
        "for i in range(len(d11)):\r\n",
        "  dif8.append(P[7,i] - beta0[7] - beta1[7]*d11_[i] - beta2[7]*d22[i] - beta3[7]*d33[i] -beta4[7]*d44[i])\r\n",
        "dif8 = np.array(dif8)\r\n",
        "\r\n",
        "dif9=[]\r\n",
        "for i in range(len(d11)):\r\n",
        "  dif9.append(P[8,i] - beta0[8] - beta1[8]*d11_[i] - beta2[8]*d22[i] - beta3[8]*d33[i] -beta4[8]*d44[i])\r\n",
        "dif9 = np.array(dif9)\r\n",
        "\r\n",
        "dif10=[]\r\n",
        "for i in range(len(d11)):\r\n",
        "  dif10.append(P[9,i] - beta0[9] - beta1[9]*d11_[i] - beta2[9]*d22[i] - beta3[9]*d33[i] -beta4[9]*d44[i])\r\n",
        "dif10 = np.array(dif10)\r\n",
        "\r\n",
        "dif11=[]\r\n",
        "for i in range(len(d11)):\r\n",
        "  dif11.append(P[10,i] - beta0[10] - beta1[10]*d11_[i] - beta2[10]*d22[i] - beta3[10]*d33[i] -beta4[10]*d44[i])\r\n",
        "dif11 = np.array(dif11)\r\n",
        "\r\n",
        "dif12=[]\r\n",
        "for i in range(len(d11)):\r\n",
        "  dif12.append(P[11,i] - beta0[11] - beta1[11]*d11_[i] - beta2[11]*d22[i] - beta3[11]*d33[i] -beta4[11]*d44[i])\r\n",
        "dif12 = np.array(dif12)\r\n",
        "\r\n",
        "dif13=[]\r\n",
        "for i in range(len(d11)):\r\n",
        "  dif13.append(P[12,i] - beta0[12] - beta1[12]*d11_[i] - beta2[12]*d22[i] - beta3[12]*d33[i] -beta4[12]*d44[i])\r\n",
        "dif13 = np.array(dif13)\r\n",
        "\r\n",
        "dif14=[]\r\n",
        "for i in range(len(d11)):\r\n",
        "  dif14.append(P[13,i] - beta0[13] - beta1[13]*d11_[i] - beta2[13]*d22[i] - beta3[13]*d33[i] -beta4[13]*d44[i])\r\n",
        "dif14 = np.array(dif14)\r\n",
        "\r\n",
        "dif15=[]\r\n",
        "for i in range(len(d11)):\r\n",
        "  dif15.append(P[14,i] - beta0[14] - beta1[14]*d11_[i] - beta2[14]*d22[i] - beta3[14]*d33[i] -beta4[14]*d44[i])\r\n",
        "dif15 = np.array(dif15)\r\n",
        "\r\n",
        "dif16=[]\r\n",
        "for i in range(len(d11)):\r\n",
        "  dif16.append(P[15,i] - beta0[15] - beta1[15]*d11_[i] - beta2[15]*d22[i] - beta3[15]*d33[i] -beta4[15]*d44[i])\r\n",
        "dif16 = np.array(dif16)\r\n",
        "\r\n",
        "dif17=[]\r\n",
        "for i in range(len(d11)):\r\n",
        "  dif17.append(P[16,i] - beta0[16] - beta1[16]*d11_[i] - beta2[16]*d22[i] - beta3[16]*d33[i] -beta4[16]*d44[i])\r\n",
        "dif17 = np.array(dif17)\r\n",
        "\r\n",
        "dif18=[]\r\n",
        "for i in range(len(d11)):\r\n",
        "  dif18.append(P[17,i] - beta0[17] - beta1[17]*d11_[i] - beta2[17]*d22[i] - beta3[17]*d33[i] -beta4[17]*d44[i])\r\n",
        "dif18 = np.array(dif18)\r\n",
        "\r\n",
        "dif19=[]\r\n",
        "for i in range(len(d11)):\r\n",
        "  dif19.append(P[18,i] - beta0[18] - beta1[18]*d11_[i] - beta2[18]*d22[i] - beta3[18]*d33[i] -beta4[18]*d44[i])\r\n",
        "dif19 = np.array(dif19)\r\n",
        "\r\n",
        "dif20=[]\r\n",
        "for i in range(len(d11)):\r\n",
        "  dif20.append(P[19,i] - beta0[19] - beta1[19]*d11_[i] - beta2[19]*d22[i] - beta3[19]*d33[i] -beta4[19]*d44[i])\r\n",
        "dif20 = np.array(dif20)\r\n",
        "\r\n",
        "P4 = np.vstack((dif1,dif2,dif3,dif4,dif5,dif6,dif7,dif8,dif9,dif10,dif11,dif12,dif13,dif14,dif15,dif16,dif17,dif18,dif19,dif20))\r\n",
        "covresi1 = np.cov(P4)\r\n",
        "\r\n",
        "covRt1 = np.dot(np.dot(P2.T,covfac1),P2) + covresi1\r\n",
        "\r\n"
      ],
      "execution_count": 14,
      "outputs": []
    },
    {
      "cell_type": "code",
      "metadata": {
        "colab": {
          "base_uri": "https://localhost:8080/"
        },
        "id": "u6ejqnC0cxUZ",
        "outputId": "6fb78476-41f9-4668-e724-796a37be0ddd"
      },
      "source": [
        "var1 = []\r\n",
        "for i in range(20):\r\n",
        "  for t in range(20):\r\n",
        "    if t==i:\r\n",
        "      var1.append(covRt1[i,t])\r\n",
        "var1\r\n",
        "\r\n"
      ],
      "execution_count": 15,
      "outputs": [
        {
          "output_type": "execute_result",
          "data": {
            "text/plain": [
              "[0.021426924804093084,\n",
              " 0.0006034590956985658,\n",
              " 0.002203376012726777,\n",
              " 0.00026601943861008975,\n",
              " 0.0006298204623148777,\n",
              " 0.00200141384323057,\n",
              " 0.0004522704523836508,\n",
              " 7.816328974541545e-05,\n",
              " 0.0004249229584529827,\n",
              " 0.0002245423457192972,\n",
              " 0.0011013356134071655,\n",
              " 0.0007397370150601303,\n",
              " 0.0006522292629664249,\n",
              " 0.0003191110177943278,\n",
              " 9.255796837696239e-05,\n",
              " 0.0005701064602776973,\n",
              " 0.00021567305232272172,\n",
              " 0.0003256181372534376,\n",
              " 0.0015106622995861474,\n",
              " 0.00033431344957174765]"
            ]
          },
          "metadata": {
            "tags": []
          },
          "execution_count": 15
        }
      ]
    },
    {
      "cell_type": "code",
      "metadata": {
        "id": "bzoye2ZnhA26"
      },
      "source": [
        "r1 = pd.read_csv(\"1-year.csv\",)\r\n",
        "r2 = pd.read_csv(\"5-year.csv\",)\r\n",
        "r3 = pd.read_csv(\"10-year.csv\",)\r\n",
        "r4 = pd.read_csv(\"30-year.csv\",)\r\n",
        "\r\n",
        "r1_r = r1[' value']\r\n",
        "r1_r[14293:14504]\r\n",
        "r1_r1 = []\r\n",
        "for i in range(14293,14504):\r\n",
        "  r1_r1.append(r1_r[i])\r\n",
        "\r\n",
        "r2_r = r2[' value']\r\n",
        "r2_r[14291:14502]\r\n",
        "r2_r2 = []\r\n",
        "for i in range(14291,14502):\r\n",
        "  r2_r2.append(r2_r[i])\r\n",
        "\r\n",
        "r3_r = r3[' value']\r\n",
        "r3_r[14292:14503]\r\n",
        "r3_r3 = []\r\n",
        "for i in range(14292,14503):\r\n",
        "  r3_r3.append(r3_r[i])\r\n",
        "\r\n",
        "\r\n",
        "r4_r = r4[' value']\r\n",
        "r4_r[9527:9738]\r\n",
        "r4_r4 = []\r\n",
        "for i in range(9527,9738):\r\n",
        "  r4_r4.append(r4_r[i])\r\n",
        "\r\n",
        "d55 = []\r\n",
        "for i in range(len(r1_r1)):\r\n",
        "  d55.append((r1_r1[i]+r3_r3[i])/2 - (r2_r2[i]+r4_r4[i])/2)\r\n",
        "\r\n",
        "d55 = np.array(d55)\r\n",
        "\r\n"
      ],
      "execution_count": 16,
      "outputs": []
    },
    {
      "cell_type": "code",
      "metadata": {
        "id": "7jaeDxbWhER3"
      },
      "source": [
        "P1_ = np.vstack((d11_,d22,d33,d44,d55))\r\n",
        "\r\n",
        "lrModel = LinearRegression()\r\n",
        "\r\n",
        "beta0_=[]\r\n",
        "beta1_=[]\r\n",
        "beta2_=[]\r\n",
        "beta3_=[]\r\n",
        "beta4_=[]\r\n",
        "beta5_=[]\r\n",
        "for i in range(20):\r\n",
        "  lrModel.fit(P1_.T,P[i,])\r\n",
        "  beta1_.append(lrModel.coef_[0])\r\n",
        "  beta2_.append(lrModel.coef_[1])\r\n",
        "  beta3_.append(lrModel.coef_[2])\r\n",
        "  beta4_.append(lrModel.coef_[3])\r\n",
        "  beta5_.append(lrModel.coef_[4])\r\n",
        "  beta0_.append(lrModel.intercept_) "
      ],
      "execution_count": 17,
      "outputs": []
    },
    {
      "cell_type": "code",
      "metadata": {
        "colab": {
          "base_uri": "https://localhost:8080/"
        },
        "id": "Ni0xsJ8_M4nA",
        "outputId": "7ae5f68c-964e-40f2-b508-6dc08171bdc8"
      },
      "source": [
        "d55_mean = np.mean(d55)\r\n",
        "beta11_=[]\r\n",
        "beta22_=[]\r\n",
        "beta33_=[]\r\n",
        "beta44_=[]\r\n",
        "beta55_=[]\r\n",
        "for i in range(len(beta1_)):\r\n",
        "  beta11_.append(beta1_[i] * d11_mean)\r\n",
        "for i in range(len(beta2_)):\r\n",
        "  beta22_.append(beta2_[i] * d22_mean)\r\n",
        "for i in range(len(beta3_)):\r\n",
        "  beta33_.append(beta3_[i] * d33_mean)\r\n",
        "for i in range(len(beta4_)):\r\n",
        "  beta44_.append(beta4_[i] * d44_mean)\r\n",
        "for i in range(len(beta5_)):\r\n",
        "  beta55_.append(beta5_[i] * d55_mean)\r\n",
        "expected2 = []\r\n",
        "for i in range(len(beta11_)):\r\n",
        "  expected2.append(beta11_[i] + beta22_[i] + beta33_[i] + beta44_[i] + beta55_[i] + beta0_[i] + d_muf1_mean)\r\n",
        "expected2"
      ],
      "execution_count": 18,
      "outputs": [
        {
          "output_type": "execute_result",
          "data": {
            "text/plain": [
              "[-0.0038369729502038194,\n",
              " -0.0022514131615340785,\n",
              " -0.0029643735406742686,\n",
              " 0.0005732838056674502,\n",
              " -0.0011786740291300293,\n",
              " -0.005116845327385065,\n",
              " -0.00034803517685800395,\n",
              " 0.0010122051780463506,\n",
              " -0.00047021925523502844,\n",
              " 0.0007514074570538556,\n",
              " -3.448977990173213e-05,\n",
              " -0.0006189014466280798,\n",
              " 0.001678530559852627,\n",
              " 0.0007257771378565078,\n",
              " 0.0003941721605550466,\n",
              " 0.0004128745878116402,\n",
              " 0.0011850225077109158,\n",
              " -0.00046062314810210725,\n",
              " -0.0009234109831762691,\n",
              " 0.0006766563642410517]"
            ]
          },
          "metadata": {
            "tags": []
          },
          "execution_count": 18
        }
      ]
    },
    {
      "cell_type": "code",
      "metadata": {
        "id": "_is9W-AyNcqG"
      },
      "source": [
        "beta1_ = np.array(beta1_)\r\n",
        "beta2_ = np.array(beta2_)\r\n",
        "beta3_ = np.array(beta3_)\r\n",
        "beta4_ = np.array(beta4_)\r\n",
        "beta5_ = np.array(beta5_)\r\n",
        "j = []\r\n",
        "for i in range(len(beta1_)):\r\n",
        "  t=1\r\n",
        "  j.append(t)\r\n",
        "P2_ = np.vstack((beta1_,beta2_,beta3_,beta4_,beta5_,j))\r\n",
        "P3_ = np.vstack((d11_,d22,d33,d44,d55,d_muf1))\r\n",
        "covfac2 = np.cov(P3_)\r\n",
        "\r\n",
        "dif1=[]\r\n",
        "for i in range(len(d11)):\r\n",
        "  dif1.append(P[0,i] - beta0_[0] - beta1_[0]*d11_[i] - beta2_[0]*d22[i] - beta3_[0]*d33[i] -beta4_[0]*d44[i]-beta5_[0]*d55[i])\r\n",
        "dif1 = np.array(dif1)\r\n",
        "\r\n",
        "dif2=[]\r\n",
        "for i in range(len(d11)):\r\n",
        "  dif2.append(P[1,i] - beta0_[1] - beta1_[1]*d11_[i] - beta2_[1]*d22[i] - beta3_[1]*d33[i] -beta4_[1]*d44[i]-beta5_[1]*d55[i])\r\n",
        "dif2 = np.array(dif2)\r\n",
        "\r\n",
        "dif3=[]\r\n",
        "for i in range(len(d11)):\r\n",
        "  dif3.append(P[2,i] - beta0_[2] - beta1_[2]*d11_[i] - beta2_[2]*d22[i] - beta3_[2]*d33[i] -beta4_[2]*d44[i]-beta5_[2]*d55[i])\r\n",
        "dif3 = np.array(dif3)\r\n",
        "\r\n",
        "dif4=[]\r\n",
        "for i in range(len(d11)):\r\n",
        "  dif4.append(P[3,i] - beta0_[3] - beta1_[3]*d11_[i] - beta2_[3]*d22[i] - beta3_[3]*d33[i] -beta4_[3]*d44[i]-beta5_[3]*d55[i])\r\n",
        "dif4 = np.array(dif4)\r\n",
        "\r\n",
        "dif5=[]\r\n",
        "for i in range(len(d11)):\r\n",
        "  dif5.append(P[4,i] - beta0_[4] - beta1_[4]*d11_[i] - beta2_[4]*d22[i] - beta3_[4]*d33[i] -beta4_[4]*d44[i]-beta5_[4]*d55[i])\r\n",
        "dif5 = np.array(dif5)\r\n",
        "\r\n",
        "dif6=[]\r\n",
        "for i in range(len(d11)):\r\n",
        "  dif6.append(P[5,i] - beta0_[5] - beta1_[5]*d11_[i] - beta2_[5]*d22[i] - beta3_[5]*d33[i] -beta4_[5]*d44[i]-beta5_[5]*d55[i])\r\n",
        "dif6 = np.array(dif6)\r\n",
        "\r\n",
        "dif7=[]\r\n",
        "for i in range(len(d11)):\r\n",
        "  dif7.append(P[6,i] - beta0_[6] - beta1_[6]*d11_[i] - beta2_[6]*d22[i] - beta3_[6]*d33[i] -beta4_[6]*d44[i]-beta5_[6]*d55[i])\r\n",
        "dif7 = np.array(dif7)\r\n",
        "\r\n",
        "dif8=[]\r\n",
        "for i in range(len(d11)):\r\n",
        "  dif8.append(P[7,i] - beta0_[7] - beta1_[7]*d11_[i] - beta2_[7]*d22[i] - beta3_[7]*d33[i] -beta4_[7]*d44[i]-beta5_[7]*d55[i])\r\n",
        "dif8 = np.array(dif8)\r\n",
        "\r\n",
        "dif9=[]\r\n",
        "for i in range(len(d11)):\r\n",
        "  dif9.append(P[8,i] - beta0_[8] - beta1_[8]*d11_[i] - beta2_[8]*d22[i] - beta3_[8]*d33[i] -beta4_[8]*d44[i]-beta5_[8]*d55[i])\r\n",
        "dif9 = np.array(dif9)\r\n",
        "\r\n",
        "dif10=[]\r\n",
        "for i in range(len(d11)):\r\n",
        "  dif10.append(P[9,i] - beta0_[9] - beta1_[9]*d11_[i] - beta2_[9]*d22[i] - beta3_[9]*d33[i] -beta4_[9]*d44[i]-beta5_[9]*d55[i])\r\n",
        "dif10 = np.array(dif10)\r\n",
        "\r\n",
        "dif11=[]\r\n",
        "for i in range(len(d11)):\r\n",
        "  dif11.append(P[10,i] - beta0_[10] - beta1_[10]*d11_[i] - beta2_[10]*d22[i] - beta3_[10]*d33[i] -beta4_[10]*d44[i]-beta5_[10]*d55[i])\r\n",
        "dif11 = np.array(dif11)\r\n",
        "\r\n",
        "dif12=[]\r\n",
        "for i in range(len(d11)):\r\n",
        "  dif12.append(P[11,i] - beta0_[11] - beta1_[11]*d11_[i] - beta2_[11]*d22[i] - beta3_[11]*d33[i] -beta4_[11]*d44[i]-beta5_[11]*d55[i])\r\n",
        "dif12 = np.array(dif12)\r\n",
        "\r\n",
        "dif13=[]\r\n",
        "for i in range(len(d11)):\r\n",
        "  dif13.append(P[12,i] - beta0_[12] - beta1_[12]*d11_[i] - beta2_[12]*d22[i] - beta3_[12]*d33[i] -beta4_[12]*d44[i]-beta5_[12]*d55[i])\r\n",
        "dif13 = np.array(dif13)\r\n",
        "\r\n",
        "dif14=[]\r\n",
        "for i in range(len(d11)):\r\n",
        "  dif14.append(P[13,i] - beta0_[13] - beta1_[13]*d11_[i] - beta2_[13]*d22[i] - beta3_[13]*d33[i] -beta4_[13]*d44[i]-beta5_[13]*d55[i])\r\n",
        "dif14 = np.array(dif14)\r\n",
        "\r\n",
        "dif15=[]\r\n",
        "for i in range(len(d11)):\r\n",
        "  dif15.append(P[14,i] - beta0_[14] - beta1_[14]*d11_[i] - beta2_[14]*d22[i] - beta3_[14]*d33[i] -beta4_[14]*d44[i]-beta5_[14]*d55[i])\r\n",
        "dif15 = np.array(dif15)\r\n",
        "\r\n",
        "dif16=[]\r\n",
        "for i in range(len(d11)):\r\n",
        "  dif16.append(P[15,i] - beta0_[15] - beta1_[15]*d11_[i] - beta2_[15]*d22[i] - beta3_[15]*d33[i] -beta4_[15]*d44[i]-beta5_[15]*d55[i])\r\n",
        "dif16 = np.array(dif16)\r\n",
        "\r\n",
        "dif17=[]\r\n",
        "for i in range(len(d11)):\r\n",
        "  dif17.append(P[16,i] - beta0_[16] - beta1_[16]*d11_[i] - beta2_[16]*d22[i] - beta3_[16]*d33[i] -beta4_[16]*d44[i]-beta5_[16]*d55[i])\r\n",
        "dif17 = np.array(dif17)\r\n",
        "\r\n",
        "dif18=[]\r\n",
        "for i in range(len(d11)):\r\n",
        "  dif18.append(P[17,i] - beta0_[17] - beta1_[17]*d11_[i] - beta2_[17]*d22[i] - beta3_[17]*d33[i] -beta4_[17]*d44[i]-beta5_[17]*d55[i])\r\n",
        "dif18 = np.array(dif18)\r\n",
        "\r\n",
        "dif19=[]\r\n",
        "for i in range(len(d11)):\r\n",
        "  dif19.append(P[18,i] - beta0_[18] - beta1_[18]*d11_[i] - beta2_[18]*d22[i] - beta3_[18]*d33[i] -beta4_[18]*d44[i]-beta5_[18]*d55[i])\r\n",
        "dif19 = np.array(dif19)\r\n",
        "\r\n",
        "dif20=[]\r\n",
        "for i in range(len(d11)):\r\n",
        "  dif20.append(P[19,i] - beta0_[19] - beta1_[19]*d11_[i] - beta2_[19]*d22[i] - beta3_[19]*d33[i] -beta4_[19]*d44[i]-beta5_[19]*d55[i])\r\n",
        "dif20 = np.array(dif20)\r\n",
        "\r\n",
        "P4_ = np.vstack((dif1,dif2,dif3,dif4,dif5,dif6,dif7,dif8,dif9,dif10,dif11,dif12,dif13,dif14,dif15,dif16,dif17,dif18,dif19,dif20))\r\n",
        "covresi2 = np.cov(P4_)\r\n",
        "\r\n",
        "covRt2 = np.dot(np.dot(P2_.T,covfac2),P2_) + covresi2\r\n"
      ],
      "execution_count": 19,
      "outputs": []
    },
    {
      "cell_type": "code",
      "metadata": {
        "colab": {
          "base_uri": "https://localhost:8080/"
        },
        "id": "v0TrQ10jON4r",
        "outputId": "e1afef86-ffca-4a9a-f8fb-4ae105e63d0e"
      },
      "source": [
        "var2 = []\r\n",
        "for i in range(20):\r\n",
        "  for t in range(20):\r\n",
        "    if t==i:\r\n",
        "      var2.append(covRt2[i,t])\r\n",
        "var2\r\n"
      ],
      "execution_count": 20,
      "outputs": [
        {
          "output_type": "execute_result",
          "data": {
            "text/plain": [
              "[0.02142633877875824,\n",
              " 0.0006034332458809684,\n",
              " 0.002203417468902005,\n",
              " 0.0002660282165492387,\n",
              " 0.0006297703275368919,\n",
              " 0.0020014566467153137,\n",
              " 0.00045222383111262476,\n",
              " 7.819223530753007e-05,\n",
              " 0.0004248885785636279,\n",
              " 0.0002245312524567398,\n",
              " 0.001101342345019549,\n",
              " 0.0007397183866705788,\n",
              " 0.0006521940908637817,\n",
              " 0.0003191220731998953,\n",
              " 9.257380752722328e-05,\n",
              " 0.000570074696910293,\n",
              " 0.00021566193982035874,\n",
              " 0.0003255722714268839,\n",
              " 0.001510595811838696,\n",
              " 0.0003342954713892692]"
            ]
          },
          "metadata": {
            "tags": []
          },
          "execution_count": 20
        }
      ]
    },
    {
      "cell_type": "code",
      "metadata": {
        "id": "bFLw6MxqVLr_"
      },
      "source": [
        "\r\n",
        "P1 = np.vstack((d11_,d22,d33,d55))\r\n",
        "\r\n"
      ],
      "execution_count": 21,
      "outputs": []
    },
    {
      "cell_type": "code",
      "metadata": {
        "id": "9J_VkctqOQ3O"
      },
      "source": [
        "lrModel = LinearRegression()\r\n",
        "\r\n",
        "beta0=[]\r\n",
        "beta1=[]\r\n",
        "beta2=[]\r\n",
        "beta3=[]\r\n",
        "beta4=[]\r\n",
        "for i in range(20):\r\n",
        "  lrModel.fit(P1.T,P[i,])\r\n",
        "  beta1.append(lrModel.coef_[0])\r\n",
        "  beta2.append(lrModel.coef_[1])\r\n",
        "  beta3.append(lrModel.coef_[2])\r\n",
        "  beta4.append(lrModel.coef_[3])\r\n",
        "  beta0.append(lrModel.intercept_) "
      ],
      "execution_count": 22,
      "outputs": []
    },
    {
      "cell_type": "code",
      "metadata": {
        "colab": {
          "base_uri": "https://localhost:8080/"
        },
        "id": "u4wzDv5HVhRw",
        "outputId": "865653ff-6aec-430f-a5f5-9fddca5c4b62"
      },
      "source": [
        "d11_mean = np.mean(d11_)\r\n",
        "d22_mean = np.mean(d22)\r\n",
        "d33_mean = np.mean(d33)\r\n",
        "d44_mean = np.mean(d44)\r\n",
        "d_muf1_mean = np.mean(d_muf1)\r\n",
        "\r\n",
        "beta11=[]\r\n",
        "beta22=[]\r\n",
        "beta33=[]\r\n",
        "beta44=[]\r\n",
        "for i in range(len(beta1)):\r\n",
        "  beta11.append(beta1[i] * d11_mean)\r\n",
        "for i in range(len(beta2)):\r\n",
        "  beta22.append(beta2[i] * d22_mean)\r\n",
        "for i in range(len(beta3)):\r\n",
        "  beta33.append(beta3[i] * d33_mean)\r\n",
        "for i in range(len(beta4)):\r\n",
        "  beta44.append(beta4[i] * d55_mean)\r\n",
        "expected3 = []\r\n",
        "for i in range(len(beta11)):\r\n",
        "  expected3.append(beta11[i] + beta22[i] + beta33[i] + beta44[i] + beta0[i] + d_muf1_mean)\r\n",
        "expected3\r\n"
      ],
      "execution_count": 23,
      "outputs": [
        {
          "output_type": "execute_result",
          "data": {
            "text/plain": [
              "[-0.0038369729502038333,\n",
              " -0.0022514131615340785,\n",
              " -0.0029643735406742686,\n",
              " 0.0005732838056674502,\n",
              " -0.0011786740291300293,\n",
              " -0.005116845327385065,\n",
              " -0.00034803517685800395,\n",
              " 0.0010122051780463506,\n",
              " -0.00047021925523502844,\n",
              " 0.0007514074570538556,\n",
              " -3.448977990173213e-05,\n",
              " -0.0006189014466280798,\n",
              " 0.001678530559852627,\n",
              " 0.0007257771378565078,\n",
              " 0.0003941721605550466,\n",
              " 0.0004128745878116402,\n",
              " 0.0011850225077109158,\n",
              " -0.00046062314810210725,\n",
              " -0.0009234109831762691,\n",
              " 0.0006766563642410517]"
            ]
          },
          "metadata": {
            "tags": []
          },
          "execution_count": 23
        }
      ]
    },
    {
      "cell_type": "code",
      "metadata": {
        "id": "t813No9qV1rL"
      },
      "source": [
        "beta1 = np.array(beta1)\r\n",
        "beta2 = np.array(beta2)\r\n",
        "beta3 = np.array(beta3)\r\n",
        "beta4 = np.array(beta4)\r\n",
        "j = []\r\n",
        "for i in range(len(beta1)):\r\n",
        "  t=1\r\n",
        "  j.append(t)\r\n",
        "P2 = np.vstack((beta1,beta2,beta3,beta4,j))\r\n",
        "P3 = np.vstack((d11_,d22,d33,d55,d_muf1))\r\n",
        "covfac3 = np.cov(P3)\r\n",
        "\r\n",
        "dif1=[]\r\n",
        "for i in range(len(d11)):\r\n",
        "  dif1.append(P[0,i] - beta0[0] - beta1[0]*d11_[i] - beta2[0]*d22[i] - beta3[0]*d33[i] -beta4[0]*d55[i])\r\n",
        "dif1 = np.array(dif1)\r\n",
        "\r\n",
        "dif2=[]\r\n",
        "for i in range(len(d11)):\r\n",
        "  dif2.append(P[1,i] - beta0[1] - beta1[1]*d11_[i] - beta2[1]*d22[i] - beta3[1]*d33[i] -beta4[1]*d55[i])\r\n",
        "dif2 = np.array(dif2)\r\n",
        "\r\n",
        "dif3=[]\r\n",
        "for i in range(len(d11)):\r\n",
        "  dif3.append(P[2,i] - beta0[2] - beta1[2]*d11_[i] - beta2[2]*d22[i] - beta3[2]*d33[i] -beta4[2]*d55[i])\r\n",
        "dif3 = np.array(dif3)\r\n",
        "\r\n",
        "dif4=[]\r\n",
        "for i in range(len(d11)):\r\n",
        "  dif4.append(P[3,i] - beta0[3] - beta1[3]*d11_[i] - beta2[3]*d22[i] - beta3[3]*d33[i] -beta4[3]*d55[i])\r\n",
        "dif4 = np.array(dif4)\r\n",
        "\r\n",
        "dif5=[]\r\n",
        "for i in range(len(d11)):\r\n",
        "  dif5.append(P[4,i] - beta0[4] - beta1[4]*d11_[i] - beta2[4]*d22[i] - beta3[4]*d33[i] -beta4[4]*d55[i])\r\n",
        "dif5 = np.array(dif5)\r\n",
        "\r\n",
        "dif6=[]\r\n",
        "for i in range(len(d11)):\r\n",
        "  dif6.append(P[5,i] - beta0[5] - beta1[5]*d11_[i] - beta2[5]*d22[i] - beta3[5]*d33[i] -beta4[5]*d55[i])\r\n",
        "dif6 = np.array(dif6)\r\n",
        "\r\n",
        "dif7=[]\r\n",
        "for i in range(len(d11)):\r\n",
        "  dif7.append(P[6,i] - beta0[6] - beta1[6]*d11_[i] - beta2[6]*d22[i] - beta3[6]*d33[i] -beta4[6]*d55[i])\r\n",
        "dif7 = np.array(dif7)\r\n",
        "\r\n",
        "dif8=[]\r\n",
        "for i in range(len(d11)):\r\n",
        "  dif8.append(P[7,i] - beta0[7] - beta1[7]*d11_[i] - beta2[7]*d22[i] - beta3[7]*d33[i] -beta4[7]*d55[i])\r\n",
        "dif8 = np.array(dif8)\r\n",
        "\r\n",
        "dif9=[]\r\n",
        "for i in range(len(d11)):\r\n",
        "  dif9.append(P[8,i] - beta0[8] - beta1[8]*d11_[i] - beta2[8]*d22[i] - beta3[8]*d33[i] -beta4[8]*d55[i])\r\n",
        "dif9 = np.array(dif9)\r\n",
        "\r\n",
        "dif10=[]\r\n",
        "for i in range(len(d11)):\r\n",
        "  dif10.append(P[9,i] - beta0[9] - beta1[9]*d11_[i] - beta2[9]*d22[i] - beta3[9]*d33[i] -beta4[9]*d55[i])\r\n",
        "dif10 = np.array(dif10)\r\n",
        "\r\n",
        "dif11=[]\r\n",
        "for i in range(len(d11)):\r\n",
        "  dif11.append(P[10,i] - beta0[10] - beta1[10]*d11_[i] - beta2[10]*d22[i] - beta3[10]*d33[i] -beta4[10]*d55[i])\r\n",
        "dif11 = np.array(dif11)\r\n",
        "\r\n",
        "dif12=[]\r\n",
        "for i in range(len(d11)):\r\n",
        "  dif12.append(P[11,i] - beta0[11] - beta1[11]*d11_[i] - beta2[11]*d22[i] - beta3[11]*d33[i] -beta4[11]*d55[i])\r\n",
        "dif12 = np.array(dif12)\r\n",
        "\r\n",
        "dif13=[]\r\n",
        "for i in range(len(d11)):\r\n",
        "  dif13.append(P[12,i] - beta0[12] - beta1[12]*d11_[i] - beta2[12]*d22[i] - beta3[12]*d33[i] -beta4[12]*d55[i])\r\n",
        "dif13 = np.array(dif13)\r\n",
        "\r\n",
        "dif14=[]\r\n",
        "for i in range(len(d11)):\r\n",
        "  dif14.append(P[13,i] - beta0[13] - beta1[13]*d11_[i] - beta2[13]*d22[i] - beta3[13]*d33[i] -beta4[13]*d55[i])\r\n",
        "dif14 = np.array(dif14)\r\n",
        "\r\n",
        "dif15=[]\r\n",
        "for i in range(len(d11)):\r\n",
        "  dif15.append(P[14,i] - beta0[14] - beta1[14]*d11_[i] - beta2[14]*d22[i] - beta3[14]*d33[i] -beta4[14]*d55[i])\r\n",
        "dif15 = np.array(dif15)\r\n",
        "\r\n",
        "dif16=[]\r\n",
        "for i in range(len(d11)):\r\n",
        "  dif16.append(P[15,i] - beta0[15] - beta1[15]*d11_[i] - beta2[15]*d22[i] - beta3[15]*d33[i] -beta4[15]*d55[i])\r\n",
        "dif16 = np.array(dif16)\r\n",
        "\r\n",
        "dif17=[]\r\n",
        "for i in range(len(d11)):\r\n",
        "  dif17.append(P[16,i] - beta0[16] - beta1[16]*d11_[i] - beta2[16]*d22[i] - beta3[16]*d33[i] -beta4[16]*d55[i])\r\n",
        "dif17 = np.array(dif17)\r\n",
        "\r\n",
        "dif18=[]\r\n",
        "for i in range(len(d11)):\r\n",
        "  dif18.append(P[17,i] - beta0[17] - beta1[17]*d11_[i] - beta2[17]*d22[i] - beta3[17]*d33[i] -beta4[17]*d55[i])\r\n",
        "dif18 = np.array(dif18)\r\n",
        "\r\n",
        "dif19=[]\r\n",
        "for i in range(len(d11)):\r\n",
        "  dif19.append(P[18,i] - beta0[18] - beta1[18]*d11_[i] - beta2[18]*d22[i] - beta3[18]*d33[i] -beta4[18]*d55[i])\r\n",
        "dif19 = np.array(dif19)\r\n",
        "\r\n",
        "dif20=[]\r\n",
        "for i in range(len(d11)):\r\n",
        "  dif20.append(P[19,i] - beta0[19] - beta1[19]*d11_[i] - beta2[19]*d22[i] - beta3[19]*d33[i] -beta4[19]*d55[i])\r\n",
        "dif20 = np.array(dif20)\r\n",
        "\r\n",
        "P4 = np.vstack((dif1,dif2,dif3,dif4,dif5,dif6,dif7,dif8,dif9,dif10,dif11,dif12,dif13,dif14,dif15,dif16,dif17,dif18,dif19,dif20))\r\n",
        "covresi3 = np.cov(P4)\r\n",
        "\r\n",
        "covRt3 = np.dot(np.dot(P2.T,covfac3),P2) + covresi3"
      ],
      "execution_count": 24,
      "outputs": []
    },
    {
      "cell_type": "code",
      "metadata": {
        "colab": {
          "base_uri": "https://localhost:8080/"
        },
        "id": "fLvz_TWLWibC",
        "outputId": "04391532-06cd-4de6-f0a7-a9fe13f3d980"
      },
      "source": [
        "var3 = []\r\n",
        "for i in range(20):\r\n",
        "  for t in range(20):\r\n",
        "    if t==i:\r\n",
        "      var3.append(covRt3[i,t])\r\n",
        "var3\r\n"
      ],
      "execution_count": 25,
      "outputs": [
        {
          "output_type": "execute_result",
          "data": {
            "text/plain": [
              "[0.02142499193806043,\n",
              " 0.0006033330159462733,\n",
              " 0.0022030462446094978,\n",
              " 0.0002660525080574287,\n",
              " 0.0006307275752220284,\n",
              " 0.0020025388080186076,\n",
              " 0.00045233106084436876,\n",
              " 7.829697615212639e-05,\n",
              " 0.0004260894813977146,\n",
              " 0.00022573963162961672,\n",
              " 0.0011002035903612904,\n",
              " 0.0007396471535256297,\n",
              " 0.0006518450280845192,\n",
              " 0.0003193398468680222,\n",
              " 9.208512447511307e-05,\n",
              " 0.0005691123197458226,\n",
              " 0.00021574211435343866,\n",
              " 0.0003258221393587608,\n",
              " 0.001511191046125948,\n",
              " 0.0003350536293613228]"
            ]
          },
          "metadata": {
            "tags": []
          },
          "execution_count": 25
        }
      ]
    },
    {
      "cell_type": "code",
      "metadata": {
        "id": "tVnJeG0MXcX9"
      },
      "source": [
        "P1 = np.vstack((d11_,d55))"
      ],
      "execution_count": 26,
      "outputs": []
    },
    {
      "cell_type": "code",
      "metadata": {
        "id": "yDeFOmfOXcf2"
      },
      "source": [
        "lrModel = LinearRegression()\r\n",
        "\r\n",
        "beta0=[]\r\n",
        "beta1=[]\r\n",
        "beta2=[]\r\n",
        "\r\n",
        "for i in range(20):\r\n",
        "  lrModel.fit(P1.T,P[i,])\r\n",
        "  beta1.append(lrModel.coef_[0])\r\n",
        "  beta2.append(lrModel.coef_[1])\r\n",
        "  beta0.append(lrModel.intercept_) "
      ],
      "execution_count": 27,
      "outputs": []
    },
    {
      "cell_type": "code",
      "metadata": {
        "colab": {
          "base_uri": "https://localhost:8080/"
        },
        "id": "7EqP-oEEiH4i",
        "outputId": "d348c88f-3f7a-4a5f-ed8a-c45f97a1a8b7"
      },
      "source": [
        "d11_mean = np.mean(d11_)\r\n",
        "d22_mean = np.mean(d22)\r\n",
        "d33_mean = np.mean(d33)\r\n",
        "d44_mean = np.mean(d44)\r\n",
        "d_muf1_mean = np.mean(d_muf1)\r\n",
        "\r\n",
        "beta11=[]\r\n",
        "beta22=[]\r\n",
        "beta33=[]\r\n",
        "beta44=[]\r\n",
        "for i in range(len(beta1)):\r\n",
        "  beta11.append(beta1[i] * d11_mean)\r\n",
        "for i in range(len(beta2)):\r\n",
        "  beta22.append(beta2[i] * d55_mean)\r\n",
        "expected4 = []\r\n",
        "for i in range(len(beta11)):\r\n",
        "  expected4.append(beta11[i] + beta22[i] + beta0[i] + d_muf1_mean)\r\n",
        "expected4"
      ],
      "execution_count": 28,
      "outputs": [
        {
          "output_type": "execute_result",
          "data": {
            "text/plain": [
              "[-0.0038369729502038194,\n",
              " -0.0022514131615340785,\n",
              " -0.0029643735406742686,\n",
              " 0.0005732838056674502,\n",
              " -0.0011786740291300293,\n",
              " -0.005116845327385065,\n",
              " -0.00034803517685800395,\n",
              " 0.0010122051780463506,\n",
              " -0.00047021925523502844,\n",
              " 0.0007514074570538556,\n",
              " -3.448977990173213e-05,\n",
              " -0.0006189014466280798,\n",
              " 0.001678530559852627,\n",
              " 0.0007257771378565078,\n",
              " 0.0003941721605550466,\n",
              " 0.0004128745878116402,\n",
              " 0.0011850225077109158,\n",
              " -0.00046062314810210725,\n",
              " -0.0009234109831762691,\n",
              " 0.0006766563642410517]"
            ]
          },
          "metadata": {
            "tags": []
          },
          "execution_count": 28
        }
      ]
    },
    {
      "cell_type": "code",
      "metadata": {
        "id": "SNrECheDjFuZ"
      },
      "source": [
        "beta1 = np.array(beta1)\r\n",
        "beta2 = np.array(beta2)\r\n",
        "beta3 = np.array(beta3)\r\n",
        "beta4 = np.array(beta4)\r\n",
        "j = []\r\n",
        "for i in range(len(beta1)):\r\n",
        "  t=1\r\n",
        "  j.append(t)\r\n",
        "P2 = np.vstack((beta1,beta2,j))\r\n",
        "P3 = np.vstack((d11_,d55,d_muf1))\r\n",
        "covfac4 = np.cov(P3)\r\n",
        "\r\n",
        "dif1=[]\r\n",
        "for i in range(len(d11)):\r\n",
        "  dif1.append(P[0,i] - beta0[0] - beta1[0]*d11_[i] -beta2[0]*d55[i])\r\n",
        "dif1 = np.array(dif1)\r\n",
        "\r\n",
        "dif2=[]\r\n",
        "for i in range(len(d11)):\r\n",
        "  dif2.append(P[1,i] - beta0[1] - beta1[1]*d11_[i] -beta2[1]*d55[i])\r\n",
        "dif2 = np.array(dif2)\r\n",
        "\r\n",
        "dif3=[]\r\n",
        "for i in range(len(d11)):\r\n",
        "  dif3.append(P[2,i] - beta0[2] - beta1[2]*d11_[i] -beta2[2]*d55[i])\r\n",
        "dif3 = np.array(dif3)\r\n",
        "\r\n",
        "dif4=[]\r\n",
        "for i in range(len(d11)):\r\n",
        "  dif4.append(P[3,i] - beta0[3] - beta1[3]*d11_[i] -beta2[3]*d55[i])\r\n",
        "dif4 = np.array(dif4)\r\n",
        "\r\n",
        "dif5=[]\r\n",
        "for i in range(len(d11)):\r\n",
        "  dif5.append(P[4,i] - beta0[4] - beta1[4]*d11_[i] -beta2[4]*d55[i])\r\n",
        "dif5 = np.array(dif5)\r\n",
        "\r\n",
        "dif6=[]\r\n",
        "for i in range(len(d11)):\r\n",
        "  dif6.append(P[5,i] - beta0[5] - beta1[5]*d11_[i] -beta2[5]*d55[i])\r\n",
        "dif6 = np.array(dif6)\r\n",
        "\r\n",
        "dif7=[]\r\n",
        "for i in range(len(d11)):\r\n",
        "  dif7.append(P[6,i] - beta0[6] - beta1[6]*d11_[i] -beta2[6]*d55[i])\r\n",
        "dif7 = np.array(dif7)\r\n",
        "\r\n",
        "dif8=[]\r\n",
        "for i in range(len(d11)):\r\n",
        "  dif8.append(P[7,i] - beta0[7] - beta1[7]*d11_[i] -beta2[7]*d55[i])\r\n",
        "dif8 = np.array(dif8)\r\n",
        "\r\n",
        "dif9=[]\r\n",
        "for i in range(len(d11)):\r\n",
        "  dif9.append(P[8,i] - beta0[8] - beta1[8]*d11_[i] -beta2[8]*d55[i])\r\n",
        "dif9 = np.array(dif9)\r\n",
        "\r\n",
        "dif10=[]\r\n",
        "for i in range(len(d11)):\r\n",
        "  dif10.append(P[9,i] - beta0[9] - beta1[9]*d11_[i] -beta2[9]*d55[i])\r\n",
        "dif10 = np.array(dif10)\r\n",
        "\r\n",
        "dif11=[]\r\n",
        "for i in range(len(d11)):\r\n",
        "  dif11.append(P[10,i] - beta0[10] - beta1[10]*d11_[i] -beta2[10]*d55[i])\r\n",
        "dif11 = np.array(dif11)\r\n",
        "\r\n",
        "dif12=[]\r\n",
        "for i in range(len(d11)):\r\n",
        "  dif12.append(P[11,i] - beta0[11] - beta1[11]*d11_[i] -beta2[11]*d55[i])\r\n",
        "dif12 = np.array(dif12)\r\n",
        "\r\n",
        "dif13=[]\r\n",
        "for i in range(len(d11)):\r\n",
        "  dif13.append(P[12,i] - beta0[12] - beta1[12]*d11_[i] -beta2[12]*d55[i])\r\n",
        "dif13 = np.array(dif13)\r\n",
        "\r\n",
        "dif14=[]\r\n",
        "for i in range(len(d11)):\r\n",
        "  dif14.append(P[13,i] - beta0[13] - beta1[13]*d11_[i] -beta2[13]*d55[i])\r\n",
        "dif14 = np.array(dif14)\r\n",
        "\r\n",
        "dif15=[]\r\n",
        "for i in range(len(d11)):\r\n",
        "  dif15.append(P[14,i] - beta0[14] - beta1[14]*d11_[i] -beta2[14]*d55[i])\r\n",
        "dif15 = np.array(dif15)\r\n",
        "\r\n",
        "dif16=[]\r\n",
        "for i in range(len(d11)):\r\n",
        "  dif16.append(P[15,i] - beta0[15] - beta1[15]*d11_[i] -beta2[15]*d55[i])\r\n",
        "dif16 = np.array(dif16)\r\n",
        "\r\n",
        "dif17=[]\r\n",
        "for i in range(len(d11)):\r\n",
        "  dif17.append(P[16,i] - beta0[16] - beta1[16]*d11_[i] -beta2[16]*d55[i])\r\n",
        "dif17 = np.array(dif17)\r\n",
        "\r\n",
        "dif18=[]\r\n",
        "for i in range(len(d11)):\r\n",
        "  dif18.append(P[17,i] - beta0[17] - beta1[17]*d11_[i] -beta2[17]*d55[i])\r\n",
        "dif18 = np.array(dif18)\r\n",
        "\r\n",
        "dif19=[]\r\n",
        "for i in range(len(d11)):\r\n",
        "  dif19.append(P[18,i] - beta0[18] - beta1[18]*d11_[i] -beta2[18]*d55[i])\r\n",
        "dif19 = np.array(dif19)\r\n",
        "\r\n",
        "dif20=[]\r\n",
        "for i in range(len(d11)):\r\n",
        "  dif20.append(P[19,i] - beta0[19] - beta1[19]*d11_[i] -beta2[19]*d55[i])\r\n",
        "dif20 = np.array(dif20)\r\n",
        "\r\n",
        "P4 = np.vstack((dif1,dif2,dif3,dif4,dif5,dif6,dif7,dif8,dif9,dif10,dif11,dif12,dif13,dif14,dif15,dif16,dif17,dif18,dif19,dif20))\r\n",
        "covresi4 = np.cov(P4)\r\n",
        "\r\n",
        "covRt4 = np.dot(np.dot(P2.T,covfac4),P2) + covresi4"
      ],
      "execution_count": 29,
      "outputs": []
    },
    {
      "cell_type": "code",
      "metadata": {
        "colab": {
          "base_uri": "https://localhost:8080/"
        },
        "id": "emEQwEoQjF0I",
        "outputId": "09628918-1dac-4181-aebf-1ba0e4153717"
      },
      "source": [
        "var4 = []\r\n",
        "for i in range(20):\r\n",
        "  for t in range(20):\r\n",
        "    if t==i:\r\n",
        "      var4.append(covRt4[i,t])\r\n",
        "var4"
      ],
      "execution_count": 32,
      "outputs": [
        {
          "output_type": "execute_result",
          "data": {
            "text/plain": [
              "[0.02141232980384721,\n",
              " 0.0006104291158072585,\n",
              " 0.0022147756652500304,\n",
              " 0.00027077994419832897,\n",
              " 0.0006346923410299329,\n",
              " 0.002005067201767073,\n",
              " 0.0004585480895004943,\n",
              " 7.62531777702216e-05,\n",
              " 0.0004274749753936899,\n",
              " 0.00022590852025248067,\n",
              " 0.001109572733884736,\n",
              " 0.0007502882678154899,\n",
              " 0.0006565367965745287,\n",
              " 0.00032045856229513735,\n",
              " 8.952190702403532e-05,\n",
              " 0.0005751791258691303,\n",
              " 0.00021422892400939752,\n",
              " 0.00032953505050517924,\n",
              " 0.001525688371532255,\n",
              " 0.00033681043312373]"
            ]
          },
          "metadata": {
            "tags": []
          },
          "execution_count": 32
        }
      ]
    },
    {
      "cell_type": "code",
      "metadata": {
        "id": "Q0ZtIC0nkzcs"
      },
      "source": [
        "P1 = np.vstack((d11_,d44))"
      ],
      "execution_count": 33,
      "outputs": []
    },
    {
      "cell_type": "code",
      "metadata": {
        "id": "8woetWXClxYy"
      },
      "source": [
        "lrModel = LinearRegression()\r\n",
        "\r\n",
        "beta0=[]\r\n",
        "beta1=[]\r\n",
        "beta2=[]\r\n",
        "\r\n",
        "for i in range(20):\r\n",
        "  lrModel.fit(P1.T,P[i,])\r\n",
        "  beta1.append(lrModel.coef_[0])\r\n",
        "  beta2.append(lrModel.coef_[1])\r\n",
        "  beta0.append(lrModel.intercept_) "
      ],
      "execution_count": 34,
      "outputs": []
    },
    {
      "cell_type": "code",
      "metadata": {
        "colab": {
          "base_uri": "https://localhost:8080/"
        },
        "id": "rgGYEWBy-JUG",
        "outputId": "626ecf71-743c-4f92-8da7-553b2ea1941a"
      },
      "source": [
        "d11_mean = np.mean(d11_)\r\n",
        "d22_mean = np.mean(d22)\r\n",
        "d33_mean = np.mean(d33)\r\n",
        "d44_mean = np.mean(d44)\r\n",
        "d_muf1_mean = np.mean(d_muf1)\r\n",
        "\r\n",
        "beta11=[]\r\n",
        "beta22=[]\r\n",
        "beta33=[]\r\n",
        "beta44=[]\r\n",
        "for i in range(len(beta1)):\r\n",
        "  beta11.append(beta1[i] * d11_mean)\r\n",
        "for i in range(len(beta2)):\r\n",
        "  beta22.append(beta2[i] * d44_mean)\r\n",
        "expected5 = []\r\n",
        "for i in range(len(beta11)):\r\n",
        "  expected5.append(beta11[i] + beta22[i] + beta0[i] + d_muf1_mean)\r\n",
        "expected5"
      ],
      "execution_count": 35,
      "outputs": [
        {
          "output_type": "execute_result",
          "data": {
            "text/plain": [
              "[-0.0038369729502038194,\n",
              " -0.0022514131615340785,\n",
              " -0.0029643735406742686,\n",
              " 0.0005732838056674502,\n",
              " -0.0011786740291300293,\n",
              " -0.005116845327385065,\n",
              " -0.00034803517685800395,\n",
              " 0.0010122051780463506,\n",
              " -0.00047021925523502844,\n",
              " 0.0007514074570538556,\n",
              " -3.448977990173213e-05,\n",
              " -0.0006189014466280798,\n",
              " 0.001678530559852627,\n",
              " 0.0007257771378565078,\n",
              " 0.0003941721605550466,\n",
              " 0.0004128745878116402,\n",
              " 0.0011850225077109158,\n",
              " -0.00046062314810210725,\n",
              " -0.0009234109831762691,\n",
              " 0.0006766563642410517]"
            ]
          },
          "metadata": {
            "tags": []
          },
          "execution_count": 35
        }
      ]
    },
    {
      "cell_type": "code",
      "metadata": {
        "id": "qs9Vkm5w-Tyr"
      },
      "source": [
        "beta1 = np.array(beta1)\r\n",
        "beta2 = np.array(beta2)\r\n",
        "beta3 = np.array(beta3)\r\n",
        "beta4 = np.array(beta4)\r\n",
        "j = []\r\n",
        "for i in range(len(beta1)):\r\n",
        "  t=1\r\n",
        "  j.append(t)\r\n",
        "P2 = np.vstack((beta1,beta2,j))\r\n",
        "P3 = np.vstack((d11_,d44,d_muf1))\r\n",
        "covfac5 = np.cov(P3)\r\n",
        "\r\n",
        "dif1=[]\r\n",
        "for i in range(len(d11)):\r\n",
        "  dif1.append(P[0,i] - beta0[0] - beta1[0]*d11_[i] -beta2[0]*d44[i])\r\n",
        "dif1 = np.array(dif1)\r\n",
        "\r\n",
        "dif2=[]\r\n",
        "for i in range(len(d11)):\r\n",
        "  dif2.append(P[1,i] - beta0[1] - beta1[1]*d11_[i] -beta2[1]*d44[i])\r\n",
        "dif2 = np.array(dif2)\r\n",
        "\r\n",
        "dif3=[]\r\n",
        "for i in range(len(d11)):\r\n",
        "  dif3.append(P[2,i] - beta0[2] - beta1[2]*d11_[i] -beta2[2]*d44[i])\r\n",
        "dif3 = np.array(dif3)\r\n",
        "\r\n",
        "dif4=[]\r\n",
        "for i in range(len(d11)):\r\n",
        "  dif4.append(P[3,i] - beta0[3] - beta1[3]*d11_[i] -beta2[3]*d44[i])\r\n",
        "dif4 = np.array(dif4)\r\n",
        "\r\n",
        "dif5=[]\r\n",
        "for i in range(len(d11)):\r\n",
        "  dif5.append(P[4,i] - beta0[4] - beta1[4]*d11_[i] -beta2[4]*d44[i])\r\n",
        "dif5 = np.array(dif5)\r\n",
        "\r\n",
        "dif6=[]\r\n",
        "for i in range(len(d11)):\r\n",
        "  dif6.append(P[5,i] - beta0[5] - beta1[5]*d11_[i] -beta2[5]*d44[i])\r\n",
        "dif6 = np.array(dif6)\r\n",
        "\r\n",
        "dif7=[]\r\n",
        "for i in range(len(d11)):\r\n",
        "  dif7.append(P[6,i] - beta0[6] - beta1[6]*d11_[i] -beta2[6]*d44[i])\r\n",
        "dif7 = np.array(dif7)\r\n",
        "\r\n",
        "dif8=[]\r\n",
        "for i in range(len(d11)):\r\n",
        "  dif8.append(P[7,i] - beta0[7] - beta1[7]*d11_[i] -beta2[7]*d44[i])\r\n",
        "dif8 = np.array(dif8)\r\n",
        "\r\n",
        "dif9=[]\r\n",
        "for i in range(len(d11)):\r\n",
        "  dif9.append(P[8,i] - beta0[8] - beta1[8]*d11_[i] -beta2[8]*d44[i])\r\n",
        "dif9 = np.array(dif9)\r\n",
        "\r\n",
        "dif10=[]\r\n",
        "for i in range(len(d11)):\r\n",
        "  dif10.append(P[9,i] - beta0[9] - beta1[9]*d11_[i] -beta2[9]*d44[i])\r\n",
        "dif10 = np.array(dif10)\r\n",
        "\r\n",
        "dif11=[]\r\n",
        "for i in range(len(d11)):\r\n",
        "  dif11.append(P[10,i] - beta0[10] - beta1[10]*d11_[i] -beta2[10]*d44[i])\r\n",
        "dif11 = np.array(dif11)\r\n",
        "\r\n",
        "dif12=[]\r\n",
        "for i in range(len(d11)):\r\n",
        "  dif12.append(P[11,i] - beta0[11] - beta1[11]*d11_[i] -beta2[11]*d44[i])\r\n",
        "dif12 = np.array(dif12)\r\n",
        "\r\n",
        "dif13=[]\r\n",
        "for i in range(len(d11)):\r\n",
        "  dif13.append(P[12,i] - beta0[12] - beta1[12]*d11_[i] -beta2[12]*d44[i])\r\n",
        "dif13 = np.array(dif13)\r\n",
        "\r\n",
        "dif14=[]\r\n",
        "for i in range(len(d11)):\r\n",
        "  dif14.append(P[13,i] - beta0[13] - beta1[13]*d11_[i] -beta2[13]*d44[i])\r\n",
        "dif14 = np.array(dif14)\r\n",
        "\r\n",
        "dif15=[]\r\n",
        "for i in range(len(d11)):\r\n",
        "  dif15.append(P[14,i] - beta0[14] - beta1[14]*d11_[i] -beta2[14]*d44[i])\r\n",
        "dif15 = np.array(dif15)\r\n",
        "\r\n",
        "dif16=[]\r\n",
        "for i in range(len(d11)):\r\n",
        "  dif16.append(P[15,i] - beta0[15] - beta1[15]*d11_[i] -beta2[15]*d44[i])\r\n",
        "dif16 = np.array(dif16)\r\n",
        "\r\n",
        "dif17=[]\r\n",
        "for i in range(len(d11)):\r\n",
        "  dif17.append(P[16,i] - beta0[16] - beta1[16]*d11_[i] -beta2[16]*d44[i])\r\n",
        "dif17 = np.array(dif17)\r\n",
        "\r\n",
        "dif18=[]\r\n",
        "for i in range(len(d11)):\r\n",
        "  dif18.append(P[17,i] - beta0[17] - beta1[17]*d11_[i] -beta2[17]*d44[i])\r\n",
        "dif18 = np.array(dif18)\r\n",
        "\r\n",
        "dif19=[]\r\n",
        "for i in range(len(d11)):\r\n",
        "  dif19.append(P[18,i] - beta0[18] - beta1[18]*d11_[i] -beta2[18]*d44[i])\r\n",
        "dif19 = np.array(dif19)\r\n",
        "\r\n",
        "dif20=[]\r\n",
        "for i in range(len(d11)):\r\n",
        "  dif20.append(P[19,i] - beta0[19] - beta1[19]*d11_[i] -beta2[19]*d44[i])\r\n",
        "dif20 = np.array(dif20)\r\n",
        "\r\n",
        "P4 = np.vstack((dif1,dif2,dif3,dif4,dif5,dif6,dif7,dif8,dif9,dif10,dif11,dif12,dif13,dif14,dif15,dif16,dif17,dif18,dif19,dif20))\r\n",
        "covresi5 = np.cov(P4)\r\n",
        "\r\n",
        "covRt5 = np.dot(np.dot(P2.T,covfac5),P2) + covresi5"
      ],
      "execution_count": 36,
      "outputs": []
    },
    {
      "cell_type": "code",
      "metadata": {
        "colab": {
          "base_uri": "https://localhost:8080/"
        },
        "id": "jYgJCjix-wPs",
        "outputId": "987d7419-1db1-4ad2-cf07-4e89bc558e53"
      },
      "source": [
        "var5 = []\r\n",
        "for i in range(20):\r\n",
        "  for t in range(20):\r\n",
        "    if t==i:\r\n",
        "      var5.append(covRt5[i,t])\r\n",
        "var5"
      ],
      "execution_count": 39,
      "outputs": [
        {
          "output_type": "execute_result",
          "data": {
            "text/plain": [
              "[0.02141753404648692,\n",
              " 0.0006117459261785181,\n",
              " 0.0022165866988674617,\n",
              " 0.00027121818271506334,\n",
              " 0.0006344971609429307,\n",
              " 0.0020044810191834446,\n",
              " 0.00045975804077221004,\n",
              " 7.611566043286635e-05,\n",
              " 0.0004264076431472956,\n",
              " 0.0002248096950825033,\n",
              " 0.0011114538714498336,\n",
              " 0.0007517019902711054,\n",
              " 0.000657127964013224,\n",
              " 0.00032081163465052327,\n",
              " 8.950693045917433e-05,\n",
              " 0.000576565502134567,\n",
              " 0.00021423987578346256,\n",
              " 0.0003299258915443738,\n",
              " 0.0015271992740578523,\n",
              " 0.00033625663245742893]"
            ]
          },
          "metadata": {
            "tags": []
          },
          "execution_count": 39
        }
      ]
    },
    {
      "cell_type": "code",
      "metadata": {
        "id": "qcg3Vp0j-3y2"
      },
      "source": [
        "P1 = np.vstack((d11_,d44,d55))"
      ],
      "execution_count": 40,
      "outputs": []
    },
    {
      "cell_type": "code",
      "metadata": {
        "id": "qmMlYoz1AUmH"
      },
      "source": [
        "lrModel = LinearRegression()\r\n",
        "\r\n",
        "beta0=[]\r\n",
        "beta1=[]\r\n",
        "beta2=[]\r\n",
        "beta3=[]\r\n",
        "for i in range(20):\r\n",
        "  lrModel.fit(P1.T,P[i,])\r\n",
        "  beta1.append(lrModel.coef_[0])\r\n",
        "  beta2.append(lrModel.coef_[1])\r\n",
        "  beta3.append(lrModel.coef_[2])  \r\n",
        "  beta0.append(lrModel.intercept_) "
      ],
      "execution_count": 41,
      "outputs": []
    },
    {
      "cell_type": "code",
      "metadata": {
        "colab": {
          "base_uri": "https://localhost:8080/"
        },
        "id": "IA5W1ms8BmyH",
        "outputId": "cbcd6a3b-fe8a-4ff1-b064-a05aac0ecd26"
      },
      "source": [
        "d11_mean = np.mean(d11_)\r\n",
        "d22_mean = np.mean(d22)\r\n",
        "d33_mean = np.mean(d33)\r\n",
        "d44_mean = np.mean(d44)\r\n",
        "d_muf1_mean = np.mean(d_muf1)\r\n",
        "\r\n",
        "beta11=[]\r\n",
        "beta22=[]\r\n",
        "beta33=[]\r\n",
        "beta44=[]\r\n",
        "for i in range(len(beta1)):\r\n",
        "  beta11.append(beta1[i] * d11_mean)\r\n",
        "for i in range(len(beta2)):\r\n",
        "  beta22.append(beta2[i] * d44_mean)\r\n",
        "for i in range(len(beta3)):\r\n",
        "  beta33.append(beta3[i] * d55_mean)\r\n",
        "expected6 = []\r\n",
        "for i in range(len(beta11)):\r\n",
        "  expected6.append(beta11[i] + beta22[i] + beta33[i] + beta0[i] + d_muf1_mean)\r\n",
        "expected6"
      ],
      "execution_count": 42,
      "outputs": [
        {
          "output_type": "execute_result",
          "data": {
            "text/plain": [
              "[-0.0038369729502038194,\n",
              " -0.0022514131615340785,\n",
              " -0.0029643735406742686,\n",
              " 0.0005732838056674502,\n",
              " -0.0011786740291300293,\n",
              " -0.005116845327385065,\n",
              " -0.00034803517685800395,\n",
              " 0.0010122051780463506,\n",
              " -0.00047021925523502844,\n",
              " 0.0007514074570538556,\n",
              " -3.448977990173213e-05,\n",
              " -0.0006189014466280798,\n",
              " 0.001678530559852627,\n",
              " 0.0007257771378565078,\n",
              " 0.0003941721605550466,\n",
              " 0.0004128745878116402,\n",
              " 0.0011850225077109158,\n",
              " -0.00046062314810210725,\n",
              " -0.0009234109831762691,\n",
              " 0.0006766563642410517]"
            ]
          },
          "metadata": {
            "tags": []
          },
          "execution_count": 42
        }
      ]
    },
    {
      "cell_type": "code",
      "metadata": {
        "id": "lkPxlqnuEWt9"
      },
      "source": [
        "beta1 = np.array(beta1)\r\n",
        "beta2 = np.array(beta2)\r\n",
        "beta3 = np.array(beta3)\r\n",
        "beta4 = np.array(beta4)\r\n",
        "j = []\r\n",
        "for i in range(len(beta1)):\r\n",
        "  t=1\r\n",
        "  j.append(t)\r\n",
        "P2 = np.vstack((beta1,beta2,beta3,j))\r\n",
        "P3 = np.vstack((d11_,d44,d55,d_muf1))\r\n",
        "covfac6 = np.cov(P3)\r\n",
        "\r\n",
        "dif1=[]\r\n",
        "for i in range(len(d11)):\r\n",
        "  dif1.append(P[0,i] - beta0[0] - beta1[0]*d11_[i] -beta2[0]*d44[i] -beta3[0]*d55[i])\r\n",
        "dif1 = np.array(dif1)\r\n",
        "\r\n",
        "dif2=[]\r\n",
        "for i in range(len(d11)):\r\n",
        "  dif2.append(P[1,i] - beta0[1] - beta1[1]*d11_[i] -beta2[1]*d44[i]-beta3[1]*d55[i])\r\n",
        "dif2 = np.array(dif2)\r\n",
        "\r\n",
        "dif3=[]\r\n",
        "for i in range(len(d11)):\r\n",
        "  dif3.append(P[2,i] - beta0[2] - beta1[2]*d11_[i] -beta2[2]*d44[i]-beta3[2]*d55[i])\r\n",
        "dif3 = np.array(dif3)\r\n",
        "\r\n",
        "dif4=[]\r\n",
        "for i in range(len(d11)):\r\n",
        "  dif4.append(P[3,i] - beta0[3] - beta1[3]*d11_[i] -beta2[3]*d44[i]-beta3[3]*d55[i])\r\n",
        "dif4 = np.array(dif4)\r\n",
        "\r\n",
        "dif5=[]\r\n",
        "for i in range(len(d11)):\r\n",
        "  dif5.append(P[4,i] - beta0[4] - beta1[4]*d11_[i] -beta2[4]*d44[i]-beta3[4]*d55[i])\r\n",
        "dif5 = np.array(dif5)\r\n",
        "\r\n",
        "dif6=[]\r\n",
        "for i in range(len(d11)):\r\n",
        "  dif6.append(P[5,i] - beta0[5] - beta1[5]*d11_[i] -beta2[5]*d44[i]-beta3[5]*d55[i])\r\n",
        "dif6 = np.array(dif6)\r\n",
        "\r\n",
        "dif7=[]\r\n",
        "for i in range(len(d11)):\r\n",
        "  dif7.append(P[6,i] - beta0[6] - beta1[6]*d11_[i] -beta2[6]*d44[i]-beta3[6]*d55[i])\r\n",
        "dif7 = np.array(dif7)\r\n",
        "\r\n",
        "dif8=[]\r\n",
        "for i in range(len(d11)):\r\n",
        "  dif8.append(P[7,i] - beta0[7] - beta1[7]*d11_[i] -beta2[7]*d44[i]-beta3[7]*d55[i])\r\n",
        "dif8 = np.array(dif8)\r\n",
        "\r\n",
        "dif9=[]\r\n",
        "for i in range(len(d11)):\r\n",
        "  dif9.append(P[8,i] - beta0[8] - beta1[8]*d11_[i] -beta2[8]*d44[i]-beta3[8]*d55[i])\r\n",
        "dif9 = np.array(dif9)\r\n",
        "\r\n",
        "dif10=[]\r\n",
        "for i in range(len(d11)):\r\n",
        "  dif10.append(P[9,i] - beta0[9] - beta1[9]*d11_[i] -beta2[9]*d44[i]-beta3[9]*d55[i])\r\n",
        "dif10 = np.array(dif10)\r\n",
        "\r\n",
        "dif11=[]\r\n",
        "for i in range(len(d11)):\r\n",
        "  dif11.append(P[10,i] - beta0[10] - beta1[10]*d11_[i] -beta2[10]*d44[i]-beta3[10]*d55[i])\r\n",
        "dif11 = np.array(dif11)\r\n",
        "\r\n",
        "dif12=[]\r\n",
        "for i in range(len(d11)):\r\n",
        "  dif12.append(P[11,i] - beta0[11] - beta1[11]*d11_[i] -beta2[11]*d44[i]-beta3[11]*d55[i])\r\n",
        "dif12 = np.array(dif12)\r\n",
        "\r\n",
        "dif13=[]\r\n",
        "for i in range(len(d11)):\r\n",
        "  dif13.append(P[12,i] - beta0[12] - beta1[12]*d11_[i] -beta2[12]*d44[i]-beta3[12]*d55[i])\r\n",
        "dif13 = np.array(dif13)\r\n",
        "\r\n",
        "dif14=[]\r\n",
        "for i in range(len(d11)):\r\n",
        "  dif14.append(P[13,i] - beta0[13] - beta1[13]*d11_[i] -beta2[13]*d44[i]-beta3[13]*d55[i])\r\n",
        "dif14 = np.array(dif14)\r\n",
        "\r\n",
        "dif15=[]\r\n",
        "for i in range(len(d11)):\r\n",
        "  dif15.append(P[14,i] - beta0[14] - beta1[14]*d11_[i] -beta2[14]*d44[i]-beta3[14]*d55[i])\r\n",
        "dif15 = np.array(dif15)\r\n",
        "\r\n",
        "dif16=[]\r\n",
        "for i in range(len(d11)):\r\n",
        "  dif16.append(P[15,i] - beta0[15] - beta1[15]*d11_[i] -beta2[15]*d44[i]-beta3[15]*d55[i])\r\n",
        "dif16 = np.array(dif16)\r\n",
        "\r\n",
        "dif17=[]\r\n",
        "for i in range(len(d11)):\r\n",
        "  dif17.append(P[16,i] - beta0[16] - beta1[16]*d11_[i] -beta2[16]*d44[i]-beta3[16]*d55[i])\r\n",
        "dif17 = np.array(dif17)\r\n",
        "\r\n",
        "dif18=[]\r\n",
        "for i in range(len(d11)):\r\n",
        "  dif18.append(P[17,i] - beta0[17] - beta1[17]*d11_[i] -beta2[17]*d44[i]-beta3[17]*d55[i])\r\n",
        "dif18 = np.array(dif18)\r\n",
        "\r\n",
        "dif19=[]\r\n",
        "for i in range(len(d11)):\r\n",
        "  dif19.append(P[18,i] - beta0[18] - beta1[18]*d11_[i] -beta2[18]*d44[i]-beta3[18]*d55[i])\r\n",
        "dif19 = np.array(dif19)\r\n",
        "\r\n",
        "dif20=[]\r\n",
        "for i in range(len(d11)):\r\n",
        "  dif20.append(P[19,i] - beta0[19] - beta1[19]*d11_[i] -beta2[19]*d44[i]-beta3[19]*d55[i])\r\n",
        "dif20 = np.array(dif20)\r\n",
        "\r\n",
        "P4 = np.vstack((dif1,dif2,dif3,dif4,dif5,dif6,dif7,dif8,dif9,dif10,dif11,dif12,dif13,dif14,dif15,dif16,dif17,dif18,dif19,dif20))\r\n",
        "covresi6 = np.cov(P4)\r\n",
        "\r\n",
        "covRt6 = np.dot(np.dot(P2.T,covfac6),P2) + covresi6"
      ],
      "execution_count": 43,
      "outputs": []
    },
    {
      "cell_type": "code",
      "metadata": {
        "colab": {
          "base_uri": "https://localhost:8080/"
        },
        "id": "mjB-GNazFSyX",
        "outputId": "e37510b4-236b-4bef-8d0a-d8c132fc141e"
      },
      "source": [
        "var6 = []\r\n",
        "for i in range(20):\r\n",
        "  for t in range(20):\r\n",
        "    if t==i:\r\n",
        "      var6.append(covRt6[i,t])\r\n",
        "var6"
      ],
      "execution_count": 44,
      "outputs": [
        {
          "output_type": "execute_result",
          "data": {
            "text/plain": [
              "[0.02141569996041319,\n",
              " 0.0006116575105827055,\n",
              " 0.0022167117560017067,\n",
              " 0.0002712387944818279,\n",
              " 0.0006343279797936302,\n",
              " 0.002004625598954841,\n",
              " 0.00045960530421181966,\n",
              " 7.622125968493518e-05,\n",
              " 0.0004262874434683219,\n",
              " 0.0002247727779981321,\n",
              " 0.0011114558183467666,\n",
              " 0.0007516259315446366,\n",
              " 0.0006569953429141877,\n",
              " 0.0003208575883866459,\n",
              " 8.955988700414308e-05,\n",
              " 0.000576443564803789,\n",
              " 0.0002142108002996715,\n",
              " 0.00032977008948519633,\n",
              " 0.001526962537250158,\n",
              " 0.00033619245960247394]"
            ]
          },
          "metadata": {
            "tags": []
          },
          "execution_count": 44
        }
      ]
    },
    {
      "cell_type": "code",
      "metadata": {
        "id": "Sxpj-BieFv_B"
      },
      "source": [
        "covreal = np.vstack((d2,d3,d4,d5,d6,d7,d8,d9,d10,d11,d12,d13,d14,d15,d16,d17,d18,d19,d20,d21))\r\n",
        "covreal = np.cov(covreal)\r\n",
        "\r\n",
        "norm_=[]\r\n",
        "norm_.append(np.linalg.norm(covreal-covRt1))\r\n",
        "norm_.append(np.linalg.norm(covreal-covRt2))\r\n",
        "norm_.append(np.linalg.norm(covreal-covRt3))\r\n",
        "norm_.append(np.linalg.norm(covreal-covRt4))\r\n",
        "norm_.append(np.linalg.norm(covreal-covRt5))\r\n",
        "norm_.append(np.linalg.norm(covreal-covRt6))\r\n",
        "\r\n",
        "norm_\r\n",
        "\r\n",
        "expected1 = np.array(expected1)\r\n",
        "expected1 = expected1.reshape(-1,1)\r\n",
        "\r\n",
        "expected2 = np.array(expected2)\r\n",
        "expected2 = expected2.reshape(-1,1)"
      ],
      "execution_count": 91,
      "outputs": []
    },
    {
      "cell_type": "code",
      "metadata": {
        "id": "KOVjxYFHSDwh"
      },
      "source": [
        "def optimalWeights(R_expect,R_cov,mu_p):\r\n",
        "  one = np.ones((len(R_expect),1))\r\n",
        "  A = np.dot(np.dot(one.reshape(1,-1),inv(R_cov)),R_expect)\r\n",
        "  B = np.dot(np.dot(R_expect.reshape(1,-1),inv(R_cov)),R_expect)\r\n",
        "  C = np.dot(np.dot(one.reshape(1,-1),inv(R_cov)),one)\r\n",
        "  D = B*C - A**2\r\n",
        "  g = (B * np.dot(inv(R_cov), one) - A* np.dot(inv(R_cov), R_expect))/D\r\n",
        "  h = (C * np.dot(inv(R_cov), R_expect) - A* np.dot(inv(R_cov), one))/D\r\n",
        "  min_sigma = np.dot(np.dot(g.reshape(1,-1),R_cov),g) - (np.dot(np.dot(h.reshape(1,-1),R_cov),g)**2)/np.dot(np.dot(h.reshape(1,-1),R_cov),h)\r\n",
        "  omega = g + h*mu_p\r\n",
        "  return g,h,min_sigma,omega\r\n",
        "\r\n",
        "def optimalWeights2(R_expect,R_cov):\r\n",
        "  one = np.ones((len(R_expect),1))\r\n",
        "  A = np.dot(np.dot(one.reshape(1,-1),inv(R_cov)),R_expect)\r\n",
        "  B = np.dot(np.dot(R_expect.reshape(1,-1),inv(R_cov)),R_expect)\r\n",
        "  C = np.dot(np.dot(one.reshape(1,-1),inv(R_cov)),one)\r\n",
        "  D = B*C - A**2\r\n",
        "  g = (B * np.dot(inv(R_cov), one) - A* np.dot(inv(R_cov), R_expect))/D\r\n",
        "  h = (C * np.dot(inv(R_cov), R_expect) - A* np.dot(inv(R_cov), one))/D\r\n",
        "  min_sigma = np.dot(np.dot(g.reshape(1,-1),R_cov),g) - (np.dot(np.dot(h.reshape(1,-1),R_cov),g)**2)/np.dot(np.dot(h.reshape(1,-1),R_cov),h)\r\n",
        "  return g,h,min_sigma\r\n",
        "\r\n",
        "def effcientfrontier(g,h,R_cov,N1,N2):\r\n",
        "  sigma = []\r\n",
        "  mu = []\r\n",
        "  weight = []\r\n",
        "  before_ = np.inf\r\n",
        "  for i in range(N1,N2):\r\n",
        "      w = g + h*(0.000001*i)\r\n",
        "      sigma_ = np.dot(np.dot(w.reshape(1,-1),R_cov),w)[0][0]\r\n",
        "      if sigma_ > before_:\r\n",
        "        sigma.append(np.sqrt(sigma_)*252)\r\n",
        "        weight.append(w)\r\n",
        "        mu.append((0.000001*i)*252)\r\n",
        "      before_ = sigma_\r\n",
        "  return sigma,mu,weight"
      ],
      "execution_count": 81,
      "outputs": []
    },
    {
      "cell_type": "code",
      "metadata": {
        "colab": {
          "base_uri": "https://localhost:8080/",
          "height": 650
        },
        "id": "fZf9xJznML8Z",
        "outputId": "e7c6cd07-1bde-4c27-99bb-9f8c7230acb4"
      },
      "source": [
        "g1,h1,min_sigma1 = optimalWeights2(expected1,covRt1)\r\n",
        "\r\n",
        "\r\n",
        "sigma1,mu1,weight1 = effcientfrontier(g1,h1,covRt1,0,50000)\r\n",
        "plt.plot(sigma1,mu1)\r\n",
        "plt.ylabel(\"Expected return\")\r\n",
        "plt.xlabel(\"volatility\")\r\n",
        "plt.title(\"1 years EffcientFrontier\")\r\n",
        "plt.show()\r\n",
        "min_sigma1\r\n",
        "\r\n",
        "weight1[0]"
      ],
      "execution_count": 86,
      "outputs": [
        {
          "output_type": "display_data",
          "data": {
            "image/png": "[encoded data removed]",
            "text/plain": [
              "<Figure size 432x288 with 1 Axes>"
            ]
          },
          "metadata": {
            "tags": [],
            "needs_background": "light"
          }
        },
        {
          "output_type": "execute_result",
          "data": {
            "text/plain": [
              "array([[-0.0072751 ],\n",
              "       [ 0.00285042],\n",
              "       [ 0.01762522],\n",
              "       [ 0.03844749],\n",
              "       [-0.00641606],\n",
              "       [ 0.02084968],\n",
              "       [ 0.04356805],\n",
              "       [ 0.41890684],\n",
              "       [ 0.03469563],\n",
              "       [-0.00151442],\n",
              "       [-0.03488833],\n",
              "       [ 0.05366079],\n",
              "       [ 0.02849656],\n",
              "       [-0.07057429],\n",
              "       [ 0.36281805],\n",
              "       [ 0.02574299],\n",
              "       [ 0.06629822],\n",
              "       [ 0.0635815 ],\n",
              "       [-0.01336725],\n",
              "       [-0.043506  ]])"
            ]
          },
          "metadata": {
            "tags": []
          },
          "execution_count": 86
        }
      ]
    },
    {
      "cell_type": "code",
      "metadata": {
        "id": "pAhn_l4-ThDG",
        "outputId": "90766c83-6255-4583-e24e-965c2d790127",
        "colab": {
          "base_uri": "https://localhost:8080/"
        }
      },
      "source": [
        "\r\n",
        "rf = 0.0014 # Choose 1 year US treasury rate as risk free rate\r\n",
        "def findTangent(R_cov, R_expect, rf):\r\n",
        "  rf_daily = rf/252\r\n",
        "  one = np.ones((len(R_expect),1))\r\n",
        "  w_b = np.dot(inv(R_cov),(R_expect - one*rf_daily))\r\n",
        "  w_t = w_b/(np.dot(w_b.T,one))\r\n",
        "  mu_T = np.dot(w_t.T,R_expect)\r\n",
        "  print(w_t)\r\n",
        "  return mu_T,w_t\r\n",
        "mu_T,w_t1 = findTangent(covRt1, expected1, rf)\r\n",
        "np.dot(w_t1.T,expected1)"
      ],
      "execution_count": 87,
      "outputs": [
        {
          "output_type": "stream",
          "text": [
            "[[-0.0084081 ]\n",
            " [-0.87611694]\n",
            " [-0.15381619]\n",
            " [ 0.45992975]\n",
            " [-0.36176489]\n",
            " [-0.46782968]\n",
            " [ 0.14141394]\n",
            " [ 1.25405145]\n",
            " [-0.32383035]\n",
            " [ 0.5972124 ]\n",
            " [ 0.08625616]\n",
            " [-0.04237791]\n",
            " [ 0.34167313]\n",
            " [ 0.2365937 ]\n",
            " [-0.67853657]\n",
            " [ 0.32189761]\n",
            " [ 0.36873839]\n",
            " [-0.28003237]\n",
            " [-0.04048745]\n",
            " [ 0.42543392]]\n"
          ],
          "name": "stdout"
        },
        {
          "output_type": "execute_result",
          "data": {
            "text/plain": [
              "array([[0.00889091]])"
            ]
          },
          "metadata": {
            "tags": []
          },
          "execution_count": 87
        }
      ]
    },
    {
      "cell_type": "code",
      "metadata": {
        "id": "OkD73gNeT-D7",
        "outputId": "a06d9b24-a06a-4ab4-8cdb-b683a72892f5",
        "colab": {
          "base_uri": "https://localhost:8080/",
          "height": 294
        }
      },
      "source": [
        "plt.plot(sigma1,mu1)\r\n",
        "plt.plot(np.sqrt(np.dot(np.dot(w_t1.reshape(1,-1),covRt1),w_t1)[0][0])*252,mu_T*252,'x')\r\n",
        "plt.ylabel(\"Expected return\")\r\n",
        "plt.xlabel(\"volatility\")\r\n",
        "plt.title(\"1 year EffcientFrontier of our 20 equity assets held in Interactive Brokers portfolio and CML\")\r\n",
        "x = np.linspace(0, 30, 100)\r\n",
        "y = ((mu_T[0]*252-rf/252)/(np.sqrt(np.dot(np.dot(w_t1.T,covRt1),w_t1)[0][0])*252))*x+rf/252\r\n",
        "\r\n",
        "plt.plot(x,y,color='red')\r\n",
        "\r\n",
        "plt.show()"
      ],
      "execution_count": 88,
      "outputs": [
        {
          "output_type": "display_data",
          "data": {
            "image/png": "[encoded data removed]",
            "text/plain": [
              "<Figure size 432x288 with 1 Axes>"
            ]
          },
          "metadata": {
            "tags": [],
            "needs_background": "light"
          }
        }
      ]
    },
    {
      "cell_type": "code",
      "metadata": {
        "id": "1rcspopYV6AC",
        "outputId": "18dc29f0-7364-47fb-aa71-092df313439c",
        "colab": {
          "base_uri": "https://localhost:8080/",
          "height": 650
        }
      },
      "source": [
        "\r\n",
        "\r\n",
        "\r\n",
        "g1,h1,min_sigma1 = optimalWeights2(expected2,covRt2)\r\n",
        "\r\n",
        "\r\n",
        "sigma1,mu1,weight1 = effcientfrontier(g1,h1,covRt2,0,50000)\r\n",
        "plt.plot(sigma1,mu1)\r\n",
        "plt.ylabel(\"Expected return\")\r\n",
        "plt.xlabel(\"volatility\")\r\n",
        "plt.title(\"1 years EffcientFrontier\")\r\n",
        "plt.show()\r\n",
        "min_sigma1\r\n",
        "\r\n",
        "weight1[0]"
      ],
      "execution_count": 92,
      "outputs": [
        {
          "output_type": "display_data",
          "data": {
            "image/png": "[encoded data removed]",
            "text/plain": [
              "<Figure size 432x288 with 1 Axes>"
            ]
          },
          "metadata": {
            "tags": [],
            "needs_background": "light"
          }
        },
        {
          "output_type": "execute_result",
          "data": {
            "text/plain": [
              "array([[-0.00725859],\n",
              "       [ 0.00283822],\n",
              "       [ 0.01759298],\n",
              "       [ 0.03840289],\n",
              "       [-0.00638435],\n",
              "       [ 0.02082657],\n",
              "       [ 0.04364959],\n",
              "       [ 0.41872499],\n",
              "       [ 0.03470898],\n",
              "       [-0.00148686],\n",
              "       [-0.03488971],\n",
              "       [ 0.0536354 ],\n",
              "       [ 0.0285224 ],\n",
              "       [-0.07059115],\n",
              "       [ 0.36279739],\n",
              "       [ 0.02576162],\n",
              "       [ 0.06634757],\n",
              "       [ 0.06366191],\n",
              "       [-0.01337103],\n",
              "       [-0.04348882]])"
            ]
          },
          "metadata": {
            "tags": []
          },
          "execution_count": 92
        }
      ]
    },
    {
      "cell_type": "code",
      "metadata": {
        "id": "acEEKYMJWEXD",
        "outputId": "ad9726b9-568d-44d4-c74c-bc35c4b1ac7e",
        "colab": {
          "base_uri": "https://localhost:8080/"
        }
      },
      "source": [
        "rf = 0.0014 # Choose 1 year US treasury rate as risk free rate\r\n",
        "def findTangent(R_cov, R_expect, rf):\r\n",
        "  rf_daily = rf/252\r\n",
        "  one = np.ones((len(R_expect),1))\r\n",
        "  w_b = np.dot(inv(R_cov),(R_expect - one*rf_daily))\r\n",
        "  w_t = w_b/(np.dot(w_b.T,one))\r\n",
        "  mu_T = np.dot(w_t.T,R_expect)\r\n",
        "  print(w_t)\r\n",
        "  return mu_T,w_t\r\n",
        "mu_T,w_t2 = findTangent(covRt2, expected2, rf)\r\n",
        "np.dot(w_t2.T,expected2)"
      ],
      "execution_count": 93,
      "outputs": [
        {
          "output_type": "stream",
          "text": [
            "[[-0.00839222]\n",
            " [-0.87661642]\n",
            " [-0.15394347]\n",
            " [ 0.46011881]\n",
            " [-0.36193018]\n",
            " [-0.46812371]\n",
            " [ 0.14154973]\n",
            " [ 1.25433259]\n",
            " [-0.32401576]\n",
            " [ 0.59757189]\n",
            " [ 0.08632194]\n",
            " [-0.04245654]\n",
            " [ 0.34187259]\n",
            " [ 0.23674713]\n",
            " [-0.67913454]\n",
            " [ 0.32208043]\n",
            " [ 0.3689554 ]\n",
            " [-0.28014245]\n",
            " [-0.04050627]\n",
            " [ 0.42571106]]\n"
          ],
          "name": "stdout"
        },
        {
          "output_type": "execute_result",
          "data": {
            "text/plain": [
              "array([[0.0088956]])"
            ]
          },
          "metadata": {
            "tags": []
          },
          "execution_count": 93
        }
      ]
    },
    {
      "cell_type": "code",
      "metadata": {
        "id": "OcRbPmZfWQK2",
        "outputId": "41f53027-793e-492d-d711-9bc46cabb92a",
        "colab": {
          "base_uri": "https://localhost:8080/",
          "height": 294
        }
      },
      "source": [
        "plt.plot(sigma1,mu1)\r\n",
        "plt.plot(np.sqrt(np.dot(np.dot(w_t2.reshape(1,-1),covRt2),w_t2)[0][0])*252,mu_T*252,'x')\r\n",
        "plt.ylabel(\"Expected return\")\r\n",
        "plt.xlabel(\"volatility\")\r\n",
        "plt.title(\"1 year EffcientFrontier of our 20 equity assets held in Interactive Brokers portfolio and CML\")\r\n",
        "x = np.linspace(0, 30, 100)\r\n",
        "y = ((mu_T[0]*252-rf/252)/(np.sqrt(np.dot(np.dot(w_t2.T,covRt2),w_t2)[0][0])*252))*x+rf/252\r\n",
        "\r\n",
        "plt.plot(x,y,color='red')\r\n",
        "\r\n",
        "plt.show()"
      ],
      "execution_count": 94,
      "outputs": [
        {
          "output_type": "display_data",
          "data": {
            "image/png": "[encoded data removed]",
            "text/plain": [
              "<Figure size 432x288 with 1 Axes>"
            ]
          },
          "metadata": {
            "tags": [],
            "needs_background": "light"
          }
        }
      ]
    },
    {
      "cell_type": "code",
      "metadata": {
        "id": "GDIBZ6BNWmf_"
      },
      "source": [
        "data1 = web.get_data_yahoo('FCEL','01/01/2020','10/31/2020',interval='d') \r\n",
        "data2 = web.get_data_yahoo('GPS','01/01/2020','10/31/2020',interval='d') \r\n",
        "data3 = web.get_data_yahoo('GME','01/01/2020','10/31/2020',interval='d') \r\n",
        "data4 = web.get_data_yahoo('F','01/01/2020','10/31/2020',interval='d') \r\n",
        "data5 = web.get_data_yahoo('BIDU','01/01/2020','10/31/2020',interval='d') \r\n",
        "data6 = web.get_data_yahoo('JP','01/01/2020','10/31/2020',interval='d') \r\n",
        "data7 = web.get_data_yahoo('SLB','01/01/2020','10/31/2020',interval='d') \r\n",
        "data8 = web.get_data_yahoo('WMT','01/01/2020','10/31/2020',interval='d') \r\n",
        "data9 = web.get_data_yahoo('NFLX','01/01/2020','10/31/2020',interval='d') \r\n",
        "data10 = web.get_data_yahoo('GOOG','01/01/2020','10/31/2020',interval='d') \r\n",
        "data11 = web.get_data_yahoo('GCO','01/01/2020','10/31/2020',interval='d') \r\n",
        "data12 = web.get_data_yahoo('NOV','01/01/2020','10/31/2020',interval='d') \r\n",
        "data13 = web.get_data_yahoo('TIF','01/01/2020','10/31/2020',interval='d') \r\n",
        "data14 = web.get_data_yahoo('VLO','01/01/2020','10/31/2020',interval='d') \r\n",
        "data15 = web.get_data_yahoo('MCD','01/01/2020','10/31/2020',interval='d') \r\n",
        "data16 = web.get_data_yahoo('GE','01/01/2020','10/31/2020',interval='d') \r\n",
        "data17 = web.get_data_yahoo('DIS','01/01/2020','10/31/2020',interval='d') \r\n",
        "data18 = web.get_data_yahoo('CCL','01/01/2020','10/31/2020',interval='d') \r\n",
        "data19 = web.get_data_yahoo('RIG','01/01/2020','10/31/2020',interval='d') \r\n",
        "data20 = web.get_data_yahoo('BABA','01/01/2020','10/31/2020',interval='d') "
      ],
      "execution_count": 95,
      "outputs": []
    },
    {
      "cell_type": "code",
      "metadata": {
        "id": "xB5OczwAXeku"
      },
      "source": [
        "R_expect1=[]\r\n",
        "F = data1['Adj Close']\r\n",
        "logF = np.log(F)-np.log(F.shift(1))\r\n",
        "FL = np.array([logF])\r\n",
        "FL = np.delete(FL, 0)\r\n",
        "R_expect1.append(np.mean(FL))\r\n",
        "\r\n",
        "MSFT = data2['Adj Close']\r\n",
        "logMSFT = np.log(MSFT)-np.log(MSFT.shift(1))\r\n",
        "MSFTL = np.array([logMSFT])\r\n",
        "MSFTL = np.delete(MSFTL, 0)\r\n",
        "R_expect1.append(np.mean(MSFTL))\r\n",
        "\r\n",
        "DIS = data3['Adj Close']\r\n",
        "logDIS = np.log(DIS)-np.log(DIS.shift(1))\r\n",
        "DISL = np.array([logDIS])\r\n",
        "DISL = np.delete(DISL, 0)\r\n",
        "R_expect1.append(np.mean(DISL))\r\n",
        "\r\n",
        "AAPL = data4['Adj Close']\r\n",
        "logAAPL = np.log(AAPL)-np.log(AAPL.shift(1))\r\n",
        "AAPLL = np.array([logAAPL])\r\n",
        "AAPLL = np.delete(AAPLL, 0)\r\n",
        "R_expect1.append(np.mean(AAPLL))\r\n",
        "\r\n",
        "AEP = data5['Adj Close']\r\n",
        "logAEP = np.log(AEP)-np.log(AEP.shift(1))\r\n",
        "AEPL = np.array([logAEP])\r\n",
        "AEPL = np.delete(AEPL, 0)\r\n",
        "R_expect1.append(np.mean(AEPL))\r\n",
        "\r\n",
        "GOOG = data6['Adj Close']\r\n",
        "logGOOG = np.log(GOOG)-np.log(GOOG.shift(1))\r\n",
        "GOOGL = np.array([logGOOG])\r\n",
        "GOOGL = np.delete(GOOGL, 0)\r\n",
        "R_expect1.append(np.mean(GOOGL))\r\n",
        "\r\n",
        "JPM = data7['Adj Close']\r\n",
        "logJPM = np.log(JPM)-np.log(JPM.shift(1))\r\n",
        "JPML = np.array([logJPM])\r\n",
        "JPML = np.delete(JPML, 0)\r\n",
        "R_expect1.append(np.mean(JPML))\r\n",
        "\r\n",
        "MCD = data8['Adj Close']\r\n",
        "logMCD = np.log(MCD)-np.log(MCD.shift(1))\r\n",
        "MCDL = np.array([logMCD])\r\n",
        "MCDL = np.delete(MCDL, 0)\r\n",
        "R_expect1.append(np.mean(MCDL))\r\n",
        "\r\n",
        "TIF = data9['Adj Close']\r\n",
        "logTIF = np.log(TIF)-np.log(TIF.shift(1))\r\n",
        "TIFL = np.array([logTIF])\r\n",
        "TIFL = np.delete(TIFL, 0)\r\n",
        "R_expect1.append(np.mean(TIFL))\r\n",
        "\r\n",
        "WMT = data10['Adj Close']\r\n",
        "logWMT = np.log(WMT)-np.log(WMT.shift(1))\r\n",
        "WMTL = np.array([logWMT])\r\n",
        "WMTL = np.delete(WMTL, 0)\r\n",
        "R_expect1.append(np.mean(WMTL))\r\n",
        "\r\n",
        "AMZN = data11['Adj Close']\r\n",
        "logAMZN = np.log(AMZN)-np.log(AMZN.shift(1))\r\n",
        "AMZNL = np.array([logAMZN])\r\n",
        "AMZNL = np.delete(AMZNL, 0)\r\n",
        "R_expect1.append(np.mean(AMZNL))\r\n",
        "\r\n",
        "GE = data12['Adj Close']\r\n",
        "logGE = np.log(GE)-np.log(GE.shift(1))\r\n",
        "GEL = np.array([logGE])\r\n",
        "GEL = np.delete(GEL, 0)\r\n",
        "R_expect1.append(np.mean(GEL))\r\n",
        "\r\n",
        "FB = data13['Adj Close']\r\n",
        "logFB = np.log(FB)-np.log(FB.shift(1))\r\n",
        "FBL = np.array([logFB])\r\n",
        "FBL = np.delete(FBL, 0)\r\n",
        "R_expect1.append(np.mean(FBL))\r\n",
        "\r\n",
        "BIDU = data14['Adj Close']\r\n",
        "logBIDU = np.log(BIDU)-np.log(BIDU.shift(1))\r\n",
        "BIDUL = np.array([logBIDU])\r\n",
        "BIDUL = np.delete(BIDUL, 0)\r\n",
        "R_expect1.append(np.mean(BIDUL))\r\n",
        "\r\n",
        "JD = data15['Adj Close']\r\n",
        "logJD = np.log(JD)-np.log(JD.shift(1))\r\n",
        "JDL = np.array([logJD])\r\n",
        "JDL = np.delete(JDL, 0)\r\n",
        "R_expect1.append(np.mean(JDL))\r\n",
        "\r\n",
        "TSLA = data16['Adj Close']\r\n",
        "logTSLA = np.log(TSLA)-np.log(TSLA.shift(1))\r\n",
        "TSLAL = np.array([logTSLA])\r\n",
        "TSLAL = np.delete(TSLAL, 0)\r\n",
        "R_expect1.append(np.mean(TSLAL))\r\n",
        "\r\n",
        "NVDA = data17['Adj Close']\r\n",
        "logNVDA = np.log(NVDA)-np.log(NVDA.shift(1))\r\n",
        "NVDAL = np.array([logNVDA])\r\n",
        "NVDAL = np.delete(NVDAL, 0)\r\n",
        "R_expect1.append(np.mean(NVDAL))\r\n",
        "\r\n",
        "CSCO = data18['Adj Close']\r\n",
        "logCSCO = np.log(CSCO)-np.log(CSCO.shift(1))\r\n",
        "CSCOL = np.array([logCSCO])\r\n",
        "CSCOL = np.delete(CSCOL, 0)\r\n",
        "R_expect1.append(np.mean(CSCOL))\r\n",
        "\r\n",
        "BABA = data19['Adj Close']\r\n",
        "logBABA = np.log(BABA)-np.log(BABA.shift(1))\r\n",
        "BABAL = np.array([logBABA])\r\n",
        "BABAL = np.delete(BABAL, 0)\r\n",
        "R_expect1.append(np.mean(BABAL))\r\n",
        "\r\n",
        "PFE = data20['Adj Close']\r\n",
        "logPFE = np.log(PFE)-np.log(PFE.shift(1))\r\n",
        "PFEL = np.array([logPFE])\r\n",
        "PFEL = np.delete(PFEL, 0)\r\n",
        "R_expect1.append(np.mean(PFEL))"
      ],
      "execution_count": 98,
      "outputs": []
    },
    {
      "cell_type": "code",
      "metadata": {
        "id": "lbHx5WLsXtLZ"
      },
      "source": [
        "P=np.vstack((FL,MSFTL,DISL,AAPLL,AEPL,GOOGL,JPML,MCDL,TIFL,WMTL,AMZNL,GEL,FBL,BIDUL,JDL,TSLAL,NVDAL,CSCOL,BABAL,PFEL))\r\n",
        "R_cov1=np.cov(P)\r\n",
        "R_expect1=np.squeeze(np.array([R_expect1]))\r\n",
        "R_cov1=np.squeeze(np.array([R_cov1]))\r\n",
        "R_expect1 = R_expect1.reshape(-1,1)"
      ],
      "execution_count": 99,
      "outputs": []
    },
    {
      "cell_type": "code",
      "metadata": {
        "id": "FpHMk1spX0jS",
        "outputId": "2a7369be-b165-4b6e-b605-884b6cd18595",
        "colab": {
          "base_uri": "https://localhost:8080/",
          "height": 650
        }
      },
      "source": [
        "g1,h1,min_sigma1 = optimalWeights2(R_expect1,R_cov1)\r\n",
        "\r\n",
        "\r\n",
        "sigma1,mu1,weight1 = effcientfrontier(g1,h1,R_cov1,0,50000)\r\n",
        "plt.plot(sigma1,mu1)\r\n",
        "plt.ylabel(\"Expected return\")\r\n",
        "plt.xlabel(\"volatility\")\r\n",
        "plt.title(\"1 years EffcientFrontier\")\r\n",
        "plt.show()\r\n",
        "min_sigma1\r\n",
        "\r\n",
        "weight1[0]"
      ],
      "execution_count": 100,
      "outputs": [
        {
          "output_type": "display_data",
          "data": {
            "image/png": "[encoded data removed]",
            "text/plain": [
              "<Figure size 432x288 with 1 Axes>"
            ]
          },
          "metadata": {
            "tags": [],
            "needs_background": "light"
          }
        },
        {
          "output_type": "execute_result",
          "data": {
            "text/plain": [
              "array([[-0.01407739],\n",
              "       [ 0.0123819 ],\n",
              "       [ 0.01219255],\n",
              "       [ 0.08977757],\n",
              "       [ 0.07594278],\n",
              "       [ 0.02902901],\n",
              "       [ 0.03761521],\n",
              "       [ 0.28062024],\n",
              "       [-0.05070823],\n",
              "       [ 0.07336044],\n",
              "       [-0.03335477],\n",
              "       [-0.07419045],\n",
              "       [ 0.58177118],\n",
              "       [-0.02398749],\n",
              "       [-0.15469286],\n",
              "       [ 0.03400673],\n",
              "       [ 0.02522329],\n",
              "       [-0.02281971],\n",
              "       [-0.01819257],\n",
              "       [ 0.14010255]])"
            ]
          },
          "metadata": {
            "tags": []
          },
          "execution_count": 100
        }
      ]
    },
    {
      "cell_type": "code",
      "metadata": {
        "id": "HzvXYujgX1zf",
        "outputId": "6829090e-bec4-4ad1-fda2-af112d9dd770",
        "colab": {
          "base_uri": "https://localhost:8080/"
        }
      },
      "source": [
        "\r\n",
        "rf = 0.0014 # Choose 1 year US treasury rate as risk free rate\r\n",
        "def findTangent(R_cov, R_expect, rf):\r\n",
        "  rf_daily = rf/252\r\n",
        "  one = np.ones((len(R_expect),1))\r\n",
        "  w_b = np.dot(inv(R_cov),(R_expect - one*rf_daily))\r\n",
        "  w_t = w_b/(np.dot(w_b.T,one))\r\n",
        "  mu_T = np.dot(w_t.T,R_expect)\r\n",
        "  print(w_t)\r\n",
        "  return mu_T,w_t\r\n",
        "mu_T,w_t3 = findTangent(R_cov1, R_expect1, rf)\r\n",
        "np.dot(w_t3.T,R_expect1)"
      ],
      "execution_count": 101,
      "outputs": [
        {
          "output_type": "stream",
          "text": [
            "[[ 0.03587443]\n",
            " [ 0.37281165]\n",
            " [ 0.12218109]\n",
            " [ 0.17259037]\n",
            " [-0.15595011]\n",
            " [ 0.00983983]\n",
            " [ 0.12529851]\n",
            " [-0.10815631]\n",
            " [ 0.08519302]\n",
            " [ 0.60745729]\n",
            " [-0.12417688]\n",
            " [-0.20620314]\n",
            " [ 0.36927085]\n",
            " [-0.43135947]\n",
            " [ 0.31852682]\n",
            " [-0.10039975]\n",
            " [-0.4180272 ]\n",
            " [-0.11986892]\n",
            " [-0.19416431]\n",
            " [ 0.63926225]]\n"
          ],
          "name": "stdout"
        },
        {
          "output_type": "execute_result",
          "data": {
            "text/plain": [
              "array([[0.0085094]])"
            ]
          },
          "metadata": {
            "tags": []
          },
          "execution_count": 101
        }
      ]
    },
    {
      "cell_type": "code",
      "metadata": {
        "id": "qt7aY3y6X7kb",
        "outputId": "2a57a960-d7ad-48bd-c348-717306e85e0b",
        "colab": {
          "base_uri": "https://localhost:8080/",
          "height": 294
        }
      },
      "source": [
        "\r\n",
        "plt.plot(sigma1,mu1)\r\n",
        "plt.plot(np.sqrt(np.dot(np.dot(w_t3.reshape(1,-1),R_cov1),w_t3)[0][0])*252,mu_T*252,'x')\r\n",
        "plt.ylabel(\"Expected return\")\r\n",
        "plt.xlabel(\"volatility\")\r\n",
        "plt.title(\"1 year EffcientFrontier of our 20 equity assets held in Interactive Brokers portfolio and CML\")\r\n",
        "x = np.linspace(0, 30, 100)\r\n",
        "y = ((mu_T[0]*252-rf/252)/(np.sqrt(np.dot(np.dot(w_t3.T,R_cov1),w_t3)[0][0])*252))*x+rf/252\r\n",
        "\r\n",
        "plt.plot(x,y,color='red')\r\n",
        "\r\n",
        "plt.show()"
      ],
      "execution_count": 102,
      "outputs": [
        {
          "output_type": "display_data",
          "data": {
            "image/png": "[encoded data removed]",
            "text/plain": [
              "<Figure size 432x288 with 1 Axes>"
            ]
          },
          "metadata": {
            "tags": [],
            "needs_background": "light"
          }
        }
      ]
    },
    {
      "cell_type": "code",
      "metadata": {
        "id": "-APjsWWqYDAD",
        "outputId": "546216ce-6393-41a7-bec6-1228cf4c1431",
        "colab": {
          "base_uri": "https://localhost:8080/"
        }
      },
      "source": [
        "w_t1"
      ],
      "execution_count": 105,
      "outputs": [
        {
          "output_type": "execute_result",
          "data": {
            "text/plain": [
              "array([[-0.0084081 ],\n",
              "       [-0.87611694],\n",
              "       [-0.15381619],\n",
              "       [ 0.45992975],\n",
              "       [-0.36176489],\n",
              "       [-0.46782968],\n",
              "       [ 0.14141394],\n",
              "       [ 1.25405145],\n",
              "       [-0.32383035],\n",
              "       [ 0.5972124 ],\n",
              "       [ 0.08625616],\n",
              "       [-0.04237791],\n",
              "       [ 0.34167313],\n",
              "       [ 0.2365937 ],\n",
              "       [-0.67853657],\n",
              "       [ 0.32189761],\n",
              "       [ 0.36873839],\n",
              "       [-0.28003237],\n",
              "       [-0.04048745],\n",
              "       [ 0.42543392]])"
            ]
          },
          "metadata": {
            "tags": []
          },
          "execution_count": 105
        }
      ]
    },
    {
      "cell_type": "code",
      "metadata": {
        "id": "qy1wwR1qYEyi",
        "outputId": "e8bd8fba-decf-433c-d32a-d2184ef3c8bb",
        "colab": {
          "base_uri": "https://localhost:8080/"
        }
      },
      "source": [
        "w_t2"
      ],
      "execution_count": 104,
      "outputs": [
        {
          "output_type": "execute_result",
          "data": {
            "text/plain": [
              "array([[-0.00839222],\n",
              "       [-0.87661642],\n",
              "       [-0.15394347],\n",
              "       [ 0.46011881],\n",
              "       [-0.36193018],\n",
              "       [-0.46812371],\n",
              "       [ 0.14154973],\n",
              "       [ 1.25433259],\n",
              "       [-0.32401576],\n",
              "       [ 0.59757189],\n",
              "       [ 0.08632194],\n",
              "       [-0.04245654],\n",
              "       [ 0.34187259],\n",
              "       [ 0.23674713],\n",
              "       [-0.67913454],\n",
              "       [ 0.32208043],\n",
              "       [ 0.3689554 ],\n",
              "       [-0.28014245],\n",
              "       [-0.04050627],\n",
              "       [ 0.42571106]])"
            ]
          },
          "metadata": {
            "tags": []
          },
          "execution_count": 104
        }
      ]
    },
    {
      "cell_type": "code",
      "metadata": {
        "id": "yZeTTdtBYFsz",
        "outputId": "da36cdc5-17b8-4519-a82a-b97e221d2d49",
        "colab": {
          "base_uri": "https://localhost:8080/"
        }
      },
      "source": [
        "w_t3"
      ],
      "execution_count": 103,
      "outputs": [
        {
          "output_type": "execute_result",
          "data": {
            "text/plain": [
              "array([[ 0.03587443],\n",
              "       [ 0.37281165],\n",
              "       [ 0.12218109],\n",
              "       [ 0.17259037],\n",
              "       [-0.15595011],\n",
              "       [ 0.00983983],\n",
              "       [ 0.12529851],\n",
              "       [-0.10815631],\n",
              "       [ 0.08519302],\n",
              "       [ 0.60745729],\n",
              "       [-0.12417688],\n",
              "       [-0.20620314],\n",
              "       [ 0.36927085],\n",
              "       [-0.43135947],\n",
              "       [ 0.31852682],\n",
              "       [-0.10039975],\n",
              "       [-0.4180272 ],\n",
              "       [-0.11986892],\n",
              "       [-0.19416431],\n",
              "       [ 0.63926225]])"
            ]
          },
          "metadata": {
            "tags": []
          },
          "execution_count": 103
        }
      ]
    },
    {
      "cell_type": "code",
      "metadata": {
        "id": "N6yaGqj2YmHY"
      },
      "source": [
        "data1 = web.get_data_yahoo('FCEL','01/01/2020','10/31/2020',interval='d') \r\n",
        "data2 = web.get_data_yahoo('GPS','01/01/2020','10/31/2020',interval='d') \r\n",
        "data3 = web.get_data_yahoo('GME','01/01/2020','10/31/2020',interval='d') \r\n",
        "data4 = web.get_data_yahoo('F','01/01/2020','10/31/2020',interval='d') \r\n",
        "data5 = web.get_data_yahoo('BIDU','01/01/2020','10/31/2020',interval='d') \r\n",
        "data6 = web.get_data_yahoo('JP','01/01/2020','10/31/2020',interval='d') \r\n",
        "data7 = web.get_data_yahoo('SLB','01/01/2020','10/31/2020',interval='d') \r\n",
        "data8 = web.get_data_yahoo('WMT','01/01/2020','10/31/2020',interval='d') \r\n",
        "data9 = web.get_data_yahoo('NFLX','01/01/2020','10/31/2020',interval='d') \r\n",
        "data10 = web.get_data_yahoo('GOOG','01/01/2020','10/31/2020',interval='d') \r\n",
        "data11 = web.get_data_yahoo('GCO','01/01/2020','10/31/2020',interval='d') \r\n",
        "data12 = web.get_data_yahoo('NOV','01/01/2020','10/31/2020',interval='d') \r\n",
        "data13 = web.get_data_yahoo('TIF','01/01/2020','10/31/2020',interval='d') \r\n",
        "data14 = web.get_data_yahoo('VLO','01/01/2020','10/31/2020',interval='d') \r\n",
        "data15 = web.get_data_yahoo('MCD','01/01/2020','10/31/2020',interval='d') \r\n",
        "data16 = web.get_data_yahoo('GE','01/01/2020','10/31/2020',interval='d') \r\n",
        "data17 = web.get_data_yahoo('DIS','01/01/2020','10/31/2020',interval='d') \r\n",
        "data18 = web.get_data_yahoo('CCL','01/01/2020','10/31/2020',interval='d') \r\n",
        "data19 = web.get_data_yahoo('RIG','01/01/2020','10/31/2020',interval='d') \r\n",
        "data20 = web.get_data_yahoo('BABA','01/01/2020','10/31/2020',interval='d') \r\n",
        "\r\n"
      ],
      "execution_count": null,
      "outputs": []
    },
    {
      "cell_type": "code",
      "metadata": {
        "id": "vHmuEU-eY_UH"
      },
      "source": [
        "pr1 = data1['Adj Close']\r\n",
        "re1 = pr1.shift(1)/pr1\r\n",
        "re1 = np.array(re1)\r\n",
        "re1 = np.delete(re1,0)\r\n",
        "\r\n",
        "pr2 = data2['Adj Close']\r\n",
        "re2 = pr2.shift(1)/pr2\r\n",
        "re2 = np.array(re2)\r\n",
        "re2 = np.delete(re2,0)\r\n",
        "\r\n",
        "pr3 = data3['Adj Close']\r\n",
        "re3 = pr3.shift(1)/pr3\r\n",
        "re3 = np.array(re3)\r\n",
        "re3 = np.delete(re3,0)\r\n",
        "\r\n",
        "pr4 = data4['Adj Close']\r\n",
        "re4 = pr4.shift(1)/pr4\r\n",
        "re4 = np.array(re4)\r\n",
        "re4 = np.delete(re4,0)\r\n",
        "\r\n",
        "pr5 = data5['Adj Close']\r\n",
        "re5 = pr5.shift(1)/pr5\r\n",
        "re5 = np.array(re5)\r\n",
        "re5 = np.delete(re5,0)\r\n",
        "\r\n",
        "pr6 = data6['Adj Close']\r\n",
        "re6 = pr6.shift(1)/pr6\r\n",
        "re6 = np.array(re6)\r\n",
        "re6 = np.delete(re6,0)\r\n",
        "\r\n",
        "pr7 = data7['Adj Close']\r\n",
        "re7 = pr7.shift(1)/pr7\r\n",
        "re7 = np.array(re7)\r\n",
        "re7 = np.delete(re7,0)\r\n",
        "\r\n",
        "pr8 = data8['Adj Close']\r\n",
        "re8 = pr8.shift(1)/pr8\r\n",
        "re8 = np.array(re8)\r\n",
        "re8 = np.delete(re8,0)\r\n",
        "\r\n",
        "pr9 = data9['Adj Close']\r\n",
        "re9 = pr9.shift(1)/pr9\r\n",
        "re9 = np.array(re9)\r\n",
        "re9 = np.delete(re9,0)\r\n",
        "\r\n",
        "pr10 = data10['Adj Close']\r\n",
        "re10 = pr10.shift(1)/pr10\r\n",
        "re10 = np.array(re10)\r\n",
        "re10 = np.delete(re10,0)\r\n",
        "\r\n",
        "pr11 = data11['Adj Close']\r\n",
        "re11 = pr11.shift(1)/pr11\r\n",
        "re11 = np.array(re11)\r\n",
        "re11 = np.delete(re11,0)\r\n",
        "\r\n",
        "pr12 = data12['Adj Close']\r\n",
        "re12 = pr12.shift(1)/pr12\r\n",
        "re12 = np.array(re12)\r\n",
        "re12 = np.delete(re12,0)\r\n",
        "\r\n",
        "pr13 = data13['Adj Close']\r\n",
        "re13 = pr13.shift(1)/pr13\r\n",
        "re13 = np.array(re13)\r\n",
        "re13 = np.delete(re13,0)\r\n",
        "\r\n",
        "pr14 = data14['Adj Close']\r\n",
        "re14 = pr14.shift(1)/pr14\r\n",
        "re14 = np.array(re14)\r\n",
        "re14 = np.delete(re14,0)\r\n",
        "\r\n",
        "pr15 = data15['Adj Close']\r\n",
        "re15 = pr15.shift(1)/pr15\r\n",
        "re15 = np.array(re15)\r\n",
        "re15 = np.delete(re15,0)\r\n",
        "\r\n",
        "pr16 = data16['Adj Close']\r\n",
        "re16 = pr16.shift(1)/pr16\r\n",
        "re16 = np.array(re16)\r\n",
        "re16 = np.delete(re16,0)\r\n",
        "\r\n",
        "pr17 = data17['Adj Close']\r\n",
        "re17 = pr17.shift(1)/pr17\r\n",
        "re17 = np.array(re17)\r\n",
        "re17 = np.delete(re17,0)\r\n",
        "\r\n",
        "pr18 = data18['Adj Close']\r\n",
        "re18 = pr18.shift(1)/pr18\r\n",
        "re18 = np.array(re18)\r\n",
        "re18 = np.delete(re18,0)\r\n",
        "\r\n",
        "pr19 = data19['Adj Close']\r\n",
        "re19 = pr19.shift(1)/pr19\r\n",
        "re19 = np.array(re19)\r\n",
        "re19 = np.delete(re19,0)\r\n",
        "\r\n",
        "pr20 = data20['Adj Close']\r\n",
        "re20 = pr20.shift(1)/pr20\r\n",
        "re20 = np.array(re20)\r\n",
        "re20 = np.delete(re20,0)"
      ],
      "execution_count": 111,
      "outputs": []
    },
    {
      "cell_type": "code",
      "metadata": {
        "id": "rXbKOuL4awfw"
      },
      "source": [
        "value = []\r\n",
        "value.append(1000000)\r\n",
        "for i in range(len(re1)):\r\n",
        "  value.append(value[i]*w_t1[0]*re1[i] + value[i]*w_t1[1]*re2[i] +value[i]*w_t1[2]*re3[i] +value[i]*w_t1[3]*re4[i] +value[i]*w_t1[4]*re5[i] +value[i]*w_t1[5]*re6[i] +value[i]*w_t1[6]*re7[i] +value[i]*w_t1[7]*re8[i] +value[i]*w_t1[8]*re9[i] +value[i]*w_t1[9]*re10[i] +value[i]*w_t1[10]*re11[i] +value[i]*w_t1[11]*re12[i] +value[i]*w_t1[12]*re13[i] +value[i]*w_t1[13]*re14[i] +value[i]*w_t1[14]*re15[i] +value[i]*w_t1[15]*re16[i] +value[i]*w_t1[16]*re17[i] +value[i]*w_t1[17]*re18[i] +value[i]*w_t1[18]*re19[i] +value[i]*w_t1[19]*re20[i])\r\n",
        "\r\n",
        "value1 = []\r\n",
        "value1.append(1000000)\r\n",
        "for i in range(len(re1)):\r\n",
        "  value1.append(value1[i]*w_t2[0]*re1[i] + value1[i]*w_t2[1]*re2[i] +value1[i]*w_t2[2]*re3[i] +value1[i]*w_t2[3]*re4[i] +value1[i]*w_t2[4]*re5[i] +value1[i]*w_t2[5]*re6[i] +value1[i]*w_t2[6]*re7[i] +value1[i]*w_t2[7]*re8[i] +value1[i]*w_t2[8]*re9[i] +value1[i]*w_t2[9]*re10[i] +value1[i]*w_t2[10]*re11[i] +value1[i]*w_t2[11]*re12[i] +value1[i]*w_t2[12]*re13[i] +value1[i]*w_t2[13]*re14[i] +value1[i]*w_t2[14]*re15[i] +value1[i]*w_t2[15]*re16[i] +value1[i]*w_t2[16]*re17[i] +value1[i]*w_t2[17]*re18[i] +value1[i]*w_t2[18]*re19[i] +value1[i]*w_t2[19]*re20[i])\r\n",
        "\r\n",
        "value2 = []\r\n",
        "value2.append(1000000)\r\n",
        "for i in range(len(re1)):\r\n",
        "  value2.append(value2[i]*w_t3[0]*re1[i] + value2[i]*w_t3[1]*re2[i] +value2[i]*w_t3[2]*re3[i] +value2[i]*w_t3[3]*re4[i] +value2[i]*w_t3[4]*re5[i] +value2[i]*w_t3[5]*re6[i] +value2[i]*w_t3[6]*re7[i] +value2[i]*w_t3[7]*re8[i] +value2[i]*w_t3[8]*re9[i] +value2[i]*w_t3[9]*re10[i] +value2[i]*w_t3[10]*re11[i] +value2[i]*w_t3[11]*re12[i] +value2[i]*w_t3[12]*re13[i] +value2[i]*w_t3[13]*re14[i] +value2[i]*w_t3[14]*re15[i] +value2[i]*w_t3[15]*re16[i] +value2[i]*w_t3[16]*re17[i] +value2[i]*w_t3[17]*re18[i] +value2[i]*w_t3[18]*re19[i] +value2[i]*w_t3[19]*re20[i])"
      ],
      "execution_count": 148,
      "outputs": []
    },
    {
      "cell_type": "code",
      "metadata": {
        "id": "wB2Seo56dUXj",
        "outputId": "b62389de-eeaa-4c9f-d962-60c6dafd0cfd",
        "colab": {
          "base_uri": "https://localhost:8080/",
          "height": 293
        }
      },
      "source": [
        "plt.plot(value)\r\n",
        "plt.plot(value1)\r\n",
        "plt.plot(value2)"
      ],
      "execution_count": 149,
      "outputs": [
        {
          "output_type": "execute_result",
          "data": {
            "text/plain": [
              "[<matplotlib.lines.Line2D at 0x7f5d24d91cf8>]"
            ]
          },
          "metadata": {
            "tags": []
          },
          "execution_count": 149
        },
        {
          "output_type": "display_data",
          "data": {
            "image/png": "[encoded data removed]",
            "text/plain": [
              "<Figure size 432x288 with 1 Axes>"
            ]
          },
          "metadata": {
            "tags": [],
            "needs_background": "light"
          }
        }
      ]
    },
    {
      "cell_type": "code",
      "metadata": {
        "id": "VsA05NdOgaZo"
      },
      "source": [
        ""
      ],
      "execution_count": 149,
      "outputs": []
    },
    {
      "cell_type": "code",
      "metadata": {
        "id": "JnyAAFhCgahL"
      },
      "source": [
        ""
      ],
      "execution_count": 149,
      "outputs": []
    },
    {
      "cell_type": "code",
      "metadata": {
        "id": "MK0s7amTev-m"
      },
      "source": [
        ""
      ],
      "execution_count": 142,
      "outputs": []
    },
    {
      "cell_type": "code",
      "metadata": {
        "id": "lUnejVlDhG52"
      },
      "source": [
        ""
      ],
      "execution_count": 142,
      "outputs": []
    }
  ]
}