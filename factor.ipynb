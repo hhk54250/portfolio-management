{
  "nbformat": 4,
  "nbformat_minor": 0,
  "metadata": {
    "colab": {
      "name": "Untitled23.ipynb",
      "provenance": [],
      "authorship_tag": "ABX9TyN6hj710oh7AMjO0ivFj9Wc",
      "include_colab_link": true
    },
    "kernelspec": {
      "name": "python3",
      "display_name": "Python 3"
    }
  },
  "cells": [
    {
      "cell_type": "markdown",
      "metadata": {
        "id": "view-in-github",
        "colab_type": "text"
      },
      "source": [
        "<a href=\"https://colab.research.google.com/github/hhk54250/portfolio-management/blob/master/factor.ipynb\" target=\"_parent\"><img src=\"https://colab.research.google.com/assets/colab-badge.svg\" alt=\"Open In Colab\"/></a>"
      ]
    },
    {
      "cell_type": "code",
      "metadata": {
        "colab": {
          "base_uri": "https://localhost:8080/"
        },
        "id": "rk-DXh5UaVJj",
        "outputId": "01cfd8a7-c6ca-45b7-99f5-1f9be4527120"
      },
      "source": [
        "pip install yahoo-finance"
      ],
      "execution_count": 1,
      "outputs": [
        {
          "output_type": "stream",
          "text": [
            "Requirement already satisfied: yahoo-finance in /usr/local/lib/python3.6/dist-packages (1.4.0)\n",
            "Requirement already satisfied: simplejson in /usr/local/lib/python3.6/dist-packages (from yahoo-finance) (3.17.2)\n",
            "Requirement already satisfied: pytz in /usr/local/lib/python3.6/dist-packages (from yahoo-finance) (2018.9)\n"
          ],
          "name": "stdout"
        }
      ]
    },
    {
      "cell_type": "code",
      "metadata": {
        "colab": {
          "base_uri": "https://localhost:8080/"
        },
        "id": "17vNWIz1aW4I",
        "outputId": "0a47f644-a2cc-4eac-ebbc-2c76f1c5a207"
      },
      "source": [
        "pip install pandas_market_calendars"
      ],
      "execution_count": 2,
      "outputs": [
        {
          "output_type": "stream",
          "text": [
            "Requirement already satisfied: pandas_market_calendars in /usr/local/lib/python3.6/dist-packages (1.6.1)\n",
            "Requirement already satisfied: python-dateutil in /usr/local/lib/python3.6/dist-packages (from pandas_market_calendars) (2.8.1)\n",
            "Requirement already satisfied: pandas>=0.18 in /usr/local/lib/python3.6/dist-packages (from pandas_market_calendars) (1.1.4)\n",
            "Requirement already satisfied: pytz in /usr/local/lib/python3.6/dist-packages (from pandas_market_calendars) (2018.9)\n",
            "Requirement already satisfied: trading-calendars in /usr/local/lib/python3.6/dist-packages (from pandas_market_calendars) (2.0.0)\n",
            "Requirement already satisfied: six>=1.5 in /usr/local/lib/python3.6/dist-packages (from python-dateutil->pandas_market_calendars) (1.15.0)\n",
            "Requirement already satisfied: numpy>=1.15.4 in /usr/local/lib/python3.6/dist-packages (from pandas>=0.18->pandas_market_calendars) (1.18.5)\n",
            "Requirement already satisfied: toolz in /usr/local/lib/python3.6/dist-packages (from trading-calendars->pandas_market_calendars) (0.11.1)\n"
          ],
          "name": "stdout"
        }
      ]
    },
    {
      "cell_type": "code",
      "metadata": {
        "id": "UVm6mj97aYB2"
      },
      "source": [
        "import pandas as pd\r\n",
        "import pandas_market_calendars as mcal\r\n",
        "import pandas_datareader.data as web\r\n",
        "from pandas_datareader.data import DataReader\r\n",
        "import numpy as np\r\n",
        "import pandas as pd\r\n",
        "import matplotlib.pyplot as plt\r\n",
        "from numpy.linalg import *\r\n",
        "import os\r\n",
        "from sklearn.linear_model import LinearRegression"
      ],
      "execution_count": 3,
      "outputs": []
    },
    {
      "cell_type": "code",
      "metadata": {
        "id": "weqSuk6FaZjF"
      },
      "source": [
        "data1 = web.get_data_yahoo('SPY','03/01/2019','12/31/2019',interval='d') \r\n",
        "data2 = web.get_data_yahoo('FCEL','03/01/2019','12/31/2019',interval='d') \r\n",
        "data3 = web.get_data_yahoo('GPS','03/01/2019','12/31/2019',interval='d') \r\n",
        "data4 = web.get_data_yahoo('GME','03/01/2019','12/31/2019',interval='d') \r\n",
        "data5 = web.get_data_yahoo('F','03/01/2019','12/31/2019',interval='d') \r\n",
        "data6 = web.get_data_yahoo('BIDU','03/01/2019','12/31/2019',interval='d') \r\n",
        "data7 = web.get_data_yahoo('JP','03/01/2019','12/31/2019',interval='d') \r\n",
        "data8 = web.get_data_yahoo('SLB','03/01/2019','12/31/2019',interval='d') \r\n",
        "data9 = web.get_data_yahoo('WMT','03/01/2019','12/31/2019',interval='d') \r\n",
        "data10 = web.get_data_yahoo('NFLX','03/01/2019','12/31/2019',interval='d') \r\n",
        "data11 = web.get_data_yahoo('GOOG','03/01/2019','12/31/2019',interval='d') \r\n",
        "data12 = web.get_data_yahoo('GCO','03/01/2019','12/31/2019',interval='d') \r\n",
        "data13 = web.get_data_yahoo('NOV','03/01/2019','12/31/2019',interval='d') \r\n",
        "data14 = web.get_data_yahoo('TIF','03/01/2019','12/31/2019',interval='d') \r\n",
        "data15 = web.get_data_yahoo('VLO','03/01/2019','12/31/2019',interval='d') \r\n",
        "data16 = web.get_data_yahoo('MCD','03/01/2019','12/31/2019',interval='d') \r\n",
        "data17 = web.get_data_yahoo('GE','03/01/2019','12/31/2019',interval='d') \r\n",
        "data18 = web.get_data_yahoo('DIS','03/01/2019','12/31/2019',interval='d') \r\n",
        "data19 = web.get_data_yahoo('CCL','03/01/2019','12/31/2019',interval='d') \r\n",
        "data20 = web.get_data_yahoo('RIG','03/01/2019','12/31/2019',interval='d') \r\n",
        "data21 = web.get_data_yahoo('BABA','03/01/2019','12/31/2019',interval='d') "
      ],
      "execution_count": 4,
      "outputs": []
    },
    {
      "cell_type": "code",
      "metadata": {
        "id": "QFn00Jmgaa66"
      },
      "source": [
        "d1 = data1['Adj Close']\r\n",
        "d2 = data2['Adj Close']\r\n",
        "d3 = data3['Adj Close']\r\n",
        "d4 = data4['Adj Close']\r\n",
        "d5 = data5['Adj Close']\r\n",
        "d6 = data6['Adj Close']\r\n",
        "d7 = data7['Adj Close']\r\n",
        "d8 = data8['Adj Close']\r\n",
        "d9 = data9['Adj Close']\r\n",
        "d10 = data10['Adj Close']\r\n",
        "d11 = data11['Adj Close']\r\n",
        "d12 = data12['Adj Close']\r\n",
        "d13 = data13['Adj Close']\r\n",
        "d14 = data14['Adj Close']\r\n",
        "d15 = data15['Adj Close']\r\n",
        "d16 = data16['Adj Close']\r\n",
        "d17 = data17['Adj Close']\r\n",
        "d18 = data18['Adj Close']\r\n",
        "d19 = data19['Adj Close']\r\n",
        "d20 = data20['Adj Close']\r\n",
        "d21 = data21['Adj Close']\r\n",
        "\r\n",
        "d1 = (d1.shift(1)/d1) - 1\r\n",
        "d1 = np.array(d1)\r\n",
        "d1 = np.delete(d1,0)\r\n",
        "\r\n",
        "d2 = (d2.shift(1)/d2) - 1\r\n",
        "d2 = np.array(d2)\r\n",
        "d2 = np.delete(d2,0)\r\n",
        "\r\n",
        "d3 = (d3.shift(1)/d3) - 1\r\n",
        "d3 = np.array(d3)\r\n",
        "d3 = np.delete(d3,0)\r\n",
        "\r\n",
        "d4 = (d4.shift(1)/d4) - 1\r\n",
        "d4 = np.array(d4)\r\n",
        "d4 = np.delete(d4,0)\r\n",
        "\r\n",
        "d5 = (d5.shift(1)/d5) - 1\r\n",
        "d5 = np.array(d5)\r\n",
        "d5 = np.delete(d5,0)\r\n",
        "\r\n",
        "d6 = (d6.shift(1)/d6) - 1\r\n",
        "d6 = np.array(d6)\r\n",
        "d6 = np.delete(d6,0)\r\n",
        "\r\n",
        "d7 = (d7.shift(1)/d7) - 1\r\n",
        "d7 = np.array(d7)\r\n",
        "d7 = np.delete(d7,0)\r\n",
        "\r\n",
        "d8 = (d8.shift(1)/d8) - 1\r\n",
        "d8 = np.array(d8)\r\n",
        "d8 = np.delete(d8,0)\r\n",
        "\r\n",
        "d9 = (d9.shift(1)/d9) - 1\r\n",
        "d9 = np.array(d9)\r\n",
        "d9 = np.delete(d9,0)\r\n",
        "\r\n",
        "d10 = (d10.shift(1)/d10) - 1\r\n",
        "d10 = np.array(d10)\r\n",
        "d10 = np.delete(d10,0)\r\n",
        "\r\n",
        "d11 = (d11.shift(1)/d11) - 1\r\n",
        "d11 = np.array(d11)\r\n",
        "d11 = np.delete(d11,0)\r\n",
        "\r\n",
        "d12 = (d12.shift(1)/d12) - 1\r\n",
        "d12 = np.array(d12)\r\n",
        "d12 = np.delete(d12,0)\r\n",
        "\r\n",
        "d13 = (d13.shift(1)/d13) - 1\r\n",
        "d13 = np.array(d13)\r\n",
        "d13 = np.delete(d13,0)\r\n",
        "\r\n",
        "d14 = (d14.shift(1)/d14) - 1\r\n",
        "d14 = np.array(d14)\r\n",
        "d14 = np.delete(d14,0)\r\n",
        "\r\n",
        "d15 = (d15.shift(1)/d15) - 1\r\n",
        "d15 = np.array(d15)\r\n",
        "d15 = np.delete(d15,0)\r\n",
        "\r\n",
        "d16 = (d16.shift(1)/d16) - 1\r\n",
        "d16 = np.array(d16)\r\n",
        "d16 = np.delete(d16,0)\r\n",
        "\r\n",
        "d17 = (d17.shift(1)/d17) - 1\r\n",
        "d17 = np.array(d17)\r\n",
        "d17 = np.delete(d17,0)\r\n",
        "\r\n",
        "d18 = (d18.shift(1)/d18) - 1\r\n",
        "d18 = np.array(d18)\r\n",
        "d18 = np.delete(d18,0)\r\n",
        "\r\n",
        "d19 = (d19.shift(1)/d19) - 1\r\n",
        "d19 = np.array(d19)\r\n",
        "d19 = np.delete(d19,0)\r\n",
        "\r\n",
        "d20 = (d20.shift(1)/d20) - 1\r\n",
        "d20 = np.array(d20)\r\n",
        "d20 = np.delete(d20,0)\r\n",
        "\r\n",
        "d21 = (d21.shift(1)/d21) - 1\r\n",
        "d21 = np.array(d21)\r\n",
        "d21 = np.delete(d21,0)"
      ],
      "execution_count": 5,
      "outputs": []
    },
    {
      "cell_type": "code",
      "metadata": {
        "colab": {
          "base_uri": "https://localhost:8080/"
        },
        "id": "3gJDaKVXaiF9",
        "outputId": "5f1d9d82-71ea-444d-e6c8-4eec0691a4bf"
      },
      "source": [
        "%cd~\r\n",
        "\r\n",
        "!git clone https://github.com/hhk54250/portfolio-management.git \r\n",
        "pass"
      ],
      "execution_count": 6,
      "outputs": [
        {
          "output_type": "stream",
          "text": [
            "/root\n",
            "fatal: destination path 'portfolio-management' already exists and is not an empty directory.\n"
          ],
          "name": "stdout"
        }
      ]
    },
    {
      "cell_type": "code",
      "metadata": {
        "colab": {
          "base_uri": "https://localhost:8080/"
        },
        "id": "zyiFrit0aj6C",
        "outputId": "7be8c978-10fd-41c4-c8ef-d6814a6f6575"
      },
      "source": [
        "%cd portfolio-management\r\n",
        "%ls"
      ],
      "execution_count": 7,
      "outputs": [
        {
          "output_type": "stream",
          "text": [
            "/root/portfolio-management\n",
            " 2.ipynb\n",
            " BABA.csv\n",
            " check2.ipynb\n",
            " check3.ipynb\n",
            " check.ipynb\n",
            "'exchange rate.csv'\n",
            " F-F_Research_Data_5_Factors_2x3_daily.csv\n",
            " IVV.csv\n",
            " JD.csv\n",
            "'Libor rate.csv'\n",
            "'MA575_PJ_1 (1).ipynb'\n",
            "'markowitz portfolio optimization.ipynb'\n",
            " Model.ipynb\n",
            "'prj01(1).ipynb'\n",
            "'prj01(3).ipynb'\n",
            " prj01.ipynb\n",
            " README.md\n",
            "'Returns(1).py'\n",
            " Returns.py\n",
            " Untitled17.ipynb\n"
          ],
          "name": "stdout"
        }
      ]
    },
    {
      "cell_type": "code",
      "metadata": {
        "id": "FFKEtW22alPt"
      },
      "source": [
        "d = pd.read_csv(\"F-F_Research_Data_5_Factors_2x3_daily.csv\")"
      ],
      "execution_count": 8,
      "outputs": []
    },
    {
      "cell_type": "code",
      "metadata": {
        "id": "XlueCNQGam4y"
      },
      "source": [
        "d_muf = d['Unnamed: 1']\r\n",
        "d_SMB = d['Unnamed: 2']\r\n",
        "d_HML = d['Unnamed: 3']\r\n",
        "d_CMA = d['Unnamed: 5']\r\n",
        "d_muf[14015:14226]\r\n",
        "d_SMB[14015:14226]\r\n",
        "d_HML[14015:14226]\r\n",
        "d_CMA[14015:14226]\r\n",
        "d_muf1 = []\r\n",
        "d_SMB1 = []\r\n",
        "d_HML1 = []\r\n",
        "d_CMA1 = []\r\n",
        "for i in range(14015,14226):\r\n",
        "  d_muf1.append(d_muf[i])\r\n",
        "for i in range(14015,14226):\r\n",
        "  d_SMB1.append(d_SMB[i])\r\n",
        "for i in range(14015,14226):\r\n",
        "  d_HML1.append(d_HML[i])\r\n",
        "for i in range(14015,14226):\r\n",
        "  d_CMA1.append(d_CMA[i])"
      ],
      "execution_count": 9,
      "outputs": []
    },
    {
      "cell_type": "code",
      "metadata": {
        "id": "47e0AWNIarml"
      },
      "source": [
        "for i in range(len(d_muf1)):\r\n",
        "  d_muf1[i] = float(d_muf1[i])\r\n",
        "for i in range(len(d_SMB1)):\r\n",
        "  d_SMB1[i] = float(d_SMB1[i])\r\n",
        "for i in range(len(d_HML1)):\r\n",
        "  d_HML1[i] = float(d_HML1[i])\r\n",
        "for i in range(len(d_CMA1)):\r\n",
        "  d_CMA1[i] = float(d_CMA1[i])"
      ],
      "execution_count": 10,
      "outputs": []
    },
    {
      "cell_type": "code",
      "metadata": {
        "id": "OajC_gEDatcQ"
      },
      "source": [
        "P = np.vstack((d2,d3,d4,d5,d6,d7,d8,d9,d10,d11,d12,d13,d14,d15,d16,d17,d18,d19,d20,d21))\r\n",
        "\r\n",
        "d11_=[]\r\n",
        "for i in range(len(d1)):\r\n",
        "  a = d1[i] - d_muf1[i]\r\n",
        "  d11_.append(a)\r\n",
        "\r\n",
        "d11_ = np.array(d11_)\r\n",
        "\r\n",
        "d22=[]\r\n",
        "for i in range(len(d1)):  \r\n",
        "  d22.append(d_SMB1[i])\r\n",
        "d22 = np.array(d22)\r\n",
        "\r\n",
        "d33=[]\r\n",
        "for i in range(len(d1)):  \r\n",
        "  d33.append(d_HML1[i])\r\n",
        "d33 = np.array(d33)\r\n",
        "\r\n",
        "d44=[]\r\n",
        "for i in range(len(d1)):  \r\n",
        "  d44.append(d_CMA1[i])\r\n",
        "d44 = np.array(d44)\r\n",
        "\r\n",
        "P1 = np.vstack((d11_,d22,d33,d44))\r\n",
        "\r\n",
        "for t in range(20):\r\n",
        "  for i in range(len(P[t,])):\r\n",
        "    P[t,i] = P[t,i] - d_muf1[i] "
      ],
      "execution_count": 11,
      "outputs": []
    },
    {
      "cell_type": "code",
      "metadata": {
        "id": "AaNgg-QmbFjo"
      },
      "source": [
        "lrModel = LinearRegression()\r\n",
        "\r\n",
        "beta0=[]\r\n",
        "beta1=[]\r\n",
        "beta2=[]\r\n",
        "beta3=[]\r\n",
        "beta4=[]\r\n",
        "for i in range(20):\r\n",
        "  lrModel.fit(P1.T,P[i,])\r\n",
        "  beta1.append(lrModel.coef_[0])\r\n",
        "  beta2.append(lrModel.coef_[1])\r\n",
        "  beta3.append(lrModel.coef_[2])\r\n",
        "  beta4.append(lrModel.coef_[3])\r\n",
        "  beta0.append(lrModel.intercept_) "
      ],
      "execution_count": 12,
      "outputs": []
    },
    {
      "cell_type": "code",
      "metadata": {
        "colab": {
          "base_uri": "https://localhost:8080/"
        },
        "id": "tLnVRVl5bJk8",
        "outputId": "1408ce6f-1082-4c0e-faf0-82cb31f22ccc"
      },
      "source": [
        "d11_mean = np.mean(d11_)\r\n",
        "d22_mean = np.mean(d22)\r\n",
        "d33_mean = np.mean(d33)\r\n",
        "d44_mean = np.mean(d44)\r\n",
        "d_muf1_mean = np.mean(d_muf1)\r\n",
        "\r\n",
        "beta11=[]\r\n",
        "beta22=[]\r\n",
        "beta33=[]\r\n",
        "beta44=[]\r\n",
        "for i in range(len(beta1)):\r\n",
        "  beta11.append(beta1[i] * d11_mean)\r\n",
        "for i in range(len(beta2)):\r\n",
        "  beta22.append(beta2[i] * d22_mean)\r\n",
        "for i in range(len(beta3)):\r\n",
        "  beta33.append(beta3[i] * d33_mean)\r\n",
        "for i in range(len(beta4)):\r\n",
        "  beta44.append(beta4[i] * d44_mean)\r\n",
        "expected1 = []\r\n",
        "for i in range(len(beta11)):\r\n",
        "  expected1.append(beta11[i] + beta22[i] + beta33[i] + beta44[i] + beta0[i] + d_muf1_mean)\r\n",
        "expected1\r\n"
      ],
      "execution_count": 13,
      "outputs": [
        {
          "output_type": "execute_result",
          "data": {
            "text/plain": [
              "[0.014150639940837526,\n",
              " 0.0025564666438868955,\n",
              " 0.004140560503510658,\n",
              " -0.00044090926420970594,\n",
              " 0.0014967392966057785,\n",
              " 0.006118450862461697,\n",
              " 0.000572374020344206,\n",
              " -0.0009731114472601651,\n",
              " 0.0006830905520505692,\n",
              " -0.0006399777345264257,\n",
              " 0.0005675089169491568,\n",
              " 0.0009865799294330457,\n",
              " -0.0013686240661666613,\n",
              " -0.000567533177025549,\n",
              " -0.000347669612302523,\n",
              " -0.0001300482144065071,\n",
              " -0.0010781443245395164,\n",
              " 0.0006231102188053589,\n",
              " 0.0016745858270388395,\n",
              " -0.0005093650732457128]"
            ]
          },
          "metadata": {
            "tags": []
          },
          "execution_count": 13
        }
      ]
    },
    {
      "cell_type": "code",
      "metadata": {
        "id": "kynqHKj0bZm_"
      },
      "source": [
        "beta1 = np.array(beta1)\r\n",
        "beta2 = np.array(beta2)\r\n",
        "beta3 = np.array(beta3)\r\n",
        "beta4 = np.array(beta4)\r\n",
        "\r\n",
        "P2 = np.vstack((beta1,beta2,beta3,beta4))\r\n",
        "P3 = np.vstack((d11,d22,d33,d44))\r\n",
        "covfac1 = np.cov(P3)\r\n",
        "\r\n",
        "dif1=[]\r\n",
        "for i in range(len(d11)):\r\n",
        "  dif1.append(P[0,i] - beta0[0] - beta1[0]*d11_[i] - beta2[0]*d22[i] - beta3[0]*d33[i] -beta4[0]*d44[i])\r\n",
        "dif1 = np.array(dif1)\r\n",
        "\r\n",
        "dif2=[]\r\n",
        "for i in range(len(d11)):\r\n",
        "  dif2.append(P[1,i] - beta0[1] - beta1[1]*d11_[i] - beta2[1]*d22[i] - beta3[1]*d33[i] -beta4[1]*d44[i])\r\n",
        "dif2 = np.array(dif2)\r\n",
        "\r\n",
        "dif3=[]\r\n",
        "for i in range(len(d11)):\r\n",
        "  dif3.append(P[2,i] - beta0[2] - beta1[2]*d11_[i] - beta2[2]*d22[i] - beta3[2]*d33[i] -beta4[2]*d44[i])\r\n",
        "dif3 = np.array(dif3)\r\n",
        "\r\n",
        "dif4=[]\r\n",
        "for i in range(len(d11)):\r\n",
        "  dif4.append(P[3,i] - beta0[3] - beta1[3]*d11_[i] - beta2[3]*d22[i] - beta3[3]*d33[i] -beta4[3]*d44[i])\r\n",
        "dif4 = np.array(dif4)\r\n",
        "\r\n",
        "dif5=[]\r\n",
        "for i in range(len(d11)):\r\n",
        "  dif5.append(P[4,i] - beta0[4] - beta1[4]*d11_[i] - beta2[4]*d22[i] - beta3[4]*d33[i] -beta4[4]*d44[i])\r\n",
        "dif5 = np.array(dif5)\r\n",
        "\r\n",
        "dif6=[]\r\n",
        "for i in range(len(d11)):\r\n",
        "  dif6.append(P[5,i] - beta0[5] - beta1[5]*d11_[i] - beta2[5]*d22[i] - beta3[5]*d33[i] -beta4[5]*d44[i])\r\n",
        "dif6 = np.array(dif6)\r\n",
        "\r\n",
        "dif7=[]\r\n",
        "for i in range(len(d11)):\r\n",
        "  dif7.append(P[6,i] - beta0[6] - beta1[6]*d11_[i] - beta2[6]*d22[i] - beta3[6]*d33[i] -beta4[6]*d44[i])\r\n",
        "dif7 = np.array(dif7)\r\n",
        "\r\n",
        "dif8=[]\r\n",
        "for i in range(len(d11)):\r\n",
        "  dif8.append(P[7,i] - beta0[7] - beta1[7]*d11_[i] - beta2[7]*d22[i] - beta3[7]*d33[i] -beta4[7]*d44[i])\r\n",
        "dif8 = np.array(dif8)\r\n",
        "\r\n",
        "dif9=[]\r\n",
        "for i in range(len(d11)):\r\n",
        "  dif9.append(P[8,i] - beta0[8] - beta1[8]*d11_[i] - beta2[8]*d22[i] - beta3[8]*d33[i] -beta4[8]*d44[i])\r\n",
        "dif9 = np.array(dif9)\r\n",
        "\r\n",
        "dif10=[]\r\n",
        "for i in range(len(d11)):\r\n",
        "  dif10.append(P[9,i] - beta0[9] - beta1[9]*d11_[i] - beta2[9]*d22[i] - beta3[9]*d33[i] -beta4[9]*d44[i])\r\n",
        "dif10 = np.array(dif10)\r\n",
        "\r\n",
        "dif11=[]\r\n",
        "for i in range(len(d11)):\r\n",
        "  dif11.append(P[10,i] - beta0[10] - beta1[10]*d11_[i] - beta2[10]*d22[i] - beta3[10]*d33[i] -beta4[10]*d44[i])\r\n",
        "dif11 = np.array(dif11)\r\n",
        "\r\n",
        "dif12=[]\r\n",
        "for i in range(len(d11)):\r\n",
        "  dif12.append(P[11,i] - beta0[11] - beta1[11]*d11_[i] - beta2[11]*d22[i] - beta3[11]*d33[i] -beta4[11]*d44[i])\r\n",
        "dif12 = np.array(dif12)\r\n",
        "\r\n",
        "dif13=[]\r\n",
        "for i in range(len(d11)):\r\n",
        "  dif13.append(P[12,i] - beta0[12] - beta1[12]*d11_[i] - beta2[12]*d22[i] - beta3[12]*d33[i] -beta4[12]*d44[i])\r\n",
        "dif13 = np.array(dif13)\r\n",
        "\r\n",
        "dif14=[]\r\n",
        "for i in range(len(d11)):\r\n",
        "  dif14.append(P[13,i] - beta0[13] - beta1[13]*d11_[i] - beta2[13]*d22[i] - beta3[13]*d33[i] -beta4[13]*d44[i])\r\n",
        "dif14 = np.array(dif14)\r\n",
        "\r\n",
        "dif15=[]\r\n",
        "for i in range(len(d11)):\r\n",
        "  dif15.append(P[14,i] - beta0[14] - beta1[14]*d11_[i] - beta2[14]*d22[i] - beta3[14]*d33[i] -beta4[14]*d44[i])\r\n",
        "dif15 = np.array(dif15)\r\n",
        "\r\n",
        "dif16=[]\r\n",
        "for i in range(len(d11)):\r\n",
        "  dif16.append(P[15,i] - beta0[15] - beta1[15]*d11_[i] - beta2[15]*d22[i] - beta3[15]*d33[i] -beta4[15]*d44[i])\r\n",
        "dif16 = np.array(dif16)\r\n",
        "\r\n",
        "dif17=[]\r\n",
        "for i in range(len(d11)):\r\n",
        "  dif17.append(P[16,i] - beta0[16] - beta1[16]*d11_[i] - beta2[16]*d22[i] - beta3[16]*d33[i] -beta4[16]*d44[i])\r\n",
        "dif17 = np.array(dif17)\r\n",
        "\r\n",
        "dif18=[]\r\n",
        "for i in range(len(d11)):\r\n",
        "  dif18.append(P[17,i] - beta0[17] - beta1[17]*d11_[i] - beta2[17]*d22[i] - beta3[17]*d33[i] -beta4[17]*d44[i])\r\n",
        "dif18 = np.array(dif18)\r\n",
        "\r\n",
        "dif19=[]\r\n",
        "for i in range(len(d11)):\r\n",
        "  dif19.append(P[18,i] - beta0[18] - beta1[18]*d11_[i] - beta2[18]*d22[i] - beta3[18]*d33[i] -beta4[18]*d44[i])\r\n",
        "dif19 = np.array(dif19)\r\n",
        "\r\n",
        "dif20=[]\r\n",
        "for i in range(len(d11)):\r\n",
        "  dif20.append(P[19,i] - beta0[19] - beta1[19]*d11_[i] - beta2[19]*d22[i] - beta3[19]*d33[i] -beta4[19]*d44[i])\r\n",
        "dif20 = np.array(dif20)\r\n",
        "\r\n",
        "P4 = np.vstack((dif1,dif2,dif3,dif4,dif5,dif6,dif7,dif8,dif9,dif10,dif11,dif12,dif13,dif14,dif15,dif16,dif17,dif18,dif19,dif20))\r\n",
        "covresi1 = np.cov(P4)\r\n",
        "\r\n",
        "covRt1 = np.dot(np.dot(P2.T,covfac1),P2) + covresi1\r\n",
        "\r\n"
      ],
      "execution_count": 15,
      "outputs": []
    },
    {
      "cell_type": "code",
      "metadata": {
        "colab": {
          "base_uri": "https://localhost:8080/"
        },
        "id": "u6ejqnC0cxUZ",
        "outputId": "a440ab55-56e3-4906-d5e5-5704014909db"
      },
      "source": [
        "var1 = []\r\n",
        "for i in range(20):\r\n",
        "  for t in range(20):\r\n",
        "    if t==i:\r\n",
        "      var1.append(covRt1[i,t])\r\n",
        "var1\r\n",
        "\r\n"
      ],
      "execution_count": 17,
      "outputs": [
        {
          "output_type": "execute_result",
          "data": {
            "text/plain": [
              "[0.020671822207384505,\n",
              " 0.0006691683167461009,\n",
              " 0.0028457299942939965,\n",
              " 0.0004180878603649618,\n",
              " 0.000777772647378995,\n",
              " 0.0021613322230042364,\n",
              " 0.000528474631041535,\n",
              " 0.00027161844296747916,\n",
              " 0.0006386874595873107,\n",
              " 0.0004352940588585387,\n",
              " 0.001072388215395925,\n",
              " 0.0008224142034454719,\n",
              " 0.000663876606813079,\n",
              " 0.0004145725287474204,\n",
              " 0.00028105733611741626,\n",
              " 0.0006209231259355944,\n",
              " 0.00038779723457226607,\n",
              " 0.0005099502134729148,\n",
              " 0.0014230024158791185,\n",
              " 0.0004723907552869008]"
            ]
          },
          "metadata": {
            "tags": []
          },
          "execution_count": 17
        }
      ]
    },
    {
      "cell_type": "code",
      "metadata": {
        "colab": {
          "base_uri": "https://localhost:8080/"
        },
        "id": "bzoye2ZnhA26",
        "outputId": "f787d465-20d5-4054-a73d-23e963d2c16f"
      },
      "source": [
        "np.var(d2)"
      ],
      "execution_count": 18,
      "outputs": [
        {
          "output_type": "execute_result",
          "data": {
            "text/plain": [
              "0.02051098199323091"
            ]
          },
          "metadata": {
            "tags": []
          },
          "execution_count": 18
        }
      ]
    },
    {
      "cell_type": "code",
      "metadata": {
        "colab": {
          "base_uri": "https://localhost:8080/"
        },
        "id": "7jaeDxbWhER3",
        "outputId": "8bd516dc-96ac-4056-86af-195521ac5549"
      },
      "source": [
        "np.var(d3)"
      ],
      "execution_count": 19,
      "outputs": [
        {
          "output_type": "execute_result",
          "data": {
            "text/plain": [
              "0.000613908485619265"
            ]
          },
          "metadata": {
            "tags": []
          },
          "execution_count": 19
        }
      ]
    }
  ]
}